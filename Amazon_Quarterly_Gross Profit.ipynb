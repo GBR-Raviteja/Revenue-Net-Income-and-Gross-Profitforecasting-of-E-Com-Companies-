{
 "cells": [
  {
   "cell_type": "markdown",
   "id": "fyns37Blbu1i",
   "metadata": {
    "id": "fyns37Blbu1i"
   },
   "source": [
    "## **Predicting the Quarterly Gross Profit for Amazon**\n"
   ]
  },
  {
   "cell_type": "code",
   "execution_count": 10,
   "id": "765958d8-59bd-4414-8911-aa7ec15d08d9",
   "metadata": {
    "id": "765958d8-59bd-4414-8911-aa7ec15d08d9"
   },
   "outputs": [],
   "source": [
    "# Importing Packages\n",
    "import itertools\n",
    "import numpy as np\n",
    "import pandas as pd\n",
    "import matplotlib.pyplot as plt\n",
    "import statsmodels.api as sm\n",
    "import matplotlib\n",
    "import itertools\n",
    "import numpy as np\n",
    "import pandas as pd\n",
    "import matplotlib.pyplot as plt\n",
    "import statsmodels.api as sm\n",
    "import matplotlib\n",
    "import sklearn.preprocessing\n",
    "from sklearn.metrics import r2_score\n",
    "import keras\n",
    "\n",
    "from keras.layers import Dense,Dropout,SimpleRNN,GRU, Bidirectional,LSTM\n",
    "from tensorflow.keras.optimizers import SGD\n",
    "from keras.models import Sequential\n",
    "from sklearn.preprocessing import MinMaxScaler, StandardScaler\n",
    "\n",
    "plt.style.use('fivethirtyeight')\n",
    "matplotlib.rcParams['axes.labelsize'] = 14\n",
    "matplotlib.rcParams['xtick.labelsize'] = 12\n",
    "matplotlib.rcParams['ytick.labelsize'] = 12\n",
    "matplotlib.rcParams['text.color'] = 'k'"
   ]
  },
  {
   "cell_type": "code",
   "execution_count": 11,
   "id": "810a23c2-17ea-4953-b596-ab83bd853ec2",
   "metadata": {
    "colab": {
     "base_uri": "https://localhost:8080/",
     "height": 206
    },
    "id": "810a23c2-17ea-4953-b596-ab83bd853ec2",
    "outputId": "c5a8748b-029a-4695-ccdf-59115d18c53c"
   },
   "outputs": [
    {
     "data": {
      "text/html": [
       "<div>\n",
       "<style scoped>\n",
       "    .dataframe tbody tr th:only-of-type {\n",
       "        vertical-align: middle;\n",
       "    }\n",
       "\n",
       "    .dataframe tbody tr th {\n",
       "        vertical-align: top;\n",
       "    }\n",
       "\n",
       "    .dataframe thead th {\n",
       "        text-align: right;\n",
       "    }\n",
       "</style>\n",
       "<table border=\"1\" class=\"dataframe\">\n",
       "  <thead>\n",
       "    <tr style=\"text-align: right;\">\n",
       "      <th></th>\n",
       "      <th>Date</th>\n",
       "      <th>Quarterly Profit</th>\n",
       "    </tr>\n",
       "  </thead>\n",
       "  <tbody>\n",
       "    <tr>\n",
       "      <th>0</th>\n",
       "      <td>2009-03-31</td>\n",
       "      <td>1148</td>\n",
       "    </tr>\n",
       "    <tr>\n",
       "      <th>1</th>\n",
       "      <td>2009-06-30</td>\n",
       "      <td>1133</td>\n",
       "    </tr>\n",
       "    <tr>\n",
       "      <th>2</th>\n",
       "      <td>2009-09-30</td>\n",
       "      <td>1273</td>\n",
       "    </tr>\n",
       "    <tr>\n",
       "      <th>3</th>\n",
       "      <td>2009-12-31</td>\n",
       "      <td>1977</td>\n",
       "    </tr>\n",
       "    <tr>\n",
       "      <th>4</th>\n",
       "      <td>2010-03-31</td>\n",
       "      <td>1630</td>\n",
       "    </tr>\n",
       "  </tbody>\n",
       "</table>\n",
       "</div>"
      ],
      "text/plain": [
       "        Date  Quarterly Profit\n",
       "0 2009-03-31              1148\n",
       "1 2009-06-30              1133\n",
       "2 2009-09-30              1273\n",
       "3 2009-12-31              1977\n",
       "4 2010-03-31              1630"
      ]
     },
     "execution_count": 11,
     "metadata": {},
     "output_type": "execute_result"
    }
   ],
   "source": [
    "# Reading the Data\n",
    "df=pd.read_excel('Amazon Quarterly Gross Profit.xlsx')\n",
    "df.head()"
   ]
  },
  {
   "cell_type": "code",
   "execution_count": 12,
   "id": "734d9e26-d772-4d43-abb7-b284a6dc11cf",
   "metadata": {
    "colab": {
     "base_uri": "https://localhost:8080/"
    },
    "id": "734d9e26-d772-4d43-abb7-b284a6dc11cf",
    "outputId": "20b8e29c-6708-4cbb-e9d7-6745da72c660"
   },
   "outputs": [
    {
     "name": "stdout",
     "output_type": "stream",
     "text": [
      "<class 'pandas.core.frame.DataFrame'>\n",
      "RangeIndex: 55 entries, 0 to 54\n",
      "Data columns (total 2 columns):\n",
      " #   Column            Non-Null Count  Dtype         \n",
      "---  ------            --------------  -----         \n",
      " 0   Date              55 non-null     datetime64[ns]\n",
      " 1   Quarterly Profit  55 non-null     int64         \n",
      "dtypes: datetime64[ns](1), int64(1)\n",
      "memory usage: 1008.0 bytes\n"
     ]
    }
   ],
   "source": [
    "df.info()"
   ]
  },
  {
   "cell_type": "code",
   "execution_count": 13,
   "id": "a32b8520-f073-417c-a111-bc061f1e2710",
   "metadata": {
    "colab": {
     "base_uri": "https://localhost:8080/",
     "height": 237
    },
    "id": "a32b8520-f073-417c-a111-bc061f1e2710",
    "outputId": "98694313-7bbe-4006-bdfc-a4d9400d048b"
   },
   "outputs": [
    {
     "data": {
      "text/html": [
       "<div>\n",
       "<style scoped>\n",
       "    .dataframe tbody tr th:only-of-type {\n",
       "        vertical-align: middle;\n",
       "    }\n",
       "\n",
       "    .dataframe tbody tr th {\n",
       "        vertical-align: top;\n",
       "    }\n",
       "\n",
       "    .dataframe thead th {\n",
       "        text-align: right;\n",
       "    }\n",
       "</style>\n",
       "<table border=\"1\" class=\"dataframe\">\n",
       "  <thead>\n",
       "    <tr style=\"text-align: right;\">\n",
       "      <th></th>\n",
       "      <th>Quarterly Profit</th>\n",
       "    </tr>\n",
       "    <tr>\n",
       "      <th>Date</th>\n",
       "      <th></th>\n",
       "    </tr>\n",
       "  </thead>\n",
       "  <tbody>\n",
       "    <tr>\n",
       "      <th>2009-03-31</th>\n",
       "      <td>1148</td>\n",
       "    </tr>\n",
       "    <tr>\n",
       "      <th>2009-06-30</th>\n",
       "      <td>1133</td>\n",
       "    </tr>\n",
       "    <tr>\n",
       "      <th>2009-09-30</th>\n",
       "      <td>1273</td>\n",
       "    </tr>\n",
       "    <tr>\n",
       "      <th>2009-12-31</th>\n",
       "      <td>1977</td>\n",
       "    </tr>\n",
       "    <tr>\n",
       "      <th>2010-03-31</th>\n",
       "      <td>1630</td>\n",
       "    </tr>\n",
       "  </tbody>\n",
       "</table>\n",
       "</div>"
      ],
      "text/plain": [
       "            Quarterly Profit\n",
       "Date                        \n",
       "2009-03-31              1148\n",
       "2009-06-30              1133\n",
       "2009-09-30              1273\n",
       "2009-12-31              1977\n",
       "2010-03-31              1630"
      ]
     },
     "execution_count": 13,
     "metadata": {},
     "output_type": "execute_result"
    }
   ],
   "source": [
    "# Setting Date as Index\n",
    "df = df.set_index('Date')\n",
    "df.head()"
   ]
  },
  {
   "cell_type": "code",
   "execution_count": 14,
   "id": "8ee56a96-7754-419d-8bd4-c2d533e6b93a",
   "metadata": {
    "colab": {
     "base_uri": "https://localhost:8080/",
     "height": 317
    },
    "id": "8ee56a96-7754-419d-8bd4-c2d533e6b93a",
    "outputId": "5b5f52aa-2448-44a2-88a9-bf8c1125740e"
   },
   "outputs": [
    {
     "data": {
      "image/png": "[encoded data removed]",
      "text/plain": [
       "<Figure size 1152x288 with 1 Axes>"
      ]
     },
     "metadata": {},
     "output_type": "display_data"
    }
   ],
   "source": [
    "# Plotting the data\n",
    "df.plot(figsize=(16,4),legend=True)\n",
    "plt.title('Amazon Quarterly Gross Profit')\n",
    "plt.show()"
   ]
  },
  {
   "cell_type": "code",
   "execution_count": 15,
   "id": "4eb8ccbb-d36b-4387-aa8a-a87cd3190df4",
   "metadata": {
    "colab": {
     "base_uri": "https://localhost:8080/",
     "height": 506
    },
    "id": "4eb8ccbb-d36b-4387-aa8a-a87cd3190df4",
    "outputId": "01aa78ef-df01-4680-aff9-3f2bf7044987"
   },
   "outputs": [
    {
     "data": {
      "image/png": "[encoded data removed]",
      "text/plain": [
       "<Figure size 1296x576 with 4 Axes>"
      ]
     },
     "metadata": {},
     "output_type": "display_data"
    }
   ],
   "source": [
    "# Decomposition the data \n",
    "from pylab import rcParams\n",
    "rcParams['figure.figsize'] = 18, 8\n",
    "\n",
    "decomposition = sm.tsa.seasonal_decompose(df, model = 'additive')\n",
    "fig = decomposition.plot()\n",
    "plt.show()"
   ]
  },
  {
   "cell_type": "markdown",
   "id": "2f9e4b5a",
   "metadata": {},
   "source": [
    "## SARIMA Model"
   ]
  },
  {
   "cell_type": "code",
   "execution_count": 17,
   "id": "qilcVbi3Z7Rr",
   "metadata": {
    "id": "qilcVbi3Z7Rr"
   },
   "outputs": [],
   "source": [
    "df=pd.read_excel('Amazon Quarterly Gross Profit.xlsx')\n",
    "df = df.set_index('Date')"
   ]
  },
  {
   "cell_type": "code",
   "execution_count": 18,
   "id": "fe9c9420-d7d3-4f13-a907-0835f691eb42",
   "metadata": {
    "colab": {
     "base_uri": "https://localhost:8080/"
    },
    "id": "fe9c9420-d7d3-4f13-a907-0835f691eb42",
    "outputId": "6d3a14cf-27dd-4c9d-d47d-5660f1bfefa8"
   },
   "outputs": [
    {
     "name": "stdout",
     "output_type": "stream",
     "text": [
      "Examples of parameter combinations for Seasonal ARIMA...\n",
      "SARIMAX: (0, 0, 1) x (0, 0, 1, 12)\n",
      "SARIMAX: (0, 0, 1) x (0, 1, 0, 12)\n",
      "SARIMAX: (0, 1, 0) x (0, 1, 1, 12)\n",
      "SARIMAX: (0, 1, 0) x (1, 0, 0, 12)\n"
     ]
    }
   ],
   "source": [
    "# set the typical ranges for p, d, q\n",
    "p = d = q = range(0, 2)\n",
    "\n",
    "#take all possible combination for p, d and q\n",
    "pdq = list(itertools.product(p, d, q))\n",
    "seasonal_pdq = [(x[0], x[1], x[2], 12) for x in list(itertools.product(p, d, q))]\n",
    "\n",
    "print('Examples of parameter combinations for Seasonal ARIMA...')\n",
    "print('SARIMAX: {} x {}'.format(pdq[1], seasonal_pdq[1]))\n",
    "print('SARIMAX: {} x {}'.format(pdq[1], seasonal_pdq[2]))\n",
    "print('SARIMAX: {} x {}'.format(pdq[2], seasonal_pdq[3]))\n",
    "print('SARIMAX: {} x {}'.format(pdq[2], seasonal_pdq[4]))"
   ]
  },
  {
   "cell_type": "code",
   "execution_count": 19,
   "id": "81238ba3-0dc6-40a5-94e8-9e6c08860853",
   "metadata": {
    "colab": {
     "base_uri": "https://localhost:8080/"
    },
    "id": "81238ba3-0dc6-40a5-94e8-9e6c08860853",
    "outputId": "bad98e97-4e28-4eea-967c-6c1e1d7eab95"
   },
   "outputs": [
    {
     "name": "stderr",
     "output_type": "stream",
     "text": [
      "R:\\Anaconda\\envs\\general\\lib\\site-packages\\statsmodels\\tsa\\base\\tsa_model.py:471: ValueWarning: No frequency information was provided, so inferred frequency Q-DEC will be used.\n",
      "  self._init_dates(dates, freq)\n",
      "R:\\Anaconda\\envs\\general\\lib\\site-packages\\statsmodels\\tsa\\base\\tsa_model.py:471: ValueWarning: No frequency information was provided, so inferred frequency Q-DEC will be used.\n",
      "  self._init_dates(dates, freq)\n",
      "R:\\Anaconda\\envs\\general\\lib\\site-packages\\statsmodels\\tsa\\base\\tsa_model.py:471: ValueWarning: No frequency information was provided, so inferred frequency Q-DEC will be used.\n",
      "  self._init_dates(dates, freq)\n",
      "R:\\Anaconda\\envs\\general\\lib\\site-packages\\statsmodels\\tsa\\base\\tsa_model.py:471: ValueWarning: No frequency information was provided, so inferred frequency Q-DEC will be used.\n",
      "  self._init_dates(dates, freq)\n",
      "R:\\Anaconda\\envs\\general\\lib\\site-packages\\statsmodels\\tsa\\base\\tsa_model.py:471: ValueWarning: No frequency information was provided, so inferred frequency Q-DEC will be used.\n",
      "  self._init_dates(dates, freq)\n",
      "R:\\Anaconda\\envs\\general\\lib\\site-packages\\statsmodels\\tsa\\base\\tsa_model.py:471: ValueWarning: No frequency information was provided, so inferred frequency Q-DEC will be used.\n",
      "  self._init_dates(dates, freq)\n",
      "R:\\Anaconda\\envs\\general\\lib\\site-packages\\statsmodels\\tsa\\base\\tsa_model.py:471: ValueWarning: No frequency information was provided, so inferred frequency Q-DEC will be used.\n",
      "  self._init_dates(dates, freq)\n",
      "R:\\Anaconda\\envs\\general\\lib\\site-packages\\statsmodels\\tsa\\base\\tsa_model.py:471: ValueWarning: No frequency information was provided, so inferred frequency Q-DEC will be used.\n",
      "  self._init_dates(dates, freq)\n"
     ]
    },
    {
     "name": "stdout",
     "output_type": "stream",
     "text": [
      "SARIMA(0, 0, 0)x(0, 0, 0, 12)12 - AIC:1268.8717399515308\n",
      "SARIMA(0, 0, 0)x(0, 0, 1, 12)12 - AIC:1287.6421032855326\n",
      "SARIMA(0, 0, 0)x(0, 1, 0, 12)12 - AIC:950.6029788642089\n"
     ]
    },
    {
     "name": "stderr",
     "output_type": "stream",
     "text": [
      "R:\\Anaconda\\envs\\general\\lib\\site-packages\\statsmodels\\base\\model.py:604: ConvergenceWarning: Maximum Likelihood optimization failed to converge. Check mle_retvals\n",
      "  warnings.warn(\"Maximum Likelihood optimization failed to \"\n",
      "R:\\Anaconda\\envs\\general\\lib\\site-packages\\statsmodels\\tsa\\base\\tsa_model.py:471: ValueWarning: No frequency information was provided, so inferred frequency Q-DEC will be used.\n",
      "  self._init_dates(dates, freq)\n",
      "R:\\Anaconda\\envs\\general\\lib\\site-packages\\statsmodels\\tsa\\base\\tsa_model.py:471: ValueWarning: No frequency information was provided, so inferred frequency Q-DEC will be used.\n",
      "  self._init_dates(dates, freq)\n",
      "R:\\Anaconda\\envs\\general\\lib\\site-packages\\statsmodels\\tsa\\statespace\\sarimax.py:997: UserWarning: Non-stationary starting seasonal autoregressive Using zeros as starting parameters.\n",
      "  warn('Non-stationary starting seasonal autoregressive'\n"
     ]
    },
    {
     "name": "stdout",
     "output_type": "stream",
     "text": [
      "SARIMA(0, 0, 0)x(0, 1, 1, 12)12 - AIC:1597.1159718650797\n"
     ]
    },
    {
     "name": "stderr",
     "output_type": "stream",
     "text": [
      "R:\\Anaconda\\envs\\general\\lib\\site-packages\\statsmodels\\base\\model.py:604: ConvergenceWarning: Maximum Likelihood optimization failed to converge. Check mle_retvals\n",
      "  warnings.warn(\"Maximum Likelihood optimization failed to \"\n",
      "R:\\Anaconda\\envs\\general\\lib\\site-packages\\statsmodels\\tsa\\base\\tsa_model.py:471: ValueWarning: No frequency information was provided, so inferred frequency Q-DEC will be used.\n",
      "  self._init_dates(dates, freq)\n",
      "R:\\Anaconda\\envs\\general\\lib\\site-packages\\statsmodels\\tsa\\base\\tsa_model.py:471: ValueWarning: No frequency information was provided, so inferred frequency Q-DEC will be used.\n",
      "  self._init_dates(dates, freq)\n",
      "R:\\Anaconda\\envs\\general\\lib\\site-packages\\statsmodels\\tsa\\statespace\\sarimax.py:997: UserWarning: Non-stationary starting seasonal autoregressive Using zeros as starting parameters.\n",
      "  warn('Non-stationary starting seasonal autoregressive'\n",
      "R:\\Anaconda\\envs\\general\\lib\\site-packages\\statsmodels\\tsa\\base\\tsa_model.py:471: ValueWarning: No frequency information was provided, so inferred frequency Q-DEC will be used.\n",
      "  self._init_dates(dates, freq)\n",
      "R:\\Anaconda\\envs\\general\\lib\\site-packages\\statsmodels\\tsa\\base\\tsa_model.py:471: ValueWarning: No frequency information was provided, so inferred frequency Q-DEC will be used.\n",
      "  self._init_dates(dates, freq)\n",
      "R:\\Anaconda\\envs\\general\\lib\\site-packages\\statsmodels\\tsa\\statespace\\sarimax.py:997: UserWarning: Non-stationary starting seasonal autoregressive Using zeros as starting parameters.\n",
      "  warn('Non-stationary starting seasonal autoregressive'\n"
     ]
    },
    {
     "name": "stdout",
     "output_type": "stream",
     "text": [
      "SARIMA(0, 0, 0)x(1, 0, 0, 12)12 - AIC:1668.8977214522577\n",
      "SARIMA(0, 0, 0)x(1, 0, 1, 12)12 - AIC:1225.192864786644\n"
     ]
    },
    {
     "name": "stderr",
     "output_type": "stream",
     "text": [
      "R:\\Anaconda\\envs\\general\\lib\\site-packages\\statsmodels\\base\\model.py:604: ConvergenceWarning: Maximum Likelihood optimization failed to converge. Check mle_retvals\n",
      "  warnings.warn(\"Maximum Likelihood optimization failed to \"\n",
      "R:\\Anaconda\\envs\\general\\lib\\site-packages\\statsmodels\\tsa\\base\\tsa_model.py:471: ValueWarning: No frequency information was provided, so inferred frequency Q-DEC will be used.\n",
      "  self._init_dates(dates, freq)\n",
      "R:\\Anaconda\\envs\\general\\lib\\site-packages\\statsmodels\\tsa\\base\\tsa_model.py:471: ValueWarning: No frequency information was provided, so inferred frequency Q-DEC will be used.\n",
      "  self._init_dates(dates, freq)\n",
      "R:\\Anaconda\\envs\\general\\lib\\site-packages\\statsmodels\\tsa\\statespace\\sarimax.py:997: UserWarning: Non-stationary starting seasonal autoregressive Using zeros as starting parameters.\n",
      "  warn('Non-stationary starting seasonal autoregressive'\n"
     ]
    },
    {
     "name": "stdout",
     "output_type": "stream",
     "text": [
      "SARIMA(0, 0, 0)x(1, 1, 0, 12)12 - AIC:932.5987482314252\n"
     ]
    },
    {
     "name": "stderr",
     "output_type": "stream",
     "text": [
      "R:\\Anaconda\\envs\\general\\lib\\site-packages\\statsmodels\\base\\model.py:604: ConvergenceWarning: Maximum Likelihood optimization failed to converge. Check mle_retvals\n",
      "  warnings.warn(\"Maximum Likelihood optimization failed to \"\n",
      "R:\\Anaconda\\envs\\general\\lib\\site-packages\\statsmodels\\tsa\\base\\tsa_model.py:471: ValueWarning: No frequency information was provided, so inferred frequency Q-DEC will be used.\n",
      "  self._init_dates(dates, freq)\n",
      "R:\\Anaconda\\envs\\general\\lib\\site-packages\\statsmodels\\tsa\\base\\tsa_model.py:471: ValueWarning: No frequency information was provided, so inferred frequency Q-DEC will be used.\n",
      "  self._init_dates(dates, freq)\n"
     ]
    },
    {
     "name": "stdout",
     "output_type": "stream",
     "text": [
      "SARIMA(0, 0, 0)x(1, 1, 1, 12)12 - AIC:6.0\n",
      "SARIMA(0, 0, 1)x(0, 0, 0, 12)12 - AIC:1211.5701774997483\n"
     ]
    },
    {
     "name": "stderr",
     "output_type": "stream",
     "text": [
      "R:\\Anaconda\\envs\\general\\lib\\site-packages\\statsmodels\\tsa\\base\\tsa_model.py:471: ValueWarning: No frequency information was provided, so inferred frequency Q-DEC will be used.\n",
      "  self._init_dates(dates, freq)\n",
      "R:\\Anaconda\\envs\\general\\lib\\site-packages\\statsmodels\\tsa\\base\\tsa_model.py:471: ValueWarning: No frequency information was provided, so inferred frequency Q-DEC will be used.\n",
      "  self._init_dates(dates, freq)\n"
     ]
    },
    {
     "name": "stdout",
     "output_type": "stream",
     "text": [
      "SARIMA(0, 0, 1)x(0, 0, 1, 12)12 - AIC:1237.1205520499734\n",
      "SARIMA(0, 0, 1)x(0, 1, 0, 12)12 - AIC:926.1252624640111\n"
     ]
    },
    {
     "name": "stderr",
     "output_type": "stream",
     "text": [
      "R:\\Anaconda\\envs\\general\\lib\\site-packages\\statsmodels\\tsa\\base\\tsa_model.py:471: ValueWarning: No frequency information was provided, so inferred frequency Q-DEC will be used.\n",
      "  self._init_dates(dates, freq)\n",
      "R:\\Anaconda\\envs\\general\\lib\\site-packages\\statsmodels\\tsa\\base\\tsa_model.py:471: ValueWarning: No frequency information was provided, so inferred frequency Q-DEC will be used.\n",
      "  self._init_dates(dates, freq)\n",
      "R:\\Anaconda\\envs\\general\\lib\\site-packages\\statsmodels\\tsa\\base\\tsa_model.py:471: ValueWarning: No frequency information was provided, so inferred frequency Q-DEC will be used.\n",
      "  self._init_dates(dates, freq)\n",
      "R:\\Anaconda\\envs\\general\\lib\\site-packages\\statsmodels\\tsa\\base\\tsa_model.py:471: ValueWarning: No frequency information was provided, so inferred frequency Q-DEC will be used.\n",
      "  self._init_dates(dates, freq)\n",
      "R:\\Anaconda\\envs\\general\\lib\\site-packages\\statsmodels\\base\\model.py:604: ConvergenceWarning: Maximum Likelihood optimization failed to converge. Check mle_retvals\n",
      "  warnings.warn(\"Maximum Likelihood optimization failed to \"\n",
      "R:\\Anaconda\\envs\\general\\lib\\site-packages\\statsmodels\\tsa\\base\\tsa_model.py:471: ValueWarning: No frequency information was provided, so inferred frequency Q-DEC will be used.\n",
      "  self._init_dates(dates, freq)\n",
      "R:\\Anaconda\\envs\\general\\lib\\site-packages\\statsmodels\\tsa\\base\\tsa_model.py:471: ValueWarning: No frequency information was provided, so inferred frequency Q-DEC will be used.\n",
      "  self._init_dates(dates, freq)\n",
      "R:\\Anaconda\\envs\\general\\lib\\site-packages\\statsmodels\\tsa\\statespace\\sarimax.py:997: UserWarning: Non-stationary starting seasonal autoregressive Using zeros as starting parameters.\n",
      "  warn('Non-stationary starting seasonal autoregressive'\n",
      "R:\\Anaconda\\envs\\general\\lib\\site-packages\\statsmodels\\tsa\\base\\tsa_model.py:471: ValueWarning: No frequency information was provided, so inferred frequency Q-DEC will be used.\n",
      "  self._init_dates(dates, freq)\n",
      "R:\\Anaconda\\envs\\general\\lib\\site-packages\\statsmodels\\tsa\\base\\tsa_model.py:471: ValueWarning: No frequency information was provided, so inferred frequency Q-DEC will be used.\n",
      "  self._init_dates(dates, freq)\n",
      "R:\\Anaconda\\envs\\general\\lib\\site-packages\\statsmodels\\tsa\\statespace\\sarimax.py:997: UserWarning: Non-stationary starting seasonal autoregressive Using zeros as starting parameters.\n",
      "  warn('Non-stationary starting seasonal autoregressive'\n"
     ]
    },
    {
     "name": "stdout",
     "output_type": "stream",
     "text": [
      "SARIMA(0, 0, 1)x(0, 1, 1, 12)12 - AIC:2199.9241106375935\n",
      "SARIMA(0, 0, 1)x(1, 0, 0, 12)12 - AIC:1236.3669030890908\n",
      "SARIMA(0, 0, 1)x(1, 0, 1, 12)12 - AIC:1238.3650649522858\n"
     ]
    },
    {
     "name": "stderr",
     "output_type": "stream",
     "text": [
      "R:\\Anaconda\\envs\\general\\lib\\site-packages\\statsmodels\\tsa\\base\\tsa_model.py:471: ValueWarning: No frequency information was provided, so inferred frequency Q-DEC will be used.\n",
      "  self._init_dates(dates, freq)\n",
      "R:\\Anaconda\\envs\\general\\lib\\site-packages\\statsmodels\\tsa\\base\\tsa_model.py:471: ValueWarning: No frequency information was provided, so inferred frequency Q-DEC will be used.\n",
      "  self._init_dates(dates, freq)\n",
      "R:\\Anaconda\\envs\\general\\lib\\site-packages\\statsmodels\\tsa\\statespace\\sarimax.py:997: UserWarning: Non-stationary starting seasonal autoregressive Using zeros as starting parameters.\n",
      "  warn('Non-stationary starting seasonal autoregressive'\n",
      "R:\\Anaconda\\envs\\general\\lib\\site-packages\\statsmodels\\tsa\\base\\tsa_model.py:471: ValueWarning: No frequency information was provided, so inferred frequency Q-DEC will be used.\n",
      "  self._init_dates(dates, freq)\n",
      "R:\\Anaconda\\envs\\general\\lib\\site-packages\\statsmodels\\tsa\\base\\tsa_model.py:471: ValueWarning: No frequency information was provided, so inferred frequency Q-DEC will be used.\n",
      "  self._init_dates(dates, freq)\n",
      "R:\\Anaconda\\envs\\general\\lib\\site-packages\\statsmodels\\tsa\\statespace\\sarimax.py:997: UserWarning: Non-stationary starting seasonal autoregressive Using zeros as starting parameters.\n",
      "  warn('Non-stationary starting seasonal autoregressive'\n"
     ]
    },
    {
     "name": "stdout",
     "output_type": "stream",
     "text": [
      "SARIMA(0, 0, 1)x(1, 1, 0, 12)12 - AIC:919.9707323137444\n",
      "SARIMA(0, 0, 1)x(1, 1, 1, 12)12 - AIC:921.7221641962884\n",
      "SARIMA(0, 1, 0)x(0, 0, 0, 12)12 - AIC:999.2850859297615\n",
      "SARIMA(0, 1, 0)x(0, 0, 1, 12)12 - AIC:973.0200776298158\n"
     ]
    },
    {
     "name": "stderr",
     "output_type": "stream",
     "text": [
      "R:\\Anaconda\\envs\\general\\lib\\site-packages\\statsmodels\\tsa\\base\\tsa_model.py:471: ValueWarning: No frequency information was provided, so inferred frequency Q-DEC will be used.\n",
      "  self._init_dates(dates, freq)\n",
      "R:\\Anaconda\\envs\\general\\lib\\site-packages\\statsmodels\\tsa\\base\\tsa_model.py:471: ValueWarning: No frequency information was provided, so inferred frequency Q-DEC will be used.\n",
      "  self._init_dates(dates, freq)\n",
      "R:\\Anaconda\\envs\\general\\lib\\site-packages\\statsmodels\\tsa\\base\\tsa_model.py:471: ValueWarning: No frequency information was provided, so inferred frequency Q-DEC will be used.\n",
      "  self._init_dates(dates, freq)\n",
      "R:\\Anaconda\\envs\\general\\lib\\site-packages\\statsmodels\\tsa\\base\\tsa_model.py:471: ValueWarning: No frequency information was provided, so inferred frequency Q-DEC will be used.\n",
      "  self._init_dates(dates, freq)\n",
      "R:\\Anaconda\\envs\\general\\lib\\site-packages\\statsmodels\\tsa\\base\\tsa_model.py:471: ValueWarning: No frequency information was provided, so inferred frequency Q-DEC will be used.\n",
      "  self._init_dates(dates, freq)\n",
      "R:\\Anaconda\\envs\\general\\lib\\site-packages\\statsmodels\\tsa\\base\\tsa_model.py:471: ValueWarning: No frequency information was provided, so inferred frequency Q-DEC will be used.\n",
      "  self._init_dates(dates, freq)\n"
     ]
    },
    {
     "name": "stdout",
     "output_type": "stream",
     "text": [
      "SARIMA(0, 1, 0)x(0, 1, 0, 12)12 - AIC:732.2339969715446\n"
     ]
    },
    {
     "name": "stderr",
     "output_type": "stream",
     "text": [
      "R:\\Anaconda\\envs\\general\\lib\\site-packages\\statsmodels\\tsa\\base\\tsa_model.py:471: ValueWarning: No frequency information was provided, so inferred frequency Q-DEC will be used.\n",
      "  self._init_dates(dates, freq)\n",
      "R:\\Anaconda\\envs\\general\\lib\\site-packages\\statsmodels\\tsa\\base\\tsa_model.py:471: ValueWarning: No frequency information was provided, so inferred frequency Q-DEC will be used.\n",
      "  self._init_dates(dates, freq)\n",
      "R:\\Anaconda\\envs\\general\\lib\\site-packages\\statsmodels\\base\\model.py:604: ConvergenceWarning: Maximum Likelihood optimization failed to converge. Check mle_retvals\n",
      "  warnings.warn(\"Maximum Likelihood optimization failed to \"\n",
      "R:\\Anaconda\\envs\\general\\lib\\site-packages\\statsmodels\\tsa\\base\\tsa_model.py:471: ValueWarning: No frequency information was provided, so inferred frequency Q-DEC will be used.\n",
      "  self._init_dates(dates, freq)\n",
      "R:\\Anaconda\\envs\\general\\lib\\site-packages\\statsmodels\\tsa\\base\\tsa_model.py:471: ValueWarning: No frequency information was provided, so inferred frequency Q-DEC will be used.\n",
      "  self._init_dates(dates, freq)\n",
      "R:\\Anaconda\\envs\\general\\lib\\site-packages\\statsmodels\\tsa\\statespace\\sarimax.py:997: UserWarning: Non-stationary starting seasonal autoregressive Using zeros as starting parameters.\n",
      "  warn('Non-stationary starting seasonal autoregressive'\n",
      "R:\\Anaconda\\envs\\general\\lib\\site-packages\\statsmodels\\tsa\\base\\tsa_model.py:471: ValueWarning: No frequency information was provided, so inferred frequency Q-DEC will be used.\n",
      "  self._init_dates(dates, freq)\n",
      "R:\\Anaconda\\envs\\general\\lib\\site-packages\\statsmodels\\tsa\\base\\tsa_model.py:471: ValueWarning: No frequency information was provided, so inferred frequency Q-DEC will be used.\n",
      "  self._init_dates(dates, freq)\n",
      "R:\\Anaconda\\envs\\general\\lib\\site-packages\\statsmodels\\tsa\\statespace\\sarimax.py:997: UserWarning: Non-stationary starting seasonal autoregressive Using zeros as starting parameters.\n",
      "  warn('Non-stationary starting seasonal autoregressive'\n"
     ]
    },
    {
     "name": "stdout",
     "output_type": "stream",
     "text": [
      "SARIMA(0, 1, 0)x(0, 1, 1, 12)12 - AIC:1838.3751004217506\n",
      "SARIMA(0, 1, 0)x(1, 0, 0, 12)12 - AIC:956.4363573526717\n",
      "SARIMA(0, 1, 0)x(1, 0, 1, 12)12 - AIC:981.4428822172547\n",
      "SARIMA(0, 1, 0)x(1, 1, 0, 12)12 - AIC:718.2568348166834\n"
     ]
    },
    {
     "name": "stderr",
     "output_type": "stream",
     "text": [
      "R:\\Anaconda\\envs\\general\\lib\\site-packages\\statsmodels\\tsa\\base\\tsa_model.py:471: ValueWarning: No frequency information was provided, so inferred frequency Q-DEC will be used.\n",
      "  self._init_dates(dates, freq)\n",
      "R:\\Anaconda\\envs\\general\\lib\\site-packages\\statsmodels\\tsa\\base\\tsa_model.py:471: ValueWarning: No frequency information was provided, so inferred frequency Q-DEC will be used.\n",
      "  self._init_dates(dates, freq)\n",
      "R:\\Anaconda\\envs\\general\\lib\\site-packages\\statsmodels\\tsa\\base\\tsa_model.py:471: ValueWarning: No frequency information was provided, so inferred frequency Q-DEC will be used.\n",
      "  self._init_dates(dates, freq)\n",
      "R:\\Anaconda\\envs\\general\\lib\\site-packages\\statsmodels\\tsa\\base\\tsa_model.py:471: ValueWarning: No frequency information was provided, so inferred frequency Q-DEC will be used.\n",
      "  self._init_dates(dates, freq)\n",
      "R:\\Anaconda\\envs\\general\\lib\\site-packages\\statsmodels\\base\\model.py:604: ConvergenceWarning: Maximum Likelihood optimization failed to converge. Check mle_retvals\n",
      "  warnings.warn(\"Maximum Likelihood optimization failed to \"\n",
      "R:\\Anaconda\\envs\\general\\lib\\site-packages\\statsmodels\\tsa\\base\\tsa_model.py:471: ValueWarning: No frequency information was provided, so inferred frequency Q-DEC will be used.\n",
      "  self._init_dates(dates, freq)\n",
      "R:\\Anaconda\\envs\\general\\lib\\site-packages\\statsmodels\\tsa\\base\\tsa_model.py:471: ValueWarning: No frequency information was provided, so inferred frequency Q-DEC will be used.\n",
      "  self._init_dates(dates, freq)\n",
      "R:\\Anaconda\\envs\\general\\lib\\site-packages\\statsmodels\\tsa\\base\\tsa_model.py:471: ValueWarning: No frequency information was provided, so inferred frequency Q-DEC will be used.\n",
      "  self._init_dates(dates, freq)\n",
      "R:\\Anaconda\\envs\\general\\lib\\site-packages\\statsmodels\\tsa\\base\\tsa_model.py:471: ValueWarning: No frequency information was provided, so inferred frequency Q-DEC will be used.\n",
      "  self._init_dates(dates, freq)\n"
     ]
    },
    {
     "name": "stdout",
     "output_type": "stream",
     "text": [
      "SARIMA(0, 1, 0)x(1, 1, 1, 12)12 - AIC:1870.961605984764\n",
      "SARIMA(0, 1, 1)x(0, 0, 0, 12)12 - AIC:1000.7064283731654\n",
      "SARIMA(0, 1, 1)x(0, 0, 1, 12)12 - AIC:973.7079480410958\n",
      "SARIMA(0, 1, 1)x(0, 1, 0, 12)12 - AIC:733.6532403483642\n"
     ]
    },
    {
     "name": "stderr",
     "output_type": "stream",
     "text": [
      "R:\\Anaconda\\envs\\general\\lib\\site-packages\\statsmodels\\tsa\\base\\tsa_model.py:471: ValueWarning: No frequency information was provided, so inferred frequency Q-DEC will be used.\n",
      "  self._init_dates(dates, freq)\n",
      "R:\\Anaconda\\envs\\general\\lib\\site-packages\\statsmodels\\tsa\\base\\tsa_model.py:471: ValueWarning: No frequency information was provided, so inferred frequency Q-DEC will be used.\n",
      "  self._init_dates(dates, freq)\n",
      "R:\\Anaconda\\envs\\general\\lib\\site-packages\\statsmodels\\tsa\\base\\tsa_model.py:471: ValueWarning: No frequency information was provided, so inferred frequency Q-DEC will be used.\n",
      "  self._init_dates(dates, freq)\n",
      "R:\\Anaconda\\envs\\general\\lib\\site-packages\\statsmodels\\tsa\\base\\tsa_model.py:471: ValueWarning: No frequency information was provided, so inferred frequency Q-DEC will be used.\n",
      "  self._init_dates(dates, freq)\n",
      "R:\\Anaconda\\envs\\general\\lib\\site-packages\\statsmodels\\base\\model.py:604: ConvergenceWarning: Maximum Likelihood optimization failed to converge. Check mle_retvals\n",
      "  warnings.warn(\"Maximum Likelihood optimization failed to \"\n",
      "R:\\Anaconda\\envs\\general\\lib\\site-packages\\statsmodels\\tsa\\base\\tsa_model.py:471: ValueWarning: No frequency information was provided, so inferred frequency Q-DEC will be used.\n",
      "  self._init_dates(dates, freq)\n",
      "R:\\Anaconda\\envs\\general\\lib\\site-packages\\statsmodels\\tsa\\base\\tsa_model.py:471: ValueWarning: No frequency information was provided, so inferred frequency Q-DEC will be used.\n",
      "  self._init_dates(dates, freq)\n",
      "R:\\Anaconda\\envs\\general\\lib\\site-packages\\statsmodels\\tsa\\statespace\\sarimax.py:997: UserWarning: Non-stationary starting seasonal autoregressive Using zeros as starting parameters.\n",
      "  warn('Non-stationary starting seasonal autoregressive'\n"
     ]
    },
    {
     "name": "stdout",
     "output_type": "stream",
     "text": [
      "SARIMA(0, 1, 1)x(0, 1, 1, 12)12 - AIC:2104.8968277960407\n",
      "SARIMA(0, 1, 1)x(1, 0, 0, 12)12 - AIC:957.6297260048419\n"
     ]
    },
    {
     "name": "stderr",
     "output_type": "stream",
     "text": [
      "R:\\Anaconda\\envs\\general\\lib\\site-packages\\statsmodels\\tsa\\base\\tsa_model.py:471: ValueWarning: No frequency information was provided, so inferred frequency Q-DEC will be used.\n",
      "  self._init_dates(dates, freq)\n",
      "R:\\Anaconda\\envs\\general\\lib\\site-packages\\statsmodels\\tsa\\base\\tsa_model.py:471: ValueWarning: No frequency information was provided, so inferred frequency Q-DEC will be used.\n",
      "  self._init_dates(dates, freq)\n",
      "R:\\Anaconda\\envs\\general\\lib\\site-packages\\statsmodels\\tsa\\statespace\\sarimax.py:997: UserWarning: Non-stationary starting seasonal autoregressive Using zeros as starting parameters.\n",
      "  warn('Non-stationary starting seasonal autoregressive'\n"
     ]
    },
    {
     "name": "stdout",
     "output_type": "stream",
     "text": [
      "SARIMA(0, 1, 1)x(1, 0, 1, 12)12 - AIC:951.5357202233246\n"
     ]
    },
    {
     "name": "stderr",
     "output_type": "stream",
     "text": [
      "R:\\Anaconda\\envs\\general\\lib\\site-packages\\statsmodels\\tsa\\base\\tsa_model.py:471: ValueWarning: No frequency information was provided, so inferred frequency Q-DEC will be used.\n",
      "  self._init_dates(dates, freq)\n",
      "R:\\Anaconda\\envs\\general\\lib\\site-packages\\statsmodels\\tsa\\base\\tsa_model.py:471: ValueWarning: No frequency information was provided, so inferred frequency Q-DEC will be used.\n",
      "  self._init_dates(dates, freq)\n"
     ]
    },
    {
     "name": "stdout",
     "output_type": "stream",
     "text": [
      "SARIMA(0, 1, 1)x(1, 1, 0, 12)12 - AIC:717.6748060688224\n"
     ]
    },
    {
     "name": "stderr",
     "output_type": "stream",
     "text": [
      "R:\\Anaconda\\envs\\general\\lib\\site-packages\\statsmodels\\tsa\\base\\tsa_model.py:471: ValueWarning: No frequency information was provided, so inferred frequency Q-DEC will be used.\n",
      "  self._init_dates(dates, freq)\n",
      "R:\\Anaconda\\envs\\general\\lib\\site-packages\\statsmodels\\tsa\\base\\tsa_model.py:471: ValueWarning: No frequency information was provided, so inferred frequency Q-DEC will be used.\n",
      "  self._init_dates(dates, freq)\n",
      "R:\\Anaconda\\envs\\general\\lib\\site-packages\\statsmodels\\base\\model.py:604: ConvergenceWarning: Maximum Likelihood optimization failed to converge. Check mle_retvals\n",
      "  warnings.warn(\"Maximum Likelihood optimization failed to \"\n",
      "R:\\Anaconda\\envs\\general\\lib\\site-packages\\statsmodels\\tsa\\base\\tsa_model.py:471: ValueWarning: No frequency information was provided, so inferred frequency Q-DEC will be used.\n",
      "  self._init_dates(dates, freq)\n",
      "R:\\Anaconda\\envs\\general\\lib\\site-packages\\statsmodels\\tsa\\base\\tsa_model.py:471: ValueWarning: No frequency information was provided, so inferred frequency Q-DEC will be used.\n",
      "  self._init_dates(dates, freq)\n",
      "R:\\Anaconda\\envs\\general\\lib\\site-packages\\statsmodels\\tsa\\statespace\\sarimax.py:966: UserWarning: Non-stationary starting autoregressive parameters found. Using zeros as starting parameters.\n",
      "  warn('Non-stationary starting autoregressive parameters'\n",
      "R:\\Anaconda\\envs\\general\\lib\\site-packages\\statsmodels\\tsa\\base\\tsa_model.py:471: ValueWarning: No frequency information was provided, so inferred frequency Q-DEC will be used.\n",
      "  self._init_dates(dates, freq)\n",
      "R:\\Anaconda\\envs\\general\\lib\\site-packages\\statsmodels\\tsa\\base\\tsa_model.py:471: ValueWarning: No frequency information was provided, so inferred frequency Q-DEC will be used.\n",
      "  self._init_dates(dates, freq)\n",
      "R:\\Anaconda\\envs\\general\\lib\\site-packages\\statsmodels\\tsa\\statespace\\sarimax.py:966: UserWarning: Non-stationary starting autoregressive parameters found. Using zeros as starting parameters.\n",
      "  warn('Non-stationary starting autoregressive parameters'\n"
     ]
    },
    {
     "name": "stdout",
     "output_type": "stream",
     "text": [
      "SARIMA(0, 1, 1)x(1, 1, 1, 12)12 - AIC:2226.397663993158\n",
      "SARIMA(1, 0, 0)x(0, 0, 0, 12)12 - AIC:1025.2300888259622\n",
      "SARIMA(1, 0, 0)x(0, 0, 1, 12)12 - AIC:999.5839923369697\n",
      "SARIMA(1, 0, 0)x(0, 1, 0, 12)12 - AIC:751.554142939034\n"
     ]
    },
    {
     "name": "stderr",
     "output_type": "stream",
     "text": [
      "R:\\Anaconda\\envs\\general\\lib\\site-packages\\statsmodels\\tsa\\base\\tsa_model.py:471: ValueWarning: No frequency information was provided, so inferred frequency Q-DEC will be used.\n",
      "  self._init_dates(dates, freq)\n",
      "R:\\Anaconda\\envs\\general\\lib\\site-packages\\statsmodels\\tsa\\base\\tsa_model.py:471: ValueWarning: No frequency information was provided, so inferred frequency Q-DEC will be used.\n",
      "  self._init_dates(dates, freq)\n",
      "R:\\Anaconda\\envs\\general\\lib\\site-packages\\statsmodels\\tsa\\statespace\\sarimax.py:966: UserWarning: Non-stationary starting autoregressive parameters found. Using zeros as starting parameters.\n",
      "  warn('Non-stationary starting autoregressive parameters'\n",
      "R:\\Anaconda\\envs\\general\\lib\\site-packages\\statsmodels\\tsa\\base\\tsa_model.py:471: ValueWarning: No frequency information was provided, so inferred frequency Q-DEC will be used.\n",
      "  self._init_dates(dates, freq)\n",
      "R:\\Anaconda\\envs\\general\\lib\\site-packages\\statsmodels\\tsa\\base\\tsa_model.py:471: ValueWarning: No frequency information was provided, so inferred frequency Q-DEC will be used.\n",
      "  self._init_dates(dates, freq)\n",
      "R:\\Anaconda\\envs\\general\\lib\\site-packages\\statsmodels\\tsa\\statespace\\sarimax.py:966: UserWarning: Non-stationary starting autoregressive parameters found. Using zeros as starting parameters.\n",
      "  warn('Non-stationary starting autoregressive parameters'\n",
      "R:\\Anaconda\\envs\\general\\lib\\site-packages\\statsmodels\\base\\model.py:604: ConvergenceWarning: Maximum Likelihood optimization failed to converge. Check mle_retvals\n",
      "  warnings.warn(\"Maximum Likelihood optimization failed to \"\n",
      "R:\\Anaconda\\envs\\general\\lib\\site-packages\\statsmodels\\tsa\\base\\tsa_model.py:471: ValueWarning: No frequency information was provided, so inferred frequency Q-DEC will be used.\n",
      "  self._init_dates(dates, freq)\n",
      "R:\\Anaconda\\envs\\general\\lib\\site-packages\\statsmodels\\tsa\\base\\tsa_model.py:471: ValueWarning: No frequency information was provided, so inferred frequency Q-DEC will be used.\n",
      "  self._init_dates(dates, freq)\n",
      "R:\\Anaconda\\envs\\general\\lib\\site-packages\\statsmodels\\tsa\\statespace\\sarimax.py:966: UserWarning: Non-stationary starting autoregressive parameters found. Using zeros as starting parameters.\n",
      "  warn('Non-stationary starting autoregressive parameters'\n",
      "R:\\Anaconda\\envs\\general\\lib\\site-packages\\statsmodels\\tsa\\statespace\\sarimax.py:997: UserWarning: Non-stationary starting seasonal autoregressive Using zeros as starting parameters.\n",
      "  warn('Non-stationary starting seasonal autoregressive'\n"
     ]
    },
    {
     "name": "stdout",
     "output_type": "stream",
     "text": [
      "SARIMA(1, 0, 0)x(0, 1, 1, 12)12 - AIC:1843.2284208421545\n",
      "SARIMA(1, 0, 0)x(1, 0, 0, 12)12 - AIC:985.2990339956339\n"
     ]
    },
    {
     "name": "stderr",
     "output_type": "stream",
     "text": [
      "R:\\Anaconda\\envs\\general\\lib\\site-packages\\statsmodels\\tsa\\base\\tsa_model.py:471: ValueWarning: No frequency information was provided, so inferred frequency Q-DEC will be used.\n",
      "  self._init_dates(dates, freq)\n",
      "R:\\Anaconda\\envs\\general\\lib\\site-packages\\statsmodels\\tsa\\base\\tsa_model.py:471: ValueWarning: No frequency information was provided, so inferred frequency Q-DEC will be used.\n",
      "  self._init_dates(dates, freq)\n",
      "R:\\Anaconda\\envs\\general\\lib\\site-packages\\statsmodels\\tsa\\statespace\\sarimax.py:966: UserWarning: Non-stationary starting autoregressive parameters found. Using zeros as starting parameters.\n",
      "  warn('Non-stationary starting autoregressive parameters'\n",
      "R:\\Anaconda\\envs\\general\\lib\\site-packages\\statsmodels\\tsa\\statespace\\sarimax.py:997: UserWarning: Non-stationary starting seasonal autoregressive Using zeros as starting parameters.\n",
      "  warn('Non-stationary starting seasonal autoregressive'\n"
     ]
    },
    {
     "name": "stdout",
     "output_type": "stream",
     "text": [
      "SARIMA(1, 0, 0)x(1, 0, 1, 12)12 - AIC:980.5831679825568\n"
     ]
    },
    {
     "name": "stderr",
     "output_type": "stream",
     "text": [
      "R:\\Anaconda\\envs\\general\\lib\\site-packages\\statsmodels\\tsa\\base\\tsa_model.py:471: ValueWarning: No frequency information was provided, so inferred frequency Q-DEC will be used.\n",
      "  self._init_dates(dates, freq)\n",
      "R:\\Anaconda\\envs\\general\\lib\\site-packages\\statsmodels\\tsa\\base\\tsa_model.py:471: ValueWarning: No frequency information was provided, so inferred frequency Q-DEC will be used.\n",
      "  self._init_dates(dates, freq)\n",
      "R:\\Anaconda\\envs\\general\\lib\\site-packages\\statsmodels\\tsa\\statespace\\sarimax.py:966: UserWarning: Non-stationary starting autoregressive parameters found. Using zeros as starting parameters.\n",
      "  warn('Non-stationary starting autoregressive parameters'\n",
      "R:\\Anaconda\\envs\\general\\lib\\site-packages\\statsmodels\\tsa\\statespace\\sarimax.py:997: UserWarning: Non-stationary starting seasonal autoregressive Using zeros as starting parameters.\n",
      "  warn('Non-stationary starting seasonal autoregressive'\n"
     ]
    },
    {
     "name": "stdout",
     "output_type": "stream",
     "text": [
      "SARIMA(1, 0, 0)x(1, 1, 0, 12)12 - AIC:739.051372296371\n"
     ]
    },
    {
     "name": "stderr",
     "output_type": "stream",
     "text": [
      "R:\\Anaconda\\envs\\general\\lib\\site-packages\\statsmodels\\tsa\\base\\tsa_model.py:471: ValueWarning: No frequency information was provided, so inferred frequency Q-DEC will be used.\n",
      "  self._init_dates(dates, freq)\n",
      "R:\\Anaconda\\envs\\general\\lib\\site-packages\\statsmodels\\tsa\\base\\tsa_model.py:471: ValueWarning: No frequency information was provided, so inferred frequency Q-DEC will be used.\n",
      "  self._init_dates(dates, freq)\n",
      "R:\\Anaconda\\envs\\general\\lib\\site-packages\\statsmodels\\tsa\\statespace\\sarimax.py:966: UserWarning: Non-stationary starting autoregressive parameters found. Using zeros as starting parameters.\n",
      "  warn('Non-stationary starting autoregressive parameters'\n",
      "R:\\Anaconda\\envs\\general\\lib\\site-packages\\statsmodels\\tsa\\statespace\\sarimax.py:997: UserWarning: Non-stationary starting seasonal autoregressive Using zeros as starting parameters.\n",
      "  warn('Non-stationary starting seasonal autoregressive'\n"
     ]
    },
    {
     "name": "stdout",
     "output_type": "stream",
     "text": [
      "SARIMA(1, 0, 0)x(1, 1, 1, 12)12 - AIC:741.5366750519154\n"
     ]
    },
    {
     "name": "stderr",
     "output_type": "stream",
     "text": [
      "R:\\Anaconda\\envs\\general\\lib\\site-packages\\statsmodels\\tsa\\base\\tsa_model.py:471: ValueWarning: No frequency information was provided, so inferred frequency Q-DEC will be used.\n",
      "  self._init_dates(dates, freq)\n",
      "R:\\Anaconda\\envs\\general\\lib\\site-packages\\statsmodels\\tsa\\base\\tsa_model.py:471: ValueWarning: No frequency information was provided, so inferred frequency Q-DEC will be used.\n",
      "  self._init_dates(dates, freq)\n",
      "R:\\Anaconda\\envs\\general\\lib\\site-packages\\statsmodels\\tsa\\statespace\\sarimax.py:966: UserWarning: Non-stationary starting autoregressive parameters found. Using zeros as starting parameters.\n",
      "  warn('Non-stationary starting autoregressive parameters'\n"
     ]
    },
    {
     "name": "stdout",
     "output_type": "stream",
     "text": [
      "SARIMA(1, 0, 1)x(0, 0, 0, 12)12 - AIC:1026.5251459466497\n"
     ]
    },
    {
     "name": "stderr",
     "output_type": "stream",
     "text": [
      "R:\\Anaconda\\envs\\general\\lib\\site-packages\\statsmodels\\tsa\\base\\tsa_model.py:471: ValueWarning: No frequency information was provided, so inferred frequency Q-DEC will be used.\n",
      "  self._init_dates(dates, freq)\n",
      "R:\\Anaconda\\envs\\general\\lib\\site-packages\\statsmodels\\tsa\\base\\tsa_model.py:471: ValueWarning: No frequency information was provided, so inferred frequency Q-DEC will be used.\n",
      "  self._init_dates(dates, freq)\n",
      "R:\\Anaconda\\envs\\general\\lib\\site-packages\\statsmodels\\tsa\\statespace\\sarimax.py:966: UserWarning: Non-stationary starting autoregressive parameters found. Using zeros as starting parameters.\n",
      "  warn('Non-stationary starting autoregressive parameters'\n",
      "R:\\Anaconda\\envs\\general\\lib\\site-packages\\statsmodels\\base\\model.py:604: ConvergenceWarning: Maximum Likelihood optimization failed to converge. Check mle_retvals\n",
      "  warnings.warn(\"Maximum Likelihood optimization failed to \"\n",
      "R:\\Anaconda\\envs\\general\\lib\\site-packages\\statsmodels\\tsa\\base\\tsa_model.py:471: ValueWarning: No frequency information was provided, so inferred frequency Q-DEC will be used.\n",
      "  self._init_dates(dates, freq)\n",
      "R:\\Anaconda\\envs\\general\\lib\\site-packages\\statsmodels\\tsa\\base\\tsa_model.py:471: ValueWarning: No frequency information was provided, so inferred frequency Q-DEC will be used.\n",
      "  self._init_dates(dates, freq)\n",
      "R:\\Anaconda\\envs\\general\\lib\\site-packages\\statsmodels\\tsa\\statespace\\sarimax.py:966: UserWarning: Non-stationary starting autoregressive parameters found. Using zeros as starting parameters.\n",
      "  warn('Non-stationary starting autoregressive parameters'\n"
     ]
    },
    {
     "name": "stdout",
     "output_type": "stream",
     "text": [
      "SARIMA(1, 0, 1)x(0, 0, 1, 12)12 - AIC:1000.2921447153628\n",
      "SARIMA(1, 0, 1)x(0, 1, 0, 12)12 - AIC:752.7604254871341\n"
     ]
    },
    {
     "name": "stderr",
     "output_type": "stream",
     "text": [
      "R:\\Anaconda\\envs\\general\\lib\\site-packages\\statsmodels\\tsa\\base\\tsa_model.py:471: ValueWarning: No frequency information was provided, so inferred frequency Q-DEC will be used.\n",
      "  self._init_dates(dates, freq)\n",
      "R:\\Anaconda\\envs\\general\\lib\\site-packages\\statsmodels\\tsa\\base\\tsa_model.py:471: ValueWarning: No frequency information was provided, so inferred frequency Q-DEC will be used.\n",
      "  self._init_dates(dates, freq)\n",
      "R:\\Anaconda\\envs\\general\\lib\\site-packages\\statsmodels\\tsa\\statespace\\sarimax.py:966: UserWarning: Non-stationary starting autoregressive parameters found. Using zeros as starting parameters.\n",
      "  warn('Non-stationary starting autoregressive parameters'\n",
      "R:\\Anaconda\\envs\\general\\lib\\site-packages\\statsmodels\\base\\model.py:604: ConvergenceWarning: Maximum Likelihood optimization failed to converge. Check mle_retvals\n",
      "  warnings.warn(\"Maximum Likelihood optimization failed to \"\n",
      "R:\\Anaconda\\envs\\general\\lib\\site-packages\\statsmodels\\tsa\\base\\tsa_model.py:471: ValueWarning: No frequency information was provided, so inferred frequency Q-DEC will be used.\n",
      "  self._init_dates(dates, freq)\n",
      "R:\\Anaconda\\envs\\general\\lib\\site-packages\\statsmodels\\tsa\\base\\tsa_model.py:471: ValueWarning: No frequency information was provided, so inferred frequency Q-DEC will be used.\n",
      "  self._init_dates(dates, freq)\n",
      "R:\\Anaconda\\envs\\general\\lib\\site-packages\\statsmodels\\tsa\\statespace\\sarimax.py:966: UserWarning: Non-stationary starting autoregressive parameters found. Using zeros as starting parameters.\n",
      "  warn('Non-stationary starting autoregressive parameters'\n",
      "R:\\Anaconda\\envs\\general\\lib\\site-packages\\statsmodels\\tsa\\statespace\\sarimax.py:997: UserWarning: Non-stationary starting seasonal autoregressive Using zeros as starting parameters.\n",
      "  warn('Non-stationary starting seasonal autoregressive'\n"
     ]
    },
    {
     "name": "stdout",
     "output_type": "stream",
     "text": [
      "SARIMA(1, 0, 1)x(0, 1, 1, 12)12 - AIC:2246.969984656547\n",
      "SARIMA(1, 0, 1)x(1, 0, 0, 12)12 - AIC:986.5730355895394\n"
     ]
    },
    {
     "name": "stderr",
     "output_type": "stream",
     "text": [
      "R:\\Anaconda\\envs\\general\\lib\\site-packages\\statsmodels\\tsa\\base\\tsa_model.py:471: ValueWarning: No frequency information was provided, so inferred frequency Q-DEC will be used.\n",
      "  self._init_dates(dates, freq)\n",
      "R:\\Anaconda\\envs\\general\\lib\\site-packages\\statsmodels\\tsa\\base\\tsa_model.py:471: ValueWarning: No frequency information was provided, so inferred frequency Q-DEC will be used.\n",
      "  self._init_dates(dates, freq)\n",
      "R:\\Anaconda\\envs\\general\\lib\\site-packages\\statsmodels\\tsa\\statespace\\sarimax.py:966: UserWarning: Non-stationary starting autoregressive parameters found. Using zeros as starting parameters.\n",
      "  warn('Non-stationary starting autoregressive parameters'\n",
      "R:\\Anaconda\\envs\\general\\lib\\site-packages\\statsmodels\\tsa\\statespace\\sarimax.py:997: UserWarning: Non-stationary starting seasonal autoregressive Using zeros as starting parameters.\n",
      "  warn('Non-stationary starting seasonal autoregressive'\n",
      "R:\\Anaconda\\envs\\general\\lib\\site-packages\\statsmodels\\base\\model.py:604: ConvergenceWarning: Maximum Likelihood optimization failed to converge. Check mle_retvals\n",
      "  warnings.warn(\"Maximum Likelihood optimization failed to \"\n",
      "R:\\Anaconda\\envs\\general\\lib\\site-packages\\statsmodels\\tsa\\base\\tsa_model.py:471: ValueWarning: No frequency information was provided, so inferred frequency Q-DEC will be used.\n",
      "  self._init_dates(dates, freq)\n",
      "R:\\Anaconda\\envs\\general\\lib\\site-packages\\statsmodels\\tsa\\base\\tsa_model.py:471: ValueWarning: No frequency information was provided, so inferred frequency Q-DEC will be used.\n",
      "  self._init_dates(dates, freq)\n",
      "R:\\Anaconda\\envs\\general\\lib\\site-packages\\statsmodels\\tsa\\statespace\\sarimax.py:966: UserWarning: Non-stationary starting autoregressive parameters found. Using zeros as starting parameters.\n",
      "  warn('Non-stationary starting autoregressive parameters'\n",
      "R:\\Anaconda\\envs\\general\\lib\\site-packages\\statsmodels\\tsa\\statespace\\sarimax.py:997: UserWarning: Non-stationary starting seasonal autoregressive Using zeros as starting parameters.\n",
      "  warn('Non-stationary starting seasonal autoregressive'\n"
     ]
    },
    {
     "name": "stdout",
     "output_type": "stream",
     "text": [
      "SARIMA(1, 0, 1)x(1, 0, 1, 12)12 - AIC:980.5953410601666\n",
      "SARIMA(1, 0, 1)x(1, 1, 0, 12)12 - AIC:738.3468965726983\n"
     ]
    },
    {
     "name": "stderr",
     "output_type": "stream",
     "text": [
      "R:\\Anaconda\\envs\\general\\lib\\site-packages\\statsmodels\\tsa\\base\\tsa_model.py:471: ValueWarning: No frequency information was provided, so inferred frequency Q-DEC will be used.\n",
      "  self._init_dates(dates, freq)\n",
      "R:\\Anaconda\\envs\\general\\lib\\site-packages\\statsmodels\\tsa\\base\\tsa_model.py:471: ValueWarning: No frequency information was provided, so inferred frequency Q-DEC will be used.\n",
      "  self._init_dates(dates, freq)\n",
      "R:\\Anaconda\\envs\\general\\lib\\site-packages\\statsmodels\\tsa\\statespace\\sarimax.py:966: UserWarning: Non-stationary starting autoregressive parameters found. Using zeros as starting parameters.\n",
      "  warn('Non-stationary starting autoregressive parameters'\n",
      "R:\\Anaconda\\envs\\general\\lib\\site-packages\\statsmodels\\tsa\\statespace\\sarimax.py:997: UserWarning: Non-stationary starting seasonal autoregressive Using zeros as starting parameters.\n",
      "  warn('Non-stationary starting seasonal autoregressive'\n"
     ]
    },
    {
     "name": "stdout",
     "output_type": "stream",
     "text": [
      "SARIMA(1, 0, 1)x(1, 1, 1, 12)12 - AIC:740.3935258355958\n",
      "SARIMA(1, 1, 0)x(0, 0, 0, 12)12 - AIC:999.8941956575547\n"
     ]
    },
    {
     "name": "stderr",
     "output_type": "stream",
     "text": [
      "R:\\Anaconda\\envs\\general\\lib\\site-packages\\statsmodels\\tsa\\base\\tsa_model.py:471: ValueWarning: No frequency information was provided, so inferred frequency Q-DEC will be used.\n",
      "  self._init_dates(dates, freq)\n",
      "R:\\Anaconda\\envs\\general\\lib\\site-packages\\statsmodels\\tsa\\base\\tsa_model.py:471: ValueWarning: No frequency information was provided, so inferred frequency Q-DEC will be used.\n",
      "  self._init_dates(dates, freq)\n",
      "R:\\Anaconda\\envs\\general\\lib\\site-packages\\statsmodels\\tsa\\base\\tsa_model.py:471: ValueWarning: No frequency information was provided, so inferred frequency Q-DEC will be used.\n",
      "  self._init_dates(dates, freq)\n",
      "R:\\Anaconda\\envs\\general\\lib\\site-packages\\statsmodels\\tsa\\base\\tsa_model.py:471: ValueWarning: No frequency information was provided, so inferred frequency Q-DEC will be used.\n",
      "  self._init_dates(dates, freq)\n"
     ]
    },
    {
     "name": "stdout",
     "output_type": "stream",
     "text": [
      "SARIMA(1, 1, 0)x(0, 0, 1, 12)12 - AIC:972.4324283421506\n",
      "SARIMA(1, 1, 0)x(0, 1, 0, 12)12 - AIC:733.0022212663935\n"
     ]
    },
    {
     "name": "stderr",
     "output_type": "stream",
     "text": [
      "R:\\Anaconda\\envs\\general\\lib\\site-packages\\statsmodels\\tsa\\base\\tsa_model.py:471: ValueWarning: No frequency information was provided, so inferred frequency Q-DEC will be used.\n",
      "  self._init_dates(dates, freq)\n",
      "R:\\Anaconda\\envs\\general\\lib\\site-packages\\statsmodels\\tsa\\base\\tsa_model.py:471: ValueWarning: No frequency information was provided, so inferred frequency Q-DEC will be used.\n",
      "  self._init_dates(dates, freq)\n",
      "R:\\Anaconda\\envs\\general\\lib\\site-packages\\statsmodels\\tsa\\base\\tsa_model.py:471: ValueWarning: No frequency information was provided, so inferred frequency Q-DEC will be used.\n",
      "  self._init_dates(dates, freq)\n",
      "R:\\Anaconda\\envs\\general\\lib\\site-packages\\statsmodels\\tsa\\base\\tsa_model.py:471: ValueWarning: No frequency information was provided, so inferred frequency Q-DEC will be used.\n",
      "  self._init_dates(dates, freq)\n",
      "R:\\Anaconda\\envs\\general\\lib\\site-packages\\statsmodels\\base\\model.py:604: ConvergenceWarning: Maximum Likelihood optimization failed to converge. Check mle_retvals\n",
      "  warnings.warn(\"Maximum Likelihood optimization failed to \"\n",
      "R:\\Anaconda\\envs\\general\\lib\\site-packages\\statsmodels\\tsa\\base\\tsa_model.py:471: ValueWarning: No frequency information was provided, so inferred frequency Q-DEC will be used.\n",
      "  self._init_dates(dates, freq)\n",
      "R:\\Anaconda\\envs\\general\\lib\\site-packages\\statsmodels\\tsa\\base\\tsa_model.py:471: ValueWarning: No frequency information was provided, so inferred frequency Q-DEC will be used.\n",
      "  self._init_dates(dates, freq)\n",
      "R:\\Anaconda\\envs\\general\\lib\\site-packages\\statsmodels\\tsa\\statespace\\sarimax.py:997: UserWarning: Non-stationary starting seasonal autoregressive Using zeros as starting parameters.\n",
      "  warn('Non-stationary starting seasonal autoregressive'\n"
     ]
    },
    {
     "name": "stdout",
     "output_type": "stream",
     "text": [
      "SARIMA(1, 1, 0)x(0, 1, 1, 12)12 - AIC:1899.6798697219833\n",
      "SARIMA(1, 1, 0)x(1, 0, 0, 12)12 - AIC:956.8833070959581\n"
     ]
    },
    {
     "name": "stderr",
     "output_type": "stream",
     "text": [
      "R:\\Anaconda\\envs\\general\\lib\\site-packages\\statsmodels\\tsa\\base\\tsa_model.py:471: ValueWarning: No frequency information was provided, so inferred frequency Q-DEC will be used.\n",
      "  self._init_dates(dates, freq)\n",
      "R:\\Anaconda\\envs\\general\\lib\\site-packages\\statsmodels\\tsa\\base\\tsa_model.py:471: ValueWarning: No frequency information was provided, so inferred frequency Q-DEC will be used.\n",
      "  self._init_dates(dates, freq)\n",
      "R:\\Anaconda\\envs\\general\\lib\\site-packages\\statsmodels\\tsa\\statespace\\sarimax.py:997: UserWarning: Non-stationary starting seasonal autoregressive Using zeros as starting parameters.\n",
      "  warn('Non-stationary starting seasonal autoregressive'\n"
     ]
    },
    {
     "name": "stdout",
     "output_type": "stream",
     "text": [
      "SARIMA(1, 1, 0)x(1, 0, 1, 12)12 - AIC:949.4943624195294\n"
     ]
    },
    {
     "name": "stderr",
     "output_type": "stream",
     "text": [
      "R:\\Anaconda\\envs\\general\\lib\\site-packages\\statsmodels\\tsa\\base\\tsa_model.py:471: ValueWarning: No frequency information was provided, so inferred frequency Q-DEC will be used.\n",
      "  self._init_dates(dates, freq)\n",
      "R:\\Anaconda\\envs\\general\\lib\\site-packages\\statsmodels\\tsa\\base\\tsa_model.py:471: ValueWarning: No frequency information was provided, so inferred frequency Q-DEC will be used.\n",
      "  self._init_dates(dates, freq)\n"
     ]
    },
    {
     "name": "stdout",
     "output_type": "stream",
     "text": [
      "SARIMA(1, 1, 0)x(1, 1, 0, 12)12 - AIC:716.6832903289461\n"
     ]
    },
    {
     "name": "stderr",
     "output_type": "stream",
     "text": [
      "R:\\Anaconda\\envs\\general\\lib\\site-packages\\statsmodels\\tsa\\base\\tsa_model.py:471: ValueWarning: No frequency information was provided, so inferred frequency Q-DEC will be used.\n",
      "  self._init_dates(dates, freq)\n",
      "R:\\Anaconda\\envs\\general\\lib\\site-packages\\statsmodels\\tsa\\base\\tsa_model.py:471: ValueWarning: No frequency information was provided, so inferred frequency Q-DEC will be used.\n",
      "  self._init_dates(dates, freq)\n",
      "R:\\Anaconda\\envs\\general\\lib\\site-packages\\statsmodels\\base\\model.py:604: ConvergenceWarning: Maximum Likelihood optimization failed to converge. Check mle_retvals\n",
      "  warnings.warn(\"Maximum Likelihood optimization failed to \"\n",
      "R:\\Anaconda\\envs\\general\\lib\\site-packages\\statsmodels\\tsa\\base\\tsa_model.py:471: ValueWarning: No frequency information was provided, so inferred frequency Q-DEC will be used.\n",
      "  self._init_dates(dates, freq)\n",
      "R:\\Anaconda\\envs\\general\\lib\\site-packages\\statsmodels\\tsa\\base\\tsa_model.py:471: ValueWarning: No frequency information was provided, so inferred frequency Q-DEC will be used.\n",
      "  self._init_dates(dates, freq)\n"
     ]
    },
    {
     "name": "stdout",
     "output_type": "stream",
     "text": [
      "SARIMA(1, 1, 0)x(1, 1, 1, 12)12 - AIC:1884.4451523455998\n"
     ]
    },
    {
     "name": "stderr",
     "output_type": "stream",
     "text": [
      "R:\\Anaconda\\envs\\general\\lib\\site-packages\\statsmodels\\base\\model.py:604: ConvergenceWarning: Maximum Likelihood optimization failed to converge. Check mle_retvals\n",
      "  warnings.warn(\"Maximum Likelihood optimization failed to \"\n",
      "R:\\Anaconda\\envs\\general\\lib\\site-packages\\statsmodels\\tsa\\base\\tsa_model.py:471: ValueWarning: No frequency information was provided, so inferred frequency Q-DEC will be used.\n",
      "  self._init_dates(dates, freq)\n",
      "R:\\Anaconda\\envs\\general\\lib\\site-packages\\statsmodels\\tsa\\base\\tsa_model.py:471: ValueWarning: No frequency information was provided, so inferred frequency Q-DEC will be used.\n",
      "  self._init_dates(dates, freq)\n"
     ]
    },
    {
     "name": "stdout",
     "output_type": "stream",
     "text": [
      "SARIMA(1, 1, 1)x(0, 0, 0, 12)12 - AIC:985.5497650199965\n"
     ]
    },
    {
     "name": "stderr",
     "output_type": "stream",
     "text": [
      "R:\\Anaconda\\envs\\general\\lib\\site-packages\\statsmodels\\base\\model.py:604: ConvergenceWarning: Maximum Likelihood optimization failed to converge. Check mle_retvals\n",
      "  warnings.warn(\"Maximum Likelihood optimization failed to \"\n",
      "R:\\Anaconda\\envs\\general\\lib\\site-packages\\statsmodels\\tsa\\base\\tsa_model.py:471: ValueWarning: No frequency information was provided, so inferred frequency Q-DEC will be used.\n",
      "  self._init_dates(dates, freq)\n",
      "R:\\Anaconda\\envs\\general\\lib\\site-packages\\statsmodels\\tsa\\base\\tsa_model.py:471: ValueWarning: No frequency information was provided, so inferred frequency Q-DEC will be used.\n",
      "  self._init_dates(dates, freq)\n"
     ]
    },
    {
     "name": "stdout",
     "output_type": "stream",
     "text": [
      "SARIMA(1, 1, 1)x(0, 0, 1, 12)12 - AIC:959.1284275066914\n",
      "SARIMA(1, 1, 1)x(0, 1, 0, 12)12 - AIC:725.2034911760377\n"
     ]
    },
    {
     "name": "stderr",
     "output_type": "stream",
     "text": [
      "R:\\Anaconda\\envs\\general\\lib\\site-packages\\statsmodels\\tsa\\base\\tsa_model.py:471: ValueWarning: No frequency information was provided, so inferred frequency Q-DEC will be used.\n",
      "  self._init_dates(dates, freq)\n",
      "R:\\Anaconda\\envs\\general\\lib\\site-packages\\statsmodels\\tsa\\base\\tsa_model.py:471: ValueWarning: No frequency information was provided, so inferred frequency Q-DEC will be used.\n",
      "  self._init_dates(dates, freq)\n",
      "R:\\Anaconda\\envs\\general\\lib\\site-packages\\statsmodels\\base\\model.py:604: ConvergenceWarning: Maximum Likelihood optimization failed to converge. Check mle_retvals\n",
      "  warnings.warn(\"Maximum Likelihood optimization failed to \"\n",
      "R:\\Anaconda\\envs\\general\\lib\\site-packages\\statsmodels\\tsa\\base\\tsa_model.py:471: ValueWarning: No frequency information was provided, so inferred frequency Q-DEC will be used.\n",
      "  self._init_dates(dates, freq)\n",
      "R:\\Anaconda\\envs\\general\\lib\\site-packages\\statsmodels\\tsa\\base\\tsa_model.py:471: ValueWarning: No frequency information was provided, so inferred frequency Q-DEC will be used.\n",
      "  self._init_dates(dates, freq)\n",
      "R:\\Anaconda\\envs\\general\\lib\\site-packages\\statsmodels\\tsa\\statespace\\sarimax.py:997: UserWarning: Non-stationary starting seasonal autoregressive Using zeros as starting parameters.\n",
      "  warn('Non-stationary starting seasonal autoregressive'\n"
     ]
    },
    {
     "name": "stdout",
     "output_type": "stream",
     "text": [
      "SARIMA(1, 1, 1)x(0, 1, 1, 12)12 - AIC:1893.1218477478465\n",
      "SARIMA(1, 1, 1)x(1, 0, 0, 12)12 - AIC:960.6699698422341\n"
     ]
    },
    {
     "name": "stderr",
     "output_type": "stream",
     "text": [
      "R:\\Anaconda\\envs\\general\\lib\\site-packages\\statsmodels\\tsa\\base\\tsa_model.py:471: ValueWarning: No frequency information was provided, so inferred frequency Q-DEC will be used.\n",
      "  self._init_dates(dates, freq)\n",
      "R:\\Anaconda\\envs\\general\\lib\\site-packages\\statsmodels\\tsa\\base\\tsa_model.py:471: ValueWarning: No frequency information was provided, so inferred frequency Q-DEC will be used.\n",
      "  self._init_dates(dates, freq)\n",
      "R:\\Anaconda\\envs\\general\\lib\\site-packages\\statsmodels\\tsa\\statespace\\sarimax.py:997: UserWarning: Non-stationary starting seasonal autoregressive Using zeros as starting parameters.\n",
      "  warn('Non-stationary starting seasonal autoregressive'\n"
     ]
    },
    {
     "name": "stdout",
     "output_type": "stream",
     "text": [
      "SARIMA(1, 1, 1)x(1, 0, 1, 12)12 - AIC:958.5961855645832\n"
     ]
    },
    {
     "name": "stderr",
     "output_type": "stream",
     "text": [
      "R:\\Anaconda\\envs\\general\\lib\\site-packages\\statsmodels\\tsa\\base\\tsa_model.py:471: ValueWarning: No frequency information was provided, so inferred frequency Q-DEC will be used.\n",
      "  self._init_dates(dates, freq)\n",
      "R:\\Anaconda\\envs\\general\\lib\\site-packages\\statsmodels\\tsa\\base\\tsa_model.py:471: ValueWarning: No frequency information was provided, so inferred frequency Q-DEC will be used.\n",
      "  self._init_dates(dates, freq)\n",
      "R:\\Anaconda\\envs\\general\\lib\\site-packages\\statsmodels\\base\\model.py:604: ConvergenceWarning: Maximum Likelihood optimization failed to converge. Check mle_retvals\n",
      "  warnings.warn(\"Maximum Likelihood optimization failed to \"\n",
      "R:\\Anaconda\\envs\\general\\lib\\site-packages\\statsmodels\\tsa\\base\\tsa_model.py:471: ValueWarning: No frequency information was provided, so inferred frequency Q-DEC will be used.\n",
      "  self._init_dates(dates, freq)\n",
      "R:\\Anaconda\\envs\\general\\lib\\site-packages\\statsmodels\\tsa\\base\\tsa_model.py:471: ValueWarning: No frequency information was provided, so inferred frequency Q-DEC will be used.\n",
      "  self._init_dates(dates, freq)\n"
     ]
    },
    {
     "name": "stdout",
     "output_type": "stream",
     "text": [
      "SARIMA(1, 1, 1)x(1, 1, 0, 12)12 - AIC:717.5895325205411\n",
      "SARIMA(1, 1, 1)x(1, 1, 1, 12)12 - AIC:1698.042132894269\n"
     ]
    },
    {
     "name": "stderr",
     "output_type": "stream",
     "text": [
      "R:\\Anaconda\\envs\\general\\lib\\site-packages\\statsmodels\\base\\model.py:604: ConvergenceWarning: Maximum Likelihood optimization failed to converge. Check mle_retvals\n",
      "  warnings.warn(\"Maximum Likelihood optimization failed to \"\n"
     ]
    }
   ],
   "source": [
    "# Using Grid Search find the optimal set of parameters that yields the best performance\n",
    "for param in pdq:\n",
    "    for param_seasonal in seasonal_pdq:\n",
    "        try:\n",
    "            mod = sm.tsa.statespace.SARIMAX(df, order = param, seasonal_order = param_seasonal, enforce_stationary = False,enforce_invertibility=False) \n",
    "            result = mod.fit()   \n",
    "            print('SARIMA{}x{}12 - AIC:{}'.format(param, param_seasonal, result.aic))\n",
    "        except:\n",
    "            continue"
   ]
  },
  {
   "cell_type": "code",
   "execution_count": 20,
   "id": "576a9c58-c2e7-4aad-92ee-f03a316932c8",
   "metadata": {
    "colab": {
     "base_uri": "https://localhost:8080/"
    },
    "id": "576a9c58-c2e7-4aad-92ee-f03a316932c8",
    "outputId": "67186014-71ff-49d5-86fb-321c9c540224"
   },
   "outputs": [
    {
     "name": "stderr",
     "output_type": "stream",
     "text": [
      "R:\\Anaconda\\envs\\general\\lib\\site-packages\\statsmodels\\tsa\\base\\tsa_model.py:471: ValueWarning: No frequency information was provided, so inferred frequency Q-DEC will be used.\n",
      "  self._init_dates(dates, freq)\n",
      "R:\\Anaconda\\envs\\general\\lib\\site-packages\\statsmodels\\tsa\\base\\tsa_model.py:471: ValueWarning: No frequency information was provided, so inferred frequency Q-DEC will be used.\n",
      "  self._init_dates(dates, freq)\n"
     ]
    },
    {
     "name": "stdout",
     "output_type": "stream",
     "text": [
      "==============================================================================\n",
      "                 coef    std err          z      P>|z|      [0.025      0.975]\n",
      "------------------------------------------------------------------------------\n",
      "ar.L1         -0.4749      0.492     -0.965      0.334      -1.439       0.489\n",
      "ma.L1          0.1957      0.587      0.333      0.739      -0.955       1.346\n",
      "ar.S.L12       0.8051      0.203      3.973      0.000       0.408       1.202\n",
      "sigma2      1.255e+06   2.32e+05      5.421      0.000    8.02e+05    1.71e+06\n",
      "==============================================================================\n"
     ]
    }
   ],
   "source": [
    "#Fitting the SARIMA model using above optimal combination of p, d, q (optimal means combination at which we got lowest AIC score)\n",
    "\n",
    "model = sm.tsa.statespace.SARIMAX(df, order = (1, 1, 1),\n",
    "                                  seasonal_order = (1, 1, 0, 12)\n",
    "                                 )\n",
    "result = model.fit()\n",
    "print(result.summary().tables[1])"
   ]
  },
  {
   "cell_type": "code",
   "execution_count": 21,
   "id": "22730dd5-8e87-4c57-ae64-10cd4bae1203",
   "metadata": {
    "colab": {
     "base_uri": "https://localhost:8080/",
     "height": 325
    },
    "id": "22730dd5-8e87-4c57-ae64-10cd4bae1203",
    "outputId": "da7c23fe-cbf5-49b9-838f-e57c1591d0b6"
   },
   "outputs": [
    {
     "data": {
      "text/html": [
       "<div>\n",
       "<style scoped>\n",
       "    .dataframe tbody tr th:only-of-type {\n",
       "        vertical-align: middle;\n",
       "    }\n",
       "\n",
       "    .dataframe tbody tr th {\n",
       "        vertical-align: top;\n",
       "    }\n",
       "\n",
       "    .dataframe thead th {\n",
       "        text-align: right;\n",
       "    }\n",
       "</style>\n",
       "<table border=\"1\" class=\"dataframe\">\n",
       "  <thead>\n",
       "    <tr style=\"text-align: right;\">\n",
       "      <th></th>\n",
       "      <th>lower Quarterly Profit</th>\n",
       "      <th>upper Quarterly Profit</th>\n",
       "    </tr>\n",
       "  </thead>\n",
       "  <tbody>\n",
       "    <tr>\n",
       "      <th>2021-03-31</th>\n",
       "      <td>42398.000144</td>\n",
       "      <td>46790.208160</td>\n",
       "    </tr>\n",
       "    <tr>\n",
       "      <th>2021-06-30</th>\n",
       "      <td>46333.307402</td>\n",
       "      <td>50725.515418</td>\n",
       "    </tr>\n",
       "    <tr>\n",
       "      <th>2021-09-30</th>\n",
       "      <td>48772.541951</td>\n",
       "      <td>53164.749967</td>\n",
       "    </tr>\n",
       "    <tr>\n",
       "      <th>2021-12-31</th>\n",
       "      <td>51484.935925</td>\n",
       "      <td>55877.143941</td>\n",
       "    </tr>\n",
       "    <tr>\n",
       "      <th>2022-03-31</th>\n",
       "      <td>49395.266486</td>\n",
       "      <td>53787.474502</td>\n",
       "    </tr>\n",
       "    <tr>\n",
       "      <th>2022-06-30</th>\n",
       "      <td>50054.645715</td>\n",
       "      <td>54446.853731</td>\n",
       "    </tr>\n",
       "    <tr>\n",
       "      <th>2022-09-30</th>\n",
       "      <td>54264.242912</td>\n",
       "      <td>58656.450928</td>\n",
       "    </tr>\n",
       "  </tbody>\n",
       "</table>\n",
       "</div>"
      ],
      "text/plain": [
       "            lower Quarterly Profit  upper Quarterly Profit\n",
       "2021-03-31            42398.000144            46790.208160\n",
       "2021-06-30            46333.307402            50725.515418\n",
       "2021-09-30            48772.541951            53164.749967\n",
       "2021-12-31            51484.935925            55877.143941\n",
       "2022-03-31            49395.266486            53787.474502\n",
       "2022-06-30            50054.645715            54446.853731\n",
       "2022-09-30            54264.242912            58656.450928"
      ]
     },
     "execution_count": 21,
     "metadata": {},
     "output_type": "execute_result"
    }
   ],
   "source": [
    "prediction = result.get_prediction(start = pd.to_datetime('2021-03-31'), dynamic = False)\n",
    "prediction_ci = prediction.conf_int()\n",
    "prediction_ci"
   ]
  },
  {
   "cell_type": "code",
   "execution_count": 22,
   "id": "2c11116d-33ed-4e59-a06c-33b21cfec0c9",
   "metadata": {
    "colab": {
     "base_uri": "https://localhost:8080/",
     "height": 476
    },
    "id": "2c11116d-33ed-4e59-a06c-33b21cfec0c9",
    "outputId": "61e496e8-0d17-4b34-c56d-9e0476520069"
   },
   "outputs": [
    {
     "data": {
      "image/png": "[encoded data removed]",
      "text/plain": [
       "<Figure size 1008x504 with 1 Axes>"
      ]
     },
     "metadata": {},
     "output_type": "display_data"
    }
   ],
   "source": [
    "#Visualize the forecasting\n",
    "ax = df['2009':].plot(label = 'observed')\n",
    "prediction.predicted_mean.plot(ax = ax, label = 'One-step ahead Forecast', alpha = 0.7, figsize = (14, 7))\n",
    "ax.fill_between(prediction_ci.index, prediction_ci.iloc[:, 0], prediction_ci.iloc[:, 1], color = 'k', alpha = 0.2)\n",
    "ax.set_xlabel(\"year\")\n",
    "ax.set_ylabel('Quarterly Gross Profit')\n",
    "plt.legend()\n",
    "plt.show()"
   ]
  },
  {
   "cell_type": "code",
   "execution_count": 23,
   "id": "84eba1b7-3428-4308-b88e-baf2e078076d",
   "metadata": {
    "colab": {
     "base_uri": "https://localhost:8080/"
    },
    "id": "84eba1b7-3428-4308-b88e-baf2e078076d",
    "outputId": "ec607fbf-283e-4342-a23f-60e787121de2"
   },
   "outputs": [
    {
     "name": "stdout",
     "output_type": "stream",
     "text": [
      "The Mean Squared Error of our forecasts is 3168962.372852964\n",
      "The Root Mean Squared Error of our forecasts is 1780.1579628934517\n"
     ]
    }
   ],
   "source": [
    "# Evaluation metrics are Squared Mean Error(SME) and Root Mean Squared Error(RMSE)\n",
    "\n",
    "from sklearn.metrics import mean_squared_error\n",
    "\n",
    "y_hat = prediction.predicted_mean\n",
    "y_truth = df['2021-03-31':]\n",
    "mse = mean_squared_error(y_truth,y_hat)\n",
    "rmse = np.sqrt(mse)\n",
    "\n",
    "print('The Mean Squared Error of our forecasts is', mse)\n",
    "print('The Root Mean Squared Error of our forecasts is', rmse)"
   ]
  },
  {
   "cell_type": "code",
   "execution_count": 24,
   "id": "f2875852-1ea1-4073-925b-49461847673f",
   "metadata": {
    "colab": {
     "base_uri": "https://localhost:8080/",
     "height": 476
    },
    "id": "f2875852-1ea1-4073-925b-49461847673f",
    "outputId": "8a96c704-c4f6-4f33-fcdb-af180064417e"
   },
   "outputs": [
    {
     "data": {
      "image/png": "[encoded data removed]",
      "text/plain": [
       "<Figure size 1008x504 with 1 Axes>"
      ]
     },
     "metadata": {},
     "output_type": "display_data"
    }
   ],
   "source": [
    "# forcasting for out of sample data\n",
    "pred_uc = result.get_forecast(steps = 10)\n",
    "pred_ci = pred_uc.conf_int()\n",
    "\n",
    "ax = df.plot(label = 'observed', figsize = (14, 7))\n",
    "pred_uc.predicted_mean.plot(ax = ax, label = 'forecast')\n",
    "ax.fill_between(pred_ci.index, pred_ci.iloc[:, 0], pred_ci.iloc[:, 1], color = 'k', alpha = 0.25)\n",
    "ax.set_xlabel('Date')\n",
    "ax.set_ylabel('Quarterly Gross Profit')\n",
    "\n",
    "plt.legend()\n",
    "plt.show()\n"
   ]
  },
  {
   "cell_type": "markdown",
   "id": "PqPVaIyjf7Pu",
   "metadata": {
    "id": "PqPVaIyjf7Pu"
   },
   "source": [
    "## **DNN MODEL**"
   ]
  },
  {
   "cell_type": "code",
   "execution_count": 25,
   "id": "a03f7489-6040-4db4-9810-db30f0b5b12e",
   "metadata": {
    "id": "a03f7489-6040-4db4-9810-db30f0b5b12e"
   },
   "outputs": [],
   "source": [
    "def convert2matrix(data_arr, look_back):\n",
    "    X, Y =[], []\n",
    "    for i in range(len(data_arr)-look_back):\n",
    "        d=i+look_back  \n",
    "        X.append(data_arr[i:d,0])\n",
    "        Y.append(data_arr[d,0])\n",
    "    return np.array(X).astype('int'), np.array(Y).astype('int')"
   ]
  },
  {
   "cell_type": "code",
   "execution_count": 26,
   "id": "lhVAvufYa0gN",
   "metadata": {
    "id": "lhVAvufYa0gN"
   },
   "outputs": [],
   "source": [
    "df=pd.read_excel('Amazon Quarterly Gross Profit.xlsx')\n",
    "\n",
    "df = df.set_index('Date')\n"
   ]
  },
  {
   "cell_type": "code",
   "execution_count": 27,
   "id": "6ys8Cl1u6wH7",
   "metadata": {
    "id": "6ys8Cl1u6wH7"
   },
   "outputs": [],
   "source": [
    "df1 = df\n",
    "#Split data set into testing dataset and train dataset\n",
    "train_size = 49\n",
    "train, test =df1.values[0:train_size,:],df1.values[train_size:len(df1.values),:]\n",
    "# setup look_back window \n",
    "look_back = 4\n",
    "#convert dataset into right shape in order to input into the DNN\n",
    "trainX, trainY = convert2matrix(train, look_back)\n",
    "testX, testY = convert2matrix(test, look_back)"
   ]
  },
  {
   "cell_type": "code",
   "execution_count": 28,
   "id": "yfP2zpFw6xpR",
   "metadata": {
    "id": "yfP2zpFw6xpR"
   },
   "outputs": [],
   "source": [
    "from keras.models import Sequential\n",
    "from keras.layers import Dense\n",
    "def model_dnn(look_back):\n",
    "    model=Sequential()\n",
    "    model.add(Dense(units=32, input_dim=look_back, activation='relu'))\n",
    "    model.add(Dense(8, activation='relu'))\n",
    "    model.add(Dense(1))\n",
    "    model.compile(loss='mean_squared_error',  optimizer='adam',metrics = ['mse', 'mae'])\n",
    "    return model"
   ]
  },
  {
   "cell_type": "code",
   "execution_count": 29,
   "id": "UccjcW0C6zaO",
   "metadata": {
    "colab": {
     "base_uri": "https://localhost:8080/"
    },
    "id": "UccjcW0C6zaO",
    "outputId": "565ece05-4079-4f05-d884-ace60fac2068"
   },
   "outputs": [
    {
     "name": "stdout",
     "output_type": "stream",
     "text": [
      "Epoch 1/500\n",
      "12/12 [==============================] - 1s 16ms/step - loss: 2350840.2500 - mse: 2350840.2500 - mae: 1033.5248 - val_loss: 54679544.0000 - val_mse: 54679544.0000 - val_mae: 7304.3223\n",
      "Epoch 2/500\n",
      "12/12 [==============================] - 0s 4ms/step - loss: 2116283.5000 - mse: 2116283.5000 - mae: 986.0873 - val_loss: 52920608.0000 - val_mse: 52920608.0000 - val_mae: 7196.0234\n",
      "Epoch 3/500\n",
      "12/12 [==============================] - 0s 4ms/step - loss: 1979505.3750 - mse: 1979505.3750 - mae: 952.7255 - val_loss: 49294968.0000 - val_mse: 49294968.0000 - val_mae: 6949.4453\n",
      "Epoch 4/500\n",
      "12/12 [==============================] - 0s 4ms/step - loss: 2070286.6250 - mse: 2070286.6250 - mae: 966.9977 - val_loss: 51020464.0000 - val_mse: 51020464.0000 - val_mae: 7077.1367\n",
      "Epoch 5/500\n",
      "12/12 [==============================] - 0s 3ms/step - loss: 1921211.3750 - mse: 1921211.3750 - mae: 931.6425 - val_loss: 45651016.0000 - val_mse: 45651016.0000 - val_mae: 6691.1348\n",
      "Epoch 6/500\n",
      "12/12 [==============================] - 0s 3ms/step - loss: 2239483.5000 - mse: 2239483.5000 - mae: 992.1248 - val_loss: 52802632.0000 - val_mse: 52802632.0000 - val_mae: 7206.4922\n",
      "Epoch 7/500\n",
      "12/12 [==============================] - 0s 4ms/step - loss: 2012070.0000 - mse: 2012070.0000 - mae: 924.6322 - val_loss: 40377240.0000 - val_mse: 40377240.0000 - val_mae: 6291.1797\n",
      "Epoch 8/500\n",
      "12/12 [==============================] - 0s 3ms/step - loss: 2945465.2500 - mse: 2945465.2500 - mae: 1118.7114 - val_loss: 60719640.0000 - val_mse: 60719640.0000 - val_mae: 7738.8867\n",
      "Epoch 9/500\n",
      "12/12 [==============================] - 0s 4ms/step - loss: 2805959.2500 - mse: 2805959.2500 - mae: 1075.3058 - val_loss: 27984216.0000 - val_mse: 27984216.0000 - val_mae: 5223.4609\n",
      "Epoch 10/500\n",
      "12/12 [==============================] - 0s 4ms/step - loss: 4437286.0000 - mse: 4437286.0000 - mae: 1344.6736 - val_loss: 83513296.0000 - val_mse: 83513296.0000 - val_mae: 9092.9434\n",
      "Epoch 11/500\n",
      "12/12 [==============================] - 0s 4ms/step - loss: 3487213.7500 - mse: 3487213.7500 - mae: 1164.8755 - val_loss: 16127318.0000 - val_mse: 16127318.0000 - val_mae: 3939.4395\n",
      "Epoch 12/500\n",
      "12/12 [==============================] - 0s 4ms/step - loss: 3649455.7500 - mse: 3649455.7500 - mae: 1231.8448 - val_loss: 86688352.0000 - val_mse: 86688352.0000 - val_mae: 9267.8242\n",
      "Epoch 13/500\n",
      "12/12 [==============================] - 0s 3ms/step - loss: 2140277.2500 - mse: 2140277.2500 - mae: 953.9888 - val_loss: 24414680.0000 - val_mse: 24414680.0000 - val_mae: 4879.3691\n",
      "Epoch 14/500\n",
      "12/12 [==============================] - 0s 4ms/step - loss: 2150154.2500 - mse: 2150154.2500 - mae: 945.5101 - val_loss: 59837472.0000 - val_mse: 59837472.0000 - val_mae: 7690.3242\n",
      "Epoch 15/500\n",
      "12/12 [==============================] - 0s 4ms/step - loss: 1796797.0000 - mse: 1796797.0000 - mae: 885.8743 - val_loss: 38578316.0000 - val_mse: 38578316.0000 - val_mae: 6160.9453\n",
      "Epoch 16/500\n",
      "12/12 [==============================] - 0s 4ms/step - loss: 1853755.2500 - mse: 1853755.2500 - mae: 898.7368 - val_loss: 46798488.0000 - val_mse: 46798488.0000 - val_mae: 6794.9160\n",
      "Epoch 17/500\n",
      "12/12 [==============================] - 0s 4ms/step - loss: 1812573.7500 - mse: 1812573.7500 - mae: 891.7693 - val_loss: 43137464.0000 - val_mse: 43137464.0000 - val_mae: 6522.0625\n",
      "Epoch 18/500\n",
      "12/12 [==============================] - 0s 3ms/step - loss: 1816087.5000 - mse: 1816087.5000 - mae: 890.7267 - val_loss: 43770512.0000 - val_mse: 43770512.0000 - val_mae: 6571.6133\n",
      "Epoch 19/500\n",
      "12/12 [==============================] - 0s 4ms/step - loss: 1810390.7500 - mse: 1810390.7500 - mae: 888.8982 - val_loss: 43227104.0000 - val_mse: 43227104.0000 - val_mae: 6531.5898\n",
      "Epoch 20/500\n",
      "12/12 [==============================] - 0s 4ms/step - loss: 1803741.3750 - mse: 1803741.3750 - mae: 886.2995 - val_loss: 42802224.0000 - val_mse: 42802224.0000 - val_mae: 6500.4141\n",
      "Epoch 21/500\n",
      "12/12 [==============================] - 0s 4ms/step - loss: 1800939.5000 - mse: 1800939.5000 - mae: 884.7526 - val_loss: 42590644.0000 - val_mse: 42590644.0000 - val_mae: 6485.5039\n",
      "Epoch 22/500\n",
      "12/12 [==============================] - 0s 3ms/step - loss: 1793646.7500 - mse: 1793646.7500 - mae: 882.0623 - val_loss: 42093060.0000 - val_mse: 42093060.0000 - val_mae: 6448.4707\n",
      "Epoch 23/500\n",
      "12/12 [==============================] - 0s 4ms/step - loss: 1790682.1250 - mse: 1790682.1250 - mae: 880.4269 - val_loss: 41893996.0000 - val_mse: 41893996.0000 - val_mae: 6434.3906\n",
      "Epoch 24/500\n",
      "12/12 [==============================] - 0s 3ms/step - loss: 1783893.3750 - mse: 1783893.3750 - mae: 877.8676 - val_loss: 41443308.0000 - val_mse: 41443308.0000 - val_mae: 6400.6934\n",
      "Epoch 25/500\n",
      "12/12 [==============================] - 0s 3ms/step - loss: 1780588.7500 - mse: 1780588.7500 - mae: 876.0970 - val_loss: 41222888.0000 - val_mse: 41222888.0000 - val_mae: 6384.8164\n",
      "Epoch 26/500\n",
      "12/12 [==============================] - 0s 4ms/step - loss: 1773662.0000 - mse: 1773662.0000 - mae: 873.3795 - val_loss: 40786368.0000 - val_mse: 40786368.0000 - val_mae: 6351.9395\n",
      "Epoch 27/500\n",
      "12/12 [==============================] - 0s 4ms/step - loss: 1770369.2500 - mse: 1770369.2500 - mae: 871.5714 - val_loss: 40574428.0000 - val_mse: 40574428.0000 - val_mae: 6336.5742\n",
      "Epoch 28/500\n",
      "12/12 [==============================] - 0s 4ms/step - loss: 1763773.1250 - mse: 1763773.1250 - mae: 868.9101 - val_loss: 40142968.0000 - val_mse: 40142968.0000 - val_mae: 6303.8086\n",
      "Epoch 29/500\n",
      "12/12 [==============================] - 0s 4ms/step - loss: 1760392.7500 - mse: 1760392.7500 - mae: 867.0761 - val_loss: 39951968.0000 - val_mse: 39951968.0000 - val_mae: 6289.9512\n",
      "Epoch 30/500\n",
      "12/12 [==============================] - 0s 4ms/step - loss: 1753552.1250 - mse: 1753552.1250 - mae: 864.3398 - val_loss: 39541248.0000 - val_mse: 39541248.0000 - val_mae: 6258.5547\n",
      "Epoch 31/500\n",
      "12/12 [==============================] - 0s 3ms/step - loss: 1750779.3750 - mse: 1750779.3750 - mae: 862.6345 - val_loss: 39355696.0000 - val_mse: 39355696.0000 - val_mae: 6244.9902\n",
      "Epoch 32/500\n",
      "12/12 [==============================] - 0s 4ms/step - loss: 1742983.8750 - mse: 1742983.8750 - mae: 859.5154 - val_loss: 38920992.0000 - val_mse: 38920992.0000 - val_mae: 6211.3926\n",
      "Epoch 33/500\n",
      "12/12 [==============================] - 0s 3ms/step - loss: 1742022.8750 - mse: 1742022.8750 - mae: 858.3066 - val_loss: 38796920.0000 - val_mse: 38796920.0000 - val_mae: 6202.6250\n",
      "Epoch 34/500\n",
      "12/12 [==============================] - 0s 4ms/step - loss: 1732143.2500 - mse: 1732143.2500 - mae: 854.5742 - val_loss: 38300256.0000 - val_mse: 38300256.0000 - val_mae: 6163.7344\n",
      "Epoch 35/500\n",
      "12/12 [==============================] - 0s 4ms/step - loss: 1733785.7500 - mse: 1733785.7500 - mae: 854.1643 - val_loss: 38248112.0000 - val_mse: 38248112.0000 - val_mae: 6160.6738\n",
      "Epoch 36/500\n",
      "12/12 [==============================] - 0s 4ms/step - loss: 1718187.3750 - mse: 1718187.3750 - mae: 848.5274 - val_loss: 37535080.0000 - val_mse: 37535080.0000 - val_mae: 6103.7734\n",
      "Epoch 37/500\n",
      "12/12 [==============================] - 0s 4ms/step - loss: 1732136.7500 - mse: 1732136.7500 - mae: 851.7197 - val_loss: 38070960.0000 - val_mse: 38070960.0000 - val_mae: 6148.5391\n",
      "Epoch 38/500\n",
      "12/12 [==============================] - 0s 4ms/step - loss: 1703598.6250 - mse: 1703598.6250 - mae: 842.1688 - val_loss: 36694280.0000 - val_mse: 36694280.0000 - val_mae: 6036.8828\n",
      "Epoch 39/500\n",
      "12/12 [==============================] - 0s 4ms/step - loss: 1733600.5000 - mse: 1733600.5000 - mae: 849.6961 - val_loss: 37912808.0000 - val_mse: 37912808.0000 - val_mae: 6137.8535\n",
      "Epoch 40/500\n",
      "12/12 [==============================] - 0s 4ms/step - loss: 1686869.3750 - mse: 1686869.3750 - mae: 835.5388 - val_loss: 35707408.0000 - val_mse: 35707408.0000 - val_mae: 5956.9023\n",
      "Epoch 41/500\n",
      "12/12 [==============================] - 0s 3ms/step - loss: 1750928.5000 - mse: 1750928.5000 - mae: 850.8889 - val_loss: 38135580.0000 - val_mse: 38135580.0000 - val_mae: 6157.9922\n",
      "Epoch 42/500\n",
      "12/12 [==============================] - 0s 3ms/step - loss: 1670780.5000 - mse: 1670780.5000 - mae: 827.0374 - val_loss: 34260080.0000 - val_mse: 34260080.0000 - val_mae: 5836.4629\n",
      "Epoch 43/500\n"
     ]
    },
    {
     "name": "stdout",
     "output_type": "stream",
     "text": [
      "12/12 [==============================] - 0s 4ms/step - loss: 1813773.1250 - mse: 1813773.1250 - mae: 858.9999 - val_loss: 39127224.0000 - val_mse: 39127224.0000 - val_mae: 6239.7754\n",
      "Epoch 44/500\n",
      "12/12 [==============================] - 0s 7ms/step - loss: 1685321.7500 - mse: 1685321.7500 - mae: 829.9462 - val_loss: 31843666.0000 - val_mse: 31843666.0000 - val_mae: 5628.0352\n",
      "Epoch 45/500\n",
      "12/12 [==============================] - 0s 7ms/step - loss: 2031258.8750 - mse: 2031258.8750 - mae: 900.5487 - val_loss: 41728408.0000 - val_mse: 41728408.0000 - val_mae: 6446.2578\n",
      "Epoch 46/500\n",
      "12/12 [==============================] - 0s 6ms/step - loss: 1889781.1250 - mse: 1889781.1250 - mae: 901.3545 - val_loss: 27558732.0000 - val_mse: 27558732.0000 - val_mae: 5236.0645\n",
      "Epoch 47/500\n",
      "12/12 [==============================] - 0s 5ms/step - loss: 2825526.7500 - mse: 2825526.7500 - mae: 1099.3041 - val_loss: 49002132.0000 - val_mse: 49002132.0000 - val_mae: 6988.4727\n",
      "Epoch 48/500\n",
      "12/12 [==============================] - 0s 4ms/step - loss: 2893641.0000 - mse: 2893641.0000 - mae: 1063.3315 - val_loss: 19060128.0000 - val_mse: 19060128.0000 - val_mae: 4353.2637\n",
      "Epoch 49/500\n",
      "12/12 [==============================] - 0s 4ms/step - loss: 5029130.5000 - mse: 5029130.5000 - mae: 1450.6465 - val_loss: 68752368.0000 - val_mse: 68752368.0000 - val_mae: 8281.4238\n",
      "Epoch 50/500\n",
      "12/12 [==============================] - 0s 4ms/step - loss: 5141246.5000 - mse: 5141246.5000 - mae: 1402.3357 - val_loss: 7124533.5000 - val_mse: 7124533.5000 - val_mae: 2655.1191\n",
      "Epoch 51/500\n",
      "12/12 [==============================] - 0s 4ms/step - loss: 6610322.0000 - mse: 6610322.0000 - mae: 1667.4851 - val_loss: 96451072.0000 - val_mse: 96451072.0000 - val_mae: 9811.4121\n",
      "Epoch 52/500\n",
      "12/12 [==============================] - 0s 4ms/step - loss: 4489898.0000 - mse: 4489898.0000 - mae: 1279.0892 - val_loss: 4625571.0000 - val_mse: 4625571.0000 - val_mae: 2136.0176\n",
      "Epoch 53/500\n",
      "12/12 [==============================] - 0s 3ms/step - loss: 3678225.0000 - mse: 3678225.0000 - mae: 1220.2498 - val_loss: 80481264.0000 - val_mse: 80481264.0000 - val_mae: 8962.0156\n",
      "Epoch 54/500\n",
      "12/12 [==============================] - 0s 4ms/step - loss: 1987127.5000 - mse: 1987127.5000 - mae: 927.2507 - val_loss: 17490918.0000 - val_mse: 17490918.0000 - val_mae: 4172.2148\n",
      "Epoch 55/500\n",
      "12/12 [==============================] - 0s 4ms/step - loss: 1892503.1250 - mse: 1892503.1250 - mae: 860.0000 - val_loss: 48400472.0000 - val_mse: 48400472.0000 - val_mae: 6948.5059\n",
      "Epoch 56/500\n",
      "12/12 [==============================] - 0s 4ms/step - loss: 1631730.6250 - mse: 1631730.6250 - mae: 819.0960 - val_loss: 31689168.0000 - val_mse: 31689168.0000 - val_mae: 5621.0078\n",
      "Epoch 57/500\n",
      "12/12 [==============================] - 0s 4ms/step - loss: 1656192.0000 - mse: 1656192.0000 - mae: 819.6602 - val_loss: 36739788.0000 - val_mse: 36739788.0000 - val_mae: 6053.5840\n",
      "Epoch 58/500\n",
      "12/12 [==============================] - 0s 4ms/step - loss: 1645673.2500 - mse: 1645673.2500 - mae: 818.0038 - val_loss: 35571832.0000 - val_mse: 35571832.0000 - val_mae: 5956.9141\n",
      "Epoch 59/500\n",
      "12/12 [==============================] - 0s 4ms/step - loss: 1634464.3750 - mse: 1634464.3750 - mae: 814.1441 - val_loss: 35025992.0000 - val_mse: 35025992.0000 - val_mae: 5911.4375\n",
      "Epoch 60/500\n",
      "12/12 [==============================] - 0s 3ms/step - loss: 1638868.6250 - mse: 1638868.6250 - mae: 814.1348 - val_loss: 35594400.0000 - val_mse: 35594400.0000 - val_mae: 5959.7188\n",
      "Epoch 61/500\n",
      "12/12 [==============================] - 0s 3ms/step - loss: 1627823.2500 - mse: 1627823.2500 - mae: 811.1656 - val_loss: 34954464.0000 - val_mse: 34954464.0000 - val_mae: 5906.2832\n",
      "Epoch 62/500\n",
      "12/12 [==============================] - 0s 4ms/step - loss: 1631185.2500 - mse: 1631185.2500 - mae: 810.9890 - val_loss: 35351468.0000 - val_mse: 35351468.0000 - val_mae: 5940.1895\n",
      "Epoch 63/500\n",
      "12/12 [==============================] - 0s 3ms/step - loss: 1623751.5000 - mse: 1623751.5000 - mae: 808.9971 - val_loss: 34834520.0000 - val_mse: 34834520.0000 - val_mae: 5896.9727\n",
      "Epoch 64/500\n",
      "12/12 [==============================] - 0s 3ms/step - loss: 1624638.7500 - mse: 1624638.7500 - mae: 808.3718 - val_loss: 35030044.0000 - val_mse: 35030044.0000 - val_mae: 5913.9102\n",
      "Epoch 65/500\n",
      "12/12 [==============================] - 0s 3ms/step - loss: 1619353.1250 - mse: 1619353.1250 - mae: 806.7375 - val_loss: 34699296.0000 - val_mse: 34699296.0000 - val_mae: 5886.2891\n",
      "Epoch 66/500\n",
      "12/12 [==============================] - 0s 3ms/step - loss: 1618730.2500 - mse: 1618730.2500 - mae: 805.8644 - val_loss: 34762288.0000 - val_mse: 34762288.0000 - val_mae: 5892.0000\n",
      "Epoch 67/500\n",
      "12/12 [==============================] - 0s 4ms/step - loss: 1614543.8750 - mse: 1614543.8750 - mae: 804.3984 - val_loss: 34530776.0000 - val_mse: 34530776.0000 - val_mae: 5872.6895\n",
      "Epoch 68/500\n",
      "12/12 [==============================] - 0s 4ms/step - loss: 1613164.6250 - mse: 1613164.6250 - mae: 803.3998 - val_loss: 34551016.0000 - val_mse: 34551016.0000 - val_mae: 5874.6914\n",
      "Epoch 69/500\n",
      "12/12 [==============================] - 0s 3ms/step - loss: 1609491.3750 - mse: 1609491.3750 - mae: 802.0068 - val_loss: 34422848.0000 - val_mse: 34422848.0000 - val_mae: 5863.9609\n",
      "Epoch 70/500\n",
      "12/12 [==============================] - 0s 4ms/step - loss: 1607758.0000 - mse: 1607758.0000 - mae: 800.9457 - val_loss: 34450280.0000 - val_mse: 34450280.0000 - val_mae: 5866.4668\n",
      "Epoch 71/500\n",
      "12/12 [==============================] - 0s 3ms/step - loss: 1604362.5000 - mse: 1604362.5000 - mae: 799.5891 - val_loss: 34342152.0000 - val_mse: 34342152.0000 - val_mae: 5857.4336\n",
      "Epoch 72/500\n",
      "12/12 [==============================] - 0s 4ms/step - loss: 1602467.2500 - mse: 1602467.2500 - mae: 798.5171 - val_loss: 34343488.0000 - val_mse: 34343488.0000 - val_mae: 5857.7363\n",
      "Epoch 73/500\n",
      "12/12 [==============================] - 0s 4ms/step - loss: 1599229.0000 - mse: 1599229.0000 - mae: 797.1945 - val_loss: 34258244.0000 - val_mse: 34258244.0000 - val_mae: 5850.6113\n",
      "Epoch 74/500\n",
      "12/12 [==============================] - 0s 4ms/step - loss: 1597737.1250 - mse: 1597737.1250 - mae: 796.2718 - val_loss: 33892788.0000 - val_mse: 33892788.0000 - val_mae: 5819.9785\n",
      "Epoch 75/500\n",
      "12/12 [==============================] - 0s 4ms/step - loss: 1593758.7500 - mse: 1593758.7500 - mae: 794.5176 - val_loss: 33768008.0000 - val_mse: 33768008.0000 - val_mae: 5809.6699\n",
      "Epoch 76/500\n",
      "12/12 [==============================] - 0s 4ms/step - loss: 1593892.2500 - mse: 1593892.2500 - mae: 793.9476 - val_loss: 33766344.0000 - val_mse: 33766344.0000 - val_mae: 5809.7305\n",
      "Epoch 77/500\n",
      "12/12 [==============================] - 0s 4ms/step - loss: 1586524.2500 - mse: 1586524.2500 - mae: 791.6873 - val_loss: 33405152.0000 - val_mse: 33405152.0000 - val_mae: 5778.7598\n",
      "Epoch 78/500\n",
      "12/12 [==============================] - 0s 4ms/step - loss: 1592144.3750 - mse: 1592144.3750 - mae: 792.2463 - val_loss: 33820392.0000 - val_mse: 33820392.0000 - val_mae: 5814.7324\n",
      "Epoch 79/500\n",
      "12/12 [==============================] - 0s 4ms/step - loss: 1580957.5000 - mse: 1580957.5000 - mae: 789.3783 - val_loss: 33152684.0000 - val_mse: 33152684.0000 - val_mae: 5757.2070\n",
      "Epoch 80/500\n",
      "12/12 [==============================] - 0s 3ms/step - loss: 1587991.1250 - mse: 1587991.1250 - mae: 789.9720 - val_loss: 33689112.0000 - val_mse: 33689112.0000 - val_mae: 5803.7305\n",
      "Epoch 81/500\n",
      "12/12 [==============================] - 0s 4ms/step - loss: 1575469.1250 - mse: 1575469.1250 - mae: 786.8686 - val_loss: 32946868.0000 - val_mse: 32946868.0000 - val_mae: 5739.5684\n",
      "Epoch 82/500\n",
      "12/12 [==============================] - 0s 3ms/step - loss: 1584108.1250 - mse: 1584108.1250 - mae: 787.7561 - val_loss: 33568564.0000 - val_mse: 33568564.0000 - val_mae: 5793.5645\n",
      "Epoch 83/500\n",
      "12/12 [==============================] - 0s 4ms/step - loss: 1569675.3750 - mse: 1569675.3750 - mae: 784.2446 - val_loss: 32722932.0000 - val_mse: 32722932.0000 - val_mae: 5720.2207\n",
      "Epoch 84/500\n",
      "12/12 [==============================] - 0s 3ms/step - loss: 1580939.2500 - mse: 1580939.2500 - mae: 785.6501 - val_loss: 33481068.0000 - val_mse: 33481068.0000 - val_mae: 5786.1680\n",
      "Epoch 85/500\n"
     ]
    },
    {
     "name": "stdout",
     "output_type": "stream",
     "text": [
      "12/12 [==============================] - 0s 4ms/step - loss: 1563444.1250 - mse: 1563444.1250 - mae: 781.5697 - val_loss: 32465204.0000 - val_mse: 32465204.0000 - val_mae: 5697.7715\n",
      "Epoch 86/500\n",
      "12/12 [==============================] - 0s 4ms/step - loss: 1578831.1250 - mse: 1578831.1250 - mae: 783.8268 - val_loss: 33381408.0000 - val_mse: 33381408.0000 - val_mae: 5777.6406\n",
      "Epoch 87/500\n",
      "12/12 [==============================] - 0s 4ms/step - loss: 1555133.8750 - mse: 1555133.8750 - mae: 779.9241 - val_loss: 32044972.0000 - val_mse: 32044972.0000 - val_mae: 5660.8262\n",
      "Epoch 88/500\n",
      "12/12 [==============================] - 0s 3ms/step - loss: 1582728.7500 - mse: 1582728.7500 - mae: 782.9868 - val_loss: 33623968.0000 - val_mse: 33623968.0000 - val_mae: 5798.6172\n",
      "Epoch 89/500\n",
      "12/12 [==============================] - 0s 3ms/step - loss: 1546925.0000 - mse: 1546925.0000 - mae: 781.1005 - val_loss: 31557820.0000 - val_mse: 31557820.0000 - val_mae: 5617.6113\n",
      "Epoch 90/500\n",
      "12/12 [==============================] - 0s 3ms/step - loss: 1588154.1250 - mse: 1588154.1250 - mae: 782.1916 - val_loss: 33737276.0000 - val_mse: 33737276.0000 - val_mae: 5808.3398\n",
      "Epoch 91/500\n",
      "12/12 [==============================] - 0s 4ms/step - loss: 1538143.8750 - mse: 1538143.8750 - mae: 783.1550 - val_loss: 30934982.0000 - val_mse: 30934982.0000 - val_mae: 5561.8008\n",
      "Epoch 92/500\n",
      "12/12 [==============================] - 0s 4ms/step - loss: 1605263.1250 - mse: 1605263.1250 - mae: 782.4348 - val_loss: 34364936.0000 - val_mse: 34364936.0000 - val_mae: 5862.0273\n",
      "Epoch 93/500\n",
      "12/12 [==============================] - 0s 3ms/step - loss: 1531191.5000 - mse: 1531191.5000 - mae: 787.3316 - val_loss: 29989972.0000 - val_mse: 29989972.0000 - val_mae: 5476.0020\n",
      "Epoch 94/500\n",
      "12/12 [==============================] - 0s 3ms/step - loss: 1642475.0000 - mse: 1642475.0000 - mae: 785.7515 - val_loss: 35155584.0000 - val_mse: 35155584.0000 - val_mae: 5928.9375\n",
      "Epoch 95/500\n",
      "12/12 [==============================] - 0s 3ms/step - loss: 1537141.3750 - mse: 1537141.3750 - mae: 796.5504 - val_loss: 28531324.0000 - val_mse: 28531324.0000 - val_mae: 5340.8730\n",
      "Epoch 96/500\n",
      "12/12 [==============================] - 0s 4ms/step - loss: 1740437.5000 - mse: 1740437.5000 - mae: 806.6536 - val_loss: 37011632.0000 - val_mse: 37011632.0000 - val_mae: 6083.2891\n",
      "Epoch 97/500\n",
      "12/12 [==============================] - 0s 3ms/step - loss: 1593064.5000 - mse: 1593064.5000 - mae: 826.7156 - val_loss: 26186858.0000 - val_mse: 26186858.0000 - val_mae: 5116.2656\n",
      "Epoch 98/500\n",
      "12/12 [==============================] - 0s 4ms/step - loss: 1982809.1250 - mse: 1982809.1250 - mae: 890.4379 - val_loss: 40516944.0000 - val_mse: 40516944.0000 - val_mae: 6364.7676\n",
      "Epoch 99/500\n",
      "12/12 [==============================] - 0s 4ms/step - loss: 1804942.2500 - mse: 1804942.2500 - mae: 883.8014 - val_loss: 22631644.0000 - val_mse: 22631644.0000 - val_mae: 4755.8281\n",
      "Epoch 100/500\n",
      "12/12 [==============================] - 0s 3ms/step - loss: 2563689.0000 - mse: 2563689.0000 - mae: 1034.7997 - val_loss: 47377112.0000 - val_mse: 47377112.0000 - val_mae: 6882.7500\n",
      "Epoch 101/500\n",
      "12/12 [==============================] - 0s 4ms/step - loss: 2386165.2500 - mse: 2386165.2500 - mae: 979.4210 - val_loss: 17152788.0000 - val_mse: 17152788.0000 - val_mae: 4139.5469\n",
      "Epoch 102/500\n",
      "12/12 [==============================] - 0s 4ms/step - loss: 3598536.2500 - mse: 3598536.2500 - mae: 1219.7355 - val_loss: 58987988.0000 - val_mse: 58987988.0000 - val_mae: 7680.1621\n",
      "Epoch 103/500\n",
      "12/12 [==============================] - 0s 3ms/step - loss: 3225727.2500 - mse: 3225727.2500 - mae: 1090.3835 - val_loss: 11339652.0000 - val_mse: 11339652.0000 - val_mae: 3364.5508\n",
      "Epoch 104/500\n",
      "12/12 [==============================] - 0s 3ms/step - loss: 4289916.5000 - mse: 4289916.5000 - mae: 1318.9806 - val_loss: 72542928.0000 - val_mse: 72542928.0000 - val_mae: 8517.1797\n",
      "Epoch 105/500\n",
      "12/12 [==============================] - 0s 4ms/step - loss: 3149899.0000 - mse: 3149899.0000 - mae: 1067.5704 - val_loss: 9713796.0000 - val_mse: 9713796.0000 - val_mae: 3113.2734\n",
      "Epoch 106/500\n",
      "12/12 [==============================] - 0s 4ms/step - loss: 3412482.2500 - mse: 3412482.2500 - mae: 1169.4673 - val_loss: 69087888.0000 - val_mse: 69087888.0000 - val_mae: 8311.8066\n",
      "Epoch 107/500\n",
      "12/12 [==============================] - 0s 4ms/step - loss: 2184255.5000 - mse: 2184255.5000 - mae: 949.0997 - val_loss: 14455364.0000 - val_mse: 14455364.0000 - val_mae: 3798.3242\n",
      "Epoch 108/500\n",
      "12/12 [==============================] - 0s 3ms/step - loss: 2263511.7500 - mse: 2263511.7500 - mae: 949.3614 - val_loss: 54045960.0000 - val_mse: 54045960.0000 - val_mae: 7350.9414\n",
      "Epoch 109/500\n",
      "12/12 [==============================] - 0s 3ms/step - loss: 1639283.5000 - mse: 1639283.5000 - mae: 845.5387 - val_loss: 21880282.0000 - val_mse: 21880282.0000 - val_mae: 4674.7969\n",
      "Epoch 110/500\n",
      "12/12 [==============================] - 0s 4ms/step - loss: 1752593.2500 - mse: 1752593.2500 - mae: 803.6225 - val_loss: 41766672.0000 - val_mse: 41766672.0000 - val_mae: 6461.4219\n",
      "Epoch 111/500\n",
      "12/12 [==============================] - 0s 3ms/step - loss: 1518308.2500 - mse: 1518308.2500 - mae: 797.2779 - val_loss: 26972744.0000 - val_mse: 26972744.0000 - val_mae: 5190.9277\n",
      "Epoch 112/500\n",
      "12/12 [==============================] - 0s 4ms/step - loss: 1632051.8750 - mse: 1632051.8750 - mae: 775.9274 - val_loss: 37489008.0000 - val_mse: 37489008.0000 - val_mae: 6120.9473\n",
      "Epoch 113/500\n",
      "12/12 [==============================] - 0s 4ms/step - loss: 1505898.5000 - mse: 1505898.5000 - mae: 785.6373 - val_loss: 28756436.0000 - val_mse: 28756436.0000 - val_mae: 5359.6055\n",
      "Epoch 114/500\n",
      "12/12 [==============================] - 0s 4ms/step - loss: 1579373.0000 - mse: 1579373.0000 - mae: 767.3798 - val_loss: 35187880.0000 - val_mse: 35187880.0000 - val_mae: 5929.4707\n",
      "Epoch 115/500\n",
      "12/12 [==============================] - 0s 3ms/step - loss: 1496774.8750 - mse: 1496774.8750 - mae: 778.8925 - val_loss: 29663604.0000 - val_mse: 29663604.0000 - val_mae: 5443.1406\n",
      "Epoch 116/500\n",
      "12/12 [==============================] - 0s 4ms/step - loss: 1565099.8750 - mse: 1565099.8750 - mae: 764.7284 - val_loss: 34659220.0000 - val_mse: 34659220.0000 - val_mae: 5884.2305\n",
      "Epoch 117/500\n",
      "12/12 [==============================] - 0s 4ms/step - loss: 1491957.5000 - mse: 1491957.5000 - mae: 776.8978 - val_loss: 29855968.0000 - val_mse: 29855968.0000 - val_mae: 5460.2324\n",
      "Epoch 118/500\n",
      "12/12 [==============================] - 0s 4ms/step - loss: 1559308.2500 - mse: 1559308.2500 - mae: 763.3243 - val_loss: 34379904.0000 - val_mse: 34379904.0000 - val_mae: 5859.9062\n",
      "Epoch 119/500\n",
      "12/12 [==============================] - 0s 4ms/step - loss: 1488533.3750 - mse: 1488533.3750 - mae: 776.7181 - val_loss: 29756648.0000 - val_mse: 29756648.0000 - val_mae: 5450.5078\n",
      "Epoch 120/500\n",
      "12/12 [==============================] - 0s 3ms/step - loss: 1558464.7500 - mse: 1558464.7500 - mae: 762.5186 - val_loss: 34304064.0000 - val_mse: 34304064.0000 - val_mae: 5852.8594\n",
      "Epoch 121/500\n",
      "12/12 [==============================] - 0s 4ms/step - loss: 1484749.1250 - mse: 1484749.1250 - mae: 777.3650 - val_loss: 29516336.0000 - val_mse: 29516336.0000 - val_mae: 5427.7383\n",
      "Epoch 122/500\n",
      "12/12 [==============================] - 0s 4ms/step - loss: 1562476.6250 - mse: 1562476.6250 - mae: 762.4881 - val_loss: 34421888.0000 - val_mse: 34421888.0000 - val_mae: 5862.3203\n",
      "Epoch 123/500\n",
      "12/12 [==============================] - 0s 4ms/step - loss: 1481177.3750 - mse: 1481177.3750 - mae: 778.8898 - val_loss: 29147964.0000 - val_mse: 29147964.0000 - val_mae: 5392.9531\n",
      "Epoch 124/500\n",
      "12/12 [==============================] - 0s 3ms/step - loss: 1571769.2500 - mse: 1571769.2500 - mae: 763.2217 - val_loss: 34661496.0000 - val_mse: 34661496.0000 - val_mae: 5882.0996\n",
      "Epoch 125/500\n",
      "12/12 [==============================] - 0s 3ms/step - loss: 1478832.0000 - mse: 1478832.0000 - mae: 781.5444 - val_loss: 28623736.0000 - val_mse: 28623736.0000 - val_mae: 5343.3184\n",
      "Epoch 126/500\n",
      "12/12 [==============================] - 0s 4ms/step - loss: 1591214.0000 - mse: 1591214.0000 - mae: 767.0117 - val_loss: 35186252.0000 - val_mse: 35186252.0000 - val_mae: 5925.9141\n"
     ]
    },
    {
     "name": "stdout",
     "output_type": "stream",
     "text": [
      "Epoch 127/500\n",
      "12/12 [==============================] - 0s 3ms/step - loss: 1479616.7500 - mse: 1479616.7500 - mae: 785.7370 - val_loss: 27877766.0000 - val_mse: 27877766.0000 - val_mae: 5272.1660\n",
      "Epoch 128/500\n",
      "12/12 [==============================] - 0s 3ms/step - loss: 1624152.7500 - mse: 1624152.7500 - mae: 773.9398 - val_loss: 35857352.0000 - val_mse: 35857352.0000 - val_mae: 5981.6465\n",
      "Epoch 129/500\n",
      "12/12 [==============================] - 0s 3ms/step - loss: 1489361.7500 - mse: 1489361.7500 - mae: 792.3893 - val_loss: 26835990.0000 - val_mse: 26835990.0000 - val_mae: 5171.4512\n",
      "Epoch 130/500\n",
      "12/12 [==============================] - 0s 5ms/step - loss: 1687350.6250 - mse: 1687350.6250 - mae: 790.0201 - val_loss: 37130512.0000 - val_mse: 37130512.0000 - val_mae: 6086.5703\n",
      "Epoch 131/500\n",
      "12/12 [==============================] - 0s 4ms/step - loss: 1518930.0000 - mse: 1518930.0000 - mae: 809.8471 - val_loss: 25416320.0000 - val_mse: 25416320.0000 - val_mae: 5031.2363\n",
      "Epoch 132/500\n",
      "12/12 [==============================] - 0s 4ms/step - loss: 1800138.6250 - mse: 1800138.6250 - mae: 826.8343 - val_loss: 39123032.0000 - val_mse: 39123032.0000 - val_mae: 6247.6191\n",
      "Epoch 133/500\n",
      "12/12 [==============================] - 0s 4ms/step - loss: 1587743.8750 - mse: 1587743.8750 - mae: 834.1091 - val_loss: 23507558.0000 - val_mse: 23507558.0000 - val_mae: 4836.6094\n",
      "Epoch 134/500\n",
      "12/12 [==============================] - 0s 4ms/step - loss: 1989327.2500 - mse: 1989327.2500 - mae: 886.6666 - val_loss: 42055516.0000 - val_mse: 42055516.0000 - val_mae: 6477.6973\n",
      "Epoch 135/500\n",
      "12/12 [==============================] - 0s 4ms/step - loss: 1720758.8750 - mse: 1720758.8750 - mae: 864.9133 - val_loss: 21130208.0000 - val_mse: 21130208.0000 - val_mae: 4582.9219\n",
      "Epoch 136/500\n",
      "12/12 [==============================] - 0s 4ms/step - loss: 2278284.2500 - mse: 2278284.2500 - mae: 960.3408 - val_loss: 46919312.0000 - val_mse: 46919312.0000 - val_mae: 6842.6914\n",
      "Epoch 137/500\n",
      "12/12 [==============================] - 0s 4ms/step - loss: 1872731.0000 - mse: 1872731.0000 - mae: 894.5391 - val_loss: 18565664.0000 - val_mse: 18565664.0000 - val_mae: 4292.5645\n",
      "Epoch 138/500\n",
      "12/12 [==============================] - 0s 4ms/step - loss: 2377302.0000 - mse: 2377302.0000 - mae: 981.2599 - val_loss: 50381744.0000 - val_mse: 50381744.0000 - val_mae: 7092.6445\n",
      "Epoch 139/500\n",
      "12/12 [==============================] - 0s 4ms/step - loss: 1889321.6250 - mse: 1889321.6250 - mae: 896.5903 - val_loss: 18684608.0000 - val_mse: 18684608.0000 - val_mae: 4309.3789\n",
      "Epoch 140/500\n",
      "12/12 [==============================] - 0s 4ms/step - loss: 2365950.7500 - mse: 2365950.7500 - mae: 977.4630 - val_loss: 50889640.0000 - val_mse: 50889640.0000 - val_mae: 7127.6348\n",
      "Epoch 141/500\n",
      "12/12 [==============================] - 0s 4ms/step - loss: 1831367.8750 - mse: 1831367.8750 - mae: 885.3519 - val_loss: 18764008.0000 - val_mse: 18764008.0000 - val_mae: 4314.7520\n",
      "Epoch 142/500\n",
      "12/12 [==============================] - 0s 4ms/step - loss: 2198522.7500 - mse: 2198522.7500 - mae: 936.2233 - val_loss: 48545928.0000 - val_mse: 48545928.0000 - val_mae: 6959.5059\n",
      "Epoch 143/500\n",
      "12/12 [==============================] - 0s 3ms/step - loss: 1722921.6250 - mse: 1722921.6250 - mae: 865.4179 - val_loss: 19828638.0000 - val_mse: 19828638.0000 - val_mae: 4435.4395\n",
      "Epoch 144/500\n",
      "12/12 [==============================] - 0s 3ms/step - loss: 2067397.7500 - mse: 2067397.7500 - mae: 901.3538 - val_loss: 46097544.0000 - val_mse: 46097544.0000 - val_mae: 6780.6602\n",
      "Epoch 145/500\n",
      "12/12 [==============================] - 0s 4ms/step - loss: 1642533.8750 - mse: 1642533.8750 - mae: 849.2856 - val_loss: 20651280.0000 - val_mse: 20651280.0000 - val_mae: 4526.5684\n",
      "Epoch 146/500\n",
      "12/12 [==============================] - 0s 4ms/step - loss: 1904100.7500 - mse: 1904100.7500 - mae: 853.1807 - val_loss: 42254912.0000 - val_mse: 42254912.0000 - val_mae: 6490.2930\n",
      "Epoch 147/500\n",
      "12/12 [==============================] - 0s 4ms/step - loss: 1600195.7500 - mse: 1600195.7500 - mae: 839.3392 - val_loss: 22035856.0000 - val_mse: 22035856.0000 - val_mae: 4676.5820\n",
      "Epoch 148/500\n",
      "12/12 [==============================] - 0s 4ms/step - loss: 1962853.5000 - mse: 1962853.5000 - mae: 875.5941 - val_loss: 42845304.0000 - val_mse: 42845304.0000 - val_mae: 6535.1172\n",
      "Epoch 149/500\n",
      "12/12 [==============================] - 0s 4ms/step - loss: 1645888.3750 - mse: 1645888.3750 - mae: 850.0339 - val_loss: 21102184.0000 - val_mse: 21102184.0000 - val_mae: 4574.5156\n",
      "Epoch 150/500\n",
      "12/12 [==============================] - 0s 4ms/step - loss: 2041393.7500 - mse: 2041393.7500 - mae: 896.3953 - val_loss: 44314088.0000 - val_mse: 44314088.0000 - val_mae: 6646.1035\n",
      "Epoch 151/500\n",
      "12/12 [==============================] - 0s 3ms/step - loss: 1679412.1250 - mse: 1679412.1250 - mae: 857.3012 - val_loss: 20432944.0000 - val_mse: 20432944.0000 - val_mae: 4499.6816\n",
      "Epoch 152/500\n",
      "12/12 [==============================] - 0s 4ms/step - loss: 2074017.6250 - mse: 2074017.6250 - mae: 905.3127 - val_loss: 44740240.0000 - val_mse: 44740240.0000 - val_mae: 6677.6289\n",
      "Epoch 153/500\n",
      "12/12 [==============================] - 0s 4ms/step - loss: 1710826.2500 - mse: 1710826.2500 - mae: 863.7878 - val_loss: 19847122.0000 - val_mse: 19847122.0000 - val_mae: 4433.1641\n",
      "Epoch 154/500\n",
      "12/12 [==============================] - 0s 4ms/step - loss: 2139393.7500 - mse: 2139393.7500 - mae: 922.1223 - val_loss: 45901404.0000 - val_mse: 45901404.0000 - val_mae: 6763.6230\n",
      "Epoch 155/500\n",
      "12/12 [==============================] - 0s 4ms/step - loss: 1739512.0000 - mse: 1739512.0000 - mae: 869.0421 - val_loss: 19288796.0000 - val_mse: 19288796.0000 - val_mae: 4368.7227\n",
      "Epoch 156/500\n",
      "12/12 [==============================] - 0s 4ms/step - loss: 2167139.2500 - mse: 2167139.2500 - mae: 926.9858 - val_loss: 46851736.0000 - val_mse: 46851736.0000 - val_mae: 6833.1289\n",
      "Epoch 157/500\n",
      "12/12 [==============================] - 0s 4ms/step - loss: 1726467.0000 - mse: 1726467.0000 - mae: 866.8722 - val_loss: 19377928.0000 - val_mse: 19377928.0000 - val_mae: 4378.1035\n",
      "Epoch 158/500\n",
      "12/12 [==============================] - 0s 4ms/step - loss: 2114551.7500 - mse: 2114551.7500 - mae: 913.1957 - val_loss: 46225552.0000 - val_mse: 46225552.0000 - val_mae: 6786.6660\n",
      "Epoch 159/500\n",
      "12/12 [==============================] - 0s 4ms/step - loss: 1692922.8750 - mse: 1692922.8750 - mae: 860.5302 - val_loss: 19661362.0000 - val_mse: 19661362.0000 - val_mae: 4409.6953\n",
      "Epoch 160/500\n",
      "12/12 [==============================] - 0s 4ms/step - loss: 2059171.2500 - mse: 2059171.2500 - mae: 897.6227 - val_loss: 45608392.0000 - val_mse: 45608392.0000 - val_mae: 6740.4844\n",
      "Epoch 161/500\n",
      "12/12 [==============================] - 0s 4ms/step - loss: 1650987.2500 - mse: 1650987.2500 - mae: 851.7515 - val_loss: 20247472.0000 - val_mse: 20247472.0000 - val_mae: 4474.9590\n",
      "Epoch 162/500\n",
      "12/12 [==============================] - 0s 4ms/step - loss: 1966721.1250 - mse: 1966721.1250 - mae: 872.1942 - val_loss: 44177752.0000 - val_mse: 44177752.0000 - val_mae: 6632.8809\n",
      "Epoch 163/500\n",
      "12/12 [==============================] - 0s 4ms/step - loss: 1598191.8750 - mse: 1598191.8750 - mae: 839.7266 - val_loss: 21165268.0000 - val_mse: 21165268.0000 - val_mae: 4575.7500\n",
      "Epoch 164/500\n",
      "12/12 [==============================] - 0s 3ms/step - loss: 1905446.6250 - mse: 1905446.6250 - mae: 855.1055 - val_loss: 43108060.0000 - val_mse: 43108060.0000 - val_mae: 6551.0273\n",
      "Epoch 165/500\n",
      "12/12 [==============================] - 0s 3ms/step - loss: 1563930.1250 - mse: 1563930.1250 - mae: 830.5615 - val_loss: 21741038.0000 - val_mse: 21741038.0000 - val_mae: 4637.3984\n",
      "Epoch 166/500\n",
      "12/12 [==============================] - 0s 4ms/step - loss: 1824518.0000 - mse: 1824518.0000 - mae: 832.0270 - val_loss: 41383728.0000 - val_mse: 41383728.0000 - val_mae: 6417.2461\n",
      "Epoch 167/500\n",
      "12/12 [==============================] - 0s 3ms/step - loss: 1535678.6250 - mse: 1535678.6250 - mae: 822.5527 - val_loss: 22658078.0000 - val_mse: 22658078.0000 - val_mae: 4734.5391\n",
      "Epoch 168/500\n",
      "12/12 [==============================] - 0s 4ms/step - loss: 1817239.1250 - mse: 1817239.1250 - mae: 831.3900 - val_loss: 41114152.0000 - val_mse: 41114152.0000 - val_mae: 6395.4844\n"
     ]
    },
    {
     "name": "stdout",
     "output_type": "stream",
     "text": [
      "Epoch 169/500\n",
      "12/12 [==============================] - 0s 4ms/step - loss: 1533584.5000 - mse: 1533584.5000 - mae: 821.8983 - val_loss: 22694564.0000 - val_mse: 22694564.0000 - val_mae: 4737.3320\n",
      "Epoch 170/500\n",
      "12/12 [==============================] - 0s 4ms/step - loss: 1819533.8750 - mse: 1819533.8750 - mae: 831.1256 - val_loss: 41209248.0000 - val_mse: 41209248.0000 - val_mae: 6402.1836\n",
      "Epoch 171/500\n",
      "12/12 [==============================] - 0s 4ms/step - loss: 1529140.5000 - mse: 1529140.5000 - mae: 820.4999 - val_loss: 22717960.0000 - val_mse: 22717960.0000 - val_mae: 4738.7227\n",
      "Epoch 172/500\n",
      "12/12 [==============================] - 0s 3ms/step - loss: 1813343.5000 - mse: 1813343.5000 - mae: 828.0430 - val_loss: 41075336.0000 - val_mse: 41075336.0000 - val_mae: 6390.9570\n",
      "Epoch 173/500\n",
      "12/12 [==============================] - 0s 3ms/step - loss: 1525461.0000 - mse: 1525461.0000 - mae: 819.2305 - val_loss: 22600224.0000 - val_mse: 22600224.0000 - val_mae: 4725.2168\n",
      "Epoch 174/500\n",
      "12/12 [==============================] - 0s 4ms/step - loss: 1782748.1250 - mse: 1782748.1250 - mae: 819.7896 - val_loss: 40409440.0000 - val_mse: 40409440.0000 - val_mae: 6337.8906\n",
      "Epoch 175/500\n",
      "12/12 [==============================] - 0s 4ms/step - loss: 1515733.7500 - mse: 1515733.7500 - mae: 816.7504 - val_loss: 23008460.0000 - val_mse: 23008460.0000 - val_mae: 4767.3223\n",
      "Epoch 176/500\n",
      "12/12 [==============================] - 0s 3ms/step - loss: 1800381.8750 - mse: 1800381.8750 - mae: 826.5653 - val_loss: 40533976.0000 - val_mse: 40533976.0000 - val_mae: 6346.9668\n",
      "Epoch 177/500\n",
      "12/12 [==============================] - 0s 4ms/step - loss: 1529375.1250 - mse: 1529375.1250 - mae: 820.9788 - val_loss: 22655992.0000 - val_mse: 22655992.0000 - val_mae: 4729.0059\n",
      "Epoch 178/500\n",
      "12/12 [==============================] - 0s 4ms/step - loss: 1835312.7500 - mse: 1835312.7500 - mae: 836.3539 - val_loss: 41203848.0000 - val_mse: 41203848.0000 - val_mae: 6398.8516\n",
      "Epoch 179/500\n",
      "12/12 [==============================] - 0s 4ms/step - loss: 1542238.7500 - mse: 1542238.7500 - mae: 824.7173 - val_loss: 22270880.0000 - val_mse: 22270880.0000 - val_mae: 4686.9062\n",
      "Epoch 180/500\n",
      "12/12 [==============================] - 0s 4ms/step - loss: 1863525.1250 - mse: 1863525.1250 - mae: 843.3563 - val_loss: 41740240.0000 - val_mse: 41740240.0000 - val_mae: 6439.9727\n",
      "Epoch 181/500\n",
      "12/12 [==============================] - 0s 3ms/step - loss: 1552648.1250 - mse: 1552648.1250 - mae: 827.5047 - val_loss: 21907872.0000 - val_mse: 21907872.0000 - val_mae: 4646.8828\n",
      "Epoch 182/500\n",
      "12/12 [==============================] - 0s 4ms/step - loss: 1864702.2500 - mse: 1864702.2500 - mae: 844.4052 - val_loss: 41748308.0000 - val_mse: 41748308.0000 - val_mae: 6439.9668\n",
      "Epoch 183/500\n",
      "12/12 [==============================] - 0s 4ms/step - loss: 1558643.2500 - mse: 1558643.2500 - mae: 829.4932 - val_loss: 21705650.0000 - val_mse: 21705650.0000 - val_mae: 4624.0566\n",
      "Epoch 184/500\n",
      "12/12 [==============================] - 0s 4ms/step - loss: 1894321.6250 - mse: 1894321.6250 - mae: 852.9989 - val_loss: 42216716.0000 - val_mse: 42216716.0000 - val_mae: 6475.6094\n",
      "Epoch 185/500\n",
      "12/12 [==============================] - 0s 4ms/step - loss: 1572778.5000 - mse: 1572778.5000 - mae: 833.0350 - val_loss: 21448396.0000 - val_mse: 21448396.0000 - val_mae: 4595.0137\n",
      "Epoch 186/500\n",
      "12/12 [==============================] - 0s 3ms/step - loss: 1928831.8750 - mse: 1928831.8750 - mae: 860.8865 - val_loss: 42913608.0000 - val_mse: 42913608.0000 - val_mae: 6528.6055\n",
      "Epoch 187/500\n",
      "12/12 [==============================] - 0s 4ms/step - loss: 1587122.6250 - mse: 1587122.6250 - mae: 836.4241 - val_loss: 20961168.0000 - val_mse: 20961168.0000 - val_mae: 4540.5430\n",
      "Epoch 188/500\n",
      "12/12 [==============================] - 0s 6ms/step - loss: 1914353.3750 - mse: 1914353.3750 - mae: 857.2802 - val_loss: 42701352.0000 - val_mse: 42701352.0000 - val_mae: 6511.7305\n",
      "Epoch 189/500\n",
      "12/12 [==============================] - 0s 4ms/step - loss: 1581024.0000 - mse: 1581024.0000 - mae: 835.2841 - val_loss: 21067044.0000 - val_mse: 21067044.0000 - val_mae: 4551.3281\n",
      "Epoch 190/500\n",
      "12/12 [==============================] - 0s 4ms/step - loss: 1932787.2500 - mse: 1932787.2500 - mae: 862.6748 - val_loss: 42908856.0000 - val_mse: 42908856.0000 - val_mae: 6527.0430\n",
      "Epoch 191/500\n",
      "12/12 [==============================] - 0s 3ms/step - loss: 1592332.2500 - mse: 1592332.2500 - mae: 837.7777 - val_loss: 20814432.0000 - val_mse: 20814432.0000 - val_mae: 4522.4375\n",
      "Epoch 192/500\n",
      "12/12 [==============================] - 0s 4ms/step - loss: 1951240.0000 - mse: 1951240.0000 - mae: 866.4439 - val_loss: 43435000.0000 - val_mse: 43435000.0000 - val_mae: 6566.6992\n",
      "Epoch 193/500\n",
      "12/12 [==============================] - 0s 4ms/step - loss: 1590503.2500 - mse: 1590503.2500 - mae: 837.3203 - val_loss: 20667212.0000 - val_mse: 20667212.0000 - val_mae: 4505.1602\n",
      "Epoch 194/500\n",
      "12/12 [==============================] - 0s 3ms/step - loss: 1915145.3750 - mse: 1915145.3750 - mae: 857.5375 - val_loss: 42830504.0000 - val_mse: 42830504.0000 - val_mae: 6519.9043\n",
      "Epoch 195/500\n",
      "12/12 [==============================] - 0s 3ms/step - loss: 1572005.1250 - mse: 1572005.1250 - mae: 833.3726 - val_loss: 21136858.0000 - val_mse: 21136858.0000 - val_mae: 4556.2910\n",
      "Epoch 196/500\n",
      "12/12 [==============================] - 0s 4ms/step - loss: 1919307.0000 - mse: 1919307.0000 - mae: 858.7948 - val_loss: 42819872.0000 - val_mse: 42819872.0000 - val_mae: 6518.4492\n",
      "Epoch 197/500\n",
      "12/12 [==============================] - 0s 3ms/step - loss: 1578447.5000 - mse: 1578447.5000 - mae: 834.6832 - val_loss: 20914748.0000 - val_mse: 20914748.0000 - val_mae: 4530.8125\n",
      "Epoch 198/500\n",
      "12/12 [==============================] - 0s 3ms/step - loss: 1918466.2500 - mse: 1918466.2500 - mae: 857.0289 - val_loss: 43142696.0000 - val_mse: 43142696.0000 - val_mae: 6542.5918\n",
      "Epoch 199/500\n",
      "12/12 [==============================] - 0s 4ms/step - loss: 1562238.0000 - mse: 1562238.0000 - mae: 830.6910 - val_loss: 21034440.0000 - val_mse: 21034440.0000 - val_mae: 4543.0703\n",
      "Epoch 200/500\n",
      "12/12 [==============================] - 0s 4ms/step - loss: 1860063.2500 - mse: 1860063.2500 - mae: 841.3334 - val_loss: 41993920.0000 - val_mse: 41993920.0000 - val_mae: 6453.4512\n",
      "Epoch 201/500\n",
      "12/12 [==============================] - 0s 3ms/step - loss: 1539961.2500 - mse: 1539961.2500 - mae: 825.1976 - val_loss: 21555636.0000 - val_mse: 21555636.0000 - val_mae: 4599.3867\n",
      "Epoch 202/500\n",
      "12/12 [==============================] - 0s 4ms/step - loss: 1852164.7500 - mse: 1852164.7500 - mae: 840.2283 - val_loss: 41804880.0000 - val_mse: 41804880.0000 - val_mae: 6438.1113\n",
      "Epoch 203/500\n",
      "12/12 [==============================] - 0s 4ms/step - loss: 1534414.6250 - mse: 1534414.6250 - mae: 823.6483 - val_loss: 21630628.0000 - val_mse: 21630628.0000 - val_mae: 4606.5215\n",
      "Epoch 204/500\n",
      "12/12 [==============================] - 0s 3ms/step - loss: 1843459.8750 - mse: 1843459.8750 - mae: 836.9744 - val_loss: 41766632.0000 - val_mse: 41766632.0000 - val_mae: 6434.4375\n",
      "Epoch 205/500\n",
      "12/12 [==============================] - 0s 4ms/step - loss: 1521970.2500 - mse: 1521970.2500 - mae: 820.1064 - val_loss: 21735956.0000 - val_mse: 21735956.0000 - val_mae: 4616.9414\n",
      "Epoch 206/500\n",
      "12/12 [==============================] - 0s 4ms/step - loss: 1795094.0000 - mse: 1795094.0000 - mae: 823.9922 - val_loss: 40734608.0000 - val_mse: 40734608.0000 - val_mae: 6352.9219\n",
      "Epoch 207/500\n",
      "12/12 [==============================] - 0s 4ms/step - loss: 1506892.1250 - mse: 1506892.1250 - mae: 816.1301 - val_loss: 22307810.0000 - val_mse: 22307810.0000 - val_mae: 4677.7012\n",
      "Epoch 208/500\n",
      "12/12 [==============================] - 0s 3ms/step - loss: 1805516.1250 - mse: 1805516.1250 - mae: 828.0061 - val_loss: 40644568.0000 - val_mse: 40644568.0000 - val_mae: 6345.0957\n",
      "Epoch 209/500\n",
      "12/12 [==============================] - 0s 4ms/step - loss: 1520162.2500 - mse: 1520162.2500 - mae: 819.7880 - val_loss: 22021400.0000 - val_mse: 22021400.0000 - val_mae: 4645.8535\n",
      "Epoch 210/500\n",
      "12/12 [==============================] - 0s 4ms/step - loss: 1837201.2500 - mse: 1837201.2500 - mae: 836.4510 - val_loss: 41395140.0000 - val_mse: 41395140.0000 - val_mae: 6403.3848\n"
     ]
    },
    {
     "name": "stdout",
     "output_type": "stream",
     "text": [
      "Epoch 211/500\n",
      "12/12 [==============================] - 0s 4ms/step - loss: 1527468.7500 - mse: 1527468.7500 - mae: 821.7844 - val_loss: 21670938.0000 - val_mse: 21670938.0000 - val_mae: 4606.8027\n",
      "Epoch 212/500\n",
      "12/12 [==============================] - 0s 3ms/step - loss: 1840679.5000 - mse: 1840679.5000 - mae: 835.9934 - val_loss: 41678400.0000 - val_mse: 41678400.0000 - val_mae: 6424.8047\n",
      "Epoch 213/500\n",
      "12/12 [==============================] - 0s 4ms/step - loss: 1519518.2500 - mse: 1519518.2500 - mae: 819.5363 - val_loss: 21700344.0000 - val_mse: 21700344.0000 - val_mae: 4608.9766\n",
      "Epoch 214/500\n",
      "12/12 [==============================] - 0s 4ms/step - loss: 1801333.3750 - mse: 1801333.3750 - mae: 825.7284 - val_loss: 40774140.0000 - val_mse: 40774140.0000 - val_mae: 6353.2617\n",
      "Epoch 215/500\n",
      "12/12 [==============================] - 0s 4ms/step - loss: 1507701.5000 - mse: 1507701.5000 - mae: 816.5569 - val_loss: 22135392.0000 - val_mse: 22135392.0000 - val_mae: 4655.1719\n",
      "Epoch 216/500\n",
      "12/12 [==============================] - 0s 4ms/step - loss: 1819176.1250 - mse: 1819176.1250 - mae: 831.6396 - val_loss: 40924568.0000 - val_mse: 40924568.0000 - val_mae: 6364.4082\n",
      "Epoch 217/500\n",
      "12/12 [==============================] - 0s 4ms/step - loss: 1522610.1250 - mse: 1522610.1250 - mae: 820.5627 - val_loss: 21706028.0000 - val_mse: 21706028.0000 - val_mae: 4607.6484\n",
      "Epoch 218/500\n",
      "12/12 [==============================] - 0s 3ms/step - loss: 1843259.3750 - mse: 1843259.3750 - mae: 837.5130 - val_loss: 41527100.0000 - val_mse: 41527100.0000 - val_mae: 6411.0039\n",
      "Epoch 219/500\n",
      "12/12 [==============================] - 0s 4ms/step - loss: 1525054.8750 - mse: 1525054.8750 - mae: 821.2239 - val_loss: 21545356.0000 - val_mse: 21545356.0000 - val_mae: 4589.1152\n",
      "Epoch 220/500\n",
      "12/12 [==============================] - 0s 3ms/step - loss: 1844554.0000 - mse: 1844554.0000 - mae: 836.8524 - val_loss: 41726060.0000 - val_mse: 41726060.0000 - val_mae: 6425.8672\n",
      "Epoch 221/500\n",
      "12/12 [==============================] - 0s 3ms/step - loss: 1518077.8750 - mse: 1518077.8750 - mae: 819.2769 - val_loss: 21604664.0000 - val_mse: 21604664.0000 - val_mae: 4594.6133\n",
      "Epoch 222/500\n",
      "12/12 [==============================] - 0s 4ms/step - loss: 1809757.3750 - mse: 1809757.3750 - mae: 828.0178 - val_loss: 40825264.0000 - val_mse: 40825264.0000 - val_mae: 6354.6465\n",
      "Epoch 223/500\n",
      "12/12 [==============================] - 0s 3ms/step - loss: 1511035.5000 - mse: 1511035.5000 - mae: 817.7778 - val_loss: 21903860.0000 - val_mse: 21903860.0000 - val_mae: 4626.3477\n",
      "Epoch 224/500\n",
      "12/12 [==============================] - 0s 4ms/step - loss: 1832958.7500 - mse: 1832958.7500 - mae: 835.6456 - val_loss: 41184936.0000 - val_mse: 41184936.0000 - val_mae: 6382.3125\n",
      "Epoch 225/500\n",
      "12/12 [==============================] - 0s 4ms/step - loss: 1524152.3750 - mse: 1524152.3750 - mae: 821.1353 - val_loss: 21475672.0000 - val_mse: 21475672.0000 - val_mae: 4578.6914\n",
      "Epoch 226/500\n",
      "12/12 [==============================] - 0s 4ms/step - loss: 1849865.2500 - mse: 1849865.2500 - mae: 839.0280 - val_loss: 41682540.0000 - val_mse: 41682540.0000 - val_mae: 6420.6055\n",
      "Epoch 227/500\n",
      "12/12 [==============================] - 0s 4ms/step - loss: 1523218.5000 - mse: 1523218.5000 - mae: 820.8214 - val_loss: 21327342.0000 - val_mse: 21327342.0000 - val_mae: 4561.4492\n",
      "Epoch 228/500\n",
      "12/12 [==============================] - 0s 4ms/step - loss: 1820974.0000 - mse: 1820974.0000 - mae: 831.7862 - val_loss: 40998600.0000 - val_mse: 40998600.0000 - val_mae: 6366.4395\n",
      "Epoch 229/500\n",
      "12/12 [==============================] - 0s 4ms/step - loss: 1517773.7500 - mse: 1517773.7500 - mae: 819.6840 - val_loss: 21627054.0000 - val_mse: 21627054.0000 - val_mae: 4593.4980\n",
      "Epoch 230/500\n",
      "12/12 [==============================] - 0s 4ms/step - loss: 1848326.3750 - mse: 1848326.3750 - mae: 839.9796 - val_loss: 41432976.0000 - val_mse: 41432976.0000 - val_mae: 6399.9102\n",
      "Epoch 231/500\n",
      "12/12 [==============================] - 0s 5ms/step - loss: 1534101.7500 - mse: 1534101.7500 - mae: 823.9104 - val_loss: 21199820.0000 - val_mse: 21199820.0000 - val_mae: 4545.6230\n",
      "Epoch 232/500\n",
      "12/12 [==============================] - 0s 4ms/step - loss: 1868949.7500 - mse: 1868949.7500 - mae: 844.0189 - val_loss: 42010308.0000 - val_mse: 42010308.0000 - val_mae: 6444.3281\n",
      "Epoch 233/500\n",
      "12/12 [==============================] - 0s 5ms/step - loss: 1533831.1250 - mse: 1533831.1250 - mae: 823.7134 - val_loss: 20997318.0000 - val_mse: 20997318.0000 - val_mae: 4522.2891\n",
      "Epoch 234/500\n",
      "12/12 [==============================] - 0s 4ms/step - loss: 1835465.2500 - mse: 1835465.2500 - mae: 835.4689 - val_loss: 41336628.0000 - val_mse: 41336628.0000 - val_mae: 6391.1895\n",
      "Epoch 235/500\n",
      "12/12 [==============================] - 0s 4ms/step - loss: 1523907.0000 - mse: 1523907.0000 - mae: 821.3837 - val_loss: 21285866.0000 - val_mse: 21285866.0000 - val_mae: 4553.4375\n",
      "Epoch 236/500\n",
      "12/12 [==============================] - 0s 4ms/step - loss: 1849389.8750 - mse: 1849389.8750 - mae: 840.0784 - val_loss: 41532268.0000 - val_mse: 41532268.0000 - val_mae: 6405.9395\n",
      "Epoch 237/500\n",
      "12/12 [==============================] - 0s 4ms/step - loss: 1530487.6250 - mse: 1530487.6250 - mae: 822.9905 - val_loss: 21114644.0000 - val_mse: 21114644.0000 - val_mae: 4533.6133\n",
      "Epoch 238/500\n",
      "12/12 [==============================] - 0s 4ms/step - loss: 1860371.8750 - mse: 1860371.8750 - mae: 842.0245 - val_loss: 41889128.0000 - val_mse: 41889128.0000 - val_mae: 6433.1992\n",
      "Epoch 239/500\n",
      "12/12 [==============================] - 0s 4ms/step - loss: 1525673.6250 - mse: 1525673.6250 - mae: 821.6254 - val_loss: 21012282.0000 - val_mse: 21012282.0000 - val_mae: 4521.3809\n",
      "Epoch 240/500\n",
      "12/12 [==============================] - 0s 4ms/step - loss: 1820195.5000 - mse: 1820195.5000 - mae: 831.6624 - val_loss: 41091224.0000 - val_mse: 41091224.0000 - val_mae: 6370.2207\n",
      "Epoch 241/500\n",
      "12/12 [==============================] - 0s 4ms/step - loss: 1513983.6250 - mse: 1513983.6250 - mae: 818.8782 - val_loss: 21379844.0000 - val_mse: 21379844.0000 - val_mae: 4561.2695\n",
      "Epoch 242/500\n",
      "12/12 [==============================] - 0s 4ms/step - loss: 1832866.1250 - mse: 1832866.1250 - mae: 836.0508 - val_loss: 41246840.0000 - val_mse: 41246840.0000 - val_mae: 6381.8867\n",
      "Epoch 243/500\n",
      "12/12 [==============================] - 0s 4ms/step - loss: 1520872.7500 - mse: 1520872.7500 - mae: 820.5502 - val_loss: 21210648.0000 - val_mse: 21210648.0000 - val_mae: 4541.7148\n",
      "Epoch 244/500\n",
      "12/12 [==============================] - 0s 4ms/step - loss: 1845071.1250 - mse: 1845071.1250 - mae: 838.3306 - val_loss: 41573932.0000 - val_mse: 41573932.0000 - val_mae: 6406.9316\n",
      "Epoch 245/500\n",
      "12/12 [==============================] - 0s 4ms/step - loss: 1519184.7500 - mse: 1519184.7500 - mae: 819.9876 - val_loss: 21184086.0000 - val_mse: 21184086.0000 - val_mae: 4537.9238\n",
      "Epoch 246/500\n",
      "12/12 [==============================] - 0s 4ms/step - loss: 1839166.7500 - mse: 1839166.7500 - mae: 835.6208 - val_loss: 41722792.0000 - val_mse: 41722792.0000 - val_mae: 6418.0156\n",
      "Epoch 247/500\n",
      "12/12 [==============================] - 0s 4ms/step - loss: 1505378.1250 - mse: 1505378.1250 - mae: 816.4174 - val_loss: 21361074.0000 - val_mse: 21361074.0000 - val_mae: 4556.6172\n",
      "Epoch 248/500\n",
      "12/12 [==============================] - 0s 4ms/step - loss: 1790689.7500 - mse: 1790689.7500 - mae: 822.3795 - val_loss: 40759504.0000 - val_mse: 40759504.0000 - val_mae: 6341.8281\n",
      "Epoch 249/500\n",
      "12/12 [==============================] - 0s 4ms/step - loss: 1485044.2500 - mse: 1485044.2500 - mae: 811.3526 - val_loss: 21943166.0000 - val_mse: 21943166.0000 - val_mae: 4619.5098\n",
      "Epoch 250/500\n",
      "12/12 [==============================] - 0s 4ms/step - loss: 1785256.7500 - mse: 1785256.7500 - mae: 821.6727 - val_loss: 40558104.0000 - val_mse: 40558104.0000 - val_mae: 6325.2285\n",
      "Epoch 251/500\n",
      "12/12 [==============================] - 0s 4ms/step - loss: 1488104.1250 - mse: 1488104.1250 - mae: 811.6877 - val_loss: 21831790.0000 - val_mse: 21831790.0000 - val_mae: 4606.4355\n",
      "Epoch 252/500\n",
      "12/12 [==============================] - 0s 4ms/step - loss: 1783543.8750 - mse: 1783543.8750 - mae: 819.8767 - val_loss: 40635516.0000 - val_mse: 40635516.0000 - val_mae: 6330.6914\n"
     ]
    },
    {
     "name": "stdout",
     "output_type": "stream",
     "text": [
      "Epoch 253/500\n",
      "12/12 [==============================] - 0s 4ms/step - loss: 1481756.1250 - mse: 1481756.1250 - mae: 809.8022 - val_loss: 21849270.0000 - val_mse: 21849270.0000 - val_mae: 4607.4141\n",
      "Epoch 254/500\n",
      "12/12 [==============================] - 0s 4ms/step - loss: 1748709.0000 - mse: 1748709.0000 - mae: 810.6380 - val_loss: 39913608.0000 - val_mse: 39913608.0000 - val_mae: 6272.6992\n",
      "Epoch 255/500\n",
      "12/12 [==============================] - 0s 4ms/step - loss: 1469894.6250 - mse: 1469894.6250 - mae: 806.8843 - val_loss: 22186036.0000 - val_mse: 22186036.0000 - val_mae: 4643.1172\n",
      "Epoch 256/500\n",
      "12/12 [==============================] - 0s 4ms/step - loss: 1753485.8750 - mse: 1753485.8750 - mae: 813.0675 - val_loss: 39828112.0000 - val_mse: 39828112.0000 - val_mae: 6265.1992\n",
      "Epoch 257/500\n",
      "12/12 [==============================] - 0s 4ms/step - loss: 1477271.5000 - mse: 1477271.5000 - mae: 809.0211 - val_loss: 22031346.0000 - val_mse: 22031346.0000 - val_mae: 4625.3945\n",
      "Epoch 258/500\n",
      "12/12 [==============================] - 0s 4ms/step - loss: 1770252.1250 - mse: 1770252.1250 - mae: 817.1826 - val_loss: 40154600.0000 - val_mse: 40154600.0000 - val_mae: 6290.5898\n",
      "Epoch 259/500\n",
      "12/12 [==============================] - 0s 4ms/step - loss: 1483553.6250 - mse: 1483553.6250 - mae: 810.7685 - val_loss: 21920660.0000 - val_mse: 21920660.0000 - val_mae: 4612.4297\n",
      "Epoch 260/500\n",
      "12/12 [==============================] - 0s 4ms/step - loss: 1782925.0000 - mse: 1782925.0000 - mae: 820.5682 - val_loss: 40555964.0000 - val_mse: 40555964.0000 - val_mae: 6321.8730\n",
      "Epoch 261/500\n",
      "12/12 [==============================] - 0s 4ms/step - loss: 1479508.8750 - mse: 1479508.8750 - mae: 810.1627 - val_loss: 21796796.0000 - val_mse: 21796796.0000 - val_mae: 4598.0254\n",
      "Epoch 262/500\n",
      "12/12 [==============================] - 0s 4ms/step - loss: 1756486.6250 - mse: 1756486.6250 - mae: 813.8593 - val_loss: 39935220.0000 - val_mse: 39935220.0000 - val_mae: 6271.9238\n",
      "Epoch 263/500\n",
      "12/12 [==============================] - 0s 4ms/step - loss: 1474526.6250 - mse: 1474526.6250 - mae: 809.1903 - val_loss: 21997658.0000 - val_mse: 21997658.0000 - val_mae: 4619.1582\n",
      "Epoch 264/500\n",
      "12/12 [==============================] - 0s 4ms/step - loss: 1777258.8750 - mse: 1777258.8750 - mae: 820.6884 - val_loss: 40126472.0000 - val_mse: 40126472.0000 - val_mae: 6286.5938\n",
      "Epoch 265/500\n",
      "12/12 [==============================] - 0s 3ms/step - loss: 1488775.5000 - mse: 1488775.5000 - mae: 812.9772 - val_loss: 21769400.0000 - val_mse: 21769400.0000 - val_mae: 4593.4121\n",
      "Epoch 266/500\n",
      "12/12 [==============================] - 0s 4ms/step - loss: 1815171.3750 - mse: 1815171.3750 - mae: 830.3898 - val_loss: 40944856.0000 - val_mse: 40944856.0000 - val_mae: 6350.9375\n",
      "Epoch 267/500\n",
      "12/12 [==============================] - 0s 4ms/step - loss: 1503259.3750 - mse: 1503259.3750 - mae: 816.1703 - val_loss: 21323018.0000 - val_mse: 21323018.0000 - val_mae: 4543.5371\n",
      "Epoch 268/500\n",
      "12/12 [==============================] - 0s 7ms/step - loss: 1826906.2500 - mse: 1826906.2500 - mae: 832.0109 - val_loss: 41400392.0000 - val_mse: 41400392.0000 - val_mae: 6386.2500\n",
      "Epoch 269/500\n",
      "12/12 [==============================] - 0s 4ms/step - loss: 1500191.1250 - mse: 1500191.1250 - mae: 815.4708 - val_loss: 21252624.0000 - val_mse: 21252624.0000 - val_mae: 4534.9902\n",
      "Epoch 270/500\n",
      "12/12 [==============================] - 0s 3ms/step - loss: 1794232.1250 - mse: 1794232.1250 - mae: 823.8065 - val_loss: 40653104.0000 - val_mse: 40653104.0000 - val_mae: 6326.8926\n",
      "Epoch 271/500\n",
      "12/12 [==============================] - 0s 3ms/step - loss: 1492197.0000 - mse: 1492197.0000 - mae: 813.7192 - val_loss: 21464734.0000 - val_mse: 21464734.0000 - val_mae: 4557.8281\n",
      "Epoch 272/500\n",
      "12/12 [==============================] - 0s 3ms/step - loss: 1805482.0000 - mse: 1805482.0000 - mae: 827.8483 - val_loss: 40800128.0000 - val_mse: 40800128.0000 - val_mae: 6338.0430\n",
      "Epoch 273/500\n",
      "12/12 [==============================] - 0s 4ms/step - loss: 1497897.7500 - mse: 1497897.7500 - mae: 815.1655 - val_loss: 21318144.0000 - val_mse: 21318144.0000 - val_mae: 4540.8691\n",
      "Epoch 274/500\n",
      "12/12 [==============================] - 0s 3ms/step - loss: 1816266.6250 - mse: 1816266.6250 - mae: 829.7823 - val_loss: 41117048.0000 - val_mse: 41117048.0000 - val_mae: 6362.5449\n",
      "Epoch 275/500\n",
      "12/12 [==============================] - 0s 3ms/step - loss: 1496635.0000 - mse: 1496635.0000 - mae: 814.7321 - val_loss: 21205368.0000 - val_mse: 21205368.0000 - val_mae: 4527.6641\n",
      "Epoch 276/500\n",
      "12/12 [==============================] - 0s 3ms/step - loss: 1786548.5000 - mse: 1786548.5000 - mae: 822.2545 - val_loss: 40566696.0000 - val_mse: 40566696.0000 - val_mae: 6318.6348\n",
      "Epoch 277/500\n",
      "12/12 [==============================] - 0s 3ms/step - loss: 1485336.7500 - mse: 1485336.7500 - mae: 812.2060 - val_loss: 21525692.0000 - val_mse: 21525692.0000 - val_mae: 4562.4434\n",
      "Epoch 278/500\n",
      "12/12 [==============================] - 0s 4ms/step - loss: 1795531.0000 - mse: 1795531.0000 - mae: 825.2913 - val_loss: 40651256.0000 - val_mse: 40651256.0000 - val_mae: 6324.8320\n",
      "Epoch 279/500\n",
      "12/12 [==============================] - 0s 3ms/step - loss: 1491119.2500 - mse: 1491119.2500 - mae: 813.5721 - val_loss: 21346862.0000 - val_mse: 21346862.0000 - val_mae: 4541.9570\n",
      "Epoch 280/500\n",
      "12/12 [==============================] - 0s 4ms/step - loss: 1803862.6250 - mse: 1803862.6250 - mae: 826.8267 - val_loss: 40859492.0000 - val_mse: 40859492.0000 - val_mae: 6340.8301\n",
      "Epoch 281/500\n",
      "12/12 [==============================] - 0s 3ms/step - loss: 1491302.3750 - mse: 1491302.3750 - mae: 813.5325 - val_loss: 21190276.0000 - val_mse: 21190276.0000 - val_mae: 4523.9473\n",
      "Epoch 282/500\n",
      "12/12 [==============================] - 0s 3ms/step - loss: 1769963.5000 - mse: 1769963.5000 - mae: 818.1240 - val_loss: 40248852.0000 - val_mse: 40248852.0000 - val_mae: 6291.9707\n",
      "Epoch 283/500\n",
      "12/12 [==============================] - 0s 4ms/step - loss: 1479172.5000 - mse: 1479172.5000 - mae: 810.7379 - val_loss: 21604452.0000 - val_mse: 21604452.0000 - val_mae: 4569.0820\n",
      "Epoch 284/500\n",
      "12/12 [==============================] - 0s 4ms/step - loss: 1783633.6250 - mse: 1783633.6250 - mae: 822.4385 - val_loss: 40389392.0000 - val_mse: 40389392.0000 - val_mae: 6302.6465\n",
      "Epoch 285/500\n",
      "12/12 [==============================] - 0s 4ms/step - loss: 1488552.3750 - mse: 1488552.3750 - mae: 812.9636 - val_loss: 21418736.0000 - val_mse: 21418736.0000 - val_mae: 4547.8789\n",
      "Epoch 286/500\n",
      "12/12 [==============================] - 0s 4ms/step - loss: 1806251.2500 - mse: 1806251.2500 - mae: 827.7896 - val_loss: 40965780.0000 - val_mse: 40965780.0000 - val_mae: 6347.8652\n",
      "Epoch 287/500\n",
      "12/12 [==============================] - 0s 4ms/step - loss: 1490063.6250 - mse: 1490063.6250 - mae: 813.2521 - val_loss: 21261530.0000 - val_mse: 21261530.0000 - val_mae: 4529.7930\n",
      "Epoch 288/500\n",
      "12/12 [==============================] - 0s 4ms/step - loss: 1801459.3750 - mse: 1801459.3750 - mae: 825.4554 - val_loss: 41058076.0000 - val_mse: 41058076.0000 - val_mae: 6354.7070\n",
      "Epoch 289/500\n",
      "12/12 [==============================] - 0s 4ms/step - loss: 1481395.7500 - mse: 1481395.7500 - mae: 810.9915 - val_loss: 21352636.0000 - val_mse: 21352636.0000 - val_mae: 4539.2461\n",
      "Epoch 290/500\n",
      "12/12 [==============================] - 0s 4ms/step - loss: 1755501.8750 - mse: 1755501.8750 - mae: 813.1082 - val_loss: 40102212.0000 - val_mse: 40102212.0000 - val_mae: 6278.4473\n",
      "Epoch 291/500\n",
      "12/12 [==============================] - 0s 4ms/step - loss: 1465969.7500 - mse: 1465969.7500 - mae: 806.9963 - val_loss: 21810314.0000 - val_mse: 21810314.0000 - val_mae: 4589.0547\n",
      "Epoch 292/500\n",
      "12/12 [==============================] - 0s 4ms/step - loss: 1757222.3750 - mse: 1757222.3750 - mae: 814.2482 - val_loss: 40102296.0000 - val_mse: 40102296.0000 - val_mae: 6277.9648\n",
      "Epoch 293/500\n",
      "12/12 [==============================] - 0s 4ms/step - loss: 1466082.8750 - mse: 1466082.8750 - mae: 806.9418 - val_loss: 21817238.0000 - val_mse: 21817238.0000 - val_mae: 4589.0352\n",
      "Epoch 294/500\n",
      "12/12 [==============================] - 0s 4ms/step - loss: 1762987.2500 - mse: 1762987.2500 - mae: 814.8910 - val_loss: 40323848.0000 - val_mse: 40323848.0000 - val_mae: 6295.1055\n"
     ]
    },
    {
     "name": "stdout",
     "output_type": "stream",
     "text": [
      "Epoch 295/500\n",
      "12/12 [==============================] - 0s 4ms/step - loss: 1462113.1250 - mse: 1462113.1250 - mae: 805.6877 - val_loss: 21807964.0000 - val_mse: 21807964.0000 - val_mae: 4587.2715\n",
      "Epoch 296/500\n",
      "12/12 [==============================] - 0s 4ms/step - loss: 1751183.6250 - mse: 1751183.6250 - mae: 810.6156 - val_loss: 40180384.0000 - val_mse: 40180384.0000 - val_mae: 6283.1680\n",
      "Epoch 297/500\n",
      "12/12 [==============================] - 0s 4ms/step - loss: 1455026.8750 - mse: 1455026.8750 - mae: 803.5634 - val_loss: 21950422.0000 - val_mse: 21950422.0000 - val_mae: 4602.1660\n",
      "Epoch 298/500\n",
      "12/12 [==============================] - 0s 4ms/step - loss: 1713871.6250 - mse: 1713871.6250 - mae: 802.6756 - val_loss: 39360168.0000 - val_mse: 39360168.0000 - val_mae: 6216.9434\n",
      "Epoch 299/500\n",
      "12/12 [==============================] - 0s 4ms/step - loss: 1442702.3750 - mse: 1442702.3750 - mae: 800.3248 - val_loss: 22333312.0000 - val_mse: 22333312.0000 - val_mae: 4643.1250\n",
      "Epoch 300/500\n",
      "12/12 [==============================] - 0s 4ms/step - loss: 1718766.7500 - mse: 1718766.7500 - mae: 804.4951 - val_loss: 39330292.0000 - val_mse: 39330292.0000 - val_mae: 6213.9688\n",
      "Epoch 301/500\n",
      "12/12 [==============================] - 0s 4ms/step - loss: 1448003.5000 - mse: 1448003.5000 - mae: 801.8096 - val_loss: 22173056.0000 - val_mse: 22173056.0000 - val_mae: 4624.9688\n",
      "Epoch 302/500\n",
      "12/12 [==============================] - 0s 4ms/step - loss: 1733321.6250 - mse: 1733321.6250 - mae: 807.9255 - val_loss: 39650680.0000 - val_mse: 39650680.0000 - val_mae: 6239.2617\n",
      "Epoch 303/500\n",
      "12/12 [==============================] - 0s 4ms/step - loss: 1451844.8750 - mse: 1451844.8750 - mae: 802.9197 - val_loss: 22063838.0000 - val_mse: 22063838.0000 - val_mae: 4612.3555\n",
      "Epoch 304/500\n",
      "12/12 [==============================] - 0s 4ms/step - loss: 1738281.3750 - mse: 1738281.3750 - mae: 808.3522 - val_loss: 39889288.0000 - val_mse: 39889288.0000 - val_mae: 6257.8730\n",
      "Epoch 305/500\n",
      "12/12 [==============================] - 0s 4ms/step - loss: 1447706.8750 - mse: 1447706.8750 - mae: 801.6486 - val_loss: 22068972.0000 - val_mse: 22068972.0000 - val_mae: 4612.1699\n",
      "Epoch 306/500\n",
      "12/12 [==============================] - 0s 4ms/step - loss: 1712624.5000 - mse: 1712624.5000 - mae: 802.8304 - val_loss: 39234224.0000 - val_mse: 39234224.0000 - val_mae: 6204.7344\n",
      "Epoch 307/500\n",
      "12/12 [==============================] - 0s 4ms/step - loss: 1444417.3750 - mse: 1444417.3750 - mae: 801.0167 - val_loss: 22188166.0000 - val_mse: 22188166.0000 - val_mae: 4624.5977\n",
      "Epoch 308/500\n",
      "12/12 [==============================] - 0s 4ms/step - loss: 1731888.8750 - mse: 1731888.8750 - mae: 809.0898 - val_loss: 39435840.0000 - val_mse: 39435840.0000 - val_mae: 6220.5645\n",
      "Epoch 309/500\n",
      "12/12 [==============================] - 0s 4ms/step - loss: 1459577.1250 - mse: 1459577.1250 - mae: 805.3777 - val_loss: 21866970.0000 - val_mse: 21866970.0000 - val_mae: 4588.8984\n",
      "Epoch 310/500\n",
      "12/12 [==============================] - 0s 4ms/step - loss: 1760742.8750 - mse: 1760742.8750 - mae: 815.3863 - val_loss: 40039348.0000 - val_mse: 40039348.0000 - val_mae: 6268.5488\n",
      "Epoch 311/500\n",
      "12/12 [==============================] - 0s 4ms/step - loss: 1468182.8750 - mse: 1468182.8750 - mae: 807.5551 - val_loss: 21636580.0000 - val_mse: 21636580.0000 - val_mae: 4562.9668\n",
      "Epoch 312/500\n",
      "12/12 [==============================] - 0s 4ms/step - loss: 1780362.2500 - mse: 1780362.2500 - mae: 819.1530 - val_loss: 40617052.0000 - val_mse: 40617052.0000 - val_mae: 6314.2012\n",
      "Epoch 313/500\n",
      "12/12 [==============================] - 0s 4ms/step - loss: 1468821.3750 - mse: 1468821.3750 - mae: 807.6065 - val_loss: 21483434.0000 - val_mse: 21483434.0000 - val_mae: 4545.5195\n",
      "Epoch 314/500\n",
      "12/12 [==============================] - 0s 4ms/step - loss: 1756512.7500 - mse: 1756512.7500 - mae: 814.1421 - val_loss: 40089464.0000 - val_mse: 40089464.0000 - val_mae: 6271.8867\n",
      "Epoch 315/500\n",
      "12/12 [==============================] - 0s 4ms/step - loss: 1464075.6250 - mse: 1464075.6250 - mae: 806.7100 - val_loss: 21666672.0000 - val_mse: 21666672.0000 - val_mae: 4565.3496\n",
      "Epoch 316/500\n",
      "12/12 [==============================] - 0s 4ms/step - loss: 1776686.8750 - mse: 1776686.8750 - mae: 819.5017 - val_loss: 40341844.0000 - val_mse: 40341844.0000 - val_mae: 6291.6680\n",
      "Epoch 317/500\n",
      "12/12 [==============================] - 0s 4ms/step - loss: 1477193.6250 - mse: 1477193.6250 - mae: 809.9360 - val_loss: 21319388.0000 - val_mse: 21319388.0000 - val_mae: 4526.4688\n",
      "Epoch 318/500\n",
      "12/12 [==============================] - 0s 3ms/step - loss: 1797577.7500 - mse: 1797577.7500 - mae: 824.4948 - val_loss: 40832636.0000 - val_mse: 40832636.0000 - val_mae: 6330.3770\n",
      "Epoch 319/500\n",
      "12/12 [==============================] - 0s 4ms/step - loss: 1482618.5000 - mse: 1482618.5000 - mae: 811.2264 - val_loss: 21063876.0000 - val_mse: 21063876.0000 - val_mae: 4497.6211\n",
      "Epoch 320/500\n",
      "12/12 [==============================] - 0s 4ms/step - loss: 1769410.2500 - mse: 1769410.2500 - mae: 818.1337 - val_loss: 40361864.0000 - val_mse: 40361864.0000 - val_mae: 6292.7734\n",
      "Epoch 321/500\n",
      "12/12 [==============================] - 0s 3ms/step - loss: 1471430.2500 - mse: 1471430.2500 - mae: 808.7011 - val_loss: 21433052.0000 - val_mse: 21433052.0000 - val_mae: 4538.3398\n",
      "Epoch 322/500\n",
      "12/12 [==============================] - 0s 4ms/step - loss: 1783282.0000 - mse: 1783282.0000 - mae: 821.5296 - val_loss: 40576652.0000 - val_mse: 40576652.0000 - val_mae: 6309.5332\n",
      "Epoch 323/500\n",
      "12/12 [==============================] - 0s 4ms/step - loss: 1478581.2500 - mse: 1478581.2500 - mae: 810.2887 - val_loss: 21279120.0000 - val_mse: 21279120.0000 - val_mae: 4520.7617\n",
      "Epoch 324/500\n",
      "12/12 [==============================] - 0s 4ms/step - loss: 1798305.1250 - mse: 1798305.1250 - mae: 824.2667 - val_loss: 41002888.0000 - val_mse: 41002888.0000 - val_mae: 6342.9980\n",
      "Epoch 325/500\n",
      "12/12 [==============================] - 0s 4ms/step - loss: 1476991.5000 - mse: 1476991.5000 - mae: 809.6346 - val_loss: 21250280.0000 - val_mse: 21250280.0000 - val_mae: 4517.1211\n",
      "Epoch 326/500\n",
      "12/12 [==============================] - 0s 4ms/step - loss: 1790841.1250 - mse: 1790841.1250 - mae: 820.8684 - val_loss: 41124344.0000 - val_mse: 41124344.0000 - val_mae: 6352.3164\n",
      "Epoch 327/500\n",
      "12/12 [==============================] - 0s 3ms/step - loss: 1464518.0000 - mse: 1464518.0000 - mae: 806.2445 - val_loss: 21363428.0000 - val_mse: 21363428.0000 - val_mae: 4529.2930\n",
      "Epoch 328/500\n",
      "12/12 [==============================] - 0s 4ms/step - loss: 1737459.2500 - mse: 1737459.2500 - mae: 809.7736 - val_loss: 40015280.0000 - val_mse: 40015280.0000 - val_mae: 6263.9785\n",
      "Epoch 329/500\n",
      "12/12 [==============================] - 0s 4ms/step - loss: 1447672.0000 - mse: 1447672.0000 - mae: 801.9891 - val_loss: 21855852.0000 - val_mse: 21855852.0000 - val_mae: 4583.2852\n",
      "Epoch 330/500\n",
      "12/12 [==============================] - 0s 4ms/step - loss: 1725529.2500 - mse: 1725529.2500 - mae: 807.5576 - val_loss: 39740304.0000 - val_mse: 39740304.0000 - val_mae: 6241.5156\n",
      "Epoch 331/500\n",
      "12/12 [==============================] - 0s 3ms/step - loss: 1441787.8750 - mse: 1441787.8750 - mae: 800.1702 - val_loss: 22037396.0000 - val_mse: 22037396.0000 - val_mae: 4602.4844\n",
      "Epoch 332/500\n",
      "12/12 [==============================] - 0s 4ms/step - loss: 1722157.1250 - mse: 1722157.1250 - mae: 805.4941 - val_loss: 39807672.0000 - val_mse: 39807672.0000 - val_mae: 6246.4609\n",
      "Epoch 333/500\n",
      "12/12 [==============================] - 0s 4ms/step - loss: 1433912.5000 - mse: 1433912.5000 - mae: 797.5937 - val_loss: 22035300.0000 - val_mse: 22035300.0000 - val_mae: 4601.6445\n",
      "Epoch 334/500\n",
      "12/12 [==============================] - 0s 4ms/step - loss: 1680594.0000 - mse: 1680594.0000 - mae: 796.3542 - val_loss: 38881880.0000 - val_mse: 38881880.0000 - val_mae: 6171.3594\n",
      "Epoch 335/500\n",
      "12/12 [==============================] - 0s 4ms/step - loss: 1424492.1250 - mse: 1424492.1250 - mae: 794.9877 - val_loss: 22491092.0000 - val_mse: 22491092.0000 - val_mae: 4650.6504\n",
      "Epoch 336/500\n",
      "12/12 [==============================] - 0s 4ms/step - loss: 1687890.0000 - mse: 1687890.0000 - mae: 799.0433 - val_loss: 38890884.0000 - val_mse: 38890884.0000 - val_mae: 6171.5820\n"
     ]
    },
    {
     "name": "stdout",
     "output_type": "stream",
     "text": [
      "Epoch 337/500\n",
      "12/12 [==============================] - 0s 4ms/step - loss: 1430044.1250 - mse: 1430044.1250 - mae: 796.6869 - val_loss: 22390110.0000 - val_mse: 22390110.0000 - val_mae: 4639.0215\n",
      "Epoch 338/500\n",
      "12/12 [==============================] - 0s 4ms/step - loss: 1710738.5000 - mse: 1710738.5000 - mae: 803.8829 - val_loss: 39456128.0000 - val_mse: 39456128.0000 - val_mae: 6216.8809\n",
      "Epoch 339/500\n",
      "12/12 [==============================] - 0s 4ms/step - loss: 1434288.8750 - mse: 1434288.8750 - mae: 797.8236 - val_loss: 22162884.0000 - val_mse: 22162884.0000 - val_mae: 4613.7715\n",
      "Epoch 340/500\n",
      "12/12 [==============================] - 0s 4ms/step - loss: 1716770.8750 - mse: 1716770.8750 - mae: 804.9932 - val_loss: 39646876.0000 - val_mse: 39646876.0000 - val_mae: 6231.8945\n",
      "Epoch 341/500\n",
      "12/12 [==============================] - 0s 4ms/step - loss: 1434088.1250 - mse: 1434088.1250 - mae: 797.7130 - val_loss: 22072052.0000 - val_mse: 22072052.0000 - val_mae: 4603.3945\n",
      "Epoch 342/500\n",
      "12/12 [==============================] - 0s 4ms/step - loss: 1688026.2500 - mse: 1688026.2500 - mae: 798.6209 - val_loss: 39007660.0000 - val_mse: 39007660.0000 - val_mae: 6179.9512\n",
      "Epoch 343/500\n",
      "12/12 [==============================] - 0s 4ms/step - loss: 1426668.3750 - mse: 1426668.3750 - mae: 795.8210 - val_loss: 22340728.0000 - val_mse: 22340728.0000 - val_mae: 4632.2734\n",
      "Epoch 344/500\n",
      "12/12 [==============================] - 0s 5ms/step - loss: 1703843.8750 - mse: 1703843.8750 - mae: 803.7850 - val_loss: 39154788.0000 - val_mse: 39154788.0000 - val_mae: 6191.5703\n",
      "Epoch 345/500\n",
      "12/12 [==============================] - 0s 4ms/step - loss: 1440641.1250 - mse: 1440641.1250 - mae: 800.0130 - val_loss: 22073108.0000 - val_mse: 22073108.0000 - val_mae: 4602.6758\n",
      "Epoch 346/500\n",
      "12/12 [==============================] - 0s 4ms/step - loss: 1731467.2500 - mse: 1731467.2500 - mae: 809.8168 - val_loss: 39775624.0000 - val_mse: 39775624.0000 - val_mae: 6241.3105\n",
      "Epoch 347/500\n",
      "12/12 [==============================] - 0s 3ms/step - loss: 1447202.0000 - mse: 1447202.0000 - mae: 801.7432 - val_loss: 21893906.0000 - val_mse: 21893906.0000 - val_mae: 4582.6230\n",
      "Epoch 348/500\n",
      "12/12 [==============================] - 0s 4ms/step - loss: 1750280.3750 - mse: 1750280.3750 - mae: 812.9714 - val_loss: 40357744.0000 - val_mse: 40357744.0000 - val_mae: 6287.6562\n",
      "Epoch 349/500\n",
      "12/12 [==============================] - 0s 4ms/step - loss: 1446381.8750 - mse: 1446381.8750 - mae: 801.2743 - val_loss: 21674430.0000 - val_mse: 21674430.0000 - val_mae: 4558.1680\n",
      "Epoch 350/500\n",
      "12/12 [==============================] - 0s 4ms/step - loss: 1717704.5000 - mse: 1717704.5000 - mae: 806.4595 - val_loss: 39594540.0000 - val_mse: 39594540.0000 - val_mae: 6226.3906\n",
      "Epoch 351/500\n",
      "12/12 [==============================] - 0s 4ms/step - loss: 1442832.8750 - mse: 1442832.8750 - mae: 800.7409 - val_loss: 21943836.0000 - val_mse: 21943836.0000 - val_mae: 4587.6562\n",
      "Epoch 352/500\n",
      "12/12 [==============================] - 0s 4ms/step - loss: 1735093.7500 - mse: 1735093.7500 - mae: 811.3922 - val_loss: 39883320.0000 - val_mse: 39883320.0000 - val_mae: 6249.3691\n",
      "Epoch 353/500\n",
      "12/12 [==============================] - 0s 4ms/step - loss: 1450248.1250 - mse: 1450248.1250 - mae: 802.7466 - val_loss: 21793494.0000 - val_mse: 21793494.0000 - val_mae: 4570.7441\n",
      "Epoch 354/500\n",
      "12/12 [==============================] - 0s 4ms/step - loss: 1756989.8750 - mse: 1756989.8750 - mae: 815.2194 - val_loss: 40435112.0000 - val_mse: 40435112.0000 - val_mae: 6293.2383\n",
      "Epoch 355/500\n",
      "12/12 [==============================] - 0s 4ms/step - loss: 1453354.8750 - mse: 1453354.8750 - mae: 803.2633 - val_loss: 21589732.0000 - val_mse: 21589732.0000 - val_mae: 4547.9941\n",
      "Epoch 356/500\n",
      "12/12 [==============================] - 0s 4ms/step - loss: 1755750.6250 - mse: 1755750.6250 - mae: 814.3491 - val_loss: 40584576.0000 - val_mse: 40584576.0000 - val_mae: 6304.9883\n",
      "Epoch 357/500\n",
      "12/12 [==============================] - 0s 4ms/step - loss: 1449000.8750 - mse: 1449000.8750 - mae: 801.9350 - val_loss: 21594872.0000 - val_mse: 21594872.0000 - val_mae: 4548.3477\n",
      "Epoch 358/500\n",
      "12/12 [==============================] - 0s 4ms/step - loss: 1713350.7500 - mse: 1713350.7500 - mae: 805.4094 - val_loss: 39663404.0000 - val_mse: 39663404.0000 - val_mae: 6231.1758\n",
      "Epoch 359/500\n",
      "12/12 [==============================] - 0s 4ms/step - loss: 1435944.5000 - mse: 1435944.5000 - mae: 798.6295 - val_loss: 22047322.0000 - val_mse: 22047322.0000 - val_mae: 4597.9238\n",
      "Epoch 360/500\n",
      "12/12 [==============================] - 0s 4ms/step - loss: 1718049.3750 - mse: 1718049.3750 - mae: 806.8989 - val_loss: 39763000.0000 - val_mse: 39763000.0000 - val_mae: 6238.9473\n",
      "Epoch 361/500\n",
      "12/12 [==============================] - 0s 4ms/step - loss: 1435950.8750 - mse: 1435950.8750 - mae: 798.5449 - val_loss: 22071748.0000 - val_mse: 22071748.0000 - val_mae: 4600.1797\n",
      "Epoch 362/500\n",
      "12/12 [==============================] - 0s 4ms/step - loss: 1727919.1250 - mse: 1727919.1250 - mae: 807.9745 - val_loss: 40082816.0000 - val_mse: 40082816.0000 - val_mae: 6264.3281\n",
      "Epoch 363/500\n",
      "12/12 [==============================] - 0s 4ms/step - loss: 1434249.3750 - mse: 1434249.3750 - mae: 797.7046 - val_loss: 21994050.0000 - val_mse: 21994050.0000 - val_mae: 4591.3301\n",
      "Epoch 364/500\n",
      "12/12 [==============================] - 0s 4ms/step - loss: 1718526.2500 - mse: 1718526.2500 - mae: 805.2372 - val_loss: 40034720.0000 - val_mse: 40034720.0000 - val_mae: 6260.2617\n",
      "Epoch 365/500\n",
      "12/12 [==============================] - 0s 4ms/step - loss: 1427418.6250 - mse: 1427418.6250 - mae: 795.6024 - val_loss: 22133108.0000 - val_mse: 22133108.0000 - val_mae: 4606.2148\n",
      "Epoch 366/500\n",
      "12/12 [==============================] - 0s 4ms/step - loss: 1678848.5000 - mse: 1678848.5000 - mae: 796.3894 - val_loss: 39141984.0000 - val_mse: 39141984.0000 - val_mae: 6188.1367\n",
      "Epoch 367/500\n",
      "12/12 [==============================] - 0s 4ms/step - loss: 1414718.0000 - mse: 1414718.0000 - mae: 792.0989 - val_loss: 22480970.0000 - val_mse: 22480970.0000 - val_mae: 4643.7656\n",
      "Epoch 368/500\n",
      "12/12 [==============================] - 0s 4ms/step - loss: 1680195.2500 - mse: 1680195.2500 - mae: 797.9332 - val_loss: 39010892.0000 - val_mse: 39010892.0000 - val_mae: 6177.2305\n",
      "Epoch 369/500\n",
      "12/12 [==============================] - 0s 4ms/step - loss: 1422360.6250 - mse: 1422360.6250 - mae: 794.3654 - val_loss: 22347190.0000 - val_mse: 22347190.0000 - val_mae: 4628.8340\n",
      "Epoch 370/500\n",
      "12/12 [==============================] - 0s 4ms/step - loss: 1691902.3750 - mse: 1691902.3750 - mae: 800.4605 - val_loss: 39315196.0000 - val_mse: 39315196.0000 - val_mae: 6201.5391\n",
      "Epoch 371/500\n",
      "12/12 [==============================] - 0s 4ms/step - loss: 1422624.3750 - mse: 1422624.3750 - mae: 794.3488 - val_loss: 22317734.0000 - val_mse: 22317734.0000 - val_mae: 4625.1504\n",
      "Epoch 372/500\n",
      "12/12 [==============================] - 0s 4ms/step - loss: 1694795.2500 - mse: 1694795.2500 - mae: 800.0769 - val_loss: 39522176.0000 - val_mse: 39522176.0000 - val_mae: 6217.9219\n",
      "Epoch 373/500\n",
      "12/12 [==============================] - 0s 3ms/step - loss: 1417702.8750 - mse: 1417702.8750 - mae: 792.6452 - val_loss: 22391952.0000 - val_mse: 22391952.0000 - val_mae: 4632.8203\n",
      "Epoch 374/500\n",
      "12/12 [==============================] - 0s 4ms/step - loss: 1669046.3750 - mse: 1669046.3750 - mae: 794.0984 - val_loss: 38973692.0000 - val_mse: 38973692.0000 - val_mae: 6173.3770\n",
      "Epoch 375/500\n",
      "12/12 [==============================] - 0s 4ms/step - loss: 1410246.2500 - mse: 1410246.2500 - mae: 790.7185 - val_loss: 22607860.0000 - val_mse: 22607860.0000 - val_mae: 4656.0625\n",
      "Epoch 376/500\n",
      "12/12 [==============================] - 0s 4ms/step - loss: 1681366.8750 - mse: 1681366.8750 - mae: 798.5579 - val_loss: 39036236.0000 - val_mse: 39036236.0000 - val_mae: 6178.3320\n",
      "Epoch 377/500\n",
      "12/12 [==============================] - 0s 4ms/step - loss: 1422047.5000 - mse: 1422047.5000 - mae: 794.5760 - val_loss: 22368686.0000 - val_mse: 22368686.0000 - val_mae: 4629.9727\n",
      "Epoch 378/500\n",
      "12/12 [==============================] - 0s 4ms/step - loss: 1707286.3750 - mse: 1707286.3750 - mae: 804.4221 - val_loss: 39619112.0000 - val_mse: 39619112.0000 - val_mae: 6225.3008\n"
     ]
    },
    {
     "name": "stdout",
     "output_type": "stream",
     "text": [
      "Epoch 379/500\n",
      "12/12 [==============================] - 0s 3ms/step - loss: 1427111.1250 - mse: 1427111.1250 - mae: 796.0348 - val_loss: 22101422.0000 - val_mse: 22101422.0000 - val_mae: 4600.6875\n",
      "Epoch 380/500\n",
      "12/12 [==============================] - 0s 4ms/step - loss: 1717741.0000 - mse: 1717741.0000 - mae: 806.4846 - val_loss: 39902432.0000 - val_mse: 39902432.0000 - val_mae: 6248.0156\n",
      "Epoch 381/500\n",
      "12/12 [==============================] - 0s 4ms/step - loss: 1430840.5000 - mse: 1430840.5000 - mae: 796.9025 - val_loss: 21905796.0000 - val_mse: 21905796.0000 - val_mae: 4579.1816\n",
      "Epoch 382/500\n",
      "12/12 [==============================] - 0s 4ms/step - loss: 1692349.8750 - mse: 1692349.8750 - mae: 801.5405 - val_loss: 39342148.0000 - val_mse: 39342148.0000 - val_mae: 6202.8086\n",
      "Epoch 383/500\n",
      "12/12 [==============================] - 0s 4ms/step - loss: 1424837.5000 - mse: 1424837.5000 - mae: 795.5510 - val_loss: 22167640.0000 - val_mse: 22167640.0000 - val_mae: 4607.6934\n",
      "Epoch 384/500\n",
      "12/12 [==============================] - 0s 4ms/step - loss: 1709071.6250 - mse: 1709071.6250 - mae: 806.1315 - val_loss: 39575816.0000 - val_mse: 39575816.0000 - val_mae: 6221.4453\n",
      "Epoch 385/500\n",
      "12/12 [==============================] - 0s 4ms/step - loss: 1434772.6250 - mse: 1434772.6250 - mae: 798.3395 - val_loss: 21999550.0000 - val_mse: 21999550.0000 - val_mae: 4589.0117\n",
      "Epoch 386/500\n",
      "12/12 [==============================] - 0s 4ms/step - loss: 1736107.2500 - mse: 1736107.2500 - mae: 811.2540 - val_loss: 40305184.0000 - val_mse: 40305184.0000 - val_mae: 6279.7754\n",
      "Epoch 387/500\n",
      "12/12 [==============================] - 0s 4ms/step - loss: 1436955.5000 - mse: 1436955.5000 - mae: 798.6026 - val_loss: 21797312.0000 - val_mse: 21797312.0000 - val_mae: 4566.5625\n",
      "Epoch 388/500\n",
      "12/12 [==============================] - 0s 4ms/step - loss: 1735655.8750 - mse: 1735655.8750 - mae: 810.3195 - val_loss: 40419688.0000 - val_mse: 40419688.0000 - val_mae: 6288.7949\n",
      "Epoch 389/500\n",
      "12/12 [==============================] - 0s 4ms/step - loss: 1435325.1250 - mse: 1435325.1250 - mae: 797.9045 - val_loss: 21740622.0000 - val_mse: 21740622.0000 - val_mae: 4560.2305\n",
      "Epoch 390/500\n",
      "12/12 [==============================] - 0s 4ms/step - loss: 1698320.7500 - mse: 1698320.7500 - mae: 802.6918 - val_loss: 39621800.0000 - val_mse: 39621800.0000 - val_mae: 6224.7812\n",
      "Epoch 391/500\n",
      "12/12 [==============================] - 0s 4ms/step - loss: 1424088.8750 - mse: 1424088.8750 - mae: 795.0272 - val_loss: 22122222.0000 - val_mse: 22122222.0000 - val_mae: 4601.8125\n",
      "Epoch 392/500\n",
      "12/12 [==============================] - 0s 4ms/step - loss: 1703419.7500 - mse: 1703419.7500 - mae: 804.3242 - val_loss: 39648756.0000 - val_mse: 39648756.0000 - val_mae: 6226.6035\n",
      "Epoch 393/500\n",
      "12/12 [==============================] - 0s 4ms/step - loss: 1428840.6250 - mse: 1428840.6250 - mae: 796.2533 - val_loss: 22037492.0000 - val_mse: 22037492.0000 - val_mae: 4592.2305\n",
      "Epoch 394/500\n",
      "12/12 [==============================] - 0s 4ms/step - loss: 1716844.7500 - mse: 1716844.7500 - mae: 806.5666 - val_loss: 40075952.0000 - val_mse: 40075952.0000 - val_mae: 6260.7422\n",
      "Epoch 395/500\n",
      "12/12 [==============================] - 0s 4ms/step - loss: 1426262.2500 - mse: 1426262.2500 - mae: 795.3444 - val_loss: 21960072.0000 - val_mse: 21960072.0000 - val_mae: 4583.5410\n",
      "Epoch 396/500\n",
      "12/12 [==============================] - 0s 4ms/step - loss: 1685866.6250 - mse: 1685866.6250 - mae: 799.2863 - val_loss: 39519784.0000 - val_mse: 39519784.0000 - val_mae: 6215.9336\n",
      "Epoch 397/500\n",
      "12/12 [==============================] - 0s 3ms/step - loss: 1416347.1250 - mse: 1416347.1250 - mae: 792.5797 - val_loss: 22284670.0000 - val_mse: 22284670.0000 - val_mae: 4618.6816\n",
      "Epoch 398/500\n",
      "12/12 [==============================] - 0s 4ms/step - loss: 1696216.5000 - mse: 1696216.5000 - mae: 802.9671 - val_loss: 39505520.0000 - val_mse: 39505520.0000 - val_mae: 6214.4727\n",
      "Epoch 399/500\n",
      "12/12 [==============================] - 0s 4ms/step - loss: 1429713.7500 - mse: 1429713.7500 - mae: 796.2897 - val_loss: 21995644.0000 - val_mse: 21995644.0000 - val_mae: 4586.8926\n",
      "Epoch 400/500\n",
      "12/12 [==============================] - 0s 4ms/step - loss: 1717580.2500 - mse: 1717580.2500 - mae: 807.4495 - val_loss: 40016448.0000 - val_mse: 40016448.0000 - val_mae: 6255.4219\n",
      "Epoch 401/500\n",
      "12/12 [==============================] - 0s 4ms/step - loss: 1433229.6250 - mse: 1433229.6250 - mae: 797.0485 - val_loss: 21865278.0000 - val_mse: 21865278.0000 - val_mae: 4572.4062\n",
      "Epoch 402/500\n",
      "12/12 [==============================] - 0s 4ms/step - loss: 1722895.1250 - mse: 1722895.1250 - mae: 807.5255 - val_loss: 40363568.0000 - val_mse: 40363568.0000 - val_mae: 6283.0332\n",
      "Epoch 403/500\n",
      "12/12 [==============================] - 0s 4ms/step - loss: 1426160.3750 - mse: 1426160.3750 - mae: 794.7653 - val_loss: 21913900.0000 - val_mse: 21913900.0000 - val_mae: 4577.2969\n",
      "Epoch 404/500\n",
      "12/12 [==============================] - 0s 4ms/step - loss: 1681374.6250 - mse: 1681374.6250 - mae: 798.1947 - val_loss: 39520792.0000 - val_mse: 39520792.0000 - val_mae: 6215.1582\n",
      "Epoch 405/500\n",
      "12/12 [==============================] - 0s 4ms/step - loss: 1412091.5000 - mse: 1412091.5000 - mae: 791.2750 - val_loss: 22439524.0000 - val_mse: 22439524.0000 - val_mae: 4634.5449\n",
      "Epoch 406/500\n",
      "12/12 [==============================] - 0s 4ms/step - loss: 1689552.1250 - mse: 1689552.1250 - mae: 800.4667 - val_loss: 39626888.0000 - val_mse: 39626888.0000 - val_mae: 6223.5020\n",
      "Epoch 407/500\n",
      "12/12 [==============================] - 0s 4ms/step - loss: 1417432.3750 - mse: 1417432.3750 - mae: 792.7031 - val_loss: 22235070.0000 - val_mse: 22235070.0000 - val_mae: 4611.8047\n",
      "Epoch 408/500\n",
      "12/12 [==============================] - 0s 3ms/step - loss: 1697592.5000 - mse: 1697592.5000 - mae: 802.1801 - val_loss: 39820632.0000 - val_mse: 39820632.0000 - val_mae: 6238.7871\n",
      "Epoch 409/500\n",
      "12/12 [==============================] - 0s 4ms/step - loss: 1419510.3750 - mse: 1419510.3750 - mae: 793.2487 - val_loss: 22145104.0000 - val_mse: 22145104.0000 - val_mae: 4601.7871\n",
      "Epoch 410/500\n",
      "12/12 [==============================] - 0s 4ms/step - loss: 1692964.7500 - mse: 1692964.7500 - mae: 800.4104 - val_loss: 39874500.0000 - val_mse: 39874500.0000 - val_mae: 6242.9570\n",
      "Epoch 411/500\n",
      "12/12 [==============================] - 0s 4ms/step - loss: 1410888.6250 - mse: 1410888.6250 - mae: 790.4802 - val_loss: 22263574.0000 - val_mse: 22263574.0000 - val_mae: 4614.5234\n",
      "Epoch 412/500\n",
      "12/12 [==============================] - 0s 4ms/step - loss: 1653979.7500 - mse: 1653979.7500 - mae: 791.3568 - val_loss: 39046180.0000 - val_mse: 39046180.0000 - val_mae: 6175.9316\n",
      "Epoch 413/500\n",
      "12/12 [==============================] - 0s 4ms/step - loss: 1398989.5000 - mse: 1398989.5000 - mae: 787.8351 - val_loss: 22724166.0000 - val_mse: 22724166.0000 - val_mae: 4663.9727\n",
      "Epoch 414/500\n",
      "12/12 [==============================] - 0s 4ms/step - loss: 1660475.8750 - mse: 1660475.8750 - mae: 793.5198 - val_loss: 39107592.0000 - val_mse: 39107592.0000 - val_mae: 6180.4785\n",
      "Epoch 415/500\n",
      "12/12 [==============================] - 0s 3ms/step - loss: 1402975.8750 - mse: 1402975.8750 - mae: 788.4313 - val_loss: 22563674.0000 - val_mse: 22563674.0000 - val_mae: 4646.2773\n",
      "Epoch 416/500\n",
      "12/12 [==============================] - 0s 4ms/step - loss: 1669062.3750 - mse: 1669062.3750 - mae: 795.5439 - val_loss: 39247572.0000 - val_mse: 39247572.0000 - val_mae: 6191.6504\n",
      "Epoch 417/500\n",
      "12/12 [==============================] - 0s 3ms/step - loss: 1408048.1250 - mse: 1408048.1250 - mae: 789.6257 - val_loss: 22426192.0000 - val_mse: 22426192.0000 - val_mae: 4631.2070\n",
      "Epoch 418/500\n",
      "12/12 [==============================] - 0s 4ms/step - loss: 1672608.5000 - mse: 1672608.5000 - mae: 795.9069 - val_loss: 39459684.0000 - val_mse: 39459684.0000 - val_mae: 6208.5703\n",
      "Epoch 419/500\n",
      "12/12 [==============================] - 0s 4ms/step - loss: 1403372.1250 - mse: 1403372.1250 - mae: 788.5735 - val_loss: 22453140.0000 - val_mse: 22453140.0000 - val_mae: 4633.4961\n",
      "Epoch 420/500\n",
      "12/12 [==============================] - 0s 4ms/step - loss: 1641610.8750 - mse: 1641610.8750 - mae: 788.5106 - val_loss: 38811452.0000 - val_mse: 38811452.0000 - val_mae: 6155.6172\n"
     ]
    },
    {
     "name": "stdout",
     "output_type": "stream",
     "text": [
      "Epoch 421/500\n",
      "12/12 [==============================] - 0s 4ms/step - loss: 1394542.6250 - mse: 1394542.6250 - mae: 787.1207 - val_loss: 22840960.0000 - val_mse: 22840960.0000 - val_mae: 4675.1621\n",
      "Epoch 422/500\n",
      "12/12 [==============================] - 0s 4ms/step - loss: 1656703.6250 - mse: 1656703.6250 - mae: 793.0384 - val_loss: 38998392.0000 - val_mse: 38998392.0000 - val_mae: 6170.6133\n",
      "Epoch 423/500\n",
      "12/12 [==============================] - 0s 4ms/step - loss: 1404148.6250 - mse: 1404148.6250 - mae: 788.6937 - val_loss: 22609752.0000 - val_mse: 22609752.0000 - val_mae: 4649.9883\n",
      "Epoch 424/500\n",
      "12/12 [==============================] - 0s 4ms/step - loss: 1684919.6250 - mse: 1684919.6250 - mae: 799.3945 - val_loss: 39649300.0000 - val_mse: 39649300.0000 - val_mae: 6223.0703\n",
      "Epoch 425/500\n",
      "12/12 [==============================] - 0s 4ms/step - loss: 1411663.0000 - mse: 1411663.0000 - mae: 790.7885 - val_loss: 22307534.0000 - val_mse: 22307534.0000 - val_mae: 4616.6016\n",
      "Epoch 426/500\n",
      "12/12 [==============================] - 0s 4ms/step - loss: 1693367.6250 - mse: 1693367.6250 - mae: 800.9544 - val_loss: 39892840.0000 - val_mse: 39892840.0000 - val_mae: 6242.3164\n",
      "Epoch 427/500\n",
      "12/12 [==============================] - 0s 4ms/step - loss: 1414039.0000 - mse: 1414039.0000 - mae: 791.2854 - val_loss: 22106664.0000 - val_mse: 22106664.0000 - val_mae: 4594.5625\n",
      "Epoch 428/500\n",
      "12/12 [==============================] - 0s 4ms/step - loss: 1662600.0000 - mse: 1662600.0000 - mae: 794.5348 - val_loss: 39200304.0000 - val_mse: 39200304.0000 - val_mae: 6186.4297\n",
      "Epoch 429/500\n",
      "12/12 [==============================] - 0s 4ms/step - loss: 1406320.7500 - mse: 1406320.7500 - mae: 789.3117 - val_loss: 22462872.0000 - val_mse: 22462872.0000 - val_mae: 4633.4121\n",
      "Epoch 430/500\n",
      "12/12 [==============================] - 0s 4ms/step - loss: 1680715.5000 - mse: 1680715.5000 - mae: 799.6408 - val_loss: 39480456.0000 - val_mse: 39480456.0000 - val_mae: 6209.0234\n",
      "Epoch 431/500\n",
      "12/12 [==============================] - 0s 4ms/step - loss: 1416568.0000 - mse: 1416568.0000 - mae: 792.3228 - val_loss: 22230670.0000 - val_mse: 22230670.0000 - val_mae: 4608.0371\n",
      "Epoch 432/500\n",
      "12/12 [==============================] - 0s 4ms/step - loss: 1707157.1250 - mse: 1707157.1250 - mae: 805.1113 - val_loss: 40134152.0000 - val_mse: 40134152.0000 - val_mae: 6261.4590\n",
      "Epoch 433/500\n",
      "12/12 [==============================] - 0s 4ms/step - loss: 1421850.0000 - mse: 1421850.0000 - mae: 793.6636 - val_loss: 22061696.0000 - val_mse: 22061696.0000 - val_mae: 4589.0098\n",
      "Epoch 434/500\n",
      "12/12 [==============================] - 0s 4ms/step - loss: 1715778.8750 - mse: 1715778.8750 - mae: 805.7548 - val_loss: 40527900.0000 - val_mse: 40527900.0000 - val_mae: 6292.5781\n",
      "Epoch 435/500\n",
      "12/12 [==============================] - 0s 4ms/step - loss: 1417786.6250 - mse: 1417786.6250 - mae: 792.2382 - val_loss: 22022052.0000 - val_mse: 22022052.0000 - val_mae: 4584.5996\n",
      "Epoch 436/500\n",
      "12/12 [==============================] - 0s 4ms/step - loss: 1680096.1250 - mse: 1680096.1250 - mae: 798.0208 - val_loss: 39807648.0000 - val_mse: 39807648.0000 - val_mae: 6235.0234\n",
      "Epoch 437/500\n",
      "12/12 [==============================] - 0s 4ms/step - loss: 1406620.3750 - mse: 1406620.3750 - mae: 789.2998 - val_loss: 22260838.0000 - val_mse: 22260838.0000 - val_mae: 4610.8984\n",
      "Epoch 438/500\n",
      "12/12 [==============================] - 0s 4ms/step - loss: 1676931.8750 - mse: 1676931.8750 - mae: 799.0417 - val_loss: 39464728.0000 - val_mse: 39464728.0000 - val_mae: 6207.3125\n",
      "Epoch 439/500\n",
      "12/12 [==============================] - 0s 4ms/step - loss: 1416277.6250 - mse: 1416277.6250 - mae: 792.1682 - val_loss: 22104728.0000 - val_mse: 22104728.0000 - val_mae: 4593.3359\n",
      "Epoch 440/500\n",
      "12/12 [==============================] - 0s 4ms/step - loss: 1684299.8750 - mse: 1684299.8750 - mae: 800.2613 - val_loss: 39766096.0000 - val_mse: 39766096.0000 - val_mae: 6231.1973\n",
      "Epoch 441/500\n",
      "12/12 [==============================] - 0s 4ms/step - loss: 1411344.7500 - mse: 1411344.7500 - mae: 790.4562 - val_loss: 22074012.0000 - val_mse: 22074012.0000 - val_mae: 4589.7910\n",
      "Epoch 442/500\n",
      "12/12 [==============================] - 0s 4ms/step - loss: 1647619.0000 - mse: 1647619.0000 - mae: 791.4977 - val_loss: 39096916.0000 - val_mse: 39096916.0000 - val_mae: 6177.1270\n",
      "Epoch 443/500\n",
      "12/12 [==============================] - 0s 4ms/step - loss: 1398329.1250 - mse: 1398329.1250 - mae: 788.2581 - val_loss: 22627510.0000 - val_mse: 22627510.0000 - val_mae: 4650.0488\n",
      "Epoch 444/500\n",
      "12/12 [==============================] - 0s 4ms/step - loss: 1662490.1250 - mse: 1662490.1250 - mae: 795.5892 - val_loss: 39334272.0000 - val_mse: 39334272.0000 - val_mae: 6196.2812\n",
      "Epoch 445/500\n",
      "12/12 [==============================] - 0s 5ms/step - loss: 1406294.7500 - mse: 1406294.7500 - mae: 789.4757 - val_loss: 22456526.0000 - val_mse: 22456526.0000 - val_mae: 4631.3086\n",
      "Epoch 446/500\n",
      "12/12 [==============================] - 0s 4ms/step - loss: 1686565.3750 - mse: 1686565.3750 - mae: 800.3916 - val_loss: 39967240.0000 - val_mse: 39967240.0000 - val_mae: 6247.0859\n",
      "Epoch 447/500\n",
      "12/12 [==============================] - 0s 4ms/step - loss: 1409755.2500 - mse: 1409755.2500 - mae: 789.9494 - val_loss: 22320170.0000 - val_mse: 22320170.0000 - val_mae: 4616.2266\n",
      "Epoch 448/500\n",
      "12/12 [==============================] - 0s 5ms/step - loss: 1694383.5000 - mse: 1694383.5000 - mae: 801.0798 - val_loss: 40326260.0000 - val_mse: 40326260.0000 - val_mae: 6275.6602\n",
      "Epoch 449/500\n",
      "12/12 [==============================] - 0s 4ms/step - loss: 1404489.8750 - mse: 1404489.8750 - mae: 788.7928 - val_loss: 22290508.0000 - val_mse: 22290508.0000 - val_mae: 4612.3750\n",
      "Epoch 450/500\n",
      "12/12 [==============================] - 0s 4ms/step - loss: 1655218.5000 - mse: 1655218.5000 - mae: 792.0312 - val_loss: 39531740.0000 - val_mse: 39531740.0000 - val_mae: 6211.5156\n",
      "Epoch 451/500\n",
      "12/12 [==============================] - 0s 4ms/step - loss: 1393826.0000 - mse: 1393826.0000 - mae: 787.2667 - val_loss: 22597000.0000 - val_mse: 22597000.0000 - val_mae: 4645.6914\n",
      "Epoch 452/500\n",
      "12/12 [==============================] - 0s 4ms/step - loss: 1654607.6250 - mse: 1654607.6250 - mae: 793.7759 - val_loss: 39210528.0000 - val_mse: 39210528.0000 - val_mae: 6185.5508\n",
      "Epoch 453/500\n",
      "12/12 [==============================] - 0s 4ms/step - loss: 1404809.0000 - mse: 1404809.0000 - mae: 789.4344 - val_loss: 22381968.0000 - val_mse: 22381968.0000 - val_mae: 4622.4023\n",
      "Epoch 454/500\n",
      "12/12 [==============================] - 0s 4ms/step - loss: 1666582.7500 - mse: 1666582.7500 - mae: 796.5337 - val_loss: 39551044.0000 - val_mse: 39551044.0000 - val_mae: 6213.0547\n",
      "Epoch 455/500\n",
      "12/12 [==============================] - 0s 4ms/step - loss: 1403132.2500 - mse: 1403132.2500 - mae: 788.9952 - val_loss: 22410072.0000 - val_mse: 22410072.0000 - val_mae: 4625.2871\n",
      "Epoch 456/500\n",
      "12/12 [==============================] - 0s 4ms/step - loss: 1666608.7500 - mse: 1666608.7500 - mae: 795.1357 - val_loss: 39806264.0000 - val_mse: 39806264.0000 - val_mae: 6233.3984\n",
      "Epoch 457/500\n",
      "12/12 [==============================] - 0s 4ms/step - loss: 1394141.0000 - mse: 1394141.0000 - mae: 787.3442 - val_loss: 22538268.0000 - val_mse: 22538268.0000 - val_mae: 4638.8359\n",
      "Epoch 458/500\n",
      "12/12 [==============================] - 0s 4ms/step - loss: 1628612.7500 - mse: 1628612.7500 - mae: 785.9915 - val_loss: 39037484.0000 - val_mse: 39037484.0000 - val_mae: 6171.0488\n",
      "Epoch 459/500\n",
      "12/12 [==============================] - 0s 4ms/step - loss: 1381472.2500 - mse: 1381472.2500 - mae: 785.2509 - val_loss: 23043942.0000 - val_mse: 23043942.0000 - val_mae: 4693.1055\n",
      "Epoch 460/500\n",
      "12/12 [==============================] - 0s 5ms/step - loss: 1636968.7500 - mse: 1636968.7500 - mae: 788.5492 - val_loss: 39121068.0000 - val_mse: 39121068.0000 - val_mae: 6177.5469\n",
      "Epoch 461/500\n",
      "12/12 [==============================] - 0s 4ms/step - loss: 1387045.5000 - mse: 1387045.5000 - mae: 786.2391 - val_loss: 22771232.0000 - val_mse: 22771232.0000 - val_mae: 4663.0020\n",
      "Epoch 462/500\n",
      "12/12 [==============================] - 0s 4ms/step - loss: 1644222.8750 - mse: 1644222.8750 - mae: 790.6826 - val_loss: 39155396.0000 - val_mse: 39155396.0000 - val_mae: 6179.8457\n"
     ]
    },
    {
     "name": "stdout",
     "output_type": "stream",
     "text": [
      "Epoch 463/500\n",
      "12/12 [==============================] - 0s 4ms/step - loss: 1395601.6250 - mse: 1395601.6250 - mae: 787.8514 - val_loss: 22591812.0000 - val_mse: 22591812.0000 - val_mae: 4643.4785\n",
      "Epoch 464/500\n",
      "12/12 [==============================] - 0s 4ms/step - loss: 1647019.5000 - mse: 1647019.5000 - mae: 791.0351 - val_loss: 39371528.0000 - val_mse: 39371528.0000 - val_mae: 6197.2891\n",
      "Epoch 465/500\n",
      "12/12 [==============================] - 0s 4ms/step - loss: 1389114.8750 - mse: 1389114.8750 - mae: 786.6702 - val_loss: 22658124.0000 - val_mse: 22658124.0000 - val_mae: 4650.5703\n",
      "Epoch 466/500\n",
      "12/12 [==============================] - 0s 4ms/step - loss: 1614937.2500 - mse: 1614937.2500 - mae: 783.2628 - val_loss: 38721428.0000 - val_mse: 38721428.0000 - val_mae: 6144.4707\n",
      "Epoch 467/500\n",
      "12/12 [==============================] - 0s 3ms/step - loss: 1378574.2500 - mse: 1378574.2500 - mae: 784.9340 - val_loss: 23132694.0000 - val_mse: 23132694.0000 - val_mae: 4701.4902\n",
      "Epoch 468/500\n",
      "12/12 [==============================] - 0s 4ms/step - loss: 1631493.5000 - mse: 1631493.5000 - mae: 787.8954 - val_loss: 39001352.0000 - val_mse: 39001352.0000 - val_mae: 6166.9824\n",
      "Epoch 469/500\n",
      "12/12 [==============================] - 0s 4ms/step - loss: 1387347.2500 - mse: 1387347.2500 - mae: 786.4617 - val_loss: 22928300.0000 - val_mse: 22928300.0000 - val_mae: 4679.2148\n",
      "Epoch 470/500\n",
      "12/12 [==============================] - 0s 4ms/step - loss: 1659333.0000 - mse: 1659333.0000 - mae: 793.9215 - val_loss: 39681344.0000 - val_mse: 39681344.0000 - val_mae: 6221.9082\n",
      "Epoch 471/500\n",
      "12/12 [==============================] - 0s 4ms/step - loss: 1393864.7500 - mse: 1393864.7500 - mae: 787.5268 - val_loss: 22708938.0000 - val_mse: 22708938.0000 - val_mae: 4655.4102\n",
      "Epoch 472/500\n",
      "12/12 [==============================] - 0s 4ms/step - loss: 1676140.1250 - mse: 1676140.1250 - mae: 796.9520 - val_loss: 40194328.0000 - val_mse: 40194328.0000 - val_mae: 6262.9316\n",
      "Epoch 473/500\n",
      "12/12 [==============================] - 0s 3ms/step - loss: 1394102.5000 - mse: 1394102.5000 - mae: 787.3964 - val_loss: 22357206.0000 - val_mse: 22357206.0000 - val_mae: 4617.0605\n",
      "Epoch 474/500\n",
      "12/12 [==============================] - 0s 4ms/step - loss: 1635039.1250 - mse: 1635039.1250 - mae: 788.9948 - val_loss: 39118384.0000 - val_mse: 39118384.0000 - val_mae: 6176.1445\n",
      "Epoch 475/500\n",
      "12/12 [==============================] - 0s 4ms/step - loss: 1392176.1250 - mse: 1392176.1250 - mae: 787.7902 - val_loss: 22650100.0000 - val_mse: 22650100.0000 - val_mae: 4648.8906\n",
      "Epoch 476/500\n",
      "12/12 [==============================] - 0s 4ms/step - loss: 1647588.7500 - mse: 1647588.7500 - mae: 793.3431 - val_loss: 39250512.0000 - val_mse: 39250512.0000 - val_mae: 6186.8008\n",
      "Epoch 477/500\n",
      "12/12 [==============================] - 0s 4ms/step - loss: 1399373.8750 - mse: 1399373.8750 - mae: 789.3954 - val_loss: 22522084.0000 - val_mse: 22522084.0000 - val_mae: 4634.8672\n",
      "Epoch 478/500\n",
      "12/12 [==============================] - 0s 4ms/step - loss: 1670068.1250 - mse: 1670068.1250 - mae: 797.5469 - val_loss: 39896712.0000 - val_mse: 39896712.0000 - val_mae: 6238.7676\n",
      "Epoch 479/500\n",
      "12/12 [==============================] - 0s 4ms/step - loss: 1401020.1250 - mse: 1401020.1250 - mae: 789.4122 - val_loss: 22453516.0000 - val_mse: 22453516.0000 - val_mae: 4627.1328\n",
      "Epoch 480/500\n",
      "12/12 [==============================] - 0s 4ms/step - loss: 1676891.7500 - mse: 1676891.7500 - mae: 797.6690 - val_loss: 40295912.0000 - val_mse: 40295912.0000 - val_mae: 6270.5977\n",
      "Epoch 481/500\n",
      "12/12 [==============================] - 0s 4ms/step - loss: 1394817.3750 - mse: 1394817.3750 - mae: 787.9488 - val_loss: 22478156.0000 - val_mse: 22478156.0000 - val_mae: 4629.6777\n",
      "Epoch 482/500\n",
      "12/12 [==============================] - 0s 4ms/step - loss: 1640132.2500 - mse: 1640132.2500 - mae: 789.2187 - val_loss: 39549140.0000 - val_mse: 39549140.0000 - val_mae: 6210.6973\n",
      "Epoch 483/500\n",
      "12/12 [==============================] - 0s 4ms/step - loss: 1382887.8750 - mse: 1382887.8750 - mae: 785.7950 - val_loss: 22935000.0000 - val_mse: 22935000.0000 - val_mae: 4679.1074\n",
      "Epoch 484/500\n",
      "12/12 [==============================] - 0s 4ms/step - loss: 1650698.2500 - mse: 1650698.2500 - mae: 792.2621 - val_loss: 39682152.0000 - val_mse: 39682152.0000 - val_mae: 6221.2578\n",
      "Epoch 485/500\n",
      "12/12 [==============================] - 0s 4ms/step - loss: 1389842.5000 - mse: 1389842.5000 - mae: 787.3176 - val_loss: 22606538.0000 - val_mse: 22606538.0000 - val_mae: 4643.4297\n",
      "Epoch 486/500\n",
      "12/12 [==============================] - 0s 4ms/step - loss: 1655773.3750 - mse: 1655773.3750 - mae: 794.0255 - val_loss: 39680256.0000 - val_mse: 39680256.0000 - val_mae: 6220.9746\n",
      "Epoch 487/500\n",
      "12/12 [==============================] - 0s 4ms/step - loss: 1396668.5000 - mse: 1396668.5000 - mae: 788.9028 - val_loss: 22458308.0000 - val_mse: 22458308.0000 - val_mae: 4627.2891\n",
      "Epoch 488/500\n",
      "12/12 [==============================] - 0s 4ms/step - loss: 1650972.2500 - mse: 1650972.2500 - mae: 792.2943 - val_loss: 39788024.0000 - val_mse: 39788024.0000 - val_mae: 6229.6445\n",
      "Epoch 489/500\n",
      "12/12 [==============================] - 0s 4ms/step - loss: 1385943.2500 - mse: 1385943.2500 - mae: 786.5925 - val_loss: 22661964.0000 - val_mse: 22661964.0000 - val_mae: 4649.2539\n",
      "Epoch 490/500\n",
      "12/12 [==============================] - 0s 4ms/step - loss: 1611155.7500 - mse: 1611155.7500 - mae: 782.3984 - val_loss: 38990420.0000 - val_mse: 38990420.0000 - val_mae: 6164.9609\n",
      "Epoch 491/500\n",
      "12/12 [==============================] - 0s 4ms/step - loss: 1371524.7500 - mse: 1371524.7500 - mae: 783.8399 - val_loss: 23231668.0000 - val_mse: 23231668.0000 - val_mae: 4710.1875\n",
      "Epoch 492/500\n",
      "12/12 [==============================] - 0s 4ms/step - loss: 1617402.5000 - mse: 1617402.5000 - mae: 784.0948 - val_loss: 39083584.0000 - val_mse: 39083584.0000 - val_mae: 6172.2168\n",
      "Epoch 493/500\n",
      "12/12 [==============================] - 0s 4ms/step - loss: 1374937.1250 - mse: 1374937.1250 - mae: 784.5977 - val_loss: 23183934.0000 - val_mse: 23183934.0000 - val_mae: 4704.7422\n",
      "Epoch 494/500\n",
      "12/12 [==============================] - 0s 4ms/step - loss: 1634719.2500 - mse: 1634719.2500 - mae: 787.4770 - val_loss: 39570772.0000 - val_mse: 39570772.0000 - val_mae: 6211.5742\n",
      "Epoch 495/500\n",
      "12/12 [==============================] - 0s 4ms/step - loss: 1376371.5000 - mse: 1376371.5000 - mae: 784.7136 - val_loss: 22913326.0000 - val_mse: 22913326.0000 - val_mae: 4675.6191\n",
      "Epoch 496/500\n",
      "12/12 [==============================] - 0s 4ms/step - loss: 1628867.2500 - mse: 1628867.2500 - mae: 786.4017 - val_loss: 39380968.0000 - val_mse: 39380968.0000 - val_mae: 6196.0605\n",
      "Epoch 497/500\n",
      "12/12 [==============================] - 0s 4ms/step - loss: 1378838.6250 - mse: 1378838.6250 - mae: 785.3790 - val_loss: 22815200.0000 - val_mse: 22815200.0000 - val_mae: 4664.7930\n",
      "Epoch 498/500\n",
      "12/12 [==============================] - 0s 4ms/step - loss: 1593023.6250 - mse: 1593023.6250 - mae: 778.4929 - val_loss: 38569708.0000 - val_mse: 38569708.0000 - val_mae: 6129.8125\n",
      "Epoch 499/500\n",
      "12/12 [==============================] - 0s 5ms/step - loss: 1367475.5000 - mse: 1367475.5000 - mae: 783.2759 - val_loss: 23353874.0000 - val_mse: 23353874.0000 - val_mae: 4722.2441\n",
      "Epoch 500/500\n",
      "12/12 [==============================] - 0s 5ms/step - loss: 1606097.7500 - mse: 1606097.7500 - mae: 781.8441 - val_loss: 38831080.0000 - val_mse: 38831080.0000 - val_mae: 6151.0078\n"
     ]
    }
   ],
   "source": [
    "model=model_dnn(look_back)\n",
    "history=model.fit(trainX,trainY, epochs=500, batch_size=4, verbose=1, validation_data=(testX,testY),shuffle=False)"
   ]
  },
  {
   "cell_type": "code",
   "execution_count": 30,
   "id": "-rpf61zw61Dp",
   "metadata": {
    "id": "-rpf61zw61Dp"
   },
   "outputs": [],
   "source": [
    "def model_loss(history):\n",
    "    plt.figure(figsize=(8,4))\n",
    "    plt.plot(history.history['loss'], label='Train Loss')\n",
    "    plt.plot(history.history['val_loss'], label='Test Loss')\n",
    "    plt.title('model loss')\n",
    "    plt.ylabel('loss')\n",
    "    plt.xlabel('epochs')\n",
    "    plt.legend(loc='upper right')\n",
    "    plt.show();"
   ]
  },
  {
   "cell_type": "code",
   "execution_count": 31,
   "id": "BceAFK1h64qc",
   "metadata": {
    "colab": {
     "base_uri": "https://localhost:8080/"
    },
    "id": "BceAFK1h64qc",
    "outputId": "cd217888-064f-4329-9677-fae680d74e33"
   },
   "outputs": [
    {
     "name": "stdout",
     "output_type": "stream",
     "text": [
      "Train Root Mean Squared Error(RMSE): 1158.29; Train Mean Absolute Error(MAE) : 734.11 \n",
      "[1341638.25, 1341638.25, 734.1107788085938]\n",
      "[38831080.0, 38831080.0, 6151.0078125]\n",
      "Test Root Mean Squared Error(RMSE): 6231.46; Test Mean Absolute Error(MAE) : 6151.01 \n"
     ]
    }
   ],
   "source": [
    "train_score = model.evaluate(trainX, trainY, verbose=0)\n",
    "print('Train Root Mean Squared Error(RMSE): %.2f; Train Mean Absolute Error(MAE) : %.2f ' \n",
    "% (np.sqrt(train_score[1]), train_score[2]))\n",
    "test_score = model.evaluate(testX, testY, verbose=0)\n",
    "print(train_score)\n",
    "print(test_score)\n",
    "print('Test Root Mean Squared Error(RMSE): %.2f; Test Mean Absolute Error(MAE) : %.2f ' \n",
    "% (np.sqrt(test_score[1]), test_score[2]))"
   ]
  },
  {
   "cell_type": "code",
   "execution_count": 32,
   "id": "ZFgOi5qd66W0",
   "metadata": {
    "id": "ZFgOi5qd66W0"
   },
   "outputs": [],
   "source": [
    " def prediction_plot(testY, test_predict):\n",
    "      len_prediction=[x for x in range(len(testY))]\n",
    "      plt.figure(figsize=(8,4))\n",
    "      plt.plot(len_prediction, testY[:8], marker='.', label=\"actual\")\n",
    "      plt.plot(len_prediction, test_predict[:8], 'r', label=\"prediction\")\n",
    "      plt.tight_layout()\n",
    "      sns.despine(top=True)\n",
    "      plt.subplots_adjust(left=0.07)\n",
    "      plt.ylabel('Ads Daily Spend', size=15)\n",
    "      plt.xlabel('Time step', size=15)\n",
    "      plt.legend(fontsize=15)\n",
    "      plt.show();"
   ]
  },
  {
   "cell_type": "code",
   "execution_count": 33,
   "id": "jsigGP73683z",
   "metadata": {
    "colab": {
     "base_uri": "https://localhost:8080/",
     "height": 330
    },
    "id": "jsigGP73683z",
    "outputId": "2f06ddaa-1fb3-42db-dd8d-634f288ed081"
   },
   "outputs": [
    {
     "data": {
      "image/png": "[encoded data removed]",
      "text/plain": [
       "<Figure size 576x288 with 1 Axes>"
      ]
     },
     "metadata": {},
     "output_type": "display_data"
    }
   ],
   "source": [
    "test_predict = model.predict(testX)\n",
    "prediction_plot(testY, test_predict)"
   ]
  },
  {
   "cell_type": "markdown",
   "id": "Qiub4bVRgLE2",
   "metadata": {
    "id": "Qiub4bVRgLE2"
   },
   "source": [
    "## **GRU and BiLSTM Models** "
   ]
  },
  {
   "cell_type": "code",
   "execution_count": 34,
   "id": "7l5vQ5W59PJi",
   "metadata": {
    "colab": {
     "base_uri": "https://localhost:8080/",
     "height": 206
    },
    "id": "7l5vQ5W59PJi",
    "outputId": "6f0e3503-ad17-4150-e6f4-6858329061d1"
   },
   "outputs": [
    {
     "data": {
      "text/html": [
       "<div>\n",
       "<style scoped>\n",
       "    .dataframe tbody tr th:only-of-type {\n",
       "        vertical-align: middle;\n",
       "    }\n",
       "\n",
       "    .dataframe tbody tr th {\n",
       "        vertical-align: top;\n",
       "    }\n",
       "\n",
       "    .dataframe thead th {\n",
       "        text-align: right;\n",
       "    }\n",
       "</style>\n",
       "<table border=\"1\" class=\"dataframe\">\n",
       "  <thead>\n",
       "    <tr style=\"text-align: right;\">\n",
       "      <th></th>\n",
       "      <th>Date</th>\n",
       "      <th>Quarterly Profit</th>\n",
       "    </tr>\n",
       "  </thead>\n",
       "  <tbody>\n",
       "    <tr>\n",
       "      <th>0</th>\n",
       "      <td>2009-03-31</td>\n",
       "      <td>1148</td>\n",
       "    </tr>\n",
       "    <tr>\n",
       "      <th>1</th>\n",
       "      <td>2009-06-30</td>\n",
       "      <td>1133</td>\n",
       "    </tr>\n",
       "    <tr>\n",
       "      <th>2</th>\n",
       "      <td>2009-09-30</td>\n",
       "      <td>1273</td>\n",
       "    </tr>\n",
       "    <tr>\n",
       "      <th>3</th>\n",
       "      <td>2009-12-31</td>\n",
       "      <td>1977</td>\n",
       "    </tr>\n",
       "    <tr>\n",
       "      <th>4</th>\n",
       "      <td>2010-03-31</td>\n",
       "      <td>1630</td>\n",
       "    </tr>\n",
       "  </tbody>\n",
       "</table>\n",
       "</div>"
      ],
      "text/plain": [
       "        Date  Quarterly Profit\n",
       "0 2009-03-31              1148\n",
       "1 2009-06-30              1133\n",
       "2 2009-09-30              1273\n",
       "3 2009-12-31              1977\n",
       "4 2010-03-31              1630"
      ]
     },
     "execution_count": 34,
     "metadata": {},
     "output_type": "execute_result"
    }
   ],
   "source": [
    "df=pd.read_excel('Amazon Quarterly Gross Profit.xlsx')\n",
    "df.head()"
   ]
  },
  {
   "cell_type": "code",
   "execution_count": 35,
   "id": "stmyEe0X9Iz2",
   "metadata": {
    "colab": {
     "base_uri": "https://localhost:8080/",
     "height": 237
    },
    "id": "stmyEe0X9Iz2",
    "outputId": "f4902349-8805-459f-93b9-4648f1ab8db0"
   },
   "outputs": [
    {
     "data": {
      "text/html": [
       "<div>\n",
       "<style scoped>\n",
       "    .dataframe tbody tr th:only-of-type {\n",
       "        vertical-align: middle;\n",
       "    }\n",
       "\n",
       "    .dataframe tbody tr th {\n",
       "        vertical-align: top;\n",
       "    }\n",
       "\n",
       "    .dataframe thead th {\n",
       "        text-align: right;\n",
       "    }\n",
       "</style>\n",
       "<table border=\"1\" class=\"dataframe\">\n",
       "  <thead>\n",
       "    <tr style=\"text-align: right;\">\n",
       "      <th></th>\n",
       "      <th>Quarterly Profit</th>\n",
       "    </tr>\n",
       "    <tr>\n",
       "      <th>Date</th>\n",
       "      <th></th>\n",
       "    </tr>\n",
       "  </thead>\n",
       "  <tbody>\n",
       "    <tr>\n",
       "      <th>2009-03-31</th>\n",
       "      <td>1148</td>\n",
       "    </tr>\n",
       "    <tr>\n",
       "      <th>2009-06-30</th>\n",
       "      <td>1133</td>\n",
       "    </tr>\n",
       "    <tr>\n",
       "      <th>2009-09-30</th>\n",
       "      <td>1273</td>\n",
       "    </tr>\n",
       "    <tr>\n",
       "      <th>2009-12-31</th>\n",
       "      <td>1977</td>\n",
       "    </tr>\n",
       "    <tr>\n",
       "      <th>2010-03-31</th>\n",
       "      <td>1630</td>\n",
       "    </tr>\n",
       "  </tbody>\n",
       "</table>\n",
       "</div>"
      ],
      "text/plain": [
       "            Quarterly Profit\n",
       "Date                        \n",
       "2009-03-31              1148\n",
       "2009-06-30              1133\n",
       "2009-09-30              1273\n",
       "2009-12-31              1977\n",
       "2010-03-31              1630"
      ]
     },
     "execution_count": 35,
     "metadata": {},
     "output_type": "execute_result"
    }
   ],
   "source": [
    "df = df.set_index('Date')\n",
    "df.head()"
   ]
  },
  {
   "cell_type": "code",
   "execution_count": 36,
   "id": "_8SqLY5y8VQE",
   "metadata": {
    "id": "_8SqLY5y8VQE"
   },
   "outputs": [],
   "source": [
    "# Split train data and test data\n",
    "train_size = int(len(df)*0.8)\n",
    "\n",
    "train_data = df.iloc[:train_size]\n",
    "test_data = df.iloc[train_size:]"
   ]
  },
  {
   "cell_type": "code",
   "execution_count": 37,
   "id": "klH9IgPj8ZHg",
   "metadata": {
    "id": "klH9IgPj8ZHg"
   },
   "outputs": [],
   "source": [
    "scaler = MinMaxScaler().fit(train_data)\n",
    "train_scaled = scaler.transform(train_data)\n",
    "test_scaled = scaler.transform(test_data)"
   ]
  },
  {
   "cell_type": "code",
   "execution_count": 38,
   "id": "z2xFE9KN9d0f",
   "metadata": {
    "colab": {
     "base_uri": "https://localhost:8080/"
    },
    "id": "z2xFE9KN9d0f",
    "outputId": "b22f478d-1442-4e17-dc0c-ff6747f3b71a"
   },
   "outputs": [
    {
     "name": "stdout",
     "output_type": "stream",
     "text": [
      "X_train.shape:  (40, 4, 1)\n",
      "y_train.shape:  (40, 1)\n",
      "X_test.shape:  (7, 4, 1)\n",
      "y_test.shape:  (7, 1)\n"
     ]
    }
   ],
   "source": [
    "# Create input dataset\n",
    "def create_dataset (X, look_back = 1):\n",
    "    Xs, ys = [], []\n",
    " \n",
    "    for i in range(len(X)-look_back):\n",
    "        v = X[i:i+look_back]\n",
    "        Xs.append(v)\n",
    "        ys.append(X[i+look_back])\n",
    " \n",
    "    return np.array(Xs), np.array(ys)\n",
    "LOOK_BACK = 4\n",
    "X_train, y_train = create_dataset(train_scaled,LOOK_BACK)\n",
    "X_test, y_test = create_dataset(test_scaled,LOOK_BACK)\n",
    "# Print data shape\n",
    "print('X_train.shape: ', X_train.shape)\n",
    "print('y_train.shape: ', y_train.shape)\n",
    "print('X_test.shape: ', X_test.shape) \n",
    "print('y_test.shape: ', y_test.shape)"
   ]
  },
  {
   "cell_type": "code",
   "execution_count": 39,
   "id": "Z81zZXh86-iY",
   "metadata": {
    "id": "Z81zZXh86-iY"
   },
   "outputs": [],
   "source": [
    "# Create BiLSTM model\n",
    "def create_bilstm(units):\n",
    "    model = Sequential()\n",
    "    # Input layer\n",
    "    model.add(Bidirectional(\n",
    "              LSTM(units = units, return_sequences=True), \n",
    "              input_shape=(X_train.shape[1], X_train.shape[2])))\n",
    "    # Hidden layer\n",
    "    model.add(Bidirectional(LSTM(units = units)))\n",
    "    model.add(Dense(1))\n",
    "    #Compile model\n",
    "    model.compile(optimizer='adam',loss='mse')\n",
    "    return model\n",
    "model_bilstm = create_bilstm(64)\n",
    "# Create GRU model\n",
    "def create_gru(units):\n",
    "    model = Sequential()\n",
    "    # Input layer\n",
    "    model.add(GRU (units = units, return_sequences = True, \n",
    "    input_shape = [X_train.shape[1], X_train.shape[2]]))\n",
    "    model.add(Dropout(0.2)) \n",
    "    # Hidden layer\n",
    "    model.add(GRU(units = units)) \n",
    "    model.add(Dropout(0.2))\n",
    "    model.add(Dense(units = 1)) \n",
    "    #Compile model\n",
    "    model.compile(optimizer='adam',loss='mse')\n",
    "    return model\n",
    "model_gru = create_gru(64)"
   ]
  },
  {
   "cell_type": "code",
   "execution_count": 40,
   "id": "HlGQRllN7qgP",
   "metadata": {
    "colab": {
     "base_uri": "https://localhost:8080/"
    },
    "id": "HlGQRllN7qgP",
    "outputId": "d3d4c0c7-bf8c-4095-ffed-bd97a70f7352"
   },
   "outputs": [
    {
     "name": "stdout",
     "output_type": "stream",
     "text": [
      "Epoch 1/100\n",
      "2/2 [==============================] - 3s 715ms/step - loss: 0.0467 - val_loss: 0.4321\n",
      "Epoch 2/100\n",
      "2/2 [==============================] - 0s 35ms/step - loss: 0.0279 - val_loss: 0.3178\n",
      "Epoch 3/100\n",
      "2/2 [==============================] - 0s 32ms/step - loss: 0.0155 - val_loss: 0.2220\n",
      "Epoch 4/100\n",
      "2/2 [==============================] - 0s 31ms/step - loss: 0.0117 - val_loss: 0.1464\n",
      "Epoch 5/100\n",
      "2/2 [==============================] - 0s 35ms/step - loss: 0.0097 - val_loss: 0.0932\n",
      "Epoch 6/100\n",
      "2/2 [==============================] - 0s 32ms/step - loss: 0.0103 - val_loss: 0.0614\n",
      "Epoch 7/100\n",
      "2/2 [==============================] - 0s 32ms/step - loss: 0.0134 - val_loss: 0.0457\n",
      "Epoch 8/100\n",
      "2/2 [==============================] - 0s 37ms/step - loss: 0.0125 - val_loss: 0.0394\n",
      "Epoch 9/100\n",
      "2/2 [==============================] - 0s 29ms/step - loss: 0.0114 - val_loss: 0.0380\n",
      "Epoch 10/100\n",
      "2/2 [==============================] - 0s 28ms/step - loss: 0.0089 - val_loss: 0.0386\n",
      "Epoch 11/100\n",
      "2/2 [==============================] - 0s 35ms/step - loss: 0.0077 - val_loss: 0.0388\n",
      "Epoch 12/100\n",
      "2/2 [==============================] - 0s 37ms/step - loss: 0.0054 - val_loss: 0.0370\n",
      "Epoch 13/100\n",
      "2/2 [==============================] - 0s 34ms/step - loss: 0.0048 - val_loss: 0.0325\n",
      "Epoch 14/100\n",
      "2/2 [==============================] - 0s 35ms/step - loss: 0.0041 - val_loss: 0.0252\n",
      "Epoch 15/100\n",
      "2/2 [==============================] - 0s 33ms/step - loss: 0.0038 - val_loss: 0.0161\n",
      "Epoch 16/100\n",
      "2/2 [==============================] - 0s 37ms/step - loss: 0.0030 - val_loss: 0.0078\n",
      "Epoch 17/100\n",
      "2/2 [==============================] - 0s 37ms/step - loss: 0.0028 - val_loss: 0.0030\n",
      "Epoch 18/100\n",
      "2/2 [==============================] - 0s 33ms/step - loss: 0.0035 - val_loss: 0.0024\n",
      "Epoch 19/100\n",
      "2/2 [==============================] - 0s 38ms/step - loss: 0.0013 - val_loss: 0.0049\n",
      "Epoch 20/100\n",
      "2/2 [==============================] - 0s 35ms/step - loss: 0.0026 - val_loss: 0.0079\n",
      "Epoch 21/100\n",
      "2/2 [==============================] - 0s 35ms/step - loss: 0.0017 - val_loss: 0.0098\n",
      "Epoch 22/100\n",
      "2/2 [==============================] - 0s 35ms/step - loss: 0.0013 - val_loss: 0.0120\n",
      "Epoch 23/100\n",
      "2/2 [==============================] - 0s 39ms/step - loss: 0.0021 - val_loss: 0.0138\n",
      "Epoch 24/100\n",
      "2/2 [==============================] - 0s 55ms/step - loss: 0.0021 - val_loss: 0.0144\n",
      "Epoch 25/100\n",
      "2/2 [==============================] - 0s 42ms/step - loss: 0.0025 - val_loss: 0.0129\n",
      "Epoch 26/100\n",
      "2/2 [==============================] - 0s 42ms/step - loss: 0.0028 - val_loss: 0.0110\n",
      "Epoch 27/100\n",
      "2/2 [==============================] - 0s 41ms/step - loss: 0.0025 - val_loss: 0.0110\n",
      "Epoch 28/100\n",
      "2/2 [==============================] - 0s 44ms/step - loss: 0.0033 - val_loss: 0.0124\n"
     ]
    }
   ],
   "source": [
    "def fit_model(model):\n",
    "    early_stop = keras.callbacks.EarlyStopping(monitor = 'val_loss',\n",
    "                                               patience = 10)\n",
    "    history = model.fit(X_train, y_train, epochs = 100,  \n",
    "                        validation_split = 0.2,\n",
    "                        batch_size = 16, shuffle = False, \n",
    "                        callbacks = [early_stop])\n",
    "    return history\n",
    "history_gru = fit_model(model_gru)"
   ]
  },
  {
   "cell_type": "code",
   "execution_count": 41,
   "id": "w0RWSELMc_UR",
   "metadata": {
    "colab": {
     "base_uri": "https://localhost:8080/"
    },
    "id": "w0RWSELMc_UR",
    "outputId": "b91fb302-0fda-43ea-f9bf-24d48f5e57d4"
   },
   "outputs": [
    {
     "name": "stdout",
     "output_type": "stream",
     "text": [
      "Epoch 1/100\n",
      "2/2 [==============================] - 6s 1s/step - loss: 0.0481 - val_loss: 0.4576\n",
      "Epoch 2/100\n",
      "2/2 [==============================] - 0s 38ms/step - loss: 0.0347 - val_loss: 0.3571\n",
      "Epoch 3/100\n",
      "2/2 [==============================] - 0s 40ms/step - loss: 0.0238 - val_loss: 0.2638\n",
      "Epoch 4/100\n",
      "2/2 [==============================] - 0s 35ms/step - loss: 0.0154 - val_loss: 0.1807\n",
      "Epoch 5/100\n",
      "2/2 [==============================] - 0s 33ms/step - loss: 0.0100 - val_loss: 0.1119\n",
      "Epoch 6/100\n",
      "2/2 [==============================] - 0s 33ms/step - loss: 0.0080 - val_loss: 0.0622\n",
      "Epoch 7/100\n",
      "2/2 [==============================] - 0s 33ms/step - loss: 0.0086 - val_loss: 0.0330\n",
      "Epoch 8/100\n",
      "2/2 [==============================] - 0s 34ms/step - loss: 0.0099 - val_loss: 0.0200\n",
      "Epoch 9/100\n",
      "2/2 [==============================] - 0s 34ms/step - loss: 0.0098 - val_loss: 0.0164\n",
      "Epoch 10/100\n",
      "2/2 [==============================] - 0s 35ms/step - loss: 0.0083 - val_loss: 0.0178\n",
      "Epoch 11/100\n",
      "2/2 [==============================] - 0s 35ms/step - loss: 0.0064 - val_loss: 0.0215\n",
      "Epoch 12/100\n",
      "2/2 [==============================] - 0s 37ms/step - loss: 0.0049 - val_loss: 0.0247\n",
      "Epoch 13/100\n",
      "2/2 [==============================] - 0s 35ms/step - loss: 0.0041 - val_loss: 0.0251\n",
      "Epoch 14/100\n",
      "2/2 [==============================] - 0s 33ms/step - loss: 0.0037 - val_loss: 0.0214\n",
      "Epoch 15/100\n",
      "2/2 [==============================] - 0s 35ms/step - loss: 0.0033 - val_loss: 0.0145\n",
      "Epoch 16/100\n",
      "2/2 [==============================] - 0s 33ms/step - loss: 0.0026 - val_loss: 0.0069\n",
      "Epoch 17/100\n",
      "2/2 [==============================] - 0s 34ms/step - loss: 0.0019 - val_loss: 0.0025\n",
      "Epoch 18/100\n",
      "2/2 [==============================] - 0s 34ms/step - loss: 0.0013 - val_loss: 0.0044\n",
      "Epoch 19/100\n",
      "2/2 [==============================] - 0s 33ms/step - loss: 0.0010 - val_loss: 0.0131\n",
      "Epoch 20/100\n",
      "2/2 [==============================] - 0s 34ms/step - loss: 0.0012 - val_loss: 0.0240\n",
      "Epoch 21/100\n",
      "2/2 [==============================] - 0s 35ms/step - loss: 0.0013 - val_loss: 0.0310\n",
      "Epoch 22/100\n",
      "2/2 [==============================] - 0s 35ms/step - loss: 0.0012 - val_loss: 0.0318\n",
      "Epoch 23/100\n",
      "2/2 [==============================] - 0s 37ms/step - loss: 0.0010 - val_loss: 0.0285\n",
      "Epoch 24/100\n",
      "2/2 [==============================] - 0s 33ms/step - loss: 0.0010 - val_loss: 0.0248\n",
      "Epoch 25/100\n",
      "2/2 [==============================] - 0s 32ms/step - loss: 0.0012 - val_loss: 0.0227\n",
      "Epoch 26/100\n",
      "2/2 [==============================] - 0s 34ms/step - loss: 0.0012 - val_loss: 0.0225\n",
      "Epoch 27/100\n",
      "2/2 [==============================] - 0s 37ms/step - loss: 0.0012 - val_loss: 0.0237\n"
     ]
    }
   ],
   "source": [
    "history_bilstm = fit_model(model_bilstm)"
   ]
  },
  {
   "cell_type": "code",
   "execution_count": 42,
   "id": "nRhHvqq59h7i",
   "metadata": {
    "colab": {
     "base_uri": "https://localhost:8080/",
     "height": 849
    },
    "id": "nRhHvqq59h7i",
    "outputId": "d199e1e7-b349-48d7-d087-255a1c1d62a8"
   },
   "outputs": [
    {
     "data": {
      "image/png": "[encoded data removed]",
      "text/plain": [
       "<Figure size 720x432 with 1 Axes>"
      ]
     },
     "metadata": {},
     "output_type": "display_data"
    },
    {
     "data": {
      "image/png": "[encoded data removed]",
      "text/plain": [
       "<Figure size 720x432 with 1 Axes>"
      ]
     },
     "metadata": {},
     "output_type": "display_data"
    }
   ],
   "source": [
    "def plot_loss (history, model_name):\n",
    "    plt.figure(figsize = (10, 6))\n",
    "    plt.plot(history.history['loss'])\n",
    "    plt.plot(history.history['val_loss'])\n",
    "    plt.title('Model Train vs Validation Loss for ' + model_name)\n",
    "    plt.ylabel('Loss')\n",
    "    plt.xlabel('epoch')\n",
    "    plt.legend(['Train loss', 'Validation loss'], loc='upper right')\n",
    " \n",
    "plot_loss (history_gru, 'GRU')\n",
    "plot_loss (history_bilstm, 'Bidirectional LSTM')"
   ]
  },
  {
   "cell_type": "code",
   "execution_count": 43,
   "id": "7tE4Am1T9z6x",
   "metadata": {
    "colab": {
     "base_uri": "https://localhost:8080/",
     "height": 885
    },
    "id": "7tE4Am1T9z6x",
    "outputId": "def2b4e4-31cc-4224-9634-955642e84166"
   },
   "outputs": [
    {
     "data": {
      "image/png": "[encoded data removed]",
      "text/plain": [
       "<Figure size 720x432 with 1 Axes>"
      ]
     },
     "metadata": {},
     "output_type": "display_data"
    },
    {
     "data": {
      "image/png": "[encoded data removed]",
      "text/plain": [
       "<Figure size 720x432 with 1 Axes>"
      ]
     },
     "metadata": {},
     "output_type": "display_data"
    }
   ],
   "source": [
    "# Make prediction\n",
    "def prediction(model):\n",
    "    prediction = model.predict(X_test)\n",
    "    prediction = scaler.inverse_transform(prediction)\n",
    "    return prediction\n",
    "prediction_gru = prediction(model_gru)\n",
    "prediction_bilstm = prediction(model_bilstm)\n",
    "# Plot test data vs prediction\n",
    "def plot_future(prediction, model_name, y_test):\n",
    "    plt.figure(figsize=(10, 6))\n",
    "    range_future = len(prediction)\n",
    "    plt.plot(np.arange(range_future), np.array(scaler.inverse_transform(y_test)), \n",
    "             label='Test   data')\n",
    "    plt.plot(np.arange(range_future), \n",
    "             np.array(prediction),label='Prediction')\n",
    "    plt.title('Test data vs prediction for ' + model_name)\n",
    "    plt.legend(loc='upper left')\n",
    "    plt.xlabel('Time (year)')\n",
    "    plt.ylabel('Quarterly Income')\n",
    " \n",
    "plot_future(prediction_gru, 'GRU', y_test)\n",
    "plot_future(prediction_bilstm, 'Bidirectional LSTM', y_test)"
   ]
  },
  {
   "cell_type": "code",
   "execution_count": 44,
   "id": "w1D1Wcdj93wZ",
   "metadata": {
    "colab": {
     "base_uri": "https://localhost:8080/"
    },
    "id": "w1D1Wcdj93wZ",
    "outputId": "391c65d2-522d-4fc5-a3e1-9352e624c643"
   },
   "outputs": [
    {
     "name": "stdout",
     "output_type": "stream",
     "text": [
      "GRU:\n",
      "Mean Absolute Error: 10472.3912\n",
      "Root Mean Square Error: 11057.1284\n",
      "\n",
      "Bidirectional LSTM:\n",
      "Mean Absolute Error: 18223.3047\n",
      "Root Mean Square Error: 18836.8948\n",
      "\n"
     ]
    }
   ],
   "source": [
    "def evaluate_prediction(predictions, actual, model_name):\n",
    "    errors = predictions - actual\n",
    "    mse = np.square(errors).mean()\n",
    "    rmse = np.sqrt(mse)\n",
    "    mae = np.abs(errors).mean()\n",
    "    print(model_name + ':')\n",
    "    print('Mean Absolute Error: {:.4f}'.format(mae))\n",
    "    print('Root Mean Square Error: {:.4f}'.format(rmse))\n",
    "    print('')\n",
    "evaluate_prediction(prediction_gru, scaler.inverse_transform(y_test), 'GRU')\n",
    "evaluate_prediction(prediction_bilstm, scaler.inverse_transform(y_test), 'Bidirectional LSTM')"
   ]
  },
  {
   "cell_type": "code",
   "execution_count": 45,
   "id": "l5sSbLY9-CAT",
   "metadata": {
    "colab": {
     "base_uri": "https://localhost:8080/"
    },
    "id": "l5sSbLY9-CAT",
    "outputId": "6090dbf3-f110-47f1-d89a-4ac60067260a"
   },
   "outputs": [
    {
     "name": "stdout",
     "output_type": "stream",
     "text": [
      "GRU:\n",
      "Mean Absolute Error: 0.3240\n",
      "Root Mean Square Error: 0.3420\n",
      "\n",
      "Bidirectional LSTM:\n",
      "Mean Absolute Error: 0.5637\n",
      "Root Mean Square Error: 0.5827\n",
      "\n"
     ]
    },
    {
     "name": "stderr",
     "output_type": "stream",
     "text": [
      "R:\\Anaconda\\envs\\general\\lib\\site-packages\\sklearn\\base.py:450: UserWarning: X does not have valid feature names, but MinMaxScaler was fitted with feature names\n",
      "  warnings.warn(\n",
      "R:\\Anaconda\\envs\\general\\lib\\site-packages\\sklearn\\base.py:450: UserWarning: X does not have valid feature names, but MinMaxScaler was fitted with feature names\n",
      "  warnings.warn(\n"
     ]
    }
   ],
   "source": [
    "def evaluate_prediction(predictions, actual, model_name):\n",
    "    errors = predictions - actual\n",
    "    mse = np.square(errors).mean()\n",
    "    rmse = np.sqrt(mse)\n",
    "    mae = np.abs(errors).mean()\n",
    "    print(model_name + ':')\n",
    "    print('Mean Absolute Error: {:.4f}'.format(mae))\n",
    "    print('Root Mean Square Error: {:.4f}'.format(rmse))\n",
    "    print('')\n",
    "evaluate_prediction(scaler.transform(prediction_gru), y_test, 'GRU')\n",
    "evaluate_prediction(scaler.transform(prediction_bilstm), y_test, 'Bidirectional LSTM')"
   ]
  }
 ],
 "metadata": {
  "colab": {
   "provenance": []
  },
  "kernelspec": {
   "display_name": "Python 3 (ipykernel)",
   "language": "python",
   "name": "python3"
  },
  "language_info": {
   "codemirror_mode": {
    "name": "ipython",
    "version": 3
   },
   "file_extension": ".py",
   "mimetype": "text/x-python",
   "name": "python",
   "nbconvert_exporter": "python",
   "pygments_lexer": "ipython3",
   "version": "3.8.10"
  }
 },
 "nbformat": 4,
 "nbformat_minor": 5
}
