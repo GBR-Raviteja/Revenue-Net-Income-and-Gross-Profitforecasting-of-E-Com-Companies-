{
 "cells": [
  {
   "cell_type": "markdown",
   "id": "fyns37Blbu1i",
   "metadata": {
    "id": "fyns37Blbu1i"
   },
   "source": [
    "## **Predicting the Quarterly Revenue for Alibaba**\n"
   ]
  },
  {
   "cell_type": "code",
   "execution_count": 1,
   "id": "765958d8-59bd-4414-8911-aa7ec15d08d9",
   "metadata": {
    "id": "765958d8-59bd-4414-8911-aa7ec15d08d9"
   },
   "outputs": [],
   "source": [
    "# Importing Packages\n",
    "import itertools\n",
    "import numpy as np\n",
    "import pandas as pd\n",
    "import matplotlib.pyplot as plt\n",
    "import statsmodels.api as sm\n",
    "import matplotlib\n",
    "import itertools\n",
    "import numpy as np\n",
    "import pandas as pd\n",
    "import matplotlib.pyplot as plt\n",
    "import statsmodels.api as sm\n",
    "import matplotlib\n",
    "import sklearn.preprocessing\n",
    "from sklearn.metrics import r2_score\n",
    "import keras\n",
    "\n",
    "from keras.layers import Dense,Dropout,SimpleRNN,GRU, Bidirectional,LSTM\n",
    "from tensorflow.keras.optimizers import SGD\n",
    "from keras.models import Sequential\n",
    "from sklearn.preprocessing import MinMaxScaler, StandardScaler\n",
    "\n",
    "plt.style.use('fivethirtyeight')\n",
    "matplotlib.rcParams['axes.labelsize'] = 14\n",
    "matplotlib.rcParams['xtick.labelsize'] = 12\n",
    "matplotlib.rcParams['ytick.labelsize'] = 12\n",
    "matplotlib.rcParams['text.color'] = 'k'"
   ]
  },
  {
   "cell_type": "code",
   "execution_count": 2,
   "id": "810a23c2-17ea-4953-b596-ab83bd853ec2",
   "metadata": {
    "colab": {
     "base_uri": "https://localhost:8080/",
     "height": 206
    },
    "id": "810a23c2-17ea-4953-b596-ab83bd853ec2",
    "outputId": "c5a8748b-029a-4695-ccdf-59115d18c53c"
   },
   "outputs": [
    {
     "data": {
      "text/html": [
       "<div>\n",
       "<style scoped>\n",
       "    .dataframe tbody tr th:only-of-type {\n",
       "        vertical-align: middle;\n",
       "    }\n",
       "\n",
       "    .dataframe tbody tr th {\n",
       "        vertical-align: top;\n",
       "    }\n",
       "\n",
       "    .dataframe thead th {\n",
       "        text-align: right;\n",
       "    }\n",
       "</style>\n",
       "<table border=\"1\" class=\"dataframe\">\n",
       "  <thead>\n",
       "    <tr style=\"text-align: right;\">\n",
       "      <th></th>\n",
       "      <th>Date</th>\n",
       "      <th>Quarterly Revenue</th>\n",
       "    </tr>\n",
       "  </thead>\n",
       "  <tbody>\n",
       "    <tr>\n",
       "      <th>0</th>\n",
       "      <td>2013-09-30</td>\n",
       "      <td>1777</td>\n",
       "    </tr>\n",
       "    <tr>\n",
       "      <th>1</th>\n",
       "      <td>2013-12-31</td>\n",
       "      <td>3061</td>\n",
       "    </tr>\n",
       "    <tr>\n",
       "      <th>2</th>\n",
       "      <td>2014-06-30</td>\n",
       "      <td>2542</td>\n",
       "    </tr>\n",
       "    <tr>\n",
       "      <th>3</th>\n",
       "      <td>2014-09-30</td>\n",
       "      <td>2742</td>\n",
       "    </tr>\n",
       "    <tr>\n",
       "      <th>4</th>\n",
       "      <td>2014-12-31</td>\n",
       "      <td>4219</td>\n",
       "    </tr>\n",
       "  </tbody>\n",
       "</table>\n",
       "</div>"
      ],
      "text/plain": [
       "        Date  Quarterly Revenue\n",
       "0 2013-09-30               1777\n",
       "1 2013-12-31               3061\n",
       "2 2014-06-30               2542\n",
       "3 2014-09-30               2742\n",
       "4 2014-12-31               4219"
      ]
     },
     "execution_count": 2,
     "metadata": {},
     "output_type": "execute_result"
    }
   ],
   "source": [
    "# Reading the Data\n",
    "df=pd.read_excel('Alibaba Quarterly Revenue.xlsx')\n",
    "df.head()"
   ]
  },
  {
   "cell_type": "code",
   "execution_count": 3,
   "id": "734d9e26-d772-4d43-abb7-b284a6dc11cf",
   "metadata": {
    "colab": {
     "base_uri": "https://localhost:8080/"
    },
    "id": "734d9e26-d772-4d43-abb7-b284a6dc11cf",
    "outputId": "20b8e29c-6708-4cbb-e9d7-6745da72c660"
   },
   "outputs": [
    {
     "name": "stdout",
     "output_type": "stream",
     "text": [
      "<class 'pandas.core.frame.DataFrame'>\n",
      "RangeIndex: 36 entries, 0 to 35\n",
      "Data columns (total 2 columns):\n",
      " #   Column             Non-Null Count  Dtype         \n",
      "---  ------             --------------  -----         \n",
      " 0   Date               36 non-null     datetime64[ns]\n",
      " 1   Quarterly Revenue  36 non-null     int64         \n",
      "dtypes: datetime64[ns](1), int64(1)\n",
      "memory usage: 704.0 bytes\n"
     ]
    }
   ],
   "source": [
    "df.info()"
   ]
  },
  {
   "cell_type": "code",
   "execution_count": 4,
   "id": "a32b8520-f073-417c-a111-bc061f1e2710",
   "metadata": {
    "colab": {
     "base_uri": "https://localhost:8080/",
     "height": 237
    },
    "id": "a32b8520-f073-417c-a111-bc061f1e2710",
    "outputId": "98694313-7bbe-4006-bdfc-a4d9400d048b"
   },
   "outputs": [
    {
     "data": {
      "text/html": [
       "<div>\n",
       "<style scoped>\n",
       "    .dataframe tbody tr th:only-of-type {\n",
       "        vertical-align: middle;\n",
       "    }\n",
       "\n",
       "    .dataframe tbody tr th {\n",
       "        vertical-align: top;\n",
       "    }\n",
       "\n",
       "    .dataframe thead th {\n",
       "        text-align: right;\n",
       "    }\n",
       "</style>\n",
       "<table border=\"1\" class=\"dataframe\">\n",
       "  <thead>\n",
       "    <tr style=\"text-align: right;\">\n",
       "      <th></th>\n",
       "      <th>Quarterly Revenue</th>\n",
       "    </tr>\n",
       "    <tr>\n",
       "      <th>Date</th>\n",
       "      <th></th>\n",
       "    </tr>\n",
       "  </thead>\n",
       "  <tbody>\n",
       "    <tr>\n",
       "      <th>2013-09-30</th>\n",
       "      <td>1777</td>\n",
       "    </tr>\n",
       "    <tr>\n",
       "      <th>2013-12-31</th>\n",
       "      <td>3061</td>\n",
       "    </tr>\n",
       "    <tr>\n",
       "      <th>2014-06-30</th>\n",
       "      <td>2542</td>\n",
       "    </tr>\n",
       "    <tr>\n",
       "      <th>2014-09-30</th>\n",
       "      <td>2742</td>\n",
       "    </tr>\n",
       "    <tr>\n",
       "      <th>2014-12-31</th>\n",
       "      <td>4219</td>\n",
       "    </tr>\n",
       "  </tbody>\n",
       "</table>\n",
       "</div>"
      ],
      "text/plain": [
       "            Quarterly Revenue\n",
       "Date                         \n",
       "2013-09-30               1777\n",
       "2013-12-31               3061\n",
       "2014-06-30               2542\n",
       "2014-09-30               2742\n",
       "2014-12-31               4219"
      ]
     },
     "execution_count": 4,
     "metadata": {},
     "output_type": "execute_result"
    }
   ],
   "source": [
    "# Setting Date as Index\n",
    "df = df.set_index('Date')\n",
    "df.head()"
   ]
  },
  {
   "cell_type": "code",
   "execution_count": 5,
   "id": "8ee56a96-7754-419d-8bd4-c2d533e6b93a",
   "metadata": {
    "colab": {
     "base_uri": "https://localhost:8080/",
     "height": 317
    },
    "id": "8ee56a96-7754-419d-8bd4-c2d533e6b93a",
    "outputId": "5b5f52aa-2448-44a2-88a9-bf8c1125740e"
   },
   "outputs": [
    {
     "data": {
      "image/png": "[encoded data removed]",
      "text/plain": [
       "<Figure size 1152x288 with 1 Axes>"
      ]
     },
     "metadata": {},
     "output_type": "display_data"
    }
   ],
   "source": [
    "# Plotting the data\n",
    "df.plot(figsize=(16,4),legend=True)\n",
    "plt.title('Alibaba Quarterly Revenue')\n",
    "plt.show()"
   ]
  },
  {
   "cell_type": "code",
   "execution_count": 8,
   "id": "rVVI9bsD16Fd",
   "metadata": {
    "colab": {
     "base_uri": "https://localhost:8080/",
     "height": 729
    },
    "id": "rVVI9bsD16Fd",
    "outputId": "7cdb6776-1955-480d-cee3-795d1054db2d"
   },
   "outputs": [
    {
     "name": "stderr",
     "output_type": "stream",
     "text": [
      "C:\\Users\\ravit\\AppData\\Local\\Temp\\ipykernel_28024\\1521455262.py:6: SettingWithCopyWarning: \n",
      "A value is trying to be set on a copy of a slice from a DataFrame.\n",
      "Try using .loc[row_indexer,col_indexer] = value instead\n",
      "\n",
      "See the caveats in the documentation: https://pandas.pydata.org/pandas-docs/stable/user_guide/indexing.html#returning-a-view-versus-a-copy\n",
      "  train['train'] = train['Quarterly Revenue']\n",
      "C:\\Users\\ravit\\AppData\\Local\\Temp\\ipykernel_28024\\1521455262.py:11: SettingWithCopyWarning: \n",
      "A value is trying to be set on a copy of a slice from a DataFrame.\n",
      "Try using .loc[row_indexer,col_indexer] = value instead\n",
      "\n",
      "See the caveats in the documentation: https://pandas.pydata.org/pandas-docs/stable/user_guide/indexing.html#returning-a-view-versus-a-copy\n",
      "  test['test'] = test['Quarterly Revenue']\n"
     ]
    },
    {
     "data": {
      "image/png": "[encoded data removed]",
      "text/plain": [
       "<Figure size 1296x576 with 1 Axes>"
      ]
     },
     "metadata": {},
     "output_type": "display_data"
    }
   ],
   "source": [
    "# Dividing the data into training and testing\n",
    "# Ploting the data\n",
    "import seaborn as sns \n",
    "df['Date'] = df.index\n",
    "train = df[df['Date'] < pd.to_datetime(\"2020-12\", format='%Y-%m')]\n",
    "train['train'] = train['Quarterly Revenue']\n",
    "del train['Date']\n",
    "del train['Quarterly Revenue']\n",
    "test = df[df['Date'] >= pd.to_datetime(\"2020-12\", format='%Y-%m')]\n",
    "del test['Date']\n",
    "test['test'] = test['Quarterly Revenue']\n",
    "del test['Quarterly Revenue']\n",
    "plt.plot(train, color = \"black\")\n",
    "plt.plot(test, color = \"red\")\n",
    "plt.title(\"Train/Test split for Quarterly Revenue\")\n",
    "plt.ylabel(\"Quarterly Revenuer\")\n",
    "plt.xlabel('Date')\n",
    "sns.set()\n",
    "plt.show()"
   ]
  },
  {
   "cell_type": "markdown",
   "id": "kPsq2SUGd3wK",
   "metadata": {
    "id": "kPsq2SUGd3wK"
   },
   "source": [
    "## **Arima Model**"
   ]
  },
  {
   "cell_type": "code",
   "execution_count": 9,
   "id": "orBh5mNG5CgP",
   "metadata": {
    "colab": {
     "base_uri": "https://localhost:8080/"
    },
    "id": "orBh5mNG5CgP",
    "outputId": "43b0defd-b06c-4b7c-dd99-42817aec333b"
   },
   "outputs": [
    {
     "name": "stdout",
     "output_type": "stream",
     "text": [
      "Performing stepwise search to minimize aic\n",
      " ARIMA(2,1,2)(0,0,0)[0] intercept   : AIC=496.559, Time=0.39 sec\n",
      " ARIMA(0,1,0)(0,0,0)[0] intercept   : AIC=509.779, Time=0.01 sec\n",
      " ARIMA(1,1,0)(0,0,0)[0] intercept   : AIC=495.750, Time=0.02 sec\n",
      " ARIMA(0,1,1)(0,0,0)[0] intercept   : AIC=496.533, Time=0.12 sec\n",
      " ARIMA(0,1,0)(0,0,0)[0]             : AIC=509.765, Time=0.01 sec\n",
      " ARIMA(2,1,0)(0,0,0)[0] intercept   : AIC=495.450, Time=0.03 sec\n",
      " ARIMA(3,1,0)(0,0,0)[0] intercept   : AIC=491.068, Time=0.06 sec\n",
      " ARIMA(4,1,0)(0,0,0)[0] intercept   : AIC=inf, Time=0.22 sec\n",
      " ARIMA(3,1,1)(0,0,0)[0] intercept   : AIC=488.303, Time=0.31 sec\n",
      " ARIMA(2,1,1)(0,0,0)[0] intercept   : AIC=496.118, Time=0.24 sec\n",
      " ARIMA(4,1,1)(0,0,0)[0] intercept   : AIC=485.002, Time=0.40 sec\n",
      " ARIMA(5,1,1)(0,0,0)[0] intercept   : AIC=486.920, Time=0.42 sec\n",
      " ARIMA(4,1,2)(0,0,0)[0] intercept   : AIC=487.007, Time=0.34 sec\n",
      " ARIMA(3,1,2)(0,0,0)[0] intercept   : AIC=487.113, Time=0.33 sec\n",
      " ARIMA(5,1,0)(0,0,0)[0] intercept   : AIC=inf, Time=0.36 sec\n",
      " ARIMA(5,1,2)(0,0,0)[0] intercept   : AIC=488.008, Time=0.51 sec\n",
      " ARIMA(4,1,1)(0,0,0)[0]             : AIC=484.662, Time=0.26 sec\n",
      " ARIMA(3,1,1)(0,0,0)[0]             : AIC=500.488, Time=0.21 sec\n",
      " ARIMA(4,1,0)(0,0,0)[0]             : AIC=inf, Time=0.20 sec\n",
      " ARIMA(5,1,1)(0,0,0)[0]             : AIC=486.554, Time=0.35 sec\n",
      " ARIMA(4,1,2)(0,0,0)[0]             : AIC=486.708, Time=0.16 sec\n",
      " ARIMA(3,1,0)(0,0,0)[0]             : AIC=506.117, Time=0.04 sec\n",
      " ARIMA(3,1,2)(0,0,0)[0]             : AIC=inf, Time=0.22 sec\n",
      " ARIMA(5,1,0)(0,0,0)[0]             : AIC=486.141, Time=0.12 sec\n",
      " ARIMA(5,1,2)(0,0,0)[0]             : AIC=488.707, Time=0.30 sec\n",
      "\n",
      "Best model:  ARIMA(4,1,1)(0,0,0)[0]          \n",
      "Total fit time: 5.663 seconds\n"
     ]
    },
    {
     "name": "stderr",
     "output_type": "stream",
     "text": [
      "R:\\Anaconda\\envs\\general\\lib\\site-packages\\statsmodels\\tsa\\base\\tsa_model.py:834: ValueWarning: No supported index is available. Prediction results will be given with an integer index beginning at `start`.\n",
      "  return get_prediction_index(\n"
     ]
    }
   ],
   "source": [
    "# Applying ARIMA Model\n",
    "from pmdarima.arima import auto_arima\n",
    "model = auto_arima(train, trace=True, error_action='ignore', suppress_warnings=True)\n",
    "model.fit(train)\n",
    "forecast = model.predict(n_periods=len(test))\n",
    "forecast = pd.DataFrame(forecast,index = test.index,columns=['Prediction'])"
   ]
  },
  {
   "cell_type": "code",
   "execution_count": 10,
   "id": "FlTauiqu5zmb",
   "metadata": {
    "colab": {
     "base_uri": "https://localhost:8080/",
     "height": 507
    },
    "id": "FlTauiqu5zmb",
    "outputId": "127bb16a-c733-498b-f44b-9b52ed7fc52e"
   },
   "outputs": [
    {
     "data": {
      "image/png": "[encoded data removed]",
      "text/plain": [
       "<Figure size 1296x576 with 1 Axes>"
      ]
     },
     "metadata": {},
     "output_type": "display_data"
    }
   ],
   "source": [
    "# Plotting the prediction\n",
    "plt.plot(train, color = \"black\")\n",
    "plt.plot(test, color = \"red\")\n",
    "plt.plot(forecast, color = \"green\")\n",
    "plt.title(\" Alibaba Quarterly Revenue Prediction\")\n",
    "plt.ylabel(\"Quarterly Revenuer\")\n",
    "plt.xlabel('Date')\n",
    "sns.set()\n",
    "plt.show()"
   ]
  },
  {
   "cell_type": "markdown",
   "id": "yLM2SHiiei-p",
   "metadata": {
    "id": "yLM2SHiiei-p"
   },
   "source": [
    "## **SARIMA Model**"
   ]
  },
  {
   "cell_type": "code",
   "execution_count": 22,
   "id": "qilcVbi3Z7Rr",
   "metadata": {
    "id": "qilcVbi3Z7Rr"
   },
   "outputs": [],
   "source": [
    "df=pd.read_excel('Alibaba Quarterly Revenue.xlsx')\n",
    "df = df.set_index('Date')"
   ]
  },
  {
   "cell_type": "code",
   "execution_count": 23,
   "id": "fe9c9420-d7d3-4f13-a907-0835f691eb42",
   "metadata": {
    "colab": {
     "base_uri": "https://localhost:8080/"
    },
    "id": "fe9c9420-d7d3-4f13-a907-0835f691eb42",
    "outputId": "6d3a14cf-27dd-4c9d-d47d-5660f1bfefa8"
   },
   "outputs": [
    {
     "name": "stdout",
     "output_type": "stream",
     "text": [
      "Examples of parameter combinations for Seasonal ARIMA...\n",
      "SARIMAX: (0, 0, 1) x (0, 0, 1, 12)\n",
      "SARIMAX: (0, 0, 1) x (0, 1, 0, 12)\n",
      "SARIMAX: (0, 1, 0) x (0, 1, 1, 12)\n",
      "SARIMAX: (0, 1, 0) x (1, 0, 0, 12)\n"
     ]
    }
   ],
   "source": [
    "# set the typical ranges for p, d, q\n",
    "p = d = q = range(0, 2)\n",
    "\n",
    "#take all possible combination for p, d and q\n",
    "pdq = list(itertools.product(p, d, q))\n",
    "seasonal_pdq = [(x[0], x[1], x[2], 12) for x in list(itertools.product(p, d, q))]\n",
    "\n",
    "print('Examples of parameter combinations for Seasonal ARIMA...')\n",
    "print('SARIMAX: {} x {}'.format(pdq[1], seasonal_pdq[1]))\n",
    "print('SARIMAX: {} x {}'.format(pdq[1], seasonal_pdq[2]))\n",
    "print('SARIMAX: {} x {}'.format(pdq[2], seasonal_pdq[3]))\n",
    "print('SARIMAX: {} x {}'.format(pdq[2], seasonal_pdq[4]))"
   ]
  },
  {
   "cell_type": "code",
   "execution_count": 24,
   "id": "81238ba3-0dc6-40a5-94e8-9e6c08860853",
   "metadata": {
    "colab": {
     "base_uri": "https://localhost:8080/"
    },
    "id": "81238ba3-0dc6-40a5-94e8-9e6c08860853",
    "outputId": "bad98e97-4e28-4eea-967c-6c1e1d7eab95"
   },
   "outputs": [
    {
     "name": "stderr",
     "output_type": "stream",
     "text": [
      "/usr/local/lib/python3.8/dist-packages/statsmodels/tsa/base/tsa_model.py:524: ValueWarning: No frequency information was provided, so inferred frequency Q-OCT will be used.\n",
      "  # If an index is available, see if it is a date-based index or if it\n",
      "/usr/local/lib/python3.8/dist-packages/statsmodels/tsa/base/tsa_model.py:524: ValueWarning: No frequency information was provided, so inferred frequency Q-OCT will be used.\n",
      "  # If an index is available, see if it is a date-based index or if it\n",
      "/usr/local/lib/python3.8/dist-packages/statsmodels/tsa/base/tsa_model.py:524: ValueWarning: No frequency information was provided, so inferred frequency Q-OCT will be used.\n",
      "  # If an index is available, see if it is a date-based index or if it\n",
      "/usr/local/lib/python3.8/dist-packages/statsmodels/tsa/base/tsa_model.py:524: ValueWarning: No frequency information was provided, so inferred frequency Q-OCT will be used.\n",
      "  # If an index is available, see if it is a date-based index or if it\n",
      "/usr/local/lib/python3.8/dist-packages/statsmodels/tsa/base/tsa_model.py:524: ValueWarning: No frequency information was provided, so inferred frequency Q-OCT will be used.\n",
      "  # If an index is available, see if it is a date-based index or if it\n",
      "/usr/local/lib/python3.8/dist-packages/statsmodels/tsa/base/tsa_model.py:524: ValueWarning: No frequency information was provided, so inferred frequency Q-OCT will be used.\n",
      "  # If an index is available, see if it is a date-based index or if it\n",
      "/usr/local/lib/python3.8/dist-packages/statsmodels/tsa/base/tsa_model.py:524: ValueWarning: No frequency information was provided, so inferred frequency Q-OCT will be used.\n",
      "  # If an index is available, see if it is a date-based index or if it\n",
      "/usr/local/lib/python3.8/dist-packages/statsmodels/tsa/base/tsa_model.py:524: ValueWarning: No frequency information was provided, so inferred frequency Q-OCT will be used.\n",
      "  # If an index is available, see if it is a date-based index or if it\n"
     ]
    },
    {
     "name": "stdout",
     "output_type": "stream",
     "text": [
      "SARIMA(0, 0, 0)x(0, 0, 0, 12)12 - AIC:1474.5164167195842\n",
      "SARIMA(0, 0, 0)x(0, 0, 1, 12)12 - AIC:1457.9447016281383\n",
      "SARIMA(0, 0, 0)x(0, 1, 0, 12)12 - AIC:952.519637158085\n"
     ]
    },
    {
     "name": "stderr",
     "output_type": "stream",
     "text": [
      "/usr/local/lib/python3.8/dist-packages/statsmodels/base/model.py:566: ConvergenceWarning: Maximum Likelihood optimization failed to converge. Check mle_retvals\n",
      "  method=method,\n",
      "/usr/local/lib/python3.8/dist-packages/statsmodels/tsa/base/tsa_model.py:524: ValueWarning: No frequency information was provided, so inferred frequency Q-OCT will be used.\n",
      "  # If an index is available, see if it is a date-based index or if it\n",
      "/usr/local/lib/python3.8/dist-packages/statsmodels/tsa/base/tsa_model.py:524: ValueWarning: No frequency information was provided, so inferred frequency Q-OCT will be used.\n",
      "  # If an index is available, see if it is a date-based index or if it\n",
      "/usr/local/lib/python3.8/dist-packages/statsmodels/tsa/statespace/sarimax.py:997: UserWarning: Non-stationary starting seasonal autoregressive Using zeros as starting parameters.\n",
      "  warn('Non-stationary starting seasonal autoregressive'\n"
     ]
    },
    {
     "name": "stdout",
     "output_type": "stream",
     "text": [
      "SARIMA(0, 0, 0)x(0, 1, 1, 12)12 - AIC:1988.9090837227723\n",
      "SARIMA(0, 0, 0)x(1, 0, 0, 12)12 - AIC:1327.931717025625\n",
      "SARIMA(0, 0, 0)x(1, 0, 1, 12)12 - AIC:1264.9699599153773\n"
     ]
    },
    {
     "name": "stderr",
     "output_type": "stream",
     "text": [
      "/usr/local/lib/python3.8/dist-packages/statsmodels/tsa/base/tsa_model.py:524: ValueWarning: No frequency information was provided, so inferred frequency Q-OCT will be used.\n",
      "  # If an index is available, see if it is a date-based index or if it\n",
      "/usr/local/lib/python3.8/dist-packages/statsmodels/tsa/base/tsa_model.py:524: ValueWarning: No frequency information was provided, so inferred frequency Q-OCT will be used.\n",
      "  # If an index is available, see if it is a date-based index or if it\n",
      "/usr/local/lib/python3.8/dist-packages/statsmodels/tsa/base/tsa_model.py:524: ValueWarning: No frequency information was provided, so inferred frequency Q-OCT will be used.\n",
      "  # If an index is available, see if it is a date-based index or if it\n",
      "/usr/local/lib/python3.8/dist-packages/statsmodels/tsa/base/tsa_model.py:524: ValueWarning: No frequency information was provided, so inferred frequency Q-OCT will be used.\n",
      "  # If an index is available, see if it is a date-based index or if it\n"
     ]
    },
    {
     "name": "stdout",
     "output_type": "stream",
     "text": [
      "SARIMA(0, 0, 0)x(1, 1, 0, 12)12 - AIC:930.76558561935\n"
     ]
    },
    {
     "name": "stderr",
     "output_type": "stream",
     "text": [
      "/usr/local/lib/python3.8/dist-packages/statsmodels/tsa/base/tsa_model.py:524: ValueWarning: No frequency information was provided, so inferred frequency Q-OCT will be used.\n",
      "  # If an index is available, see if it is a date-based index or if it\n",
      "/usr/local/lib/python3.8/dist-packages/statsmodels/tsa/base/tsa_model.py:524: ValueWarning: No frequency information was provided, so inferred frequency Q-OCT will be used.\n",
      "  # If an index is available, see if it is a date-based index or if it\n",
      "/usr/local/lib/python3.8/dist-packages/statsmodels/base/model.py:566: ConvergenceWarning: Maximum Likelihood optimization failed to converge. Check mle_retvals\n",
      "  method=method,\n",
      "/usr/local/lib/python3.8/dist-packages/statsmodels/tsa/base/tsa_model.py:524: ValueWarning: No frequency information was provided, so inferred frequency Q-OCT will be used.\n",
      "  # If an index is available, see if it is a date-based index or if it\n",
      "/usr/local/lib/python3.8/dist-packages/statsmodels/tsa/base/tsa_model.py:524: ValueWarning: No frequency information was provided, so inferred frequency Q-OCT will be used.\n",
      "  # If an index is available, see if it is a date-based index or if it\n",
      "/usr/local/lib/python3.8/dist-packages/statsmodels/tsa/base/tsa_model.py:524: ValueWarning: No frequency information was provided, so inferred frequency Q-OCT will be used.\n",
      "  # If an index is available, see if it is a date-based index or if it\n",
      "/usr/local/lib/python3.8/dist-packages/statsmodels/tsa/base/tsa_model.py:524: ValueWarning: No frequency information was provided, so inferred frequency Q-OCT will be used.\n",
      "  # If an index is available, see if it is a date-based index or if it\n"
     ]
    },
    {
     "name": "stdout",
     "output_type": "stream",
     "text": [
      "SARIMA(0, 0, 0)x(1, 1, 1, 12)12 - AIC:957.8083167162843\n",
      "SARIMA(0, 0, 1)x(0, 0, 0, 12)12 - AIC:1441.369801440922\n",
      "SARIMA(0, 0, 1)x(0, 0, 1, 12)12 - AIC:1437.613115143722\n"
     ]
    },
    {
     "name": "stderr",
     "output_type": "stream",
     "text": [
      "/usr/local/lib/python3.8/dist-packages/statsmodels/tsa/base/tsa_model.py:524: ValueWarning: No frequency information was provided, so inferred frequency Q-OCT will be used.\n",
      "  # If an index is available, see if it is a date-based index or if it\n",
      "/usr/local/lib/python3.8/dist-packages/statsmodels/tsa/base/tsa_model.py:524: ValueWarning: No frequency information was provided, so inferred frequency Q-OCT will be used.\n",
      "  # If an index is available, see if it is a date-based index or if it\n",
      "/usr/local/lib/python3.8/dist-packages/statsmodels/tsa/base/tsa_model.py:524: ValueWarning: No frequency information was provided, so inferred frequency Q-OCT will be used.\n",
      "  # If an index is available, see if it is a date-based index or if it\n",
      "/usr/local/lib/python3.8/dist-packages/statsmodels/tsa/base/tsa_model.py:524: ValueWarning: No frequency information was provided, so inferred frequency Q-OCT will be used.\n",
      "  # If an index is available, see if it is a date-based index or if it\n"
     ]
    },
    {
     "name": "stdout",
     "output_type": "stream",
     "text": [
      "SARIMA(0, 0, 1)x(0, 1, 0, 12)12 - AIC:936.8119338630217\n"
     ]
    },
    {
     "name": "stderr",
     "output_type": "stream",
     "text": [
      "/usr/local/lib/python3.8/dist-packages/statsmodels/base/model.py:566: ConvergenceWarning: Maximum Likelihood optimization failed to converge. Check mle_retvals\n",
      "  method=method,\n",
      "/usr/local/lib/python3.8/dist-packages/statsmodels/tsa/base/tsa_model.py:524: ValueWarning: No frequency information was provided, so inferred frequency Q-OCT will be used.\n",
      "  # If an index is available, see if it is a date-based index or if it\n",
      "/usr/local/lib/python3.8/dist-packages/statsmodels/tsa/base/tsa_model.py:524: ValueWarning: No frequency information was provided, so inferred frequency Q-OCT will be used.\n",
      "  # If an index is available, see if it is a date-based index or if it\n",
      "/usr/local/lib/python3.8/dist-packages/statsmodels/tsa/base/tsa_model.py:524: ValueWarning: No frequency information was provided, so inferred frequency Q-OCT will be used.\n",
      "  # If an index is available, see if it is a date-based index or if it\n",
      "/usr/local/lib/python3.8/dist-packages/statsmodels/tsa/base/tsa_model.py:524: ValueWarning: No frequency information was provided, so inferred frequency Q-OCT will be used.\n",
      "  # If an index is available, see if it is a date-based index or if it\n"
     ]
    },
    {
     "name": "stdout",
     "output_type": "stream",
     "text": [
      "SARIMA(0, 0, 1)x(0, 1, 1, 12)12 - AIC:2118.58705031874\n",
      "SARIMA(0, 0, 1)x(1, 0, 0, 12)12 - AIC:1435.0107916169118\n",
      "SARIMA(0, 0, 1)x(1, 0, 1, 12)12 - AIC:1436.7097723040172\n",
      "SARIMA(0, 0, 1)x(1, 1, 0, 12)12 - AIC:955.1026527668786\n"
     ]
    },
    {
     "name": "stderr",
     "output_type": "stream",
     "text": [
      "/usr/local/lib/python3.8/dist-packages/statsmodels/tsa/base/tsa_model.py:524: ValueWarning: No frequency information was provided, so inferred frequency Q-OCT will be used.\n",
      "  # If an index is available, see if it is a date-based index or if it\n",
      "/usr/local/lib/python3.8/dist-packages/statsmodels/tsa/base/tsa_model.py:524: ValueWarning: No frequency information was provided, so inferred frequency Q-OCT will be used.\n",
      "  # If an index is available, see if it is a date-based index or if it\n",
      "/usr/local/lib/python3.8/dist-packages/statsmodels/tsa/base/tsa_model.py:524: ValueWarning: No frequency information was provided, so inferred frequency Q-OCT will be used.\n",
      "  # If an index is available, see if it is a date-based index or if it\n",
      "/usr/local/lib/python3.8/dist-packages/statsmodels/tsa/base/tsa_model.py:524: ValueWarning: No frequency information was provided, so inferred frequency Q-OCT will be used.\n",
      "  # If an index is available, see if it is a date-based index or if it\n"
     ]
    },
    {
     "name": "stdout",
     "output_type": "stream",
     "text": [
      "SARIMA(0, 0, 1)x(1, 1, 1, 12)12 - AIC:922.5707681395393\n",
      "SARIMA(0, 1, 0)x(0, 0, 0, 12)12 - AIC:1169.8355519039444\n",
      "SARIMA(0, 1, 0)x(0, 0, 1, 12)12 - AIC:1156.0806725197706\n",
      "SARIMA(0, 1, 0)x(0, 1, 0, 12)12 - AIC:801.5564436043198\n"
     ]
    },
    {
     "name": "stderr",
     "output_type": "stream",
     "text": [
      "/usr/local/lib/python3.8/dist-packages/statsmodels/tsa/base/tsa_model.py:524: ValueWarning: No frequency information was provided, so inferred frequency Q-OCT will be used.\n",
      "  # If an index is available, see if it is a date-based index or if it\n",
      "/usr/local/lib/python3.8/dist-packages/statsmodels/tsa/base/tsa_model.py:524: ValueWarning: No frequency information was provided, so inferred frequency Q-OCT will be used.\n",
      "  # If an index is available, see if it is a date-based index or if it\n",
      "/usr/local/lib/python3.8/dist-packages/statsmodels/tsa/base/tsa_model.py:524: ValueWarning: No frequency information was provided, so inferred frequency Q-OCT will be used.\n",
      "  # If an index is available, see if it is a date-based index or if it\n",
      "/usr/local/lib/python3.8/dist-packages/statsmodels/tsa/base/tsa_model.py:524: ValueWarning: No frequency information was provided, so inferred frequency Q-OCT will be used.\n",
      "  # If an index is available, see if it is a date-based index or if it\n",
      "/usr/local/lib/python3.8/dist-packages/statsmodels/tsa/base/tsa_model.py:524: ValueWarning: No frequency information was provided, so inferred frequency Q-OCT will be used.\n",
      "  # If an index is available, see if it is a date-based index or if it\n",
      "/usr/local/lib/python3.8/dist-packages/statsmodels/tsa/base/tsa_model.py:524: ValueWarning: No frequency information was provided, so inferred frequency Q-OCT will be used.\n",
      "  # If an index is available, see if it is a date-based index or if it\n",
      "/usr/local/lib/python3.8/dist-packages/statsmodels/tsa/base/tsa_model.py:524: ValueWarning: No frequency information was provided, so inferred frequency Q-OCT will be used.\n",
      "  # If an index is available, see if it is a date-based index or if it\n",
      "/usr/local/lib/python3.8/dist-packages/statsmodels/tsa/base/tsa_model.py:524: ValueWarning: No frequency information was provided, so inferred frequency Q-OCT will be used.\n",
      "  # If an index is available, see if it is a date-based index or if it\n",
      "/usr/local/lib/python3.8/dist-packages/statsmodels/base/model.py:566: ConvergenceWarning: Maximum Likelihood optimization failed to converge. Check mle_retvals\n",
      "  method=method,\n",
      "/usr/local/lib/python3.8/dist-packages/statsmodels/tsa/base/tsa_model.py:524: ValueWarning: No frequency information was provided, so inferred frequency Q-OCT will be used.\n",
      "  # If an index is available, see if it is a date-based index or if it\n",
      "/usr/local/lib/python3.8/dist-packages/statsmodels/tsa/base/tsa_model.py:524: ValueWarning: No frequency information was provided, so inferred frequency Q-OCT will be used.\n",
      "  # If an index is available, see if it is a date-based index or if it\n"
     ]
    },
    {
     "name": "stdout",
     "output_type": "stream",
     "text": [
      "SARIMA(0, 1, 0)x(0, 1, 1, 12)12 - AIC:1161.9790807439947\n",
      "SARIMA(0, 1, 0)x(1, 0, 0, 12)12 - AIC:1148.1156021948439\n"
     ]
    },
    {
     "name": "stderr",
     "output_type": "stream",
     "text": [
      "/usr/local/lib/python3.8/dist-packages/statsmodels/tsa/base/tsa_model.py:524: ValueWarning: No frequency information was provided, so inferred frequency Q-OCT will be used.\n",
      "  # If an index is available, see if it is a date-based index or if it\n",
      "/usr/local/lib/python3.8/dist-packages/statsmodels/tsa/base/tsa_model.py:524: ValueWarning: No frequency information was provided, so inferred frequency Q-OCT will be used.\n",
      "  # If an index is available, see if it is a date-based index or if it\n"
     ]
    },
    {
     "name": "stdout",
     "output_type": "stream",
     "text": [
      "SARIMA(0, 1, 0)x(1, 0, 1, 12)12 - AIC:1140.864875944122\n"
     ]
    },
    {
     "name": "stderr",
     "output_type": "stream",
     "text": [
      "/usr/local/lib/python3.8/dist-packages/statsmodels/tsa/base/tsa_model.py:524: ValueWarning: No frequency information was provided, so inferred frequency Q-OCT will be used.\n",
      "  # If an index is available, see if it is a date-based index or if it\n",
      "/usr/local/lib/python3.8/dist-packages/statsmodels/tsa/base/tsa_model.py:524: ValueWarning: No frequency information was provided, so inferred frequency Q-OCT will be used.\n",
      "  # If an index is available, see if it is a date-based index or if it\n"
     ]
    },
    {
     "name": "stdout",
     "output_type": "stream",
     "text": [
      "SARIMA(0, 1, 0)x(1, 1, 0, 12)12 - AIC:803.0488596160999\n"
     ]
    },
    {
     "name": "stderr",
     "output_type": "stream",
     "text": [
      "/usr/local/lib/python3.8/dist-packages/statsmodels/tsa/base/tsa_model.py:524: ValueWarning: No frequency information was provided, so inferred frequency Q-OCT will be used.\n",
      "  # If an index is available, see if it is a date-based index or if it\n",
      "/usr/local/lib/python3.8/dist-packages/statsmodels/tsa/base/tsa_model.py:524: ValueWarning: No frequency information was provided, so inferred frequency Q-OCT will be used.\n",
      "  # If an index is available, see if it is a date-based index or if it\n",
      "/usr/local/lib/python3.8/dist-packages/statsmodels/base/model.py:566: ConvergenceWarning: Maximum Likelihood optimization failed to converge. Check mle_retvals\n",
      "  method=method,\n",
      "/usr/local/lib/python3.8/dist-packages/statsmodels/tsa/base/tsa_model.py:524: ValueWarning: No frequency information was provided, so inferred frequency Q-OCT will be used.\n",
      "  # If an index is available, see if it is a date-based index or if it\n",
      "/usr/local/lib/python3.8/dist-packages/statsmodels/tsa/base/tsa_model.py:524: ValueWarning: No frequency information was provided, so inferred frequency Q-OCT will be used.\n",
      "  # If an index is available, see if it is a date-based index or if it\n",
      "/usr/local/lib/python3.8/dist-packages/statsmodels/tsa/base/tsa_model.py:524: ValueWarning: No frequency information was provided, so inferred frequency Q-OCT will be used.\n",
      "  # If an index is available, see if it is a date-based index or if it\n",
      "/usr/local/lib/python3.8/dist-packages/statsmodels/tsa/base/tsa_model.py:524: ValueWarning: No frequency information was provided, so inferred frequency Q-OCT will be used.\n",
      "  # If an index is available, see if it is a date-based index or if it\n"
     ]
    },
    {
     "name": "stdout",
     "output_type": "stream",
     "text": [
      "SARIMA(0, 1, 0)x(1, 1, 1, 12)12 - AIC:1122.3001802659592\n",
      "SARIMA(0, 1, 1)x(0, 0, 0, 12)12 - AIC:1156.631198848134\n",
      "SARIMA(0, 1, 1)x(0, 0, 1, 12)12 - AIC:1174.77732079022\n"
     ]
    },
    {
     "name": "stderr",
     "output_type": "stream",
     "text": [
      "/usr/local/lib/python3.8/dist-packages/statsmodels/tsa/base/tsa_model.py:524: ValueWarning: No frequency information was provided, so inferred frequency Q-OCT will be used.\n",
      "  # If an index is available, see if it is a date-based index or if it\n",
      "/usr/local/lib/python3.8/dist-packages/statsmodels/tsa/base/tsa_model.py:524: ValueWarning: No frequency information was provided, so inferred frequency Q-OCT will be used.\n",
      "  # If an index is available, see if it is a date-based index or if it\n",
      "/usr/local/lib/python3.8/dist-packages/statsmodels/tsa/base/tsa_model.py:524: ValueWarning: No frequency information was provided, so inferred frequency Q-OCT will be used.\n",
      "  # If an index is available, see if it is a date-based index or if it\n",
      "/usr/local/lib/python3.8/dist-packages/statsmodels/tsa/base/tsa_model.py:524: ValueWarning: No frequency information was provided, so inferred frequency Q-OCT will be used.\n",
      "  # If an index is available, see if it is a date-based index or if it\n"
     ]
    },
    {
     "name": "stdout",
     "output_type": "stream",
     "text": [
      "SARIMA(0, 1, 1)x(0, 1, 0, 12)12 - AIC:799.518607039824\n"
     ]
    },
    {
     "name": "stderr",
     "output_type": "stream",
     "text": [
      "/usr/local/lib/python3.8/dist-packages/statsmodels/base/model.py:566: ConvergenceWarning: Maximum Likelihood optimization failed to converge. Check mle_retvals\n",
      "  method=method,\n",
      "/usr/local/lib/python3.8/dist-packages/statsmodels/tsa/base/tsa_model.py:524: ValueWarning: No frequency information was provided, so inferred frequency Q-OCT will be used.\n",
      "  # If an index is available, see if it is a date-based index or if it\n",
      "/usr/local/lib/python3.8/dist-packages/statsmodels/tsa/base/tsa_model.py:524: ValueWarning: No frequency information was provided, so inferred frequency Q-OCT will be used.\n",
      "  # If an index is available, see if it is a date-based index or if it\n"
     ]
    },
    {
     "name": "stdout",
     "output_type": "stream",
     "text": [
      "SARIMA(0, 1, 1)x(0, 1, 1, 12)12 - AIC:1498.0255481250638\n",
      "SARIMA(0, 1, 1)x(1, 0, 0, 12)12 - AIC:1139.0402118192644\n"
     ]
    },
    {
     "name": "stderr",
     "output_type": "stream",
     "text": [
      "/usr/local/lib/python3.8/dist-packages/statsmodels/tsa/base/tsa_model.py:524: ValueWarning: No frequency information was provided, so inferred frequency Q-OCT will be used.\n",
      "  # If an index is available, see if it is a date-based index or if it\n",
      "/usr/local/lib/python3.8/dist-packages/statsmodels/tsa/base/tsa_model.py:524: ValueWarning: No frequency information was provided, so inferred frequency Q-OCT will be used.\n",
      "  # If an index is available, see if it is a date-based index or if it\n"
     ]
    },
    {
     "name": "stdout",
     "output_type": "stream",
     "text": [
      "SARIMA(0, 1, 1)x(1, 0, 1, 12)12 - AIC:1131.9056790673587\n",
      "SARIMA(0, 1, 1)x(1, 1, 0, 12)12 - AIC:801.4153841911007\n"
     ]
    },
    {
     "name": "stderr",
     "output_type": "stream",
     "text": [
      "/usr/local/lib/python3.8/dist-packages/statsmodels/tsa/base/tsa_model.py:524: ValueWarning: No frequency information was provided, so inferred frequency Q-OCT will be used.\n",
      "  # If an index is available, see if it is a date-based index or if it\n",
      "/usr/local/lib/python3.8/dist-packages/statsmodels/tsa/base/tsa_model.py:524: ValueWarning: No frequency information was provided, so inferred frequency Q-OCT will be used.\n",
      "  # If an index is available, see if it is a date-based index or if it\n",
      "/usr/local/lib/python3.8/dist-packages/statsmodels/tsa/base/tsa_model.py:524: ValueWarning: No frequency information was provided, so inferred frequency Q-OCT will be used.\n",
      "  # If an index is available, see if it is a date-based index or if it\n",
      "/usr/local/lib/python3.8/dist-packages/statsmodels/tsa/base/tsa_model.py:524: ValueWarning: No frequency information was provided, so inferred frequency Q-OCT will be used.\n",
      "  # If an index is available, see if it is a date-based index or if it\n"
     ]
    },
    {
     "name": "stdout",
     "output_type": "stream",
     "text": [
      "SARIMA(0, 1, 1)x(1, 1, 1, 12)12 - AIC:1655.0325961277194\n",
      "SARIMA(1, 0, 0)x(0, 0, 0, 12)12 - AIC:1198.1680963643992\n"
     ]
    },
    {
     "name": "stderr",
     "output_type": "stream",
     "text": [
      "/usr/local/lib/python3.8/dist-packages/statsmodels/tsa/base/tsa_model.py:524: ValueWarning: No frequency information was provided, so inferred frequency Q-OCT will be used.\n",
      "  # If an index is available, see if it is a date-based index or if it\n",
      "/usr/local/lib/python3.8/dist-packages/statsmodels/tsa/base/tsa_model.py:524: ValueWarning: No frequency information was provided, so inferred frequency Q-OCT will be used.\n",
      "  # If an index is available, see if it is a date-based index or if it\n",
      "/usr/local/lib/python3.8/dist-packages/statsmodels/tsa/statespace/sarimax.py:966: UserWarning: Non-stationary starting autoregressive parameters found. Using zeros as starting parameters.\n",
      "  warn('Non-stationary starting autoregressive parameters'\n",
      "/usr/local/lib/python3.8/dist-packages/statsmodels/tsa/base/tsa_model.py:524: ValueWarning: No frequency information was provided, so inferred frequency Q-OCT will be used.\n",
      "  # If an index is available, see if it is a date-based index or if it\n",
      "/usr/local/lib/python3.8/dist-packages/statsmodels/tsa/base/tsa_model.py:524: ValueWarning: No frequency information was provided, so inferred frequency Q-OCT will be used.\n",
      "  # If an index is available, see if it is a date-based index or if it\n"
     ]
    },
    {
     "name": "stdout",
     "output_type": "stream",
     "text": [
      "SARIMA(1, 0, 0)x(0, 0, 1, 12)12 - AIC:1160.4855356925232\n",
      "SARIMA(1, 0, 0)x(0, 1, 0, 12)12 - AIC:926.1257526725503\n"
     ]
    },
    {
     "name": "stderr",
     "output_type": "stream",
     "text": [
      "/usr/local/lib/python3.8/dist-packages/statsmodels/tsa/base/tsa_model.py:524: ValueWarning: No frequency information was provided, so inferred frequency Q-OCT will be used.\n",
      "  # If an index is available, see if it is a date-based index or if it\n",
      "/usr/local/lib/python3.8/dist-packages/statsmodels/tsa/base/tsa_model.py:524: ValueWarning: No frequency information was provided, so inferred frequency Q-OCT will be used.\n",
      "  # If an index is available, see if it is a date-based index or if it\n",
      "/usr/local/lib/python3.8/dist-packages/statsmodels/tsa/base/tsa_model.py:524: ValueWarning: No frequency information was provided, so inferred frequency Q-OCT will be used.\n",
      "  # If an index is available, see if it is a date-based index or if it\n",
      "/usr/local/lib/python3.8/dist-packages/statsmodels/tsa/base/tsa_model.py:524: ValueWarning: No frequency information was provided, so inferred frequency Q-OCT will be used.\n",
      "  # If an index is available, see if it is a date-based index or if it\n",
      "/usr/local/lib/python3.8/dist-packages/statsmodels/base/model.py:566: ConvergenceWarning: Maximum Likelihood optimization failed to converge. Check mle_retvals\n",
      "  method=method,\n",
      "/usr/local/lib/python3.8/dist-packages/statsmodels/tsa/base/tsa_model.py:524: ValueWarning: No frequency information was provided, so inferred frequency Q-OCT will be used.\n",
      "  # If an index is available, see if it is a date-based index or if it\n",
      "/usr/local/lib/python3.8/dist-packages/statsmodels/tsa/base/tsa_model.py:524: ValueWarning: No frequency information was provided, so inferred frequency Q-OCT will be used.\n",
      "  # If an index is available, see if it is a date-based index or if it\n"
     ]
    },
    {
     "name": "stdout",
     "output_type": "stream",
     "text": [
      "SARIMA(1, 0, 0)x(0, 1, 1, 12)12 - AIC:2046.016869548066\n",
      "SARIMA(1, 0, 0)x(1, 0, 0, 12)12 - AIC:1085.955487713466\n"
     ]
    },
    {
     "name": "stderr",
     "output_type": "stream",
     "text": [
      "/usr/local/lib/python3.8/dist-packages/statsmodels/tsa/base/tsa_model.py:524: ValueWarning: No frequency information was provided, so inferred frequency Q-OCT will be used.\n",
      "  # If an index is available, see if it is a date-based index or if it\n",
      "/usr/local/lib/python3.8/dist-packages/statsmodels/tsa/base/tsa_model.py:524: ValueWarning: No frequency information was provided, so inferred frequency Q-OCT will be used.\n",
      "  # If an index is available, see if it is a date-based index or if it\n",
      "/usr/local/lib/python3.8/dist-packages/statsmodels/base/model.py:566: ConvergenceWarning: Maximum Likelihood optimization failed to converge. Check mle_retvals\n",
      "  method=method,\n",
      "/usr/local/lib/python3.8/dist-packages/statsmodels/tsa/base/tsa_model.py:524: ValueWarning: No frequency information was provided, so inferred frequency Q-OCT will be used.\n",
      "  # If an index is available, see if it is a date-based index or if it\n",
      "/usr/local/lib/python3.8/dist-packages/statsmodels/tsa/base/tsa_model.py:524: ValueWarning: No frequency information was provided, so inferred frequency Q-OCT will be used.\n",
      "  # If an index is available, see if it is a date-based index or if it\n"
     ]
    },
    {
     "name": "stdout",
     "output_type": "stream",
     "text": [
      "SARIMA(1, 0, 0)x(1, 0, 1, 12)12 - AIC:1090.7291673626405\n"
     ]
    },
    {
     "name": "stderr",
     "output_type": "stream",
     "text": [
      "/usr/local/lib/python3.8/dist-packages/statsmodels/base/model.py:566: ConvergenceWarning: Maximum Likelihood optimization failed to converge. Check mle_retvals\n",
      "  method=method,\n",
      "/usr/local/lib/python3.8/dist-packages/statsmodels/tsa/base/tsa_model.py:524: ValueWarning: No frequency information was provided, so inferred frequency Q-OCT will be used.\n",
      "  # If an index is available, see if it is a date-based index or if it\n",
      "/usr/local/lib/python3.8/dist-packages/statsmodels/tsa/base/tsa_model.py:524: ValueWarning: No frequency information was provided, so inferred frequency Q-OCT will be used.\n",
      "  # If an index is available, see if it is a date-based index or if it\n"
     ]
    },
    {
     "name": "stdout",
     "output_type": "stream",
     "text": [
      "SARIMA(1, 0, 0)x(1, 1, 0, 12)12 - AIC:922.7573709828617\n"
     ]
    },
    {
     "name": "stderr",
     "output_type": "stream",
     "text": [
      "/usr/local/lib/python3.8/dist-packages/statsmodels/base/model.py:566: ConvergenceWarning: Maximum Likelihood optimization failed to converge. Check mle_retvals\n",
      "  method=method,\n",
      "/usr/local/lib/python3.8/dist-packages/statsmodels/tsa/base/tsa_model.py:524: ValueWarning: No frequency information was provided, so inferred frequency Q-OCT will be used.\n",
      "  # If an index is available, see if it is a date-based index or if it\n",
      "/usr/local/lib/python3.8/dist-packages/statsmodels/tsa/base/tsa_model.py:524: ValueWarning: No frequency information was provided, so inferred frequency Q-OCT will be used.\n",
      "  # If an index is available, see if it is a date-based index or if it\n",
      "/usr/local/lib/python3.8/dist-packages/statsmodels/tsa/base/tsa_model.py:524: ValueWarning: No frequency information was provided, so inferred frequency Q-OCT will be used.\n",
      "  # If an index is available, see if it is a date-based index or if it\n",
      "/usr/local/lib/python3.8/dist-packages/statsmodels/tsa/base/tsa_model.py:524: ValueWarning: No frequency information was provided, so inferred frequency Q-OCT will be used.\n",
      "  # If an index is available, see if it is a date-based index or if it\n"
     ]
    },
    {
     "name": "stdout",
     "output_type": "stream",
     "text": [
      "SARIMA(1, 0, 0)x(1, 1, 1, 12)12 - AIC:967.5738882567148\n",
      "SARIMA(1, 0, 1)x(0, 0, 0, 12)12 - AIC:1168.9239479256132\n"
     ]
    },
    {
     "name": "stderr",
     "output_type": "stream",
     "text": [
      "/usr/local/lib/python3.8/dist-packages/statsmodels/base/model.py:566: ConvergenceWarning: Maximum Likelihood optimization failed to converge. Check mle_retvals\n",
      "  method=method,\n",
      "/usr/local/lib/python3.8/dist-packages/statsmodels/tsa/base/tsa_model.py:524: ValueWarning: No frequency information was provided, so inferred frequency Q-OCT will be used.\n",
      "  # If an index is available, see if it is a date-based index or if it\n",
      "/usr/local/lib/python3.8/dist-packages/statsmodels/tsa/base/tsa_model.py:524: ValueWarning: No frequency information was provided, so inferred frequency Q-OCT will be used.\n",
      "  # If an index is available, see if it is a date-based index or if it\n"
     ]
    },
    {
     "name": "stdout",
     "output_type": "stream",
     "text": [
      "SARIMA(1, 0, 1)x(0, 0, 1, 12)12 - AIC:1140.2353761449392\n"
     ]
    },
    {
     "name": "stderr",
     "output_type": "stream",
     "text": [
      "/usr/local/lib/python3.8/dist-packages/statsmodels/base/model.py:566: ConvergenceWarning: Maximum Likelihood optimization failed to converge. Check mle_retvals\n",
      "  method=method,\n",
      "/usr/local/lib/python3.8/dist-packages/statsmodels/tsa/base/tsa_model.py:524: ValueWarning: No frequency information was provided, so inferred frequency Q-OCT will be used.\n",
      "  # If an index is available, see if it is a date-based index or if it\n",
      "/usr/local/lib/python3.8/dist-packages/statsmodels/tsa/base/tsa_model.py:524: ValueWarning: No frequency information was provided, so inferred frequency Q-OCT will be used.\n",
      "  # If an index is available, see if it is a date-based index or if it\n"
     ]
    },
    {
     "name": "stdout",
     "output_type": "stream",
     "text": [
      "SARIMA(1, 0, 1)x(0, 1, 0, 12)12 - AIC:1020.8176525267444\n"
     ]
    },
    {
     "name": "stderr",
     "output_type": "stream",
     "text": [
      "/usr/local/lib/python3.8/dist-packages/statsmodels/base/model.py:566: ConvergenceWarning: Maximum Likelihood optimization failed to converge. Check mle_retvals\n",
      "  method=method,\n",
      "/usr/local/lib/python3.8/dist-packages/statsmodels/tsa/base/tsa_model.py:524: ValueWarning: No frequency information was provided, so inferred frequency Q-OCT will be used.\n",
      "  # If an index is available, see if it is a date-based index or if it\n",
      "/usr/local/lib/python3.8/dist-packages/statsmodels/tsa/base/tsa_model.py:524: ValueWarning: No frequency information was provided, so inferred frequency Q-OCT will be used.\n",
      "  # If an index is available, see if it is a date-based index or if it\n"
     ]
    },
    {
     "name": "stdout",
     "output_type": "stream",
     "text": [
      "SARIMA(1, 0, 1)x(0, 1, 1, 12)12 - AIC:1732.814617672619\n"
     ]
    },
    {
     "name": "stderr",
     "output_type": "stream",
     "text": [
      "/usr/local/lib/python3.8/dist-packages/statsmodels/base/model.py:566: ConvergenceWarning: Maximum Likelihood optimization failed to converge. Check mle_retvals\n",
      "  method=method,\n",
      "/usr/local/lib/python3.8/dist-packages/statsmodels/tsa/base/tsa_model.py:524: ValueWarning: No frequency information was provided, so inferred frequency Q-OCT will be used.\n",
      "  # If an index is available, see if it is a date-based index or if it\n",
      "/usr/local/lib/python3.8/dist-packages/statsmodels/tsa/base/tsa_model.py:524: ValueWarning: No frequency information was provided, so inferred frequency Q-OCT will be used.\n",
      "  # If an index is available, see if it is a date-based index or if it\n"
     ]
    },
    {
     "name": "stdout",
     "output_type": "stream",
     "text": [
      "SARIMA(1, 0, 1)x(1, 0, 0, 12)12 - AIC:1089.6507153363896\n"
     ]
    },
    {
     "name": "stderr",
     "output_type": "stream",
     "text": [
      "/usr/local/lib/python3.8/dist-packages/statsmodels/base/model.py:566: ConvergenceWarning: Maximum Likelihood optimization failed to converge. Check mle_retvals\n",
      "  method=method,\n",
      "/usr/local/lib/python3.8/dist-packages/statsmodels/tsa/base/tsa_model.py:524: ValueWarning: No frequency information was provided, so inferred frequency Q-OCT will be used.\n",
      "  # If an index is available, see if it is a date-based index or if it\n",
      "/usr/local/lib/python3.8/dist-packages/statsmodels/tsa/base/tsa_model.py:524: ValueWarning: No frequency information was provided, so inferred frequency Q-OCT will be used.\n",
      "  # If an index is available, see if it is a date-based index or if it\n"
     ]
    },
    {
     "name": "stdout",
     "output_type": "stream",
     "text": [
      "SARIMA(1, 0, 1)x(1, 0, 1, 12)12 - AIC:1114.4405211786705\n"
     ]
    },
    {
     "name": "stderr",
     "output_type": "stream",
     "text": [
      "/usr/local/lib/python3.8/dist-packages/statsmodels/base/model.py:566: ConvergenceWarning: Maximum Likelihood optimization failed to converge. Check mle_retvals\n",
      "  method=method,\n",
      "/usr/local/lib/python3.8/dist-packages/statsmodels/tsa/base/tsa_model.py:524: ValueWarning: No frequency information was provided, so inferred frequency Q-OCT will be used.\n",
      "  # If an index is available, see if it is a date-based index or if it\n",
      "/usr/local/lib/python3.8/dist-packages/statsmodels/tsa/base/tsa_model.py:524: ValueWarning: No frequency information was provided, so inferred frequency Q-OCT will be used.\n",
      "  # If an index is available, see if it is a date-based index or if it\n"
     ]
    },
    {
     "name": "stdout",
     "output_type": "stream",
     "text": [
      "SARIMA(1, 0, 1)x(1, 1, 0, 12)12 - AIC:44.919201228708346\n"
     ]
    },
    {
     "name": "stderr",
     "output_type": "stream",
     "text": [
      "/usr/local/lib/python3.8/dist-packages/statsmodels/base/model.py:566: ConvergenceWarning: Maximum Likelihood optimization failed to converge. Check mle_retvals\n",
      "  method=method,\n",
      "/usr/local/lib/python3.8/dist-packages/statsmodels/tsa/base/tsa_model.py:524: ValueWarning: No frequency information was provided, so inferred frequency Q-OCT will be used.\n",
      "  # If an index is available, see if it is a date-based index or if it\n",
      "/usr/local/lib/python3.8/dist-packages/statsmodels/tsa/base/tsa_model.py:524: ValueWarning: No frequency information was provided, so inferred frequency Q-OCT will be used.\n",
      "  # If an index is available, see if it is a date-based index or if it\n",
      "/usr/local/lib/python3.8/dist-packages/statsmodels/tsa/base/tsa_model.py:524: ValueWarning: No frequency information was provided, so inferred frequency Q-OCT will be used.\n",
      "  # If an index is available, see if it is a date-based index or if it\n",
      "/usr/local/lib/python3.8/dist-packages/statsmodels/tsa/base/tsa_model.py:524: ValueWarning: No frequency information was provided, so inferred frequency Q-OCT will be used.\n",
      "  # If an index is available, see if it is a date-based index or if it\n",
      "/usr/local/lib/python3.8/dist-packages/statsmodels/tsa/base/tsa_model.py:524: ValueWarning: No frequency information was provided, so inferred frequency Q-OCT will be used.\n",
      "  # If an index is available, see if it is a date-based index or if it\n",
      "/usr/local/lib/python3.8/dist-packages/statsmodels/tsa/base/tsa_model.py:524: ValueWarning: No frequency information was provided, so inferred frequency Q-OCT will be used.\n",
      "  # If an index is available, see if it is a date-based index or if it\n"
     ]
    },
    {
     "name": "stdout",
     "output_type": "stream",
     "text": [
      "SARIMA(1, 0, 1)x(1, 1, 1, 12)12 - AIC:984.192536792449\n",
      "SARIMA(1, 1, 0)x(0, 0, 0, 12)12 - AIC:1155.5657957427857\n",
      "SARIMA(1, 1, 0)x(0, 0, 1, 12)12 - AIC:1171.0404023065414\n",
      "SARIMA(1, 1, 0)x(0, 1, 0, 12)12 - AIC:798.9176711600961\n"
     ]
    },
    {
     "name": "stderr",
     "output_type": "stream",
     "text": [
      "/usr/local/lib/python3.8/dist-packages/statsmodels/tsa/base/tsa_model.py:524: ValueWarning: No frequency information was provided, so inferred frequency Q-OCT will be used.\n",
      "  # If an index is available, see if it is a date-based index or if it\n",
      "/usr/local/lib/python3.8/dist-packages/statsmodels/tsa/base/tsa_model.py:524: ValueWarning: No frequency information was provided, so inferred frequency Q-OCT will be used.\n",
      "  # If an index is available, see if it is a date-based index or if it\n",
      "/usr/local/lib/python3.8/dist-packages/statsmodels/base/model.py:566: ConvergenceWarning: Maximum Likelihood optimization failed to converge. Check mle_retvals\n",
      "  method=method,\n",
      "/usr/local/lib/python3.8/dist-packages/statsmodels/tsa/base/tsa_model.py:524: ValueWarning: No frequency information was provided, so inferred frequency Q-OCT will be used.\n",
      "  # If an index is available, see if it is a date-based index or if it\n",
      "/usr/local/lib/python3.8/dist-packages/statsmodels/tsa/base/tsa_model.py:524: ValueWarning: No frequency information was provided, so inferred frequency Q-OCT will be used.\n",
      "  # If an index is available, see if it is a date-based index or if it\n",
      "/usr/local/lib/python3.8/dist-packages/statsmodels/tsa/base/tsa_model.py:524: ValueWarning: No frequency information was provided, so inferred frequency Q-OCT will be used.\n",
      "  # If an index is available, see if it is a date-based index or if it\n",
      "/usr/local/lib/python3.8/dist-packages/statsmodels/tsa/base/tsa_model.py:524: ValueWarning: No frequency information was provided, so inferred frequency Q-OCT will be used.\n",
      "  # If an index is available, see if it is a date-based index or if it\n"
     ]
    },
    {
     "name": "stdout",
     "output_type": "stream",
     "text": [
      "SARIMA(1, 1, 0)x(0, 1, 1, 12)12 - AIC:1425.9888308697573\n",
      "SARIMA(1, 1, 0)x(1, 0, 0, 12)12 - AIC:1136.3004082267578\n"
     ]
    },
    {
     "name": "stderr",
     "output_type": "stream",
     "text": [
      "/usr/local/lib/python3.8/dist-packages/statsmodels/base/model.py:566: ConvergenceWarning: Maximum Likelihood optimization failed to converge. Check mle_retvals\n",
      "  method=method,\n",
      "/usr/local/lib/python3.8/dist-packages/statsmodels/tsa/base/tsa_model.py:524: ValueWarning: No frequency information was provided, so inferred frequency Q-OCT will be used.\n",
      "  # If an index is available, see if it is a date-based index or if it\n",
      "/usr/local/lib/python3.8/dist-packages/statsmodels/tsa/base/tsa_model.py:524: ValueWarning: No frequency information was provided, so inferred frequency Q-OCT will be used.\n",
      "  # If an index is available, see if it is a date-based index or if it\n",
      "/usr/local/lib/python3.8/dist-packages/statsmodels/tsa/base/tsa_model.py:524: ValueWarning: No frequency information was provided, so inferred frequency Q-OCT will be used.\n",
      "  # If an index is available, see if it is a date-based index or if it\n",
      "/usr/local/lib/python3.8/dist-packages/statsmodels/tsa/base/tsa_model.py:524: ValueWarning: No frequency information was provided, so inferred frequency Q-OCT will be used.\n",
      "  # If an index is available, see if it is a date-based index or if it\n"
     ]
    },
    {
     "name": "stdout",
     "output_type": "stream",
     "text": [
      "SARIMA(1, 1, 0)x(1, 0, 1, 12)12 - AIC:1130.6326803356385\n",
      "SARIMA(1, 1, 0)x(1, 1, 0, 12)12 - AIC:800.8636332505071\n"
     ]
    },
    {
     "name": "stderr",
     "output_type": "stream",
     "text": [
      "/usr/local/lib/python3.8/dist-packages/statsmodels/base/model.py:566: ConvergenceWarning: Maximum Likelihood optimization failed to converge. Check mle_retvals\n",
      "  method=method,\n",
      "/usr/local/lib/python3.8/dist-packages/statsmodels/tsa/base/tsa_model.py:524: ValueWarning: No frequency information was provided, so inferred frequency Q-OCT will be used.\n",
      "  # If an index is available, see if it is a date-based index or if it\n",
      "/usr/local/lib/python3.8/dist-packages/statsmodels/tsa/base/tsa_model.py:524: ValueWarning: No frequency information was provided, so inferred frequency Q-OCT will be used.\n",
      "  # If an index is available, see if it is a date-based index or if it\n"
     ]
    },
    {
     "name": "stdout",
     "output_type": "stream",
     "text": [
      "SARIMA(1, 1, 0)x(1, 1, 1, 12)12 - AIC:1545.9897222361667\n",
      "SARIMA(1, 1, 1)x(0, 0, 0, 12)12 - AIC:1116.1651694464306\n",
      "SARIMA(1, 1, 1)x(0, 0, 1, 12)12 - AIC:1169.4033601829822\n"
     ]
    },
    {
     "name": "stderr",
     "output_type": "stream",
     "text": [
      "/usr/local/lib/python3.8/dist-packages/statsmodels/tsa/base/tsa_model.py:524: ValueWarning: No frequency information was provided, so inferred frequency Q-OCT will be used.\n",
      "  # If an index is available, see if it is a date-based index or if it\n",
      "/usr/local/lib/python3.8/dist-packages/statsmodels/tsa/base/tsa_model.py:524: ValueWarning: No frequency information was provided, so inferred frequency Q-OCT will be used.\n",
      "  # If an index is available, see if it is a date-based index or if it\n",
      "/usr/local/lib/python3.8/dist-packages/statsmodels/tsa/base/tsa_model.py:524: ValueWarning: No frequency information was provided, so inferred frequency Q-OCT will be used.\n",
      "  # If an index is available, see if it is a date-based index or if it\n",
      "/usr/local/lib/python3.8/dist-packages/statsmodels/tsa/base/tsa_model.py:524: ValueWarning: No frequency information was provided, so inferred frequency Q-OCT will be used.\n",
      "  # If an index is available, see if it is a date-based index or if it\n"
     ]
    },
    {
     "name": "stdout",
     "output_type": "stream",
     "text": [
      "SARIMA(1, 1, 1)x(0, 1, 0, 12)12 - AIC:798.1015021141081\n"
     ]
    },
    {
     "name": "stderr",
     "output_type": "stream",
     "text": [
      "/usr/local/lib/python3.8/dist-packages/statsmodels/tsa/base/tsa_model.py:524: ValueWarning: No frequency information was provided, so inferred frequency Q-OCT will be used.\n",
      "  # If an index is available, see if it is a date-based index or if it\n",
      "/usr/local/lib/python3.8/dist-packages/statsmodels/tsa/base/tsa_model.py:524: ValueWarning: No frequency information was provided, so inferred frequency Q-OCT will be used.\n",
      "  # If an index is available, see if it is a date-based index or if it\n",
      "/usr/local/lib/python3.8/dist-packages/statsmodels/base/model.py:566: ConvergenceWarning: Maximum Likelihood optimization failed to converge. Check mle_retvals\n",
      "  method=method,\n",
      "/usr/local/lib/python3.8/dist-packages/statsmodels/tsa/base/tsa_model.py:524: ValueWarning: No frequency information was provided, so inferred frequency Q-OCT will be used.\n",
      "  # If an index is available, see if it is a date-based index or if it\n",
      "/usr/local/lib/python3.8/dist-packages/statsmodels/tsa/base/tsa_model.py:524: ValueWarning: No frequency information was provided, so inferred frequency Q-OCT will be used.\n",
      "  # If an index is available, see if it is a date-based index or if it\n"
     ]
    },
    {
     "name": "stdout",
     "output_type": "stream",
     "text": [
      "SARIMA(1, 1, 1)x(0, 1, 1, 12)12 - AIC:1545.5754242481846\n"
     ]
    },
    {
     "name": "stderr",
     "output_type": "stream",
     "text": [
      "/usr/local/lib/python3.8/dist-packages/statsmodels/base/model.py:566: ConvergenceWarning: Maximum Likelihood optimization failed to converge. Check mle_retvals\n",
      "  method=method,\n",
      "/usr/local/lib/python3.8/dist-packages/statsmodels/tsa/base/tsa_model.py:524: ValueWarning: No frequency information was provided, so inferred frequency Q-OCT will be used.\n",
      "  # If an index is available, see if it is a date-based index or if it\n",
      "/usr/local/lib/python3.8/dist-packages/statsmodels/tsa/base/tsa_model.py:524: ValueWarning: No frequency information was provided, so inferred frequency Q-OCT will be used.\n",
      "  # If an index is available, see if it is a date-based index or if it\n"
     ]
    },
    {
     "name": "stdout",
     "output_type": "stream",
     "text": [
      "SARIMA(1, 1, 1)x(1, 0, 0, 12)12 - AIC:1113.1551692351472\n"
     ]
    },
    {
     "name": "stderr",
     "output_type": "stream",
     "text": [
      "/usr/local/lib/python3.8/dist-packages/statsmodels/base/model.py:566: ConvergenceWarning: Maximum Likelihood optimization failed to converge. Check mle_retvals\n",
      "  method=method,\n",
      "/usr/local/lib/python3.8/dist-packages/statsmodels/tsa/base/tsa_model.py:524: ValueWarning: No frequency information was provided, so inferred frequency Q-OCT will be used.\n",
      "  # If an index is available, see if it is a date-based index or if it\n",
      "/usr/local/lib/python3.8/dist-packages/statsmodels/tsa/base/tsa_model.py:524: ValueWarning: No frequency information was provided, so inferred frequency Q-OCT will be used.\n",
      "  # If an index is available, see if it is a date-based index or if it\n"
     ]
    },
    {
     "name": "stdout",
     "output_type": "stream",
     "text": [
      "SARIMA(1, 1, 1)x(1, 0, 1, 12)12 - AIC:1113.7364428680771\n",
      "SARIMA(1, 1, 1)x(1, 1, 0, 12)12 - AIC:800.098274991315\n"
     ]
    },
    {
     "name": "stderr",
     "output_type": "stream",
     "text": [
      "/usr/local/lib/python3.8/dist-packages/statsmodels/tsa/base/tsa_model.py:524: ValueWarning: No frequency information was provided, so inferred frequency Q-OCT will be used.\n",
      "  # If an index is available, see if it is a date-based index or if it\n",
      "/usr/local/lib/python3.8/dist-packages/statsmodels/tsa/base/tsa_model.py:524: ValueWarning: No frequency information was provided, so inferred frequency Q-OCT will be used.\n",
      "  # If an index is available, see if it is a date-based index or if it\n"
     ]
    },
    {
     "name": "stdout",
     "output_type": "stream",
     "text": [
      "SARIMA(1, 1, 1)x(1, 1, 1, 12)12 - AIC:1382.6426338208157\n"
     ]
    },
    {
     "name": "stderr",
     "output_type": "stream",
     "text": [
      "/usr/local/lib/python3.8/dist-packages/statsmodels/base/model.py:566: ConvergenceWarning: Maximum Likelihood optimization failed to converge. Check mle_retvals\n",
      "  method=method,\n"
     ]
    }
   ],
   "source": [
    "# Using Grid Search find the optimal set of parameters that yields the best performance\n",
    "for param in pdq:\n",
    "    for param_seasonal in seasonal_pdq:\n",
    "        try:\n",
    "            mod = sm.tsa.statespace.SARIMAX(df, order = param, seasonal_order = param_seasonal, enforce_stationary = False,enforce_invertibility=False) \n",
    "            result = mod.fit()   \n",
    "            print('SARIMA{}x{}12 - AIC:{}'.format(param, param_seasonal, result.aic))\n",
    "        except:\n",
    "            continue"
   ]
  },
  {
   "cell_type": "code",
   "execution_count": 26,
   "id": "576a9c58-c2e7-4aad-92ee-f03a316932c8",
   "metadata": {
    "colab": {
     "base_uri": "https://localhost:8080/"
    },
    "id": "576a9c58-c2e7-4aad-92ee-f03a316932c8",
    "outputId": "67186014-71ff-49d5-86fb-321c9c540224"
   },
   "outputs": [
    {
     "name": "stderr",
     "output_type": "stream",
     "text": [
      "/usr/local/lib/python3.8/dist-packages/statsmodels/tsa/base/tsa_model.py:524: ValueWarning: No frequency information was provided, so inferred frequency Q-OCT will be used.\n",
      "  # If an index is available, see if it is a date-based index or if it\n",
      "/usr/local/lib/python3.8/dist-packages/statsmodels/tsa/base/tsa_model.py:524: ValueWarning: No frequency information was provided, so inferred frequency Q-OCT will be used.\n",
      "  # If an index is available, see if it is a date-based index or if it\n"
     ]
    },
    {
     "name": "stdout",
     "output_type": "stream",
     "text": [
      "==============================================================================\n",
      "                 coef    std err          z      P>|z|      [0.025      0.975]\n",
      "------------------------------------------------------------------------------\n",
      "ar.L1         -0.5736      0.586     -0.978      0.328      -1.723       0.576\n",
      "ma.L1          0.4940      0.632      0.781      0.435      -0.745       1.733\n",
      "ar.S.L12       0.0019      0.164      0.011      0.991      -0.320       0.324\n",
      "sigma2      6.155e+06   2.96e-08   2.08e+14      0.000    6.15e+06    6.15e+06\n",
      "==============================================================================\n"
     ]
    }
   ],
   "source": [
    "#Fitting the SARIMA model using above optimal combination of p, d, q (optimal means combination at which we got lowest AIC score)\n",
    "\n",
    "model = sm.tsa.statespace.SARIMAX(df, order = (1, 1, 1),\n",
    "                                  seasonal_order = (1, 1, 0, 12)\n",
    "                                 )\n",
    "result = model.fit()\n",
    "print(result.summary().tables[1])"
   ]
  },
  {
   "cell_type": "code",
   "execution_count": 72,
   "id": "22730dd5-8e87-4c57-ae64-10cd4bae1203",
   "metadata": {
    "colab": {
     "base_uri": "https://localhost:8080/",
     "height": 325
    },
    "id": "22730dd5-8e87-4c57-ae64-10cd4bae1203",
    "outputId": "da7c23fe-cbf5-49b9-838f-e57c1591d0b6"
   },
   "outputs": [
    {
     "name": "stderr",
     "output_type": "stream",
     "text": [
      "/usr/local/lib/python3.8/dist-packages/statsmodels/tsa/base/tsa_model.py:132: FutureWarning: The 'freq' argument in Timestamp is deprecated and will be removed in a future version.\n",
      "  # Negative indices (that lie in the Index)\n"
     ]
    },
    {
     "data": {
      "text/html": [
       "\n",
       "  <div id=\"df-68a4e797-6e01-484a-9505-05cb4a53805e\">\n",
       "    <div class=\"colab-df-container\">\n",
       "      <div>\n",
       "<style scoped>\n",
       "    .dataframe tbody tr th:only-of-type {\n",
       "        vertical-align: middle;\n",
       "    }\n",
       "\n",
       "    .dataframe tbody tr th {\n",
       "        vertical-align: top;\n",
       "    }\n",
       "\n",
       "    .dataframe thead th {\n",
       "        text-align: right;\n",
       "    }\n",
       "</style>\n",
       "<table border=\"1\" class=\"dataframe\">\n",
       "  <thead>\n",
       "    <tr style=\"text-align: right;\">\n",
       "      <th></th>\n",
       "      <th>lower Quarterly Revenue</th>\n",
       "      <th>upper Quarterly Revenue</th>\n",
       "    </tr>\n",
       "  </thead>\n",
       "  <tbody>\n",
       "    <tr>\n",
       "      <th>2021-04-30</th>\n",
       "      <td>133299.243434</td>\n",
       "      <td>143023.993307</td>\n",
       "    </tr>\n",
       "    <tr>\n",
       "      <th>2021-07-31</th>\n",
       "      <td>138972.339021</td>\n",
       "      <td>148697.088895</td>\n",
       "    </tr>\n",
       "    <tr>\n",
       "      <th>2021-10-31</th>\n",
       "      <td>133165.550096</td>\n",
       "      <td>142890.299970</td>\n",
       "    </tr>\n",
       "    <tr>\n",
       "      <th>2022-01-31</th>\n",
       "      <td>149300.397194</td>\n",
       "      <td>159025.147067</td>\n",
       "    </tr>\n",
       "    <tr>\n",
       "      <th>2022-04-30</th>\n",
       "      <td>133392.899885</td>\n",
       "      <td>143117.649759</td>\n",
       "    </tr>\n",
       "    <tr>\n",
       "      <th>2022-07-31</th>\n",
       "      <td>142751.969848</td>\n",
       "      <td>152476.719721</td>\n",
       "    </tr>\n",
       "    <tr>\n",
       "      <th>2022-10-31</th>\n",
       "      <td>145428.832134</td>\n",
       "      <td>155153.582008</td>\n",
       "    </tr>\n",
       "  </tbody>\n",
       "</table>\n",
       "</div>\n",
       "      <button class=\"colab-df-convert\" onclick=\"convertToInteractive('df-68a4e797-6e01-484a-9505-05cb4a53805e')\"\n",
       "              title=\"Convert this dataframe to an interactive table.\"\n",
       "              style=\"display:none;\">\n",
       "        \n",
       "  <svg xmlns=\"http://www.w3.org/2000/svg\" height=\"24px\"viewBox=\"0 0 24 24\"\n",
       "       width=\"24px\">\n",
       "    <path d=\"M0 0h24v24H0V0z\" fill=\"none\"/>\n",
       "    <path d=\"M18.56 5.44l.94 2.06.94-2.06 2.06-.94-2.06-.94-.94-2.06-.94 2.06-2.06.94zm-11 1L8.5 8.5l.94-2.06 2.06-.94-2.06-.94L8.5 2.5l-.94 2.06-2.06.94zm10 10l.94 2.06.94-2.06 2.06-.94-2.06-.94-.94-2.06-.94 2.06-2.06.94z\"/><path d=\"M17.41 7.96l-1.37-1.37c-.4-.4-.92-.59-1.43-.59-.52 0-1.04.2-1.43.59L10.3 9.45l-7.72 7.72c-.78.78-.78 2.05 0 2.83L4 21.41c.39.39.9.59 1.41.59.51 0 1.02-.2 1.41-.59l7.78-7.78 2.81-2.81c.8-.78.8-2.07 0-2.86zM5.41 20L4 18.59l7.72-7.72 1.47 1.35L5.41 20z\"/>\n",
       "  </svg>\n",
       "      </button>\n",
       "      \n",
       "  <style>\n",
       "    .colab-df-container {\n",
       "      display:flex;\n",
       "      flex-wrap:wrap;\n",
       "      gap: 12px;\n",
       "    }\n",
       "\n",
       "    .colab-df-convert {\n",
       "      background-color: #E8F0FE;\n",
       "      border: none;\n",
       "      border-radius: 50%;\n",
       "      cursor: pointer;\n",
       "      display: none;\n",
       "      fill: #1967D2;\n",
       "      height: 32px;\n",
       "      padding: 0 0 0 0;\n",
       "      width: 32px;\n",
       "    }\n",
       "\n",
       "    .colab-df-convert:hover {\n",
       "      background-color: #E2EBFA;\n",
       "      box-shadow: 0px 1px 2px rgba(60, 64, 67, 0.3), 0px 1px 3px 1px rgba(60, 64, 67, 0.15);\n",
       "      fill: #174EA6;\n",
       "    }\n",
       "\n",
       "    [theme=dark] .colab-df-convert {\n",
       "      background-color: #3B4455;\n",
       "      fill: #D2E3FC;\n",
       "    }\n",
       "\n",
       "    [theme=dark] .colab-df-convert:hover {\n",
       "      background-color: #434B5C;\n",
       "      box-shadow: 0px 1px 3px 1px rgba(0, 0, 0, 0.15);\n",
       "      filter: drop-shadow(0px 1px 2px rgba(0, 0, 0, 0.3));\n",
       "      fill: #FFFFFF;\n",
       "    }\n",
       "  </style>\n",
       "\n",
       "      <script>\n",
       "        const buttonEl =\n",
       "          document.querySelector('#df-68a4e797-6e01-484a-9505-05cb4a53805e button.colab-df-convert');\n",
       "        buttonEl.style.display =\n",
       "          google.colab.kernel.accessAllowed ? 'block' : 'none';\n",
       "\n",
       "        async function convertToInteractive(key) {\n",
       "          const element = document.querySelector('#df-68a4e797-6e01-484a-9505-05cb4a53805e');\n",
       "          const dataTable =\n",
       "            await google.colab.kernel.invokeFunction('convertToInteractive',\n",
       "                                                     [key], {});\n",
       "          if (!dataTable) return;\n",
       "\n",
       "          const docLinkHtml = 'Like what you see? Visit the ' +\n",
       "            '<a target=\"_blank\" href=https://colab.research.google.com/notebooks/data_table.ipynb>data table notebook</a>'\n",
       "            + ' to learn more about interactive tables.';\n",
       "          element.innerHTML = '';\n",
       "          dataTable['output_type'] = 'display_data';\n",
       "          await google.colab.output.renderOutput(dataTable, element);\n",
       "          const docLink = document.createElement('div');\n",
       "          docLink.innerHTML = docLinkHtml;\n",
       "          element.appendChild(docLink);\n",
       "        }\n",
       "      </script>\n",
       "    </div>\n",
       "  </div>\n",
       "  "
      ],
      "text/plain": [
       "            lower Quarterly Revenue  upper Quarterly Revenue\n",
       "2021-04-30            133299.243434            143023.993307\n",
       "2021-07-31            138972.339021            148697.088895\n",
       "2021-10-31            133165.550096            142890.299970\n",
       "2022-01-31            149300.397194            159025.147067\n",
       "2022-04-30            133392.899885            143117.649759\n",
       "2022-07-31            142751.969848            152476.719721\n",
       "2022-10-31            145428.832134            155153.582008"
      ]
     },
     "execution_count": 72,
     "metadata": {},
     "output_type": "execute_result"
    }
   ],
   "source": [
    "prediction = result.get_prediction(start = pd.to_datetime('2021-04-30'), dynamic = False)\n",
    "prediction_ci = prediction.conf_int()\n",
    "prediction_ci"
   ]
  },
  {
   "cell_type": "code",
   "execution_count": 73,
   "id": "2c11116d-33ed-4e59-a06c-33b21cfec0c9",
   "metadata": {
    "colab": {
     "base_uri": "https://localhost:8080/",
     "height": 476
    },
    "id": "2c11116d-33ed-4e59-a06c-33b21cfec0c9",
    "outputId": "61e496e8-0d17-4b34-c56d-9e0476520069"
   },
   "outputs": [
    {
     "data": {
      "image/png": "[encoded data removed]",
      "text/plain": [
       "<Figure size 1008x504 with 1 Axes>"
      ]
     },
     "metadata": {},
     "output_type": "display_data"
    }
   ],
   "source": [
    "#Visualize the forecasting\n",
    "ax = df['2009':].plot(label = 'observed')\n",
    "prediction.predicted_mean.plot(ax = ax, label = 'One-step ahead Forecast', alpha = 0.7, figsize = (14, 7))\n",
    "ax.fill_between(prediction_ci.index, prediction_ci.iloc[:, 0], prediction_ci.iloc[:, 1], color = 'k', alpha = 0.2)\n",
    "ax.set_xlabel(\"year\")\n",
    "ax.set_ylabel('Quarterly Revenue')\n",
    "plt.legend()\n",
    "plt.show()"
   ]
  },
  {
   "cell_type": "code",
   "execution_count": 74,
   "id": "84eba1b7-3428-4308-b88e-baf2e078076d",
   "metadata": {
    "colab": {
     "base_uri": "https://localhost:8080/"
    },
    "id": "84eba1b7-3428-4308-b88e-baf2e078076d",
    "outputId": "ec607fbf-283e-4342-a23f-60e787121de2"
   },
   "outputs": [
    {
     "name": "stdout",
     "output_type": "stream",
     "text": [
      "The Mean Squared Error of our forecasts is 8648353.268553345\n",
      "The Root Mean Squared Error of our forecasts is 2940.808267900739\n"
     ]
    }
   ],
   "source": [
    "# Evaluation metrics are Squared Mean Error(SME) and Root Mean Squared Error(RMSE)\n",
    "\n",
    "from sklearn.metrics import mean_squared_error\n",
    "\n",
    "y_hat = prediction.predicted_mean\n",
    "y_truth = df['2021-04-30':]\n",
    "mse = mean_squared_error(y_truth,y_hat)\n",
    "rmse = np.sqrt(mse)\n",
    "\n",
    "print('The Mean Squared Error of our forecasts is', mse)\n",
    "print('The Root Mean Squared Error of our forecasts is', rmse)"
   ]
  },
  {
   "cell_type": "code",
   "execution_count": 38,
   "id": "f2875852-1ea1-4073-925b-49461847673f",
   "metadata": {
    "colab": {
     "base_uri": "https://localhost:8080/",
     "height": 476
    },
    "id": "f2875852-1ea1-4073-925b-49461847673f",
    "outputId": "8a96c704-c4f6-4f33-fcdb-af180064417e"
   },
   "outputs": [
    {
     "data": {
      "image/png": "[encoded data removed]",
      "text/plain": [
       "<Figure size 1008x504 with 1 Axes>"
      ]
     },
     "metadata": {},
     "output_type": "display_data"
    }
   ],
   "source": [
    "# forcasting for out of sample data\n",
    "pred_uc = result.get_forecast(steps = 10)\n",
    "pred_ci = pred_uc.conf_int()\n",
    "\n",
    "ax = df.plot(label = 'observed', figsize = (14, 7))\n",
    "pred_uc.predicted_mean.plot(ax = ax, label = 'forecast')\n",
    "ax.fill_between(pred_ci.index, pred_ci.iloc[:, 0], pred_ci.iloc[:, 1], color = 'k', alpha = 0.25)\n",
    "ax.set_xlabel('Date')\n",
    "ax.set_ylabel('Quarterly Revenue')\n",
    "\n",
    "plt.legend()\n",
    "plt.show()\n"
   ]
  },
  {
   "cell_type": "markdown",
   "id": "PqPVaIyjf7Pu",
   "metadata": {
    "id": "PqPVaIyjf7Pu"
   },
   "source": [
    "## **DNN MODEL**"
   ]
  },
  {
   "cell_type": "code",
   "execution_count": 39,
   "id": "a03f7489-6040-4db4-9810-db30f0b5b12e",
   "metadata": {
    "id": "a03f7489-6040-4db4-9810-db30f0b5b12e"
   },
   "outputs": [],
   "source": [
    "def convert2matrix(data_arr, look_back):\n",
    "    X, Y =[], []\n",
    "    for i in range(len(data_arr)-look_back):\n",
    "        d=i+look_back  \n",
    "        X.append(data_arr[i:d,0])\n",
    "        Y.append(data_arr[d,0])\n",
    "    return np.array(X).astype('int'), np.array(Y).astype('int')"
   ]
  },
  {
   "cell_type": "code",
   "execution_count": 43,
   "id": "lhVAvufYa0gN",
   "metadata": {
    "id": "lhVAvufYa0gN"
   },
   "outputs": [],
   "source": [
    "df=pd.read_excel('Alibaba Quarterly Revenue.xlsx')\n",
    "\n",
    "df = df.set_index('Date')\n"
   ]
  },
  {
   "cell_type": "code",
   "execution_count": 44,
   "id": "6ys8Cl1u6wH7",
   "metadata": {
    "id": "6ys8Cl1u6wH7"
   },
   "outputs": [],
   "source": [
    "df1 = df\n",
    "#Split data set into testing dataset and train dataset\n",
    "train_size = 49\n",
    "train, test =df1.values[0:train_size,:],df1.values[train_size:len(df1.values),:]\n",
    "# setup look_back window \n",
    "look_back = 4\n",
    "#convert dataset into right shape in order to input into the DNN\n",
    "trainX, trainY = convert2matrix(train, look_back)\n",
    "testX, testY = convert2matrix(test, look_back)"
   ]
  },
  {
   "cell_type": "code",
   "execution_count": 45,
   "id": "yfP2zpFw6xpR",
   "metadata": {
    "id": "yfP2zpFw6xpR"
   },
   "outputs": [],
   "source": [
    "from keras.models import Sequential\n",
    "from keras.layers import Dense\n",
    "def model_dnn(look_back):\n",
    "    model=Sequential()\n",
    "    model.add(Dense(units=32, input_dim=look_back, activation='relu'))\n",
    "    model.add(Dense(8, activation='relu'))\n",
    "    model.add(Dense(1))\n",
    "    model.compile(loss='mean_squared_error',  optimizer='adam',metrics = ['mse', 'mae'])\n",
    "    return model"
   ]
  },
  {
   "cell_type": "code",
   "execution_count": 46,
   "id": "UccjcW0C6zaO",
   "metadata": {
    "colab": {
     "base_uri": "https://localhost:8080/"
    },
    "id": "UccjcW0C6zaO",
    "outputId": "565ece05-4079-4f05-d884-ace60fac2068"
   },
   "outputs": [
    {
     "name": "stdout",
     "output_type": "stream",
     "text": [
      "Epoch 1/500\n",
      "12/12 [==============================] - 1s 15ms/step - loss: 6500924416.0000 - mse: 6500924416.0000 - mae: 80430.8203 - val_loss: 7176567296.0000 - val_mse: 7176567296.0000 - val_mae: 84625.9297\n",
      "Epoch 2/500\n",
      "12/12 [==============================] - 0s 3ms/step - loss: 3451995136.0000 - mse: 3451995136.0000 - mae: 58461.0117 - val_loss: 3339458816.0000 - val_mse: 3339458816.0000 - val_mae: 57673.1992\n",
      "Epoch 3/500\n",
      "12/12 [==============================] - 0s 3ms/step - loss: 1369991680.0000 - mse: 1369991680.0000 - mae: 36457.2852 - val_loss: 1036054336.0000 - val_mse: 1036054336.0000 - val_mae: 32019.2207\n",
      "Epoch 4/500\n",
      "12/12 [==============================] - 0s 3ms/step - loss: 326478656.0000 - mse: 326478656.0000 - mae: 16779.9941 - val_loss: 140287584.0000 - val_mse: 140287584.0000 - val_mae: 11434.0312\n",
      "Epoch 5/500\n",
      "12/12 [==============================] - 0s 3ms/step - loss: 49302148.0000 - mse: 49302148.0000 - mae: 5308.9678 - val_loss: 9422529.0000 - val_mse: 9422529.0000 - val_mae: 2774.2708\n",
      "Epoch 6/500\n",
      "12/12 [==============================] - 0s 4ms/step - loss: 49988408.0000 - mse: 49988408.0000 - mae: 6629.2236 - val_loss: 19770046.0000 - val_mse: 19770046.0000 - val_mae: 3221.9114\n",
      "Epoch 7/500\n",
      "12/12 [==============================] - 0s 3ms/step - loss: 51417144.0000 - mse: 51417144.0000 - mae: 6818.3228 - val_loss: 12699181.0000 - val_mse: 12699181.0000 - val_mae: 2654.1980\n",
      "Epoch 8/500\n",
      "12/12 [==============================] - 0s 3ms/step - loss: 40985008.0000 - mse: 40985008.0000 - mae: 6006.3848 - val_loss: 11776347.0000 - val_mse: 11776347.0000 - val_mae: 3405.6094\n",
      "Epoch 9/500\n",
      "12/12 [==============================] - 0s 3ms/step - loss: 37675260.0000 - mse: 37675260.0000 - mae: 5508.6890 - val_loss: 11369389.0000 - val_mse: 11369389.0000 - val_mae: 3370.8801\n",
      "Epoch 10/500\n",
      "12/12 [==============================] - 0s 5ms/step - loss: 36858036.0000 - mse: 36858036.0000 - mae: 5474.8047 - val_loss: 10341749.0000 - val_mse: 10341749.0000 - val_mae: 3209.0105\n",
      "Epoch 11/500\n",
      "12/12 [==============================] - 0s 4ms/step - loss: 37450756.0000 - mse: 37450756.0000 - mae: 5537.5449 - val_loss: 10209503.0000 - val_mse: 10209503.0000 - val_mae: 3185.7031\n",
      "Epoch 12/500\n",
      "12/12 [==============================] - 0s 4ms/step - loss: 37283040.0000 - mse: 37283040.0000 - mae: 5496.0542 - val_loss: 11237615.0000 - val_mse: 11237615.0000 - val_mae: 3352.0469\n",
      "Epoch 13/500\n",
      "12/12 [==============================] - 0s 3ms/step - loss: 36889096.0000 - mse: 36889096.0000 - mae: 5494.8525 - val_loss: 10113101.0000 - val_mse: 10113101.0000 - val_mae: 3170.5261\n",
      "Epoch 14/500\n",
      "12/12 [==============================] - 0s 3ms/step - loss: 37693316.0000 - mse: 37693316.0000 - mae: 5581.7100 - val_loss: 9912139.0000 - val_mse: 9912139.0000 - val_mae: 3132.1926\n",
      "Epoch 15/500\n",
      "12/12 [==============================] - 0s 3ms/step - loss: 37278064.0000 - mse: 37278064.0000 - mae: 5510.3569 - val_loss: 11196763.0000 - val_mse: 11196763.0000 - val_mae: 3346.0989\n",
      "Epoch 16/500\n",
      "12/12 [==============================] - 0s 5ms/step - loss: 36703156.0000 - mse: 36703156.0000 - mae: 5477.7129 - val_loss: 10264172.0000 - val_mse: 10264172.0000 - val_mae: 3195.5730\n",
      "Epoch 17/500\n",
      "12/12 [==============================] - 0s 5ms/step - loss: 37513492.0000 - mse: 37513492.0000 - mae: 5558.2412 - val_loss: 10054973.0000 - val_mse: 10054973.0000 - val_mae: 3155.4583\n",
      "Epoch 18/500\n",
      "12/12 [==============================] - 0s 3ms/step - loss: 37092168.0000 - mse: 37092168.0000 - mae: 5490.4360 - val_loss: 11194303.0000 - val_mse: 11194303.0000 - val_mae: 3345.5417\n",
      "Epoch 19/500\n",
      "12/12 [==============================] - 0s 3ms/step - loss: 36721460.0000 - mse: 36721460.0000 - mae: 5482.1074 - val_loss: 10497959.0000 - val_mse: 10497959.0000 - val_mae: 3234.9739\n",
      "Epoch 20/500\n",
      "12/12 [==============================] - 0s 3ms/step - loss: 37054488.0000 - mse: 37054488.0000 - mae: 5523.2715 - val_loss: 10560985.0000 - val_mse: 10560985.0000 - val_mae: 3243.8074\n",
      "Epoch 21/500\n",
      "12/12 [==============================] - 0s 5ms/step - loss: 36837892.0000 - mse: 36837892.0000 - mae: 5431.7183 - val_loss: 12201627.0000 - val_mse: 12201627.0000 - val_mae: 3491.6250\n",
      "Epoch 22/500\n",
      "12/12 [==============================] - 0s 4ms/step - loss: 36678052.0000 - mse: 36678052.0000 - mae: 5485.6450 - val_loss: 9895629.0000 - val_mse: 9895629.0000 - val_mae: 3128.0312\n",
      "Epoch 23/500\n",
      "12/12 [==============================] - 0s 3ms/step - loss: 37614280.0000 - mse: 37614280.0000 - mae: 5587.3115 - val_loss: 10038130.0000 - val_mse: 10038130.0000 - val_mae: 3146.6719\n",
      "Epoch 24/500\n",
      "12/12 [==============================] - 0s 3ms/step - loss: 36778008.0000 - mse: 36778008.0000 - mae: 5456.8638 - val_loss: 11510032.0000 - val_mse: 11510032.0000 - val_mae: 3390.2864\n",
      "Epoch 25/500\n",
      "12/12 [==============================] - 0s 5ms/step - loss: 36355640.0000 - mse: 36355640.0000 - mae: 5448.1914 - val_loss: 10580637.0000 - val_mse: 10580637.0000 - val_mae: 3245.9219\n",
      "Epoch 26/500\n",
      "12/12 [==============================] - 0s 3ms/step - loss: 36821240.0000 - mse: 36821240.0000 - mae: 5505.3262 - val_loss: 10646501.0000 - val_mse: 10646501.0000 - val_mae: 3254.2551\n",
      "Epoch 27/500\n",
      "12/12 [==============================] - 0s 4ms/step - loss: 36511028.0000 - mse: 36511028.0000 - mae: 5398.9561 - val_loss: 12620377.0000 - val_mse: 12620377.0000 - val_mae: 3550.8281\n",
      "Epoch 28/500\n",
      "12/12 [==============================] - 0s 3ms/step - loss: 36401056.0000 - mse: 36401056.0000 - mae: 5468.1519 - val_loss: 10200597.0000 - val_mse: 10200597.0000 - val_mae: 3181.6614\n",
      "Epoch 29/500\n",
      "12/12 [==============================] - 0s 3ms/step - loss: 36664580.0000 - mse: 36664580.0000 - mae: 5457.5054 - val_loss: 12276568.0000 - val_mse: 12276568.0000 - val_mae: 3502.4062\n",
      "Epoch 30/500\n",
      "12/12 [==============================] - 0s 4ms/step - loss: 36096636.0000 - mse: 36096636.0000 - mae: 5437.8975 - val_loss: 10557244.0000 - val_mse: 10557244.0000 - val_mae: 3242.2812\n",
      "Epoch 31/500\n",
      "12/12 [==============================] - 0s 3ms/step - loss: 36260396.0000 - mse: 36260396.0000 - mae: 5408.8252 - val_loss: 12100168.0000 - val_mse: 12100168.0000 - val_mae: 3477.0938\n",
      "Epoch 32/500\n",
      "12/12 [==============================] - 0s 4ms/step - loss: 36014680.0000 - mse: 36014680.0000 - mae: 5439.1396 - val_loss: 10283747.0000 - val_mse: 10283747.0000 - val_mae: 3193.0469\n",
      "Epoch 33/500\n",
      "12/12 [==============================] - 0s 3ms/step - loss: 36692160.0000 - mse: 36692160.0000 - mae: 5500.4932 - val_loss: 10765012.0000 - val_mse: 10765012.0000 - val_mae: 3262.2605\n",
      "Epoch 34/500\n",
      "12/12 [==============================] - 0s 3ms/step - loss: 36084864.0000 - mse: 36084864.0000 - mae: 5346.0952 - val_loss: 13483491.0000 - val_mse: 13483491.0000 - val_mae: 3665.4114\n",
      "Epoch 35/500\n",
      "12/12 [==============================] - 0s 4ms/step - loss: 36024568.0000 - mse: 36024568.0000 - mae: 5434.6445 - val_loss: 9944613.0000 - val_mse: 9944613.0000 - val_mae: 3131.3542\n",
      "Epoch 36/500\n",
      "12/12 [==============================] - 0s 3ms/step - loss: 37036596.0000 - mse: 37036596.0000 - mae: 5548.4165 - val_loss: 10382925.0000 - val_mse: 10382925.0000 - val_mae: 3186.4531\n",
      "Epoch 37/500\n",
      "12/12 [==============================] - 0s 3ms/step - loss: 35916052.0000 - mse: 35916052.0000 - mae: 5356.5786 - val_loss: 12409921.0000 - val_mse: 12409921.0000 - val_mae: 3514.2812\n",
      "Epoch 38/500\n",
      "12/12 [==============================] - 0s 3ms/step - loss: 35411728.0000 - mse: 35411728.0000 - mae: 5372.8086 - val_loss: 10701619.0000 - val_mse: 10701619.0000 - val_mae: 3262.8230\n",
      "Epoch 39/500\n",
      "12/12 [==============================] - 0s 3ms/step - loss: 36001444.0000 - mse: 36001444.0000 - mae: 5451.5981 - val_loss: 11175751.0000 - val_mse: 11175751.0000 - val_mae: 3330.1145\n",
      "Epoch 40/500\n",
      "12/12 [==============================] - 0s 4ms/step - loss: 35503888.0000 - mse: 35503888.0000 - mae: 5295.4360 - val_loss: 13768713.0000 - val_mse: 13768713.0000 - val_mae: 3699.9895\n",
      "Epoch 41/500\n",
      "12/12 [==============================] - 0s 5ms/step - loss: 35773348.0000 - mse: 35773348.0000 - mae: 5420.0137 - val_loss: 10119024.0000 - val_mse: 10119024.0000 - val_mae: 3160.7239\n",
      "Epoch 42/500\n",
      "12/12 [==============================] - 0s 3ms/step - loss: 36316600.0000 - mse: 36316600.0000 - mae: 5496.6411 - val_loss: 11030621.0000 - val_mse: 11030621.0000 - val_mae: 3290.4636\n",
      "Epoch 43/500\n",
      "12/12 [==============================] - 0s 4ms/step - loss: 35304264.0000 - mse: 35304264.0000 - mae: 5270.4946 - val_loss: 14020324.0000 - val_mse: 14020324.0000 - val_mae: 3728.6355\n",
      "Epoch 44/500\n",
      "12/12 [==============================] - 0s 3ms/step - loss: 35331876.0000 - mse: 35331876.0000 - mae: 5383.1621 - val_loss: 10120795.0000 - val_mse: 10120795.0000 - val_mae: 3159.4949\n",
      "Epoch 45/500\n",
      "12/12 [==============================] - 0s 3ms/step - loss: 36179640.0000 - mse: 36179640.0000 - mae: 5477.4092 - val_loss: 11035585.0000 - val_mse: 11035585.0000 - val_mae: 3283.3176\n",
      "Epoch 46/500\n",
      "12/12 [==============================] - 0s 3ms/step - loss: 35047016.0000 - mse: 35047016.0000 - mae: 5259.4912 - val_loss: 13879369.0000 - val_mse: 13879369.0000 - val_mae: 3712.6042\n",
      "Epoch 47/500\n",
      "12/12 [==============================] - 0s 3ms/step - loss: 35005700.0000 - mse: 35005700.0000 - mae: 5358.1294 - val_loss: 10313854.0000 - val_mse: 10313854.0000 - val_mae: 3191.7031\n",
      "Epoch 48/500\n",
      "12/12 [==============================] - 0s 4ms/step - loss: 35747820.0000 - mse: 35747820.0000 - mae: 5436.7471 - val_loss: 11334177.0000 - val_mse: 11334177.0000 - val_mae: 3329.0676\n",
      "Epoch 49/500\n",
      "12/12 [==============================] - 0s 4ms/step - loss: 34810876.0000 - mse: 34810876.0000 - mae: 5224.9775 - val_loss: 14567255.0000 - val_mse: 14567255.0000 - val_mae: 3787.4636\n",
      "Epoch 50/500\n",
      "12/12 [==============================] - 0s 4ms/step - loss: 35159576.0000 - mse: 35159576.0000 - mae: 5366.5693 - val_loss: 10534688.0000 - val_mse: 10534688.0000 - val_mae: 3230.4270\n",
      "Epoch 51/500\n",
      "12/12 [==============================] - 0s 3ms/step - loss: 35079516.0000 - mse: 35079516.0000 - mae: 5397.4912 - val_loss: 12000921.0000 - val_mse: 12000921.0000 - val_mae: 3439.9219\n",
      "Epoch 52/500\n",
      "12/12 [==============================] - 0s 6ms/step - loss: 34105928.0000 - mse: 34105928.0000 - mae: 5211.8350 - val_loss: 12535933.0000 - val_mse: 12535933.0000 - val_mae: 3519.1667\n",
      "Epoch 53/500\n",
      "12/12 [==============================] - 0s 3ms/step - loss: 34318884.0000 - mse: 34318884.0000 - mae: 5295.2104 - val_loss: 11158588.0000 - val_mse: 11158588.0000 - val_mae: 3320.9792\n",
      "Epoch 54/500\n",
      "12/12 [==============================] - 0s 3ms/step - loss: 34632076.0000 - mse: 34632076.0000 - mae: 5329.8130 - val_loss: 11971728.0000 - val_mse: 11971728.0000 - val_mae: 3434.0676\n",
      "Epoch 55/500\n",
      "12/12 [==============================] - 0s 3ms/step - loss: 34092728.0000 - mse: 34092728.0000 - mae: 5163.1040 - val_loss: 14810339.0000 - val_mse: 14810339.0000 - val_mae: 3814.2969\n",
      "Epoch 56/500\n",
      "12/12 [==============================] - 0s 4ms/step - loss: 34950968.0000 - mse: 34950968.0000 - mae: 5355.7998 - val_loss: 10578999.0000 - val_mse: 10578999.0000 - val_mae: 3229.9375\n",
      "Epoch 57/500\n",
      "12/12 [==============================] - 0s 3ms/step - loss: 34644892.0000 - mse: 34644892.0000 - mae: 5374.4136 - val_loss: 12232579.0000 - val_mse: 12232579.0000 - val_mae: 3457.1406\n",
      "Epoch 58/500\n",
      "12/12 [==============================] - 0s 4ms/step - loss: 33553322.0000 - mse: 33553322.0000 - mae: 5181.6934 - val_loss: 12574227.0000 - val_mse: 12574227.0000 - val_mae: 3498.5469\n",
      "Epoch 59/500\n",
      "12/12 [==============================] - 0s 4ms/step - loss: 33659740.0000 - mse: 33659740.0000 - mae: 5209.3149 - val_loss: 12089623.0000 - val_mse: 12089623.0000 - val_mae: 3463.7344\n",
      "Epoch 60/500\n",
      "12/12 [==============================] - 0s 3ms/step - loss: 33782436.0000 - mse: 33782436.0000 - mae: 5261.7344 - val_loss: 11862371.0000 - val_mse: 11862371.0000 - val_mae: 3421.8230\n",
      "Epoch 61/500\n",
      "12/12 [==============================] - 0s 3ms/step - loss: 33528244.0000 - mse: 33528244.0000 - mae: 5204.5781 - val_loss: 12583777.0000 - val_mse: 12583777.0000 - val_mae: 3520.6458\n",
      "Epoch 62/500\n",
      "12/12 [==============================] - 0s 5ms/step - loss: 33387898.0000 - mse: 33387898.0000 - mae: 5210.9370 - val_loss: 11957961.0000 - val_mse: 11957961.0000 - val_mae: 3428.9219\n",
      "Epoch 63/500\n",
      "12/12 [==============================] - 0s 6ms/step - loss: 33441326.0000 - mse: 33441326.0000 - mae: 5214.5513 - val_loss: 12298657.0000 - val_mse: 12298657.0000 - val_mae: 3473.2656\n",
      "Epoch 64/500\n",
      "12/12 [==============================] - 0s 3ms/step - loss: 33177702.0000 - mse: 33177702.0000 - mae: 5160.9175 - val_loss: 12695227.0000 - val_mse: 12695227.0000 - val_mae: 3544.2449\n",
      "Epoch 65/500\n",
      "12/12 [==============================] - 0s 3ms/step - loss: 33340282.0000 - mse: 33340282.0000 - mae: 5228.1333 - val_loss: 11902948.0000 - val_mse: 11902948.0000 - val_mae: 3420.5156\n",
      "Epoch 66/500\n",
      "12/12 [==============================] - 0s 6ms/step - loss: 33117690.0000 - mse: 33117690.0000 - mae: 5099.7578 - val_loss: 15556505.0000 - val_mse: 15556505.0000 - val_mae: 3890.3958\n",
      "Epoch 67/500\n",
      "12/12 [==============================] - 0s 4ms/step - loss: 33863132.0000 - mse: 33863132.0000 - mae: 5267.6650 - val_loss: 10887535.0000 - val_mse: 10887535.0000 - val_mae: 3284.6094\n",
      "Epoch 68/500\n",
      "12/12 [==============================] - 0s 4ms/step - loss: 33453034.0000 - mse: 33453034.0000 - mae: 5266.2334 - val_loss: 12919323.0000 - val_mse: 12919323.0000 - val_mae: 3525.9011\n",
      "Epoch 69/500\n",
      "12/12 [==============================] - 0s 3ms/step - loss: 32423402.0000 - mse: 32423402.0000 - mae: 5090.6309 - val_loss: 12911909.0000 - val_mse: 12911909.0000 - val_mae: 3531.7812\n",
      "Epoch 70/500\n",
      "12/12 [==============================] - 0s 3ms/step - loss: 32631254.0000 - mse: 32631254.0000 - mae: 5134.7847 - val_loss: 12490180.0000 - val_mse: 12490180.0000 - val_mae: 3512.2239\n",
      "Epoch 71/500\n",
      "12/12 [==============================] - 0s 4ms/step - loss: 32637400.0000 - mse: 32637400.0000 - mae: 5164.1929 - val_loss: 12412195.0000 - val_mse: 12412195.0000 - val_mae: 3484.3020\n",
      "Epoch 72/500\n",
      "12/12 [==============================] - 0s 5ms/step - loss: 32341044.0000 - mse: 32341044.0000 - mae: 5105.3350 - val_loss: 13070651.0000 - val_mse: 13070651.0000 - val_mae: 3573.7812\n",
      "Epoch 73/500\n",
      "12/12 [==============================] - 0s 5ms/step - loss: 32173230.0000 - mse: 32173230.0000 - mae: 5093.8442 - val_loss: 12852320.0000 - val_mse: 12852320.0000 - val_mae: 3559.5520\n",
      "Epoch 74/500\n",
      "12/12 [==============================] - 0s 4ms/step - loss: 32200490.0000 - mse: 32200490.0000 - mae: 5118.9238 - val_loss: 12485924.0000 - val_mse: 12485924.0000 - val_mae: 3492.0261\n",
      "Epoch 75/500\n",
      "12/12 [==============================] - 0s 4ms/step - loss: 32252108.0000 - mse: 32252108.0000 - mae: 5126.6475 - val_loss: 12463696.0000 - val_mse: 12463696.0000 - val_mae: 3457.7395\n",
      "Epoch 76/500\n",
      "12/12 [==============================] - 0s 3ms/step - loss: 32282902.0000 - mse: 32282902.0000 - mae: 5121.1943 - val_loss: 12971573.0000 - val_mse: 12971573.0000 - val_mae: 3543.6824\n",
      "Epoch 77/500\n",
      "12/12 [==============================] - 0s 3ms/step - loss: 31841204.0000 - mse: 31841204.0000 - mae: 4975.5659 - val_loss: 16397357.0000 - val_mse: 16397357.0000 - val_mae: 3971.1824\n",
      "Epoch 78/500\n",
      "12/12 [==============================] - 0s 3ms/step - loss: 33620956.0000 - mse: 33620956.0000 - mae: 5207.7725 - val_loss: 13798045.0000 - val_mse: 13798045.0000 - val_mae: 3713.0469\n",
      "Epoch 79/500\n",
      "12/12 [==============================] - 0s 5ms/step - loss: 33249178.0000 - mse: 33249178.0000 - mae: 5193.4873 - val_loss: 15173581.0000 - val_mse: 15173581.0000 - val_mae: 3862.8906\n",
      "Epoch 80/500\n",
      "12/12 [==============================] - 0s 5ms/step - loss: 32026902.0000 - mse: 32026902.0000 - mae: 5108.9556 - val_loss: 12102819.0000 - val_mse: 12102819.0000 - val_mae: 3459.2605\n",
      "Epoch 81/500\n",
      "12/12 [==============================] - 0s 3ms/step - loss: 31877820.0000 - mse: 31877820.0000 - mae: 5103.1899 - val_loss: 13405920.0000 - val_mse: 13405920.0000 - val_mae: 3560.7761\n",
      "Epoch 82/500\n",
      "12/12 [==============================] - 0s 3ms/step - loss: 31089132.0000 - mse: 31089132.0000 - mae: 4911.5098 - val_loss: 16291088.0000 - val_mse: 16291088.0000 - val_mae: 3963.5781\n",
      "Epoch 83/500\n",
      "12/12 [==============================] - 0s 4ms/step - loss: 32498050.0000 - mse: 32498050.0000 - mae: 5169.7271 - val_loss: 11349928.0000 - val_mse: 11349928.0000 - val_mae: 3356.9011\n",
      "Epoch 84/500\n",
      "12/12 [==============================] - 0s 5ms/step - loss: 31481592.0000 - mse: 31481592.0000 - mae: 5077.4141 - val_loss: 14413387.0000 - val_mse: 14413387.0000 - val_mae: 3672.2188\n",
      "Epoch 85/500\n",
      "12/12 [==============================] - 0s 5ms/step - loss: 30536010.0000 - mse: 30536010.0000 - mae: 4915.9805 - val_loss: 13782952.0000 - val_mse: 13782952.0000 - val_mae: 3652.0886\n",
      "Epoch 86/500\n",
      "12/12 [==============================] - 0s 3ms/step - loss: 30974338.0000 - mse: 30974338.0000 - mae: 4984.0767 - val_loss: 14201165.0000 - val_mse: 14201165.0000 - val_mae: 3750.0520\n",
      "Epoch 87/500\n",
      "12/12 [==============================] - 0s 3ms/step - loss: 30987774.0000 - mse: 30987774.0000 - mae: 5033.8721 - val_loss: 13091883.0000 - val_mse: 13091883.0000 - val_mae: 3570.4531\n",
      "Epoch 88/500\n",
      "12/12 [==============================] - 0s 3ms/step - loss: 30482178.0000 - mse: 30482178.0000 - mae: 4948.4136 - val_loss: 14093888.0000 - val_mse: 14093888.0000 - val_mae: 3676.5105\n",
      "Epoch 89/500\n",
      "12/12 [==============================] - 0s 5ms/step - loss: 30354292.0000 - mse: 30354292.0000 - mae: 4938.4062 - val_loss: 13576341.0000 - val_mse: 13576341.0000 - val_mae: 3639.9688\n",
      "Epoch 90/500\n",
      "12/12 [==============================] - 0s 6ms/step - loss: 30499842.0000 - mse: 30499842.0000 - mae: 4972.6685 - val_loss: 13625349.0000 - val_mse: 13625349.0000 - val_mae: 3634.9949\n",
      "Epoch 91/500\n",
      "12/12 [==============================] - 0s 3ms/step - loss: 30072596.0000 - mse: 30072596.0000 - mae: 4909.6338 - val_loss: 14008099.0000 - val_mse: 14008099.0000 - val_mae: 3691.3855\n",
      "Epoch 92/500\n",
      "12/12 [==============================] - 0s 3ms/step - loss: 30189856.0000 - mse: 30189856.0000 - mae: 4956.5459 - val_loss: 13308605.0000 - val_mse: 13308605.0000 - val_mae: 3579.0000\n",
      "Epoch 93/500\n",
      "12/12 [==============================] - 0s 3ms/step - loss: 30032006.0000 - mse: 30032006.0000 - mae: 4925.6567 - val_loss: 13808557.0000 - val_mse: 13808557.0000 - val_mae: 3617.8645\n",
      "Epoch 94/500\n",
      "12/12 [==============================] - 0s 3ms/step - loss: 30199402.0000 - mse: 30199402.0000 - mae: 4952.2026 - val_loss: 13808720.0000 - val_mse: 13808720.0000 - val_mae: 3630.6770\n",
      "Epoch 95/500\n",
      "12/12 [==============================] - 0s 3ms/step - loss: 29559692.0000 - mse: 29559692.0000 - mae: 4783.2593 - val_loss: 17582722.0000 - val_mse: 17582722.0000 - val_mae: 4078.5208\n",
      "Epoch 96/500\n",
      "12/12 [==============================] - 0s 3ms/step - loss: 31720878.0000 - mse: 31720878.0000 - mae: 5050.8276 - val_loss: 14936725.0000 - val_mse: 14936725.0000 - val_mae: 3847.6355\n",
      "Epoch 97/500\n",
      "12/12 [==============================] - 0s 5ms/step - loss: 30724690.0000 - mse: 30724690.0000 - mae: 4955.6509 - val_loss: 17380296.0000 - val_mse: 17380296.0000 - val_mae: 4062.5261\n",
      "Epoch 98/500\n",
      "12/12 [==============================] - 0s 3ms/step - loss: 30537268.0000 - mse: 30537268.0000 - mae: 4930.7622 - val_loss: 15998632.0000 - val_mse: 15998632.0000 - val_mae: 3948.6562\n",
      "Epoch 99/500\n",
      "12/12 [==============================] - 0s 3ms/step - loss: 30557906.0000 - mse: 30557906.0000 - mae: 4945.8389 - val_loss: 16709939.0000 - val_mse: 16709939.0000 - val_mae: 4008.3438\n",
      "Epoch 100/500\n",
      "12/12 [==============================] - 0s 3ms/step - loss: 30182870.0000 - mse: 30182870.0000 - mae: 4905.7007 - val_loss: 16527056.0000 - val_mse: 16527056.0000 - val_mae: 3992.5781\n",
      "Epoch 101/500\n",
      "12/12 [==============================] - 0s 4ms/step - loss: 30145664.0000 - mse: 30145664.0000 - mae: 4907.8203 - val_loss: 16644016.0000 - val_mse: 16644016.0000 - val_mae: 4001.5312\n",
      "Epoch 102/500\n",
      "12/12 [==============================] - 0s 3ms/step - loss: 29896920.0000 - mse: 29896920.0000 - mae: 4884.4043 - val_loss: 16731927.0000 - val_mse: 16731927.0000 - val_mae: 4008.0261\n",
      "Epoch 103/500\n",
      "12/12 [==============================] - 0s 4ms/step - loss: 29763006.0000 - mse: 29763006.0000 - mae: 4873.9648 - val_loss: 16767971.0000 - val_mse: 16767971.0000 - val_mae: 4010.2969\n",
      "Epoch 104/500\n",
      "12/12 [==============================] - 0s 4ms/step - loss: 29579646.0000 - mse: 29579646.0000 - mae: 4858.0483 - val_loss: 16867608.0000 - val_mse: 16867608.0000 - val_mae: 4017.6824\n",
      "Epoch 105/500\n",
      "12/12 [==============================] - 0s 3ms/step - loss: 29415112.0000 - mse: 29415112.0000 - mae: 4843.8262 - val_loss: 16924010.0000 - val_mse: 16924010.0000 - val_mae: 4021.5833\n",
      "Epoch 106/500\n",
      "12/12 [==============================] - 0s 4ms/step - loss: 29248614.0000 - mse: 29248614.0000 - mae: 4829.4658 - val_loss: 17009266.0000 - val_mse: 17009266.0000 - val_mae: 4027.7656\n",
      "Epoch 107/500\n",
      "12/12 [==============================] - 0s 4ms/step - loss: 29081176.0000 - mse: 29081176.0000 - mae: 4814.7373 - val_loss: 17082666.0000 - val_mse: 17082666.0000 - val_mae: 4032.9895\n",
      "Epoch 108/500\n",
      "12/12 [==============================] - 0s 4ms/step - loss: 28955882.0000 - mse: 28955882.0000 - mae: 4809.9194 - val_loss: 16707557.0000 - val_mse: 16707557.0000 - val_mae: 4002.6614\n",
      "Epoch 109/500\n",
      "12/12 [==============================] - 0s 3ms/step - loss: 28337602.0000 - mse: 28337602.0000 - mae: 4793.8262 - val_loss: 13651923.0000 - val_mse: 13651923.0000 - val_mae: 3632.4167\n",
      "Epoch 110/500\n",
      "12/12 [==============================] - 0s 3ms/step - loss: 28317486.0000 - mse: 28317486.0000 - mae: 4773.5767 - val_loss: 15418984.0000 - val_mse: 15418984.0000 - val_mae: 3751.6250\n",
      "Epoch 111/500\n",
      "12/12 [==============================] - 0s 4ms/step - loss: 27821042.0000 - mse: 27821042.0000 - mae: 4682.3970 - val_loss: 16326057.0000 - val_mse: 16326057.0000 - val_mae: 3960.0469\n",
      "Epoch 112/500\n",
      "12/12 [==============================] - 0s 4ms/step - loss: 28109392.0000 - mse: 28109392.0000 - mae: 4754.1118 - val_loss: 16404277.0000 - val_mse: 16404277.0000 - val_mae: 3979.3542\n",
      "Epoch 113/500\n",
      "12/12 [==============================] - 0s 4ms/step - loss: 27149340.0000 - mse: 27149340.0000 - mae: 4652.4946 - val_loss: 15786936.0000 - val_mse: 15786936.0000 - val_mae: 3890.9688\n",
      "Epoch 114/500\n",
      "12/12 [==============================] - 0s 3ms/step - loss: 27748770.0000 - mse: 27748770.0000 - mae: 4725.8901 - val_loss: 15335091.0000 - val_mse: 15335091.0000 - val_mae: 3820.3489\n",
      "Epoch 115/500\n",
      "12/12 [==============================] - 0s 3ms/step - loss: 26989998.0000 - mse: 26989998.0000 - mae: 4615.8677 - val_loss: 17675230.0000 - val_mse: 17675230.0000 - val_mae: 4084.9270\n",
      "Epoch 116/500\n",
      "12/12 [==============================] - 0s 5ms/step - loss: 27584248.0000 - mse: 27584248.0000 - mae: 4718.0581 - val_loss: 14922173.0000 - val_mse: 14922173.0000 - val_mae: 3793.3801\n",
      "Epoch 117/500\n",
      "12/12 [==============================] - 0s 3ms/step - loss: 26712530.0000 - mse: 26712530.0000 - mae: 4592.4043 - val_loss: 18256610.0000 - val_mse: 18256610.0000 - val_mae: 4129.6562\n",
      "Epoch 118/500\n",
      "12/12 [==============================] - 0s 3ms/step - loss: 27077140.0000 - mse: 27077140.0000 - mae: 4658.1768 - val_loss: 15364391.0000 - val_mse: 15364391.0000 - val_mae: 3851.5000\n",
      "Epoch 119/500\n",
      "12/12 [==============================] - 0s 4ms/step - loss: 26608460.0000 - mse: 26608460.0000 - mae: 4603.8452 - val_loss: 16895132.0000 - val_mse: 16895132.0000 - val_mae: 3991.8906\n",
      "Epoch 120/500\n",
      "12/12 [==============================] - 0s 3ms/step - loss: 26857322.0000 - mse: 26857322.0000 - mae: 4626.7588 - val_loss: 17282734.0000 - val_mse: 17282734.0000 - val_mae: 4055.5208\n",
      "Epoch 121/500\n",
      "12/12 [==============================] - 0s 4ms/step - loss: 26293840.0000 - mse: 26293840.0000 - mae: 4571.9702 - val_loss: 16483464.0000 - val_mse: 16483464.0000 - val_mae: 3969.8176\n",
      "Epoch 122/500\n",
      "12/12 [==============================] - 0s 4ms/step - loss: 26679634.0000 - mse: 26679634.0000 - mae: 4616.7256 - val_loss: 17542088.0000 - val_mse: 17542088.0000 - val_mae: 4072.6614\n",
      "Epoch 123/500\n",
      "12/12 [==============================] - 0s 4ms/step - loss: 26110774.0000 - mse: 26110774.0000 - mae: 4554.2354 - val_loss: 17048770.0000 - val_mse: 17048770.0000 - val_mae: 4021.9531\n",
      "Epoch 124/500\n",
      "12/12 [==============================] - 0s 3ms/step - loss: 26051528.0000 - mse: 26051528.0000 - mae: 4552.9634 - val_loss: 16544253.0000 - val_mse: 16544253.0000 - val_mae: 3963.8489\n",
      "Epoch 125/500\n",
      "12/12 [==============================] - 0s 4ms/step - loss: 26297884.0000 - mse: 26297884.0000 - mae: 4577.0835 - val_loss: 18105434.0000 - val_mse: 18105434.0000 - val_mae: 4126.9790\n",
      "Epoch 126/500\n",
      "12/12 [==============================] - 0s 4ms/step - loss: 25585212.0000 - mse: 25585212.0000 - mae: 4500.5288 - val_loss: 16620952.0000 - val_mse: 16620952.0000 - val_mae: 3977.4531\n",
      "Epoch 127/500\n",
      "12/12 [==============================] - 0s 3ms/step - loss: 26181748.0000 - mse: 26181748.0000 - mae: 4570.1445 - val_loss: 18176962.0000 - val_mse: 18176962.0000 - val_mae: 4130.5103\n",
      "Epoch 128/500\n",
      "12/12 [==============================] - 0s 4ms/step - loss: 25278034.0000 - mse: 25278034.0000 - mae: 4469.5352 - val_loss: 16765208.0000 - val_mse: 16765208.0000 - val_mae: 3985.4895\n",
      "Epoch 129/500\n",
      "12/12 [==============================] - 0s 4ms/step - loss: 25555882.0000 - mse: 25555882.0000 - mae: 4505.3335 - val_loss: 17301216.0000 - val_mse: 17301216.0000 - val_mae: 4042.0520\n",
      "Epoch 130/500\n",
      "12/12 [==============================] - 0s 5ms/step - loss: 25600500.0000 - mse: 25600500.0000 - mae: 4508.1548 - val_loss: 18250768.0000 - val_mse: 18250768.0000 - val_mae: 4136.4116\n",
      "Epoch 131/500\n",
      "12/12 [==============================] - 0s 3ms/step - loss: 25014656.0000 - mse: 25014656.0000 - mae: 4442.2900 - val_loss: 17483104.0000 - val_mse: 17483104.0000 - val_mae: 4069.9844\n",
      "Epoch 132/500\n",
      "12/12 [==============================] - 0s 3ms/step - loss: 25504626.0000 - mse: 25504626.0000 - mae: 4503.0571 - val_loss: 18341682.0000 - val_mse: 18341682.0000 - val_mae: 4144.4688\n",
      "Epoch 133/500\n",
      "12/12 [==============================] - 0s 4ms/step - loss: 24699966.0000 - mse: 24699966.0000 - mae: 4409.4990 - val_loss: 17670896.0000 - val_mse: 17670896.0000 - val_mae: 4081.7395\n",
      "Epoch 134/500\n",
      "12/12 [==============================] - 0s 3ms/step - loss: 25324168.0000 - mse: 25324168.0000 - mae: 4484.4800 - val_loss: 18692502.0000 - val_mse: 18692502.0000 - val_mae: 4179.2188\n",
      "Epoch 135/500\n",
      "12/12 [==============================] - 0s 5ms/step - loss: 24417218.0000 - mse: 24417218.0000 - mae: 4384.7319 - val_loss: 17293326.0000 - val_mse: 17293326.0000 - val_mae: 4027.8386\n",
      "Epoch 136/500\n",
      "12/12 [==============================] - 0s 3ms/step - loss: 24822932.0000 - mse: 24822932.0000 - mae: 4426.9976 - val_loss: 18900192.0000 - val_mse: 18900192.0000 - val_mae: 4201.8125\n",
      "Epoch 137/500\n",
      "12/12 [==============================] - 0s 4ms/step - loss: 24626420.0000 - mse: 24626420.0000 - mae: 4409.4731 - val_loss: 18524486.0000 - val_mse: 18524486.0000 - val_mae: 4161.0366\n",
      "Epoch 138/500\n",
      "12/12 [==============================] - 0s 4ms/step - loss: 24203690.0000 - mse: 24203690.0000 - mae: 4363.9019 - val_loss: 17862126.0000 - val_mse: 17862126.0000 - val_mae: 4087.1458\n",
      "Epoch 139/500\n",
      "12/12 [==============================] - 0s 3ms/step - loss: 24268232.0000 - mse: 24268232.0000 - mae: 4372.6982 - val_loss: 18054618.0000 - val_mse: 18054618.0000 - val_mae: 4105.9375\n",
      "Epoch 140/500\n",
      "12/12 [==============================] - 0s 5ms/step - loss: 24078322.0000 - mse: 24078322.0000 - mae: 4350.7153 - val_loss: 18284224.0000 - val_mse: 18284224.0000 - val_mae: 4131.5469\n",
      "Epoch 141/500\n",
      "12/12 [==============================] - 0s 3ms/step - loss: 24406394.0000 - mse: 24406394.0000 - mae: 4388.6270 - val_loss: 19332098.0000 - val_mse: 19332098.0000 - val_mae: 4229.3228\n",
      "Epoch 142/500\n",
      "12/12 [==============================] - 0s 4ms/step - loss: 23650124.0000 - mse: 23650124.0000 - mae: 4289.6641 - val_loss: 19729462.0000 - val_mse: 19729462.0000 - val_mae: 4269.1250\n",
      "Epoch 143/500\n",
      "12/12 [==============================] - 0s 3ms/step - loss: 24059858.0000 - mse: 24059858.0000 - mae: 4351.9043 - val_loss: 18719264.0000 - val_mse: 18719264.0000 - val_mae: 4183.5835\n",
      "Epoch 144/500\n",
      "12/12 [==============================] - 0s 4ms/step - loss: 23624608.0000 - mse: 23624608.0000 - mae: 4298.5669 - val_loss: 20109442.0000 - val_mse: 20109442.0000 - val_mae: 4297.7969\n",
      "Epoch 145/500\n",
      "12/12 [==============================] - 0s 4ms/step - loss: 23419104.0000 - mse: 23419104.0000 - mae: 4279.2656 - val_loss: 18112500.0000 - val_mse: 18112500.0000 - val_mae: 4115.3384\n",
      "Epoch 146/500\n",
      "12/12 [==============================] - 0s 4ms/step - loss: 23447908.0000 - mse: 23447908.0000 - mae: 4287.3442 - val_loss: 18812254.0000 - val_mse: 18812254.0000 - val_mae: 4164.1094\n",
      "Epoch 147/500\n",
      "12/12 [==============================] - 0s 4ms/step - loss: 23358734.0000 - mse: 23358734.0000 - mae: 4268.2783 - val_loss: 19876874.0000 - val_mse: 19876874.0000 - val_mae: 4287.8750\n",
      "Epoch 148/500\n",
      "12/12 [==============================] - 0s 3ms/step - loss: 23140158.0000 - mse: 23140158.0000 - mae: 4253.1938 - val_loss: 18429024.0000 - val_mse: 18429024.0000 - val_mae: 4132.8750\n",
      "Epoch 149/500\n",
      "12/12 [==============================] - 0s 4ms/step - loss: 23240232.0000 - mse: 23240232.0000 - mae: 4253.7998 - val_loss: 20720630.0000 - val_mse: 20720630.0000 - val_mae: 4347.3022\n",
      "Epoch 150/500\n",
      "12/12 [==============================] - 0s 5ms/step - loss: 23095118.0000 - mse: 23095118.0000 - mae: 4243.1958 - val_loss: 19568938.0000 - val_mse: 19568938.0000 - val_mae: 4257.0210\n",
      "Epoch 151/500\n",
      "12/12 [==============================] - 0s 4ms/step - loss: 22801198.0000 - mse: 22801198.0000 - mae: 4210.9595 - val_loss: 20210326.0000 - val_mse: 20210326.0000 - val_mae: 4309.4116\n",
      "Epoch 152/500\n",
      "12/12 [==============================] - 0s 3ms/step - loss: 22866296.0000 - mse: 22866296.0000 - mae: 4215.7222 - val_loss: 20369494.0000 - val_mse: 20369494.0000 - val_mae: 4330.1821\n",
      "Epoch 153/500\n",
      "12/12 [==============================] - 0s 4ms/step - loss: 22458704.0000 - mse: 22458704.0000 - mae: 4175.8599 - val_loss: 19031490.0000 - val_mse: 19031490.0000 - val_mae: 4186.7241\n",
      "Epoch 154/500\n",
      "12/12 [==============================] - 0s 3ms/step - loss: 22719570.0000 - mse: 22719570.0000 - mae: 4197.4141 - val_loss: 21036982.0000 - val_mse: 21036982.0000 - val_mae: 4377.5156\n",
      "Epoch 155/500\n",
      "12/12 [==============================] - 0s 4ms/step - loss: 22227020.0000 - mse: 22227020.0000 - mae: 4146.8306 - val_loss: 19109562.0000 - val_mse: 19109562.0000 - val_mae: 4201.0522\n",
      "Epoch 156/500\n",
      "12/12 [==============================] - 0s 4ms/step - loss: 22498654.0000 - mse: 22498654.0000 - mae: 4173.3599 - val_loss: 21351382.0000 - val_mse: 21351382.0000 - val_mae: 4401.5835\n",
      "Epoch 157/500\n",
      "12/12 [==============================] - 0s 3ms/step - loss: 21979492.0000 - mse: 21979492.0000 - mae: 4118.6997 - val_loss: 19159192.0000 - val_mse: 19159192.0000 - val_mae: 4200.3281\n",
      "Epoch 158/500\n",
      "12/12 [==============================] - 0s 3ms/step - loss: 22305564.0000 - mse: 22305564.0000 - mae: 4151.5791 - val_loss: 21501478.0000 - val_mse: 21501478.0000 - val_mae: 4415.3281\n",
      "Epoch 159/500\n",
      "12/12 [==============================] - 0s 3ms/step - loss: 21878204.0000 - mse: 21878204.0000 - mae: 4101.2979 - val_loss: 20679186.0000 - val_mse: 20679186.0000 - val_mae: 4361.9688\n",
      "Epoch 160/500\n",
      "12/12 [==============================] - 0s 4ms/step - loss: 21999166.0000 - mse: 21999166.0000 - mae: 4119.3843 - val_loss: 21285898.0000 - val_mse: 21285898.0000 - val_mae: 4402.1821\n",
      "Epoch 161/500\n",
      "12/12 [==============================] - 0s 6ms/step - loss: 21714460.0000 - mse: 21714460.0000 - mae: 4081.5750 - val_loss: 21363686.0000 - val_mse: 21363686.0000 - val_mae: 4413.0884\n",
      "Epoch 162/500\n",
      "12/12 [==============================] - 0s 5ms/step - loss: 21645900.0000 - mse: 21645900.0000 - mae: 4077.1306 - val_loss: 20920230.0000 - val_mse: 20920230.0000 - val_mae: 4369.3594\n",
      "Epoch 163/500\n",
      "12/12 [==============================] - 0s 4ms/step - loss: 21320082.0000 - mse: 21320082.0000 - mae: 4033.4817 - val_loss: 21492658.0000 - val_mse: 21492658.0000 - val_mae: 4425.5415\n",
      "Epoch 164/500\n",
      "12/12 [==============================] - 0s 3ms/step - loss: 21635636.0000 - mse: 21635636.0000 - mae: 4075.1785 - val_loss: 21457192.0000 - val_mse: 21457192.0000 - val_mae: 4417.2500\n",
      "Epoch 165/500\n",
      "12/12 [==============================] - 0s 4ms/step - loss: 21244872.0000 - mse: 21244872.0000 - mae: 4027.7815 - val_loss: 21760838.0000 - val_mse: 21760838.0000 - val_mae: 4440.4429\n",
      "Epoch 166/500\n",
      "12/12 [==============================] - 0s 4ms/step - loss: 21306808.0000 - mse: 21306808.0000 - mae: 4034.3042 - val_loss: 21636858.0000 - val_mse: 21636858.0000 - val_mae: 4434.4946\n",
      "Epoch 167/500\n",
      "12/12 [==============================] - 0s 4ms/step - loss: 21117176.0000 - mse: 21117176.0000 - mae: 4011.9209 - val_loss: 21969682.0000 - val_mse: 21969682.0000 - val_mae: 4460.7759\n",
      "Epoch 168/500\n",
      "12/12 [==============================] - 0s 4ms/step - loss: 21043936.0000 - mse: 21043936.0000 - mae: 4002.8735 - val_loss: 21859902.0000 - val_mse: 21859902.0000 - val_mae: 4449.7085\n",
      "Epoch 169/500\n",
      "12/12 [==============================] - 0s 3ms/step - loss: 20930290.0000 - mse: 20930290.0000 - mae: 3989.9019 - val_loss: 21981252.0000 - val_mse: 21981252.0000 - val_mae: 4455.7446\n",
      "Epoch 170/500\n",
      "12/12 [==============================] - 0s 3ms/step - loss: 20586484.0000 - mse: 20586484.0000 - mae: 3937.1399 - val_loss: 22592034.0000 - val_mse: 22592034.0000 - val_mae: 4508.7812\n",
      "Epoch 171/500\n",
      "12/12 [==============================] - 0s 3ms/step - loss: 20976392.0000 - mse: 20976392.0000 - mae: 3998.3403 - val_loss: 21255998.0000 - val_mse: 21255998.0000 - val_mae: 4367.5312\n",
      "Epoch 172/500\n",
      "12/12 [==============================] - 0s 3ms/step - loss: 20265236.0000 - mse: 20265236.0000 - mae: 3900.2300 - val_loss: 22687154.0000 - val_mse: 22687154.0000 - val_mae: 4519.1929\n",
      "Epoch 173/500\n",
      "12/12 [==============================] - 0s 6ms/step - loss: 20835054.0000 - mse: 20835054.0000 - mae: 3976.0676 - val_loss: 21771446.0000 - val_mse: 21771446.0000 - val_mae: 4430.1772\n",
      "Epoch 174/500\n",
      "12/12 [==============================] - 0s 5ms/step - loss: 19938828.0000 - mse: 19938828.0000 - mae: 3864.7861 - val_loss: 21726796.0000 - val_mse: 21726796.0000 - val_mae: 4427.8540\n",
      "Epoch 175/500\n",
      "12/12 [==============================] - 0s 5ms/step - loss: 20646320.0000 - mse: 20646320.0000 - mae: 3952.1199 - val_loss: 22477850.0000 - val_mse: 22477850.0000 - val_mae: 4490.3022\n",
      "Epoch 176/500\n",
      "12/12 [==============================] - 0s 3ms/step - loss: 19809248.0000 - mse: 19809248.0000 - mae: 3842.1951 - val_loss: 22801770.0000 - val_mse: 22801770.0000 - val_mae: 4536.1040\n",
      "Epoch 177/500\n",
      "12/12 [==============================] - 0s 3ms/step - loss: 20407716.0000 - mse: 20407716.0000 - mae: 3924.9031 - val_loss: 22211326.0000 - val_mse: 22211326.0000 - val_mae: 4452.1094\n",
      "Epoch 178/500\n",
      "12/12 [==============================] - 0s 4ms/step - loss: 19517218.0000 - mse: 19517218.0000 - mae: 3812.2996 - val_loss: 21707550.0000 - val_mse: 21707550.0000 - val_mae: 4410.1719\n",
      "Epoch 179/500\n",
      "12/12 [==============================] - 0s 5ms/step - loss: 20300384.0000 - mse: 20300384.0000 - mae: 3908.3594 - val_loss: 22688502.0000 - val_mse: 22688502.0000 - val_mae: 4494.5884\n",
      "Epoch 180/500\n",
      "12/12 [==============================] - 0s 4ms/step - loss: 19361038.0000 - mse: 19361038.0000 - mae: 3788.2598 - val_loss: 22025166.0000 - val_mse: 22025166.0000 - val_mae: 4450.5156\n",
      "Epoch 181/500\n",
      "12/12 [==============================] - 0s 4ms/step - loss: 20055358.0000 - mse: 20055358.0000 - mae: 3877.3164 - val_loss: 23016850.0000 - val_mse: 23016850.0000 - val_mae: 4520.8125\n",
      "Epoch 182/500\n",
      "12/12 [==============================] - 0s 4ms/step - loss: 19146784.0000 - mse: 19146784.0000 - mae: 3761.2539 - val_loss: 22033924.0000 - val_mse: 22033924.0000 - val_mae: 4443.5415\n",
      "Epoch 183/500\n",
      "12/12 [==============================] - 0s 3ms/step - loss: 19877092.0000 - mse: 19877092.0000 - mae: 3854.7112 - val_loss: 23086166.0000 - val_mse: 23086166.0000 - val_mae: 4518.1929\n",
      "Epoch 184/500\n",
      "12/12 [==============================] - 0s 6ms/step - loss: 19097984.0000 - mse: 19097984.0000 - mae: 3746.5532 - val_loss: 23723334.0000 - val_mse: 23723334.0000 - val_mae: 4612.1147\n",
      "Epoch 185/500\n",
      "12/12 [==============================] - 0s 5ms/step - loss: 19656766.0000 - mse: 19656766.0000 - mae: 3825.0947 - val_loss: 23497960.0000 - val_mse: 23497960.0000 - val_mae: 4557.9375\n",
      "Epoch 186/500\n",
      "12/12 [==============================] - 0s 4ms/step - loss: 18679244.0000 - mse: 18679244.0000 - mae: 3689.3806 - val_loss: 24417624.0000 - val_mse: 24417624.0000 - val_mae: 4656.9634\n",
      "Epoch 187/500\n",
      "12/12 [==============================] - 0s 3ms/step - loss: 19552226.0000 - mse: 19552226.0000 - mae: 3810.3274 - val_loss: 23364842.0000 - val_mse: 23364842.0000 - val_mae: 4556.4009\n",
      "Epoch 188/500\n",
      "12/12 [==============================] - 0s 4ms/step - loss: 18564574.0000 - mse: 18564574.0000 - mae: 3687.1003 - val_loss: 23952226.0000 - val_mse: 23952226.0000 - val_mae: 4604.2085\n",
      "Epoch 189/500\n",
      "12/12 [==============================] - 0s 4ms/step - loss: 19118814.0000 - mse: 19118814.0000 - mae: 3750.5425 - val_loss: 24059238.0000 - val_mse: 24059238.0000 - val_mae: 4633.8647\n",
      "Epoch 190/500\n",
      "12/12 [==============================] - 0s 5ms/step - loss: 18422812.0000 - mse: 18422812.0000 - mae: 3674.2903 - val_loss: 22785806.0000 - val_mse: 22785806.0000 - val_mae: 4493.6250\n",
      "Epoch 191/500\n",
      "12/12 [==============================] - 0s 4ms/step - loss: 19108270.0000 - mse: 19108270.0000 - mae: 3754.1079 - val_loss: 24204338.0000 - val_mse: 24204338.0000 - val_mae: 4595.4790\n",
      "Epoch 192/500\n",
      "12/12 [==============================] - 0s 4ms/step - loss: 18236684.0000 - mse: 18236684.0000 - mae: 3637.8091 - val_loss: 24925126.0000 - val_mse: 24925126.0000 - val_mae: 4702.2241\n",
      "Epoch 193/500\n",
      "12/12 [==============================] - 0s 4ms/step - loss: 18940684.0000 - mse: 18940684.0000 - mae: 3736.8652 - val_loss: 23970378.0000 - val_mse: 23970378.0000 - val_mae: 4593.4375\n",
      "Epoch 194/500\n",
      "12/12 [==============================] - 0s 5ms/step - loss: 18106284.0000 - mse: 18106284.0000 - mae: 3631.0312 - val_loss: 24708062.0000 - val_mse: 24708062.0000 - val_mae: 4662.3438\n",
      "Epoch 195/500\n",
      "12/12 [==============================] - 0s 5ms/step - loss: 18527042.0000 - mse: 18527042.0000 - mae: 3683.0713 - val_loss: 24694674.0000 - val_mse: 24694674.0000 - val_mae: 4684.6406\n",
      "Epoch 196/500\n",
      "12/12 [==============================] - 0s 4ms/step - loss: 18040436.0000 - mse: 18040436.0000 - mae: 3629.8281 - val_loss: 24762858.0000 - val_mse: 24762858.0000 - val_mae: 4675.3491\n",
      "Epoch 197/500\n",
      "12/12 [==============================] - 0s 5ms/step - loss: 18226478.0000 - mse: 18226478.0000 - mae: 3651.7510 - val_loss: 24635530.0000 - val_mse: 24635530.0000 - val_mae: 4655.0625\n",
      "Epoch 198/500\n",
      "12/12 [==============================] - 0s 5ms/step - loss: 17991854.0000 - mse: 17991854.0000 - mae: 3621.9546 - val_loss: 25050194.0000 - val_mse: 25050194.0000 - val_mae: 4697.3853\n",
      "Epoch 199/500\n",
      "12/12 [==============================] - 0s 4ms/step - loss: 17997152.0000 - mse: 17997152.0000 - mae: 3623.2500 - val_loss: 25095894.0000 - val_mse: 25095894.0000 - val_mae: 4703.8906\n",
      "Epoch 200/500\n",
      "12/12 [==============================] - 0s 4ms/step - loss: 17833066.0000 - mse: 17833066.0000 - mae: 3604.5784 - val_loss: 25196330.0000 - val_mse: 25196330.0000 - val_mae: 4706.3022\n",
      "Epoch 201/500\n",
      "12/12 [==============================] - 0s 6ms/step - loss: 17794444.0000 - mse: 17794444.0000 - mae: 3599.8801 - val_loss: 25114714.0000 - val_mse: 25114714.0000 - val_mae: 4695.0571\n",
      "Epoch 202/500\n",
      "12/12 [==============================] - 0s 4ms/step - loss: 17695048.0000 - mse: 17695048.0000 - mae: 3588.2100 - val_loss: 25197040.0000 - val_mse: 25197040.0000 - val_mae: 4698.0938\n",
      "Epoch 203/500\n",
      "12/12 [==============================] - 0s 4ms/step - loss: 17632526.0000 - mse: 17632526.0000 - mae: 3580.5469 - val_loss: 25215430.0000 - val_mse: 25215430.0000 - val_mae: 4697.2446\n",
      "Epoch 204/500\n",
      "12/12 [==============================] - 0s 3ms/step - loss: 17542916.0000 - mse: 17542916.0000 - mae: 3569.9331 - val_loss: 25278790.0000 - val_mse: 25278790.0000 - val_mae: 4699.1978\n",
      "Epoch 205/500\n",
      "12/12 [==============================] - 0s 4ms/step - loss: 17470236.0000 - mse: 17470236.0000 - mae: 3561.1018 - val_loss: 25301414.0000 - val_mse: 25301414.0000 - val_mae: 4697.8384\n",
      "Epoch 206/500\n",
      "12/12 [==============================] - 0s 4ms/step - loss: 17388622.0000 - mse: 17388622.0000 - mae: 3551.2490 - val_loss: 25346126.0000 - val_mse: 25346126.0000 - val_mae: 4698.1147\n",
      "Epoch 207/500\n",
      "12/12 [==============================] - 0s 3ms/step - loss: 17314130.0000 - mse: 17314130.0000 - mae: 3542.1108 - val_loss: 25379664.0000 - val_mse: 25379664.0000 - val_mae: 4697.6821\n",
      "Epoch 208/500\n",
      "12/12 [==============================] - 0s 5ms/step - loss: 17235678.0000 - mse: 17235678.0000 - mae: 3532.4902 - val_loss: 25421984.0000 - val_mse: 25421984.0000 - val_mae: 4697.8960\n",
      "Epoch 209/500\n",
      "12/12 [==============================] - 0s 4ms/step - loss: 17160412.0000 - mse: 17160412.0000 - mae: 3523.1719 - val_loss: 25458824.0000 - val_mse: 25458824.0000 - val_mae: 4697.6929\n",
      "Epoch 210/500\n",
      "12/12 [==============================] - 0s 4ms/step - loss: 17083838.0000 - mse: 17083838.0000 - mae: 3513.6587 - val_loss: 25498998.0000 - val_mse: 25498998.0000 - val_mae: 4697.7085\n",
      "Epoch 211/500\n",
      "12/12 [==============================] - 0s 4ms/step - loss: 17008934.0000 - mse: 17008934.0000 - mae: 3504.2764 - val_loss: 25536840.0000 - val_mse: 25536840.0000 - val_mae: 4697.5469\n",
      "Epoch 212/500\n",
      "12/12 [==============================] - 0s 4ms/step - loss: 16963190.0000 - mse: 16963190.0000 - mae: 3496.3274 - val_loss: 26663646.0000 - val_mse: 26663646.0000 - val_mae: 4802.0884\n",
      "Epoch 213/500\n",
      "12/12 [==============================] - 0s 4ms/step - loss: 16564597.0000 - mse: 16564597.0000 - mae: 3442.0881 - val_loss: 26354886.0000 - val_mse: 26354886.0000 - val_mae: 4811.8335\n",
      "Epoch 214/500\n",
      "12/12 [==============================] - 0s 4ms/step - loss: 16953968.0000 - mse: 16953968.0000 - mae: 3498.2642 - val_loss: 26803510.0000 - val_mse: 26803510.0000 - val_mae: 4799.5156\n",
      "Epoch 215/500\n",
      "12/12 [==============================] - 0s 4ms/step - loss: 16292871.0000 - mse: 16292871.0000 - mae: 3407.8987 - val_loss: 26549882.0000 - val_mse: 26549882.0000 - val_mae: 4816.0469\n",
      "Epoch 216/500\n",
      "12/12 [==============================] - 0s 4ms/step - loss: 16894588.0000 - mse: 16894588.0000 - mae: 3487.5115 - val_loss: 26939462.0000 - val_mse: 26939462.0000 - val_mae: 4812.8335\n",
      "Epoch 217/500\n",
      "12/12 [==============================] - 0s 3ms/step - loss: 16071450.0000 - mse: 16071450.0000 - mae: 3382.5215 - val_loss: 26358096.0000 - val_mse: 26358096.0000 - val_mae: 4788.1040\n",
      "Epoch 218/500\n",
      "12/12 [==============================] - 0s 4ms/step - loss: 16835244.0000 - mse: 16835244.0000 - mae: 3480.3794 - val_loss: 26789370.0000 - val_mse: 26789370.0000 - val_mae: 4782.1929\n",
      "Epoch 219/500\n",
      "12/12 [==============================] - 0s 4ms/step - loss: 15962931.0000 - mse: 15962931.0000 - mae: 3373.3579 - val_loss: 26831888.0000 - val_mse: 26831888.0000 - val_mae: 4829.9634\n",
      "Epoch 220/500\n",
      "12/12 [==============================] - 0s 5ms/step - loss: 16680239.0000 - mse: 16680239.0000 - mae: 3457.8013 - val_loss: 27135712.0000 - val_mse: 27135712.0000 - val_mae: 4816.9790\n",
      "Epoch 221/500\n",
      "12/12 [==============================] - 0s 4ms/step - loss: 15790790.0000 - mse: 15790790.0000 - mae: 3351.5483 - val_loss: 26921018.0000 - val_mse: 26921018.0000 - val_mae: 4830.0728\n",
      "Epoch 222/500\n",
      "12/12 [==============================] - 0s 3ms/step - loss: 16556260.0000 - mse: 16556260.0000 - mae: 3441.2786 - val_loss: 27135358.0000 - val_mse: 27135358.0000 - val_mae: 4806.5571\n",
      "Epoch 223/500\n",
      "12/12 [==============================] - 0s 4ms/step - loss: 15659310.0000 - mse: 15659310.0000 - mae: 3338.4285 - val_loss: 26987486.0000 - val_mse: 26987486.0000 - val_mae: 4829.5728\n",
      "Epoch 224/500\n",
      "12/12 [==============================] - 0s 3ms/step - loss: 16434904.0000 - mse: 16434904.0000 - mae: 3426.2598 - val_loss: 27263498.0000 - val_mse: 27263498.0000 - val_mae: 4811.0728\n",
      "Epoch 225/500\n",
      "12/12 [==============================] - 0s 4ms/step - loss: 15519852.0000 - mse: 15519852.0000 - mae: 3322.7278 - val_loss: 27065112.0000 - val_mse: 27065112.0000 - val_mae: 4830.5781\n",
      "Epoch 226/500\n",
      "12/12 [==============================] - 0s 4ms/step - loss: 16313764.0000 - mse: 16313764.0000 - mae: 3411.1858 - val_loss: 27367000.0000 - val_mse: 27367000.0000 - val_mae: 4812.2710\n",
      "Epoch 227/500\n",
      "12/12 [==============================] - 0s 6ms/step - loss: 15384624.0000 - mse: 15384624.0000 - mae: 3307.6465 - val_loss: 27132352.0000 - val_mse: 27132352.0000 - val_mae: 4830.4375\n",
      "Epoch 228/500\n",
      "12/12 [==============================] - 0s 4ms/step - loss: 16195314.0000 - mse: 16195314.0000 - mae: 3397.3176 - val_loss: 27478210.0000 - val_mse: 27478210.0000 - val_mae: 4814.3804\n",
      "Epoch 229/500\n",
      "12/12 [==============================] - 0s 5ms/step - loss: 15251260.0000 - mse: 15251260.0000 - mae: 3292.4458 - val_loss: 27202256.0000 - val_mse: 27202256.0000 - val_mae: 4830.6719\n",
      "Epoch 230/500\n",
      "12/12 [==============================] - 0s 4ms/step - loss: 16078285.0000 - mse: 16078285.0000 - mae: 3383.6919 - val_loss: 27589306.0000 - val_mse: 27589306.0000 - val_mae: 4816.3960\n",
      "Epoch 231/500\n",
      "12/12 [==============================] - 0s 3ms/step - loss: 15120087.0000 - mse: 15120087.0000 - mae: 3277.2844 - val_loss: 27270790.0000 - val_mse: 27270790.0000 - val_mae: 4830.7603\n",
      "Epoch 232/500\n",
      "12/12 [==============================] - 0s 4ms/step - loss: 15963244.0000 - mse: 15963244.0000 - mae: 3370.1028 - val_loss: 27701936.0000 - val_mse: 27701936.0000 - val_mae: 4818.5312\n",
      "Epoch 233/500\n",
      "12/12 [==============================] - 0s 4ms/step - loss: 14991122.0000 - mse: 14991122.0000 - mae: 3262.1375 - val_loss: 27339370.0000 - val_mse: 27339370.0000 - val_mae: 4830.8906\n",
      "Epoch 234/500\n",
      "12/12 [==============================] - 0s 4ms/step - loss: 15849993.0000 - mse: 15849993.0000 - mae: 3356.5090 - val_loss: 27815424.0000 - val_mse: 27815424.0000 - val_mae: 4820.7188\n",
      "Epoch 235/500\n",
      "12/12 [==============================] - 0s 4ms/step - loss: 14905449.0000 - mse: 14905449.0000 - mae: 3249.5098 - val_loss: 28763120.0000 - val_mse: 28763120.0000 - val_mae: 4957.3335\n",
      "Epoch 236/500\n",
      "12/12 [==============================] - 0s 4ms/step - loss: 15316491.0000 - mse: 15316491.0000 - mae: 3273.1157 - val_loss: 27827270.0000 - val_mse: 27827270.0000 - val_mae: 4867.8179\n",
      "Epoch 237/500\n",
      "12/12 [==============================] - 0s 5ms/step - loss: 15241586.0000 - mse: 15241586.0000 - mae: 3283.9060 - val_loss: 27751638.0000 - val_mse: 27751638.0000 - val_mae: 4794.2554\n",
      "Epoch 238/500\n",
      "12/12 [==============================] - 0s 7ms/step - loss: 14992358.0000 - mse: 14992358.0000 - mae: 3259.8765 - val_loss: 28719930.0000 - val_mse: 28719930.0000 - val_mae: 4941.8647\n",
      "Epoch 239/500\n",
      "12/12 [==============================] - 0s 4ms/step - loss: 15028683.0000 - mse: 15028683.0000 - mae: 3240.4565 - val_loss: 29469504.0000 - val_mse: 29469504.0000 - val_mae: 5010.1719\n",
      "Epoch 240/500\n",
      "12/12 [==============================] - 0s 5ms/step - loss: 14799198.0000 - mse: 14799198.0000 - mae: 3211.1716 - val_loss: 29071370.0000 - val_mse: 29071370.0000 - val_mae: 4961.4272\n",
      "Epoch 241/500\n",
      "12/12 [==============================] - 0s 4ms/step - loss: 14842954.0000 - mse: 14842954.0000 - mae: 3221.2417 - val_loss: 28977728.0000 - val_mse: 28977728.0000 - val_mae: 4944.5938\n",
      "Epoch 242/500\n",
      "12/12 [==============================] - 0s 4ms/step - loss: 14759141.0000 - mse: 14759141.0000 - mae: 3212.9524 - val_loss: 29119584.0000 - val_mse: 29119584.0000 - val_mae: 4957.7134\n",
      "Epoch 243/500\n",
      "12/12 [==============================] - 0s 4ms/step - loss: 14732082.0000 - mse: 14732082.0000 - mae: 3206.8801 - val_loss: 29223696.0000 - val_mse: 29223696.0000 - val_mae: 4964.7241\n",
      "Epoch 244/500\n",
      "12/12 [==============================] - 0s 4ms/step - loss: 14655428.0000 - mse: 14655428.0000 - mae: 3197.0337 - val_loss: 29252056.0000 - val_mse: 29252056.0000 - val_mae: 4963.0679\n",
      "Epoch 245/500\n",
      "12/12 [==============================] - 0s 4ms/step - loss: 14618627.0000 - mse: 14618627.0000 - mae: 3192.1958 - val_loss: 29285958.0000 - val_mse: 29285958.0000 - val_mae: 4962.2241\n",
      "Epoch 246/500\n",
      "12/12 [==============================] - 0s 4ms/step - loss: 14560714.0000 - mse: 14560714.0000 - mae: 3184.9102 - val_loss: 29344416.0000 - val_mse: 29344416.0000 - val_mae: 4964.3384\n",
      "Epoch 247/500\n",
      "12/12 [==============================] - 0s 4ms/step - loss: 14516048.0000 - mse: 14516048.0000 - mae: 3178.5771 - val_loss: 29400384.0000 - val_mse: 29400384.0000 - val_mae: 4966.0469\n",
      "Epoch 248/500\n",
      "12/12 [==============================] - 0s 4ms/step - loss: 14462135.0000 - mse: 14462135.0000 - mae: 3171.3535 - val_loss: 29450518.0000 - val_mse: 29450518.0000 - val_mae: 4967.0991\n",
      "Epoch 249/500\n",
      "12/12 [==============================] - 0s 6ms/step - loss: 14415585.0000 - mse: 14415585.0000 - mae: 3164.9155 - val_loss: 29500640.0000 - val_mse: 29500640.0000 - val_mae: 4968.1406\n",
      "Epoch 250/500\n",
      "12/12 [==============================] - 0s 5ms/step - loss: 14365370.0000 - mse: 14365370.0000 - mae: 3158.0518 - val_loss: 29552528.0000 - val_mse: 29552528.0000 - val_mae: 4969.4321\n",
      "Epoch 251/500\n",
      "12/12 [==============================] - 0s 5ms/step - loss: 14318303.0000 - mse: 14318303.0000 - mae: 3151.4368 - val_loss: 29604678.0000 - val_mse: 29604678.0000 - val_mae: 4970.7241\n",
      "Epoch 252/500\n",
      "12/12 [==============================] - 0s 4ms/step - loss: 14269804.0000 - mse: 14269804.0000 - mae: 3144.6384 - val_loss: 29656242.0000 - val_mse: 29656242.0000 - val_mae: 4971.9634\n",
      "Epoch 253/500\n",
      "12/12 [==============================] - 0s 4ms/step - loss: 14223137.0000 - mse: 14223137.0000 - mae: 3137.9902 - val_loss: 29707808.0000 - val_mse: 29707808.0000 - val_mae: 4973.1978\n",
      "Epoch 254/500\n",
      "12/12 [==============================] - 0s 4ms/step - loss: 14176087.0000 - mse: 14176087.0000 - mae: 3131.2634 - val_loss: 29759424.0000 - val_mse: 29759424.0000 - val_mae: 4974.4634\n",
      "Epoch 255/500\n",
      "12/12 [==============================] - 0s 6ms/step - loss: 14130190.0000 - mse: 14130190.0000 - mae: 3124.6111 - val_loss: 29811536.0000 - val_mse: 29811536.0000 - val_mae: 4975.7500\n",
      "Epoch 256/500\n",
      "12/12 [==============================] - 0s 4ms/step - loss: 14084224.0000 - mse: 14084224.0000 - mae: 3117.9097 - val_loss: 29862998.0000 - val_mse: 29862998.0000 - val_mae: 4977.0103\n",
      "Epoch 257/500\n",
      "12/12 [==============================] - 0s 4ms/step - loss: 14039159.0000 - mse: 14039159.0000 - mae: 3111.2612 - val_loss: 29915194.0000 - val_mse: 29915194.0000 - val_mae: 4978.3179\n",
      "Epoch 258/500\n",
      "12/12 [==============================] - 0s 5ms/step - loss: 13994291.0000 - mse: 13994291.0000 - mae: 3104.5916 - val_loss: 29966954.0000 - val_mse: 29966954.0000 - val_mae: 4979.6094\n",
      "Epoch 259/500\n",
      "12/12 [==============================] - 0s 4ms/step - loss: 13950030.0000 - mse: 13950030.0000 - mae: 3097.9424 - val_loss: 30018894.0000 - val_mse: 30018894.0000 - val_mae: 4980.9116\n",
      "Epoch 260/500\n",
      "12/12 [==============================] - 0s 4ms/step - loss: 13906233.0000 - mse: 13906233.0000 - mae: 3091.3042 - val_loss: 30070586.0000 - val_mse: 30070586.0000 - val_mae: 4982.2085\n",
      "Epoch 261/500\n",
      "12/12 [==============================] - 0s 5ms/step - loss: 13862861.0000 - mse: 13862861.0000 - mae: 3084.9326 - val_loss: 30122714.0000 - val_mse: 30122714.0000 - val_mae: 4983.5366\n",
      "Epoch 262/500\n",
      "12/12 [==============================] - 0s 4ms/step - loss: 13820028.0000 - mse: 13820028.0000 - mae: 3079.1060 - val_loss: 30174602.0000 - val_mse: 30174602.0000 - val_mae: 4984.8594\n",
      "Epoch 263/500\n",
      "12/12 [==============================] - 0s 4ms/step - loss: 13802470.0000 - mse: 13802470.0000 - mae: 3076.1675 - val_loss: 30862122.0000 - val_mse: 30862122.0000 - val_mae: 5044.2603\n",
      "Epoch 264/500\n",
      "12/12 [==============================] - 0s 4ms/step - loss: 13639390.0000 - mse: 13639390.0000 - mae: 3051.4163 - val_loss: 30516906.0000 - val_mse: 30516906.0000 - val_mae: 5026.9897\n",
      "Epoch 265/500\n",
      "12/12 [==============================] - 0s 4ms/step - loss: 13771095.0000 - mse: 13771095.0000 - mae: 3066.0291 - val_loss: 31746934.0000 - val_mse: 31746934.0000 - val_mae: 5109.2241\n",
      "Epoch 266/500\n",
      "12/12 [==============================] - 0s 4ms/step - loss: 13358468.0000 - mse: 13358468.0000 - mae: 3018.5171 - val_loss: 30939586.0000 - val_mse: 30939586.0000 - val_mae: 5087.2500\n",
      "Epoch 267/500\n",
      "12/12 [==============================] - 0s 4ms/step - loss: 13804082.0000 - mse: 13804082.0000 - mae: 3061.8044 - val_loss: 31879770.0000 - val_mse: 31879770.0000 - val_mae: 5104.3750\n",
      "Epoch 268/500\n",
      "12/12 [==============================] - 0s 4ms/step - loss: 13200667.0000 - mse: 13200667.0000 - mae: 3002.1389 - val_loss: 30739082.0000 - val_mse: 30739082.0000 - val_mae: 5059.6875\n",
      "Epoch 269/500\n",
      "12/12 [==============================] - 0s 4ms/step - loss: 13786369.0000 - mse: 13786369.0000 - mae: 3061.4917 - val_loss: 32002086.0000 - val_mse: 32002086.0000 - val_mae: 5109.5312\n",
      "Epoch 270/500\n",
      "12/12 [==============================] - 0s 4ms/step - loss: 13111519.0000 - mse: 13111519.0000 - mae: 2991.2048 - val_loss: 30849430.0000 - val_mse: 30849430.0000 - val_mae: 5064.5210\n",
      "Epoch 271/500\n",
      "12/12 [==============================] - 0s 4ms/step - loss: 13718807.0000 - mse: 13718807.0000 - mae: 3053.1440 - val_loss: 32046998.0000 - val_mse: 32046998.0000 - val_mae: 5106.8384\n",
      "Epoch 272/500\n",
      "12/12 [==============================] - 0s 4ms/step - loss: 13042412.0000 - mse: 13042412.0000 - mae: 2982.8313 - val_loss: 30916054.0000 - val_mse: 30916054.0000 - val_mae: 5063.0312\n",
      "Epoch 273/500\n",
      "12/12 [==============================] - 0s 4ms/step - loss: 13641803.0000 - mse: 13641803.0000 - mae: 3044.4868 - val_loss: 32098006.0000 - val_mse: 32098006.0000 - val_mae: 5105.9062\n",
      "Epoch 274/500\n",
      "12/12 [==============================] - 0s 4ms/step - loss: 12982898.0000 - mse: 12982898.0000 - mae: 2975.1631 - val_loss: 31008554.0000 - val_mse: 31008554.0000 - val_mae: 5064.0571\n",
      "Epoch 275/500\n",
      "12/12 [==============================] - 0s 4ms/step - loss: 13559900.0000 - mse: 13559900.0000 - mae: 3035.8271 - val_loss: 32137286.0000 - val_mse: 32137286.0000 - val_mae: 5103.9478\n",
      "Epoch 276/500\n",
      "12/12 [==============================] - 0s 4ms/step - loss: 12928324.0000 - mse: 12928324.0000 - mae: 2967.9312 - val_loss: 31101818.0000 - val_mse: 31101818.0000 - val_mae: 5064.9062\n",
      "Epoch 277/500\n",
      "12/12 [==============================] - 0s 4ms/step - loss: 13477565.0000 - mse: 13477565.0000 - mae: 3027.0376 - val_loss: 32174714.0000 - val_mse: 32174714.0000 - val_mae: 5102.0835\n",
      "Epoch 278/500\n",
      "12/12 [==============================] - 0s 6ms/step - loss: 12913243.0000 - mse: 12913243.0000 - mae: 2964.0417 - val_loss: 32467752.0000 - val_mse: 32467752.0000 - val_mae: 5177.4741\n",
      "Epoch 279/500\n",
      "12/12 [==============================] - 0s 6ms/step - loss: 13126532.0000 - mse: 13126532.0000 - mae: 2976.4006 - val_loss: 32416042.0000 - val_mse: 32416042.0000 - val_mae: 5153.4585\n",
      "Epoch 280/500\n",
      "12/12 [==============================] - 0s 4ms/step - loss: 12989269.0000 - mse: 12989269.0000 - mae: 2969.8569 - val_loss: 32172490.0000 - val_mse: 32172490.0000 - val_mae: 5119.0259\n",
      "Epoch 281/500\n",
      "12/12 [==============================] - 0s 4ms/step - loss: 13005400.0000 - mse: 13005400.0000 - mae: 2970.9138 - val_loss: 32626398.0000 - val_mse: 32626398.0000 - val_mae: 5169.1772\n",
      "Epoch 282/500\n",
      "12/12 [==============================] - 0s 4ms/step - loss: 12937985.0000 - mse: 12937985.0000 - mae: 2958.3638 - val_loss: 32690912.0000 - val_mse: 32690912.0000 - val_mae: 5171.0571\n",
      "Epoch 283/500\n",
      "12/12 [==============================] - 0s 4ms/step - loss: 12913435.0000 - mse: 12913435.0000 - mae: 2956.8330 - val_loss: 32551104.0000 - val_mse: 32551104.0000 - val_mae: 5152.6665\n",
      "Epoch 284/500\n",
      "12/12 [==============================] - 0s 4ms/step - loss: 12889810.0000 - mse: 12889810.0000 - mae: 2955.2178 - val_loss: 32582774.0000 - val_mse: 32582774.0000 - val_mae: 5153.0469\n",
      "Epoch 285/500\n",
      "12/12 [==============================] - 0s 4ms/step - loss: 12866442.0000 - mse: 12866442.0000 - mae: 2951.9500 - val_loss: 32635058.0000 - val_mse: 32635058.0000 - val_mae: 5155.4478\n",
      "Epoch 286/500\n",
      "12/12 [==============================] - 0s 4ms/step - loss: 12835281.0000 - mse: 12835281.0000 - mae: 2948.0750 - val_loss: 32636128.0000 - val_mse: 32636128.0000 - val_mae: 5152.2554\n",
      "Epoch 287/500\n",
      "12/12 [==============================] - 0s 4ms/step - loss: 12811061.0000 - mse: 12811061.0000 - mae: 2945.3838 - val_loss: 32642032.0000 - val_mse: 32642032.0000 - val_mae: 5149.5884\n",
      "Epoch 288/500\n",
      "12/12 [==============================] - 0s 4ms/step - loss: 12784937.0000 - mse: 12784937.0000 - mae: 2942.2935 - val_loss: 32659658.0000 - val_mse: 32659658.0000 - val_mae: 5148.3228\n",
      "Epoch 289/500\n",
      "12/12 [==============================] - 0s 5ms/step - loss: 12759815.0000 - mse: 12759815.0000 - mae: 2939.1951 - val_loss: 32675440.0000 - val_mse: 32675440.0000 - val_mae: 5146.7554\n",
      "Epoch 290/500\n",
      "12/12 [==============================] - 0s 4ms/step - loss: 12734161.0000 - mse: 12734161.0000 - mae: 2936.5742 - val_loss: 32687158.0000 - val_mse: 32687158.0000 - val_mae: 5144.7969\n",
      "Epoch 291/500\n",
      "12/12 [==============================] - 0s 6ms/step - loss: 12709584.0000 - mse: 12709584.0000 - mae: 2934.2214 - val_loss: 32700870.0000 - val_mse: 32700870.0000 - val_mae: 5143.0625\n",
      "Epoch 292/500\n",
      "12/12 [==============================] - 0s 4ms/step - loss: 12684939.0000 - mse: 12684939.0000 - mae: 2931.8193 - val_loss: 32715256.0000 - val_mse: 32715256.0000 - val_mae: 5141.4009\n",
      "Epoch 293/500\n",
      "12/12 [==============================] - 0s 4ms/step - loss: 12660710.0000 - mse: 12660710.0000 - mae: 2929.4397 - val_loss: 32729082.0000 - val_mse: 32729082.0000 - val_mae: 5139.6875\n",
      "Epoch 294/500\n",
      "12/12 [==============================] - 0s 4ms/step - loss: 12636678.0000 - mse: 12636678.0000 - mae: 2927.0549 - val_loss: 32742720.0000 - val_mse: 32742720.0000 - val_mae: 5137.9634\n",
      "Epoch 295/500\n",
      "12/12 [==============================] - 0s 4ms/step - loss: 12613150.0000 - mse: 12613150.0000 - mae: 2924.7029 - val_loss: 32757038.0000 - val_mse: 32757038.0000 - val_mae: 5136.2969\n",
      "Epoch 296/500\n",
      "12/12 [==============================] - 0s 4ms/step - loss: 12589742.0000 - mse: 12589742.0000 - mae: 2922.3369 - val_loss: 32770904.0000 - val_mse: 32770904.0000 - val_mae: 5134.6304\n",
      "Epoch 297/500\n",
      "12/12 [==============================] - 0s 4ms/step - loss: 12566727.0000 - mse: 12566727.0000 - mae: 2919.9895 - val_loss: 32785070.0000 - val_mse: 32785070.0000 - val_mae: 5132.9688\n",
      "Epoch 298/500\n",
      "12/12 [==============================] - 0s 6ms/step - loss: 12543962.0000 - mse: 12543962.0000 - mae: 2917.6458 - val_loss: 32799024.0000 - val_mse: 32799024.0000 - val_mae: 5131.3125\n",
      "Epoch 299/500\n",
      "12/12 [==============================] - 0s 4ms/step - loss: 12521418.0000 - mse: 12521418.0000 - mae: 2915.2993 - val_loss: 32813086.0000 - val_mse: 32813086.0000 - val_mae: 5129.6719\n",
      "Epoch 300/500\n",
      "12/12 [==============================] - 0s 4ms/step - loss: 12499237.0000 - mse: 12499237.0000 - mae: 2912.9736 - val_loss: 32827290.0000 - val_mse: 32827290.0000 - val_mae: 5128.0625\n",
      "Epoch 301/500\n",
      "12/12 [==============================] - 0s 4ms/step - loss: 12477301.0000 - mse: 12477301.0000 - mae: 2910.6450 - val_loss: 32841538.0000 - val_mse: 32841538.0000 - val_mae: 5126.4478\n",
      "Epoch 302/500\n",
      "12/12 [==============================] - 0s 5ms/step - loss: 12455716.0000 - mse: 12455716.0000 - mae: 2908.3386 - val_loss: 32855642.0000 - val_mse: 32855642.0000 - val_mae: 5124.8438\n",
      "Epoch 303/500\n",
      "12/12 [==============================] - 0s 4ms/step - loss: 12434290.0000 - mse: 12434290.0000 - mae: 2906.0212 - val_loss: 32869910.0000 - val_mse: 32869910.0000 - val_mae: 5123.2554\n",
      "Epoch 304/500\n",
      "12/12 [==============================] - 0s 4ms/step - loss: 12413255.0000 - mse: 12413255.0000 - mae: 2903.7268 - val_loss: 32884282.0000 - val_mse: 32884282.0000 - val_mae: 5121.6821\n",
      "Epoch 305/500\n",
      "12/12 [==============================] - 0s 4ms/step - loss: 12392410.0000 - mse: 12392410.0000 - mae: 2901.4287 - val_loss: 32898918.0000 - val_mse: 32898918.0000 - val_mae: 5120.1406\n",
      "Epoch 306/500\n",
      "12/12 [==============================] - 0s 4ms/step - loss: 12371822.0000 - mse: 12371822.0000 - mae: 2899.1384 - val_loss: 32912870.0000 - val_mse: 32912870.0000 - val_mae: 5118.5625\n",
      "Epoch 307/500\n",
      "12/12 [==============================] - 0s 4ms/step - loss: 12351583.0000 - mse: 12351583.0000 - mae: 2896.8635 - val_loss: 32927680.0000 - val_mse: 32927680.0000 - val_mae: 5117.0469\n",
      "Epoch 308/500\n",
      "12/12 [==============================] - 0s 4ms/step - loss: 12331595.0000 - mse: 12331595.0000 - mae: 2894.5940 - val_loss: 32941760.0000 - val_mse: 32941760.0000 - val_mae: 5115.4946\n",
      "Epoch 309/500\n",
      "12/12 [==============================] - 0s 4ms/step - loss: 12311782.0000 - mse: 12311782.0000 - mae: 2892.3213 - val_loss: 32956448.0000 - val_mse: 32956448.0000 - val_mae: 5113.9946\n",
      "Epoch 310/500\n",
      "12/12 [==============================] - 0s 6ms/step - loss: 12292345.0000 - mse: 12292345.0000 - mae: 2890.0710 - val_loss: 32971082.0000 - val_mse: 32971082.0000 - val_mae: 5112.5000\n",
      "Epoch 311/500\n",
      "12/12 [==============================] - 0s 4ms/step - loss: 12273051.0000 - mse: 12273051.0000 - mae: 2887.8140 - val_loss: 32985390.0000 - val_mse: 32985390.0000 - val_mae: 5110.9897\n",
      "Epoch 312/500\n",
      "12/12 [==============================] - 0s 4ms/step - loss: 12254037.0000 - mse: 12254037.0000 - mae: 2885.5669 - val_loss: 33000094.0000 - val_mse: 33000094.0000 - val_mae: 5109.5210\n",
      "Epoch 313/500\n",
      "12/12 [==============================] - 0s 5ms/step - loss: 12235338.0000 - mse: 12235338.0000 - mae: 2883.3345 - val_loss: 33014806.0000 - val_mse: 33014806.0000 - val_mae: 5108.0522\n",
      "Epoch 314/500\n",
      "12/12 [==============================] - 0s 4ms/step - loss: 12216789.0000 - mse: 12216789.0000 - mae: 2881.0989 - val_loss: 33029552.0000 - val_mse: 33029552.0000 - val_mae: 5106.5991\n",
      "Epoch 315/500\n",
      "12/12 [==============================] - 0s 4ms/step - loss: 12198564.0000 - mse: 12198564.0000 - mae: 2878.8774 - val_loss: 33044346.0000 - val_mse: 33044346.0000 - val_mae: 5105.1665\n",
      "Epoch 316/500\n",
      "12/12 [==============================] - 0s 4ms/step - loss: 12180550.0000 - mse: 12180550.0000 - mae: 2876.6597 - val_loss: 33058806.0000 - val_mse: 33058806.0000 - val_mae: 5103.7188\n",
      "Epoch 317/500\n",
      "12/12 [==============================] - 0s 4ms/step - loss: 12169904.0000 - mse: 12169904.0000 - mae: 2889.0803 - val_loss: 32890154.0000 - val_mse: 32890154.0000 - val_mae: 4963.5938\n",
      "Epoch 318/500\n",
      "12/12 [==============================] - 0s 6ms/step - loss: 12160105.0000 - mse: 12160105.0000 - mae: 2888.3813 - val_loss: 33502822.0000 - val_mse: 33502822.0000 - val_mae: 4970.5054\n",
      "Epoch 319/500\n",
      "12/12 [==============================] - 0s 4ms/step - loss: 11947770.0000 - mse: 11947770.0000 - mae: 2755.8259 - val_loss: 40864540.0000 - val_mse: 40864540.0000 - val_mae: 5942.7446\n",
      "Epoch 320/500\n",
      "12/12 [==============================] - 0s 4ms/step - loss: 19579912.0000 - mse: 19579912.0000 - mae: 3585.0850 - val_loss: 41208008.0000 - val_mse: 41208008.0000 - val_mae: 5463.8125\n",
      "Epoch 321/500\n",
      "12/12 [==============================] - 0s 6ms/step - loss: 10857299.0000 - mse: 10857299.0000 - mae: 2690.9690 - val_loss: 29755022.0000 - val_mse: 29755022.0000 - val_mae: 4639.0884\n",
      "Epoch 322/500\n",
      "12/12 [==============================] - 0s 6ms/step - loss: 13278807.0000 - mse: 13278807.0000 - mae: 3005.7097 - val_loss: 43938636.0000 - val_mse: 43938636.0000 - val_mae: 6070.5679\n",
      "Epoch 323/500\n",
      "12/12 [==============================] - 0s 4ms/step - loss: 16567269.0000 - mse: 16567269.0000 - mae: 3306.7490 - val_loss: 38093192.0000 - val_mse: 38093192.0000 - val_mae: 5252.5210\n",
      "Epoch 324/500\n",
      "12/12 [==============================] - 0s 4ms/step - loss: 10967328.0000 - mse: 10967328.0000 - mae: 2713.6284 - val_loss: 30891290.0000 - val_mse: 30891290.0000 - val_mae: 4730.5781\n",
      "Epoch 325/500\n",
      "12/12 [==============================] - 0s 5ms/step - loss: 12724378.0000 - mse: 12724378.0000 - mae: 2926.8240 - val_loss: 42805628.0000 - val_mse: 42805628.0000 - val_mae: 6036.7188\n",
      "Epoch 326/500\n",
      "12/12 [==============================] - 0s 4ms/step - loss: 16651820.0000 - mse: 16651820.0000 - mae: 3310.0996 - val_loss: 38818108.0000 - val_mse: 38818108.0000 - val_mae: 5285.3750\n",
      "Epoch 327/500\n",
      "12/12 [==============================] - 0s 4ms/step - loss: 10883750.0000 - mse: 10883750.0000 - mae: 2700.2825 - val_loss: 30873896.0000 - val_mse: 30873896.0000 - val_mae: 4727.7446\n",
      "Epoch 328/500\n",
      "12/12 [==============================] - 0s 4ms/step - loss: 12703578.0000 - mse: 12703578.0000 - mae: 2927.5930 - val_loss: 43253108.0000 - val_mse: 43253108.0000 - val_mae: 6063.4009\n",
      "Epoch 329/500\n",
      "12/12 [==============================] - 0s 6ms/step - loss: 16494519.0000 - mse: 16494519.0000 - mae: 3295.2483 - val_loss: 38903036.0000 - val_mse: 38903036.0000 - val_mae: 5289.3384\n",
      "Epoch 330/500\n",
      "12/12 [==============================] - 0s 4ms/step - loss: 10807155.0000 - mse: 10807155.0000 - mae: 2687.7900 - val_loss: 31115758.0000 - val_mse: 31115758.0000 - val_mae: 4738.8335\n",
      "Epoch 331/500\n",
      "12/12 [==============================] - 0s 4ms/step - loss: 12648212.0000 - mse: 12648212.0000 - mae: 2922.4990 - val_loss: 43548504.0000 - val_mse: 43548504.0000 - val_mae: 6084.0835\n",
      "Epoch 332/500\n",
      "12/12 [==============================] - 0s 4ms/step - loss: 16358379.0000 - mse: 16358379.0000 - mae: 3280.9958 - val_loss: 39045916.0000 - val_mse: 39045916.0000 - val_mae: 5297.1094\n",
      "Epoch 333/500\n",
      "12/12 [==============================] - 0s 4ms/step - loss: 10739722.0000 - mse: 10739722.0000 - mae: 2676.0627 - val_loss: 31321738.0000 - val_mse: 31321738.0000 - val_mae: 4746.5054\n",
      "Epoch 334/500\n",
      "12/12 [==============================] - 0s 4ms/step - loss: 12315210.0000 - mse: 12315210.0000 - mae: 2890.1255 - val_loss: 41841096.0000 - val_mse: 41841096.0000 - val_mae: 6026.9375\n",
      "Epoch 335/500\n",
      "12/12 [==============================] - 0s 4ms/step - loss: 15455844.0000 - mse: 15455844.0000 - mae: 3188.1030 - val_loss: 39532876.0000 - val_mse: 39532876.0000 - val_mae: 5287.5103\n",
      "Epoch 336/500\n",
      "12/12 [==============================] - 0s 6ms/step - loss: 10778635.0000 - mse: 10778635.0000 - mae: 2680.7671 - val_loss: 31447040.0000 - val_mse: 31447040.0000 - val_mae: 4774.8022\n",
      "Epoch 337/500\n",
      "12/12 [==============================] - 0s 4ms/step - loss: 12084719.0000 - mse: 12084719.0000 - mae: 2856.1572 - val_loss: 41682140.0000 - val_mse: 41682140.0000 - val_mae: 6031.1250\n",
      "Epoch 338/500\n",
      "12/12 [==============================] - 0s 4ms/step - loss: 15484143.0000 - mse: 15484143.0000 - mae: 3190.9307 - val_loss: 40036620.0000 - val_mse: 40036620.0000 - val_mae: 5303.6509\n",
      "Epoch 339/500\n",
      "12/12 [==============================] - 0s 5ms/step - loss: 10694501.0000 - mse: 10694501.0000 - mae: 2668.7722 - val_loss: 31524328.0000 - val_mse: 31524328.0000 - val_mae: 4781.4634\n",
      "Epoch 340/500\n",
      "12/12 [==============================] - 0s 4ms/step - loss: 12054831.0000 - mse: 12054831.0000 - mae: 2853.5725 - val_loss: 42012884.0000 - val_mse: 42012884.0000 - val_mae: 6055.0991\n",
      "Epoch 341/500\n",
      "12/12 [==============================] - 0s 4ms/step - loss: 15401835.0000 - mse: 15401835.0000 - mae: 3182.5669 - val_loss: 40285252.0000 - val_mse: 40285252.0000 - val_mae: 5314.0679\n",
      "Epoch 342/500\n",
      "12/12 [==============================] - 0s 5ms/step - loss: 10634126.0000 - mse: 10634126.0000 - mae: 2659.0200 - val_loss: 31681104.0000 - val_mse: 31681104.0000 - val_mae: 4786.8804\n",
      "Epoch 343/500\n",
      "12/12 [==============================] - 0s 4ms/step - loss: 12014108.0000 - mse: 12014108.0000 - mae: 2850.0632 - val_loss: 42323788.0000 - val_mse: 42323788.0000 - val_mae: 6078.1509\n",
      "Epoch 344/500\n",
      "12/12 [==============================] - 0s 4ms/step - loss: 15327610.0000 - mse: 15327610.0000 - mae: 3175.3259 - val_loss: 40525204.0000 - val_mse: 40525204.0000 - val_mae: 5324.9790\n",
      "Epoch 345/500\n",
      "12/12 [==============================] - 0s 4ms/step - loss: 10574049.0000 - mse: 10574049.0000 - mae: 2649.2107 - val_loss: 31839486.0000 - val_mse: 31839486.0000 - val_mae: 4792.4375\n",
      "Epoch 346/500\n",
      "12/12 [==============================] - 0s 5ms/step - loss: 11976144.0000 - mse: 11976144.0000 - mae: 2846.6470 - val_loss: 42637968.0000 - val_mse: 42637968.0000 - val_mae: 6101.2397\n",
      "Epoch 347/500\n",
      "12/12 [==============================] - 0s 4ms/step - loss: 15252914.0000 - mse: 15252914.0000 - mae: 3167.8794 - val_loss: 40759976.0000 - val_mse: 40759976.0000 - val_mae: 5335.5312\n",
      "Epoch 348/500\n",
      "12/12 [==============================] - 0s 4ms/step - loss: 10516443.0000 - mse: 10516443.0000 - mae: 2639.6086 - val_loss: 31995872.0000 - val_mse: 31995872.0000 - val_mae: 4798.0312\n",
      "Epoch 349/500\n",
      "12/12 [==============================] - 0s 4ms/step - loss: 11941201.0000 - mse: 11941201.0000 - mae: 2843.3154 - val_loss: 42953612.0000 - val_mse: 42953612.0000 - val_mae: 6124.2710\n",
      "Epoch 350/500\n",
      "12/12 [==============================] - 0s 5ms/step - loss: 15180453.0000 - mse: 15180453.0000 - mae: 3160.4614 - val_loss: 40993024.0000 - val_mse: 40993024.0000 - val_mae: 5345.8491\n",
      "Epoch 351/500\n",
      "12/12 [==============================] - 0s 4ms/step - loss: 10461024.0000 - mse: 10461024.0000 - mae: 2630.1589 - val_loss: 32148050.0000 - val_mse: 32148050.0000 - val_mae: 4803.4634\n",
      "Epoch 352/500\n",
      "12/12 [==============================] - 0s 4ms/step - loss: 11909866.0000 - mse: 11909866.0000 - mae: 2840.1821 - val_loss: 43273432.0000 - val_mse: 43273432.0000 - val_mae: 6147.3696\n",
      "Epoch 353/500\n",
      "12/12 [==============================] - 0s 4ms/step - loss: 15110485.0000 - mse: 15110485.0000 - mae: 3153.1108 - val_loss: 41223624.0000 - val_mse: 41223624.0000 - val_mae: 5355.9531\n",
      "Epoch 354/500\n",
      "12/12 [==============================] - 0s 4ms/step - loss: 10407548.0000 - mse: 10407548.0000 - mae: 2620.8394 - val_loss: 32296858.0000 - val_mse: 32296858.0000 - val_mae: 4808.7915\n",
      "Epoch 355/500\n",
      "12/12 [==============================] - 0s 4ms/step - loss: 11882010.0000 - mse: 11882010.0000 - mae: 2837.2380 - val_loss: 43596716.0000 - val_mse: 43596716.0000 - val_mae: 6170.4897\n",
      "Epoch 356/500\n",
      "12/12 [==============================] - 0s 5ms/step - loss: 15428403.0000 - mse: 15428403.0000 - mae: 3156.1018 - val_loss: 40492532.0000 - val_mse: 40492532.0000 - val_mae: 5161.1460\n",
      "Epoch 357/500\n",
      "12/12 [==============================] - 0s 4ms/step - loss: 9373577.0000 - mse: 9373577.0000 - mae: 2437.5562 - val_loss: 33357546.0000 - val_mse: 33357546.0000 - val_mae: 5357.5259\n",
      "Epoch 358/500\n",
      "12/12 [==============================] - 0s 5ms/step - loss: 14878800.0000 - mse: 14878800.0000 - mae: 3168.8062 - val_loss: 40299732.0000 - val_mse: 40299732.0000 - val_mae: 5229.2969\n",
      "Epoch 359/500\n",
      "12/12 [==============================] - 0s 4ms/step - loss: 9189351.0000 - mse: 9189351.0000 - mae: 2436.7942 - val_loss: 33320832.0000 - val_mse: 33320832.0000 - val_mae: 5417.3906\n",
      "Epoch 360/500\n",
      "12/12 [==============================] - 0s 5ms/step - loss: 15098123.0000 - mse: 15098123.0000 - mae: 3166.8838 - val_loss: 41299024.0000 - val_mse: 41299024.0000 - val_mae: 5227.8179\n",
      "Epoch 361/500\n",
      "12/12 [==============================] - 0s 4ms/step - loss: 9202881.0000 - mse: 9202881.0000 - mae: 2433.7959 - val_loss: 33124970.0000 - val_mse: 33124970.0000 - val_mae: 5400.0781\n",
      "Epoch 362/500\n",
      "12/12 [==============================] - 0s 5ms/step - loss: 15063831.0000 - mse: 15063831.0000 - mae: 3164.4504 - val_loss: 41586420.0000 - val_mse: 41586420.0000 - val_mae: 5254.6616\n",
      "Epoch 363/500\n",
      "12/12 [==============================] - 0s 4ms/step - loss: 9154057.0000 - mse: 9154057.0000 - mae: 2425.3823 - val_loss: 32850538.0000 - val_mse: 32850538.0000 - val_mae: 5375.6460\n",
      "Epoch 364/500\n",
      "12/12 [==============================] - 0s 4ms/step - loss: 14998178.0000 - mse: 14998178.0000 - mae: 3157.2607 - val_loss: 41788048.0000 - val_mse: 41788048.0000 - val_mae: 5264.1406\n",
      "Epoch 365/500\n",
      "12/12 [==============================] - 0s 4ms/step - loss: 9136484.0000 - mse: 9136484.0000 - mae: 2421.2063 - val_loss: 32810698.0000 - val_mse: 32810698.0000 - val_mae: 5371.6250\n",
      "Epoch 366/500\n",
      "12/12 [==============================] - 0s 6ms/step - loss: 15111068.0000 - mse: 15111068.0000 - mae: 3151.3115 - val_loss: 41094808.0000 - val_mse: 41094808.0000 - val_mae: 5191.7241\n",
      "Epoch 367/500\n",
      "12/12 [==============================] - 0s 4ms/step - loss: 9208746.0000 - mse: 9208746.0000 - mae: 2416.5813 - val_loss: 33554832.0000 - val_mse: 33554832.0000 - val_mae: 5404.7290\n",
      "Epoch 368/500\n",
      "12/12 [==============================] - 0s 4ms/step - loss: 15109862.0000 - mse: 15109862.0000 - mae: 3157.3354 - val_loss: 40815888.0000 - val_mse: 40815888.0000 - val_mae: 5158.6094\n",
      "Epoch 369/500\n",
      "12/12 [==============================] - 0s 4ms/step - loss: 9143755.0000 - mse: 9143755.0000 - mae: 2403.8054 - val_loss: 33432688.0000 - val_mse: 33432688.0000 - val_mae: 5385.9844\n",
      "Epoch 370/500\n",
      "12/12 [==============================] - 0s 4ms/step - loss: 15075538.0000 - mse: 15075538.0000 - mae: 3153.2292 - val_loss: 40826732.0000 - val_mse: 40826732.0000 - val_mae: 5159.1562\n",
      "Epoch 371/500\n",
      "12/12 [==============================] - 0s 4ms/step - loss: 9124014.0000 - mse: 9124014.0000 - mae: 2397.9155 - val_loss: 33469922.0000 - val_mse: 33469922.0000 - val_mae: 5386.4531\n",
      "Epoch 372/500\n",
      "12/12 [==============================] - 0s 4ms/step - loss: 15060619.0000 - mse: 15060619.0000 - mae: 3150.4331 - val_loss: 40955980.0000 - val_mse: 40955980.0000 - val_mae: 5169.4688\n",
      "Epoch 373/500\n",
      "12/12 [==============================] - 0s 6ms/step - loss: 9097765.0000 - mse: 9097765.0000 - mae: 2390.8362 - val_loss: 33397062.0000 - val_mse: 33397062.0000 - val_mae: 5376.7812\n",
      "Epoch 374/500\n",
      "12/12 [==============================] - 0s 4ms/step - loss: 15022956.0000 - mse: 15022956.0000 - mae: 3145.8206 - val_loss: 41079692.0000 - val_mse: 41079692.0000 - val_mae: 5178.6509\n",
      "Epoch 375/500\n",
      "12/12 [==============================] - 0s 4ms/step - loss: 9074241.0000 - mse: 9074241.0000 - mae: 2384.5181 - val_loss: 33343530.0000 - val_mse: 33343530.0000 - val_mae: 5369.4478\n",
      "Epoch 376/500\n",
      "12/12 [==============================] - 0s 6ms/step - loss: 14984656.0000 - mse: 14984656.0000 - mae: 3140.7534 - val_loss: 41213848.0000 - val_mse: 41213848.0000 - val_mae: 5188.9634\n",
      "Epoch 377/500\n",
      "12/12 [==============================] - 0s 5ms/step - loss: 9052928.0000 - mse: 9052928.0000 - mae: 2378.3811 - val_loss: 33291536.0000 - val_mse: 33291536.0000 - val_mae: 5362.1196\n",
      "Epoch 378/500\n",
      "12/12 [==============================] - 0s 4ms/step - loss: 14944845.0000 - mse: 14944845.0000 - mae: 3135.5376 - val_loss: 41348248.0000 - val_mse: 41348248.0000 - val_mae: 5199.2031\n",
      "Epoch 379/500\n",
      "12/12 [==============================] - 0s 4ms/step - loss: 9032814.0000 - mse: 9032814.0000 - mae: 2373.0261 - val_loss: 33242046.0000 - val_mse: 33242046.0000 - val_mae: 5354.9585\n",
      "Epoch 380/500\n",
      "12/12 [==============================] - 0s 6ms/step - loss: 14904502.0000 - mse: 14904502.0000 - mae: 3130.1982 - val_loss: 41482640.0000 - val_mse: 41482640.0000 - val_mae: 5209.4219\n",
      "Epoch 381/500\n",
      "12/12 [==============================] - 0s 6ms/step - loss: 9014064.0000 - mse: 9014064.0000 - mae: 2368.0906 - val_loss: 33196186.0000 - val_mse: 33196186.0000 - val_mae: 5348.0679\n",
      "Epoch 382/500\n",
      "12/12 [==============================] - 0s 4ms/step - loss: 14864218.0000 - mse: 14864218.0000 - mae: 3124.8037 - val_loss: 41617088.0000 - val_mse: 41617088.0000 - val_mae: 5219.6353\n",
      "Epoch 383/500\n",
      "12/12 [==============================] - 0s 4ms/step - loss: 8996564.0000 - mse: 8996564.0000 - mae: 2363.5994 - val_loss: 33152462.0000 - val_mse: 33152462.0000 - val_mae: 5341.3071\n",
      "Epoch 384/500\n",
      "12/12 [==============================] - 0s 4ms/step - loss: 14824181.0000 - mse: 14824181.0000 - mae: 3119.3816 - val_loss: 41751804.0000 - val_mse: 41751804.0000 - val_mae: 5229.8594\n",
      "Epoch 385/500\n",
      "12/12 [==============================] - 0s 4ms/step - loss: 8980237.0000 - mse: 8980237.0000 - mae: 2360.1523 - val_loss: 33243882.0000 - val_mse: 33243882.0000 - val_mae: 5344.7188\n",
      "Epoch 386/500\n",
      "12/12 [==============================] - 0s 4ms/step - loss: 14784146.0000 - mse: 14784146.0000 - mae: 3113.9119 - val_loss: 41886128.0000 - val_mse: 41886128.0000 - val_mae: 5240.0156\n",
      "Epoch 387/500\n",
      "12/12 [==============================] - 0s 4ms/step - loss: 8964997.0000 - mse: 8964997.0000 - mae: 2356.7966 - val_loss: 33427520.0000 - val_mse: 33427520.0000 - val_mae: 5355.0625\n",
      "Epoch 388/500\n",
      "12/12 [==============================] - 0s 4ms/step - loss: 14744279.0000 - mse: 14744279.0000 - mae: 3108.4111 - val_loss: 42020084.0000 - val_mse: 42020084.0000 - val_mae: 5250.1304\n",
      "Epoch 389/500\n",
      "12/12 [==============================] - 0s 5ms/step - loss: 8950891.0000 - mse: 8950891.0000 - mae: 2354.1072 - val_loss: 33611012.0000 - val_mse: 33611012.0000 - val_mae: 5365.3750\n",
      "Epoch 390/500\n",
      "12/12 [==============================] - 0s 4ms/step - loss: 14704491.0000 - mse: 14704491.0000 - mae: 3102.8701 - val_loss: 42153232.0000 - val_mse: 42153232.0000 - val_mae: 5260.1509\n",
      "Epoch 391/500\n",
      "12/12 [==============================] - 0s 4ms/step - loss: 8937793.0000 - mse: 8937793.0000 - mae: 2351.8826 - val_loss: 33794108.0000 - val_mse: 33794108.0000 - val_mae: 5375.6509\n",
      "Epoch 392/500\n",
      "12/12 [==============================] - 0s 4ms/step - loss: 14663132.0000 - mse: 14663132.0000 - mae: 3097.2434 - val_loss: 42403824.0000 - val_mse: 42403824.0000 - val_mae: 5276.7812\n",
      "Epoch 393/500\n",
      "12/12 [==============================] - 0s 4ms/step - loss: 8906593.0000 - mse: 8906593.0000 - mae: 2347.1643 - val_loss: 33727252.0000 - val_mse: 33727252.0000 - val_mae: 5379.5469\n",
      "Epoch 394/500\n",
      "12/12 [==============================] - 0s 5ms/step - loss: 14707520.0000 - mse: 14707520.0000 - mae: 3097.5815 - val_loss: 42721748.0000 - val_mse: 42721748.0000 - val_mae: 5305.3540\n",
      "Epoch 395/500\n",
      "12/12 [==============================] - 0s 4ms/step - loss: 8895039.0000 - mse: 8895039.0000 - mae: 2344.9236 - val_loss: 33873268.0000 - val_mse: 33873268.0000 - val_mae: 5386.7344\n",
      "Epoch 396/500\n",
      "12/12 [==============================] - 0s 4ms/step - loss: 14665361.0000 - mse: 14665361.0000 - mae: 3092.8081 - val_loss: 42864892.0000 - val_mse: 42864892.0000 - val_mae: 5315.1616\n",
      "Epoch 397/500\n",
      "12/12 [==============================] - 0s 4ms/step - loss: 8882693.0000 - mse: 8882693.0000 - mae: 2343.5173 - val_loss: 34039260.0000 - val_mse: 34039260.0000 - val_mae: 5396.0259\n",
      "Epoch 398/500\n",
      "12/12 [==============================] - 0s 4ms/step - loss: 14620759.0000 - mse: 14620759.0000 - mae: 3087.1465 - val_loss: 42985812.0000 - val_mse: 42985812.0000 - val_mae: 5324.0366\n",
      "Epoch 399/500\n",
      "12/12 [==============================] - 0s 4ms/step - loss: 8875817.0000 - mse: 8875817.0000 - mae: 2343.1919 - val_loss: 34223484.0000 - val_mse: 34223484.0000 - val_mae: 5406.5415\n",
      "Epoch 400/500\n",
      "12/12 [==============================] - 0s 4ms/step - loss: 14579484.0000 - mse: 14579484.0000 - mae: 3081.8848 - val_loss: 43098744.0000 - val_mse: 43098744.0000 - val_mae: 5332.1509\n",
      "Epoch 401/500\n",
      "12/12 [==============================] - 0s 6ms/step - loss: 8868849.0000 - mse: 8868849.0000 - mae: 2342.7021 - val_loss: 34411052.0000 - val_mse: 34411052.0000 - val_mae: 5416.9844\n",
      "Epoch 402/500\n",
      "12/12 [==============================] - 0s 4ms/step - loss: 14538264.0000 - mse: 14538264.0000 - mae: 3076.6548 - val_loss: 43205716.0000 - val_mse: 43205716.0000 - val_mae: 5339.7188\n",
      "Epoch 403/500\n",
      "12/12 [==============================] - 0s 4ms/step - loss: 8863926.0000 - mse: 8863926.0000 - mae: 2342.4185 - val_loss: 34621292.0000 - val_mse: 34621292.0000 - val_mae: 5427.8179\n",
      "Epoch 404/500\n",
      "12/12 [==============================] - 0s 4ms/step - loss: 14486073.0000 - mse: 14486073.0000 - mae: 3070.5586 - val_loss: 43291304.0000 - val_mse: 43291304.0000 - val_mae: 5345.1929\n",
      "Epoch 405/500\n",
      "12/12 [==============================] - 0s 5ms/step - loss: 8860678.0000 - mse: 8860678.0000 - mae: 2342.0229 - val_loss: 34818316.0000 - val_mse: 34818316.0000 - val_mae: 5439.0103\n",
      "Epoch 406/500\n",
      "12/12 [==============================] - 0s 5ms/step - loss: 14443927.0000 - mse: 14443927.0000 - mae: 3065.0737 - val_loss: 43390740.0000 - val_mse: 43390740.0000 - val_mae: 5352.2134\n",
      "Epoch 407/500\n",
      "12/12 [==============================] - 0s 4ms/step - loss: 8595893.0000 - mse: 8595893.0000 - mae: 2313.2429 - val_loss: 34516428.0000 - val_mse: 34516428.0000 - val_mae: 5336.8906\n",
      "Epoch 408/500\n",
      "12/12 [==============================] - 0s 4ms/step - loss: 13890934.0000 - mse: 13890934.0000 - mae: 2994.7456 - val_loss: 41605668.0000 - val_mse: 41605668.0000 - val_mae: 5228.4790\n",
      "Epoch 409/500\n",
      "12/12 [==============================] - 0s 4ms/step - loss: 9333368.0000 - mse: 9333368.0000 - mae: 2418.8818 - val_loss: 36049108.0000 - val_mse: 36049108.0000 - val_mae: 5614.2031\n",
      "Epoch 410/500\n",
      "12/12 [==============================] - 0s 5ms/step - loss: 15508969.0000 - mse: 15508969.0000 - mae: 3155.2737 - val_loss: 44576044.0000 - val_mse: 44576044.0000 - val_mae: 5470.7290\n",
      "Epoch 411/500\n",
      "12/12 [==============================] - 0s 5ms/step - loss: 8814923.0000 - mse: 8814923.0000 - mae: 2312.1663 - val_loss: 34198864.0000 - val_mse: 34198864.0000 - val_mae: 5437.1094\n",
      "Epoch 412/500\n",
      "12/12 [==============================] - 0s 4ms/step - loss: 15203721.0000 - mse: 15203721.0000 - mae: 3127.7458 - val_loss: 44803904.0000 - val_mse: 44803904.0000 - val_mae: 5475.1509\n",
      "Epoch 413/500\n",
      "12/12 [==============================] - 0s 4ms/step - loss: 8776720.0000 - mse: 8776720.0000 - mae: 2311.2715 - val_loss: 33912180.0000 - val_mse: 33912180.0000 - val_mae: 5437.5210\n",
      "Epoch 414/500\n",
      "12/12 [==============================] - 0s 5ms/step - loss: 15251172.0000 - mse: 15251172.0000 - mae: 3122.8250 - val_loss: 45296868.0000 - val_mse: 45296868.0000 - val_mae: 5520.4634\n",
      "Epoch 415/500\n",
      "12/12 [==============================] - 0s 4ms/step - loss: 8794887.0000 - mse: 8794887.0000 - mae: 2313.6663 - val_loss: 34019956.0000 - val_mse: 34019956.0000 - val_mae: 5443.0469\n",
      "Epoch 416/500\n",
      "12/12 [==============================] - 0s 6ms/step - loss: 15186850.0000 - mse: 15186850.0000 - mae: 3116.5034 - val_loss: 45437120.0000 - val_mse: 45437120.0000 - val_mae: 5528.7656\n",
      "Epoch 417/500\n",
      "12/12 [==============================] - 0s 4ms/step - loss: 8784085.0000 - mse: 8784085.0000 - mae: 2314.0439 - val_loss: 34136820.0000 - val_mse: 34136820.0000 - val_mae: 5449.0054\n",
      "Epoch 418/500\n",
      "12/12 [==============================] - 0s 5ms/step - loss: 15128447.0000 - mse: 15128447.0000 - mae: 3110.5442 - val_loss: 45533996.0000 - val_mse: 45533996.0000 - val_mae: 5535.3071\n",
      "Epoch 419/500\n",
      "12/12 [==============================] - 0s 6ms/step - loss: 8786529.0000 - mse: 8786529.0000 - mae: 2315.7126 - val_loss: 34280040.0000 - val_mse: 34280040.0000 - val_mae: 5457.4429\n",
      "Epoch 420/500\n",
      "12/12 [==============================] - 0s 4ms/step - loss: 15082870.0000 - mse: 15082870.0000 - mae: 3106.4968 - val_loss: 45627716.0000 - val_mse: 45627716.0000 - val_mae: 5541.6353\n",
      "Epoch 421/500\n",
      "12/12 [==============================] - 0s 5ms/step - loss: 8787755.0000 - mse: 8787755.0000 - mae: 2316.9875 - val_loss: 34427472.0000 - val_mse: 34427472.0000 - val_mae: 5465.5728\n",
      "Epoch 422/500\n",
      "12/12 [==============================] - 0s 5ms/step - loss: 15036541.0000 - mse: 15036541.0000 - mae: 3102.4114 - val_loss: 45712172.0000 - val_mse: 45712172.0000 - val_mae: 5547.1147\n",
      "Epoch 423/500\n",
      "12/12 [==============================] - 0s 4ms/step - loss: 8789278.0000 - mse: 8789278.0000 - mae: 2318.2622 - val_loss: 34573840.0000 - val_mse: 34573840.0000 - val_mae: 5473.7290\n",
      "Epoch 424/500\n",
      "12/12 [==============================] - 0s 4ms/step - loss: 14992016.0000 - mse: 14992016.0000 - mae: 3098.4424 - val_loss: 45795792.0000 - val_mse: 45795792.0000 - val_mae: 5552.5781\n",
      "Epoch 425/500\n",
      "12/12 [==============================] - 0s 5ms/step - loss: 8791536.0000 - mse: 8791536.0000 - mae: 2319.5737 - val_loss: 34720196.0000 - val_mse: 34720196.0000 - val_mae: 5481.8853\n",
      "Epoch 426/500\n",
      "12/12 [==============================] - 0s 5ms/step - loss: 14948380.0000 - mse: 14948380.0000 - mae: 3094.5315 - val_loss: 45878116.0000 - val_mse: 45878116.0000 - val_mae: 5557.9478\n",
      "Epoch 427/500\n",
      "12/12 [==============================] - 0s 5ms/step - loss: 8794190.0000 - mse: 8794190.0000 - mae: 2321.2039 - val_loss: 34866172.0000 - val_mse: 34866172.0000 - val_mae: 5489.9946\n",
      "Epoch 428/500\n",
      "12/12 [==============================] - 0s 5ms/step - loss: 14905399.0000 - mse: 14905399.0000 - mae: 3090.6523 - val_loss: 45959104.0000 - val_mse: 45959104.0000 - val_mae: 5563.2085\n",
      "Epoch 429/500\n",
      "12/12 [==============================] - 0s 4ms/step - loss: 8797264.0000 - mse: 8797264.0000 - mae: 2323.2649 - val_loss: 35011656.0000 - val_mse: 35011656.0000 - val_mae: 5498.0728\n",
      "Epoch 430/500\n",
      "12/12 [==============================] - 0s 4ms/step - loss: 15278293.0000 - mse: 15278293.0000 - mae: 3119.0247 - val_loss: 44558928.0000 - val_mse: 44558928.0000 - val_mae: 5486.1406\n",
      "Epoch 431/500\n",
      "12/12 [==============================] - 0s 4ms/step - loss: 8706169.0000 - mse: 8706169.0000 - mae: 2328.2346 - val_loss: 35774964.0000 - val_mse: 35774964.0000 - val_mae: 5453.7397\n",
      "Epoch 432/500\n",
      "12/12 [==============================] - 0s 6ms/step - loss: 14244048.0000 - mse: 14244048.0000 - mae: 3023.8284 - val_loss: 43321040.0000 - val_mse: 43321040.0000 - val_mae: 5366.2241\n",
      "Epoch 433/500\n",
      "12/12 [==============================] - 0s 4ms/step - loss: 8859994.0000 - mse: 8859994.0000 - mae: 2358.7366 - val_loss: 36496108.0000 - val_mse: 36496108.0000 - val_mae: 5531.0571\n",
      "Epoch 434/500\n",
      "12/12 [==============================] - 0s 4ms/step - loss: 14313950.0000 - mse: 14313950.0000 - mae: 3033.1182 - val_loss: 43394500.0000 - val_mse: 43394500.0000 - val_mae: 5375.9219\n",
      "Epoch 435/500\n",
      "12/12 [==============================] - 0s 4ms/step - loss: 8809883.0000 - mse: 8809883.0000 - mae: 2353.0811 - val_loss: 36630324.0000 - val_mse: 36630324.0000 - val_mae: 5513.4585\n",
      "Epoch 436/500\n",
      "12/12 [==============================] - 0s 6ms/step - loss: 14076588.0000 - mse: 14076588.0000 - mae: 3008.9312 - val_loss: 43220360.0000 - val_mse: 43220360.0000 - val_mae: 5356.9531\n",
      "Epoch 437/500\n",
      "12/12 [==============================] - 0s 5ms/step - loss: 8875141.0000 - mse: 8875141.0000 - mae: 2363.4138 - val_loss: 37121436.0000 - val_mse: 37121436.0000 - val_mae: 5557.0259\n",
      "Epoch 438/500\n",
      "12/12 [==============================] - 0s 5ms/step - loss: 14060584.0000 - mse: 14060584.0000 - mae: 3009.3906 - val_loss: 43332164.0000 - val_mse: 43332164.0000 - val_mae: 5364.2188\n",
      "Epoch 439/500\n",
      "12/12 [==============================] - 0s 6ms/step - loss: 8815604.0000 - mse: 8815604.0000 - mae: 2355.7397 - val_loss: 37046388.0000 - val_mse: 37046388.0000 - val_mae: 5537.5625\n",
      "Epoch 440/500\n",
      "12/12 [==============================] - 0s 4ms/step - loss: 13956041.0000 - mse: 13956041.0000 - mae: 2997.7507 - val_loss: 43330756.0000 - val_mse: 43330756.0000 - val_mae: 5363.2554\n",
      "Epoch 441/500\n",
      "12/12 [==============================] - 0s 5ms/step - loss: 8856026.0000 - mse: 8856026.0000 - mae: 2364.8237 - val_loss: 37220820.0000 - val_mse: 37220820.0000 - val_mae: 5554.5366\n",
      "Epoch 442/500\n",
      "12/12 [==============================] - 0s 4ms/step - loss: 13942232.0000 - mse: 13942232.0000 - mae: 2995.7361 - val_loss: 43462964.0000 - val_mse: 43462964.0000 - val_mae: 5374.0156\n",
      "Epoch 443/500\n",
      "12/12 [==============================] - 0s 4ms/step - loss: 8856496.0000 - mse: 8856496.0000 - mae: 2365.7922 - val_loss: 37394900.0000 - val_mse: 37394900.0000 - val_mae: 5563.6406\n",
      "Epoch 444/500\n",
      "12/12 [==============================] - 0s 4ms/step - loss: 13888112.0000 - mse: 13888112.0000 - mae: 2990.5869 - val_loss: 43543948.0000 - val_mse: 43543948.0000 - val_mae: 5378.7085\n",
      "Epoch 445/500\n",
      "12/12 [==============================] - 0s 5ms/step - loss: 8854116.0000 - mse: 8854116.0000 - mae: 2366.0483 - val_loss: 37553768.0000 - val_mse: 37553768.0000 - val_mae: 5572.5938\n",
      "Epoch 446/500\n",
      "12/12 [==============================] - 0s 4ms/step - loss: 13838605.0000 - mse: 13838605.0000 - mae: 2985.5837 - val_loss: 43626824.0000 - val_mse: 43626824.0000 - val_mae: 5384.0571\n",
      "Epoch 447/500\n",
      "12/12 [==============================] - 0s 4ms/step - loss: 8857075.0000 - mse: 8857075.0000 - mae: 2367.2742 - val_loss: 37718736.0000 - val_mse: 37718736.0000 - val_mae: 5582.2656\n",
      "Epoch 448/500\n",
      "12/12 [==============================] - 0s 4ms/step - loss: 13791481.0000 - mse: 13791481.0000 - mae: 2980.8157 - val_loss: 43711392.0000 - val_mse: 43711392.0000 - val_mae: 5389.5210\n",
      "Epoch 449/500\n",
      "12/12 [==============================] - 0s 4ms/step - loss: 8859514.0000 - mse: 8859514.0000 - mae: 2368.2832 - val_loss: 37882640.0000 - val_mse: 37882640.0000 - val_mae: 5591.6772\n",
      "Epoch 450/500\n",
      "12/12 [==============================] - 0s 5ms/step - loss: 13744125.0000 - mse: 13744125.0000 - mae: 2976.0076 - val_loss: 43794172.0000 - val_mse: 43794172.0000 - val_mae: 5394.7969\n",
      "Epoch 451/500\n",
      "12/12 [==============================] - 0s 4ms/step - loss: 8862453.0000 - mse: 8862453.0000 - mae: 2369.2876 - val_loss: 38046032.0000 - val_mse: 38046032.0000 - val_mae: 5601.0728\n",
      "Epoch 452/500\n",
      "12/12 [==============================] - 0s 4ms/step - loss: 13697727.0000 - mse: 13697727.0000 - mae: 2971.3743 - val_loss: 43876124.0000 - val_mse: 43876124.0000 - val_mae: 5400.0103\n",
      "Epoch 453/500\n",
      "12/12 [==============================] - 0s 4ms/step - loss: 8866042.0000 - mse: 8866042.0000 - mae: 2370.3164 - val_loss: 38208688.0000 - val_mse: 38208688.0000 - val_mae: 5610.4165\n",
      "Epoch 454/500\n",
      "12/12 [==============================] - 0s 4ms/step - loss: 13652080.0000 - mse: 13652080.0000 - mae: 2967.1445 - val_loss: 43957380.0000 - val_mse: 43957380.0000 - val_mae: 5405.1562\n",
      "Epoch 455/500\n",
      "12/12 [==============================] - 0s 5ms/step - loss: 8870126.0000 - mse: 8870126.0000 - mae: 2371.6003 - val_loss: 38370868.0000 - val_mse: 38370868.0000 - val_mae: 5619.7085\n",
      "Epoch 456/500\n",
      "12/12 [==============================] - 0s 5ms/step - loss: 13607125.0000 - mse: 13607125.0000 - mae: 2962.9492 - val_loss: 44037856.0000 - val_mse: 44037856.0000 - val_mae: 5410.2344\n",
      "Epoch 457/500\n",
      "12/12 [==============================] - 0s 4ms/step - loss: 8663516.0000 - mse: 8663516.0000 - mae: 2341.5688 - val_loss: 37921304.0000 - val_mse: 37921304.0000 - val_mae: 5542.1509\n",
      "Epoch 458/500\n",
      "12/12 [==============================] - 0s 4ms/step - loss: 12629629.0000 - mse: 12629629.0000 - mae: 2864.9114 - val_loss: 44515540.0000 - val_mse: 44515540.0000 - val_mae: 5419.5156\n",
      "Epoch 459/500\n",
      "12/12 [==============================] - 0s 4ms/step - loss: 8871922.0000 - mse: 8871922.0000 - mae: 2378.3052 - val_loss: 38309076.0000 - val_mse: 38309076.0000 - val_mae: 5622.2866\n",
      "Epoch 460/500\n",
      "12/12 [==============================] - 0s 4ms/step - loss: 13337870.0000 - mse: 13337870.0000 - mae: 2934.5693 - val_loss: 44322740.0000 - val_mse: 44322740.0000 - val_mae: 5435.1562\n",
      "Epoch 461/500\n",
      "12/12 [==============================] - 0s 5ms/step - loss: 8672533.0000 - mse: 8672533.0000 - mae: 2357.9541 - val_loss: 38500208.0000 - val_mse: 38500208.0000 - val_mae: 5560.7554\n",
      "Epoch 462/500\n",
      "12/12 [==============================] - 0s 4ms/step - loss: 12183818.0000 - mse: 12183818.0000 - mae: 2822.7185 - val_loss: 44530644.0000 - val_mse: 44530644.0000 - val_mae: 5406.9688\n",
      "Epoch 463/500\n",
      "12/12 [==============================] - 0s 5ms/step - loss: 8917520.0000 - mse: 8917520.0000 - mae: 2390.4216 - val_loss: 38713348.0000 - val_mse: 38713348.0000 - val_mae: 5644.0571\n",
      "Epoch 464/500\n",
      "12/12 [==============================] - 0s 4ms/step - loss: 13175936.0000 - mse: 13175936.0000 - mae: 2919.7024 - val_loss: 44431924.0000 - val_mse: 44431924.0000 - val_mae: 5441.4585\n",
      "Epoch 465/500\n",
      "12/12 [==============================] - 0s 4ms/step - loss: 8690599.0000 - mse: 8690599.0000 - mae: 2368.5752 - val_loss: 38766160.0000 - val_mse: 38766160.0000 - val_mae: 5577.9321\n",
      "Epoch 466/500\n",
      "12/12 [==============================] - 0s 4ms/step - loss: 12078300.0000 - mse: 12078300.0000 - mae: 2811.9807 - val_loss: 44749652.0000 - val_mse: 44749652.0000 - val_mae: 5421.5835\n",
      "Epoch 467/500\n",
      "12/12 [==============================] - 0s 5ms/step - loss: 8944822.0000 - mse: 8944822.0000 - mae: 2397.5405 - val_loss: 39017448.0000 - val_mse: 39017448.0000 - val_mae: 5661.7241\n",
      "Epoch 468/500\n",
      "12/12 [==============================] - 0s 5ms/step - loss: 13093099.0000 - mse: 13093099.0000 - mae: 2912.0664 - val_loss: 44649296.0000 - val_mse: 44649296.0000 - val_mae: 5456.4272\n",
      "Epoch 469/500\n",
      "12/12 [==============================] - 0s 4ms/step - loss: 8687078.0000 - mse: 8687078.0000 - mae: 2373.3901 - val_loss: 38963236.0000 - val_mse: 38963236.0000 - val_mae: 5590.2031\n",
      "Epoch 470/500\n",
      "12/12 [==============================] - 0s 4ms/step - loss: 11994126.0000 - mse: 11994126.0000 - mae: 2803.5559 - val_loss: 44994656.0000 - val_mse: 44994656.0000 - val_mae: 5438.3125\n",
      "Epoch 471/500\n",
      "12/12 [==============================] - 0s 4ms/step - loss: 8741800.0000 - mse: 8741800.0000 - mae: 2377.1008 - val_loss: 38642256.0000 - val_mse: 38642256.0000 - val_mae: 5583.9375\n",
      "Epoch 472/500\n",
      "12/12 [==============================] - 0s 6ms/step - loss: 12085511.0000 - mse: 12085511.0000 - mae: 2808.6389 - val_loss: 45134000.0000 - val_mse: 45134000.0000 - val_mae: 5464.8906\n",
      "Epoch 473/500\n",
      "12/12 [==============================] - 0s 5ms/step - loss: 8836902.0000 - mse: 8836902.0000 - mae: 2397.6921 - val_loss: 38793480.0000 - val_mse: 38793480.0000 - val_mae: 5606.4844\n",
      "Epoch 474/500\n",
      "12/12 [==============================] - 0s 5ms/step - loss: 12108043.0000 - mse: 12108043.0000 - mae: 2808.8970 - val_loss: 45391516.0000 - val_mse: 45391516.0000 - val_mae: 5485.1250\n",
      "Epoch 475/500\n",
      "12/12 [==============================] - 0s 4ms/step - loss: 8806946.0000 - mse: 8806946.0000 - mae: 2392.5254 - val_loss: 38866772.0000 - val_mse: 38866772.0000 - val_mae: 5607.2759\n",
      "Epoch 476/500\n",
      "12/12 [==============================] - 0s 5ms/step - loss: 12066159.0000 - mse: 12066159.0000 - mae: 2805.5142 - val_loss: 45528576.0000 - val_mse: 45528576.0000 - val_mae: 5493.4741\n",
      "Epoch 477/500\n",
      "12/12 [==============================] - 0s 4ms/step - loss: 8811670.0000 - mse: 8811670.0000 - mae: 2395.7046 - val_loss: 38948524.0000 - val_mse: 38948524.0000 - val_mae: 5612.4741\n",
      "Epoch 478/500\n",
      "12/12 [==============================] - 0s 4ms/step - loss: 12036015.0000 - mse: 12036015.0000 - mae: 2802.7510 - val_loss: 45666476.0000 - val_mse: 45666476.0000 - val_mae: 5503.4790\n",
      "Epoch 479/500\n",
      "12/12 [==============================] - 0s 4ms/step - loss: 8855509.0000 - mse: 8855509.0000 - mae: 2404.9998 - val_loss: 39199496.0000 - val_mse: 39199496.0000 - val_mae: 5637.6460\n",
      "Epoch 480/500\n",
      "12/12 [==============================] - 0s 5ms/step - loss: 12073124.0000 - mse: 12073124.0000 - mae: 2804.7432 - val_loss: 45845292.0000 - val_mse: 45845292.0000 - val_mae: 5517.2031\n",
      "Epoch 481/500\n",
      "12/12 [==============================] - 0s 6ms/step - loss: 8825529.0000 - mse: 8825529.0000 - mae: 2403.0100 - val_loss: 39254976.0000 - val_mse: 39254976.0000 - val_mae: 5638.0469\n",
      "Epoch 482/500\n",
      "12/12 [==============================] - 0s 4ms/step - loss: 12040058.0000 - mse: 12040058.0000 - mae: 2802.6504 - val_loss: 45990004.0000 - val_mse: 45990004.0000 - val_mae: 5526.2656\n",
      "Epoch 483/500\n",
      "12/12 [==============================] - 0s 5ms/step - loss: 8827907.0000 - mse: 8827907.0000 - mae: 2407.1194 - val_loss: 39313592.0000 - val_mse: 39313592.0000 - val_mae: 5641.7446\n",
      "Epoch 484/500\n",
      "12/12 [==============================] - 0s 4ms/step - loss: 12009143.0000 - mse: 12009143.0000 - mae: 2800.1721 - val_loss: 46131564.0000 - val_mse: 46131564.0000 - val_mae: 5536.4478\n",
      "Epoch 485/500\n",
      "12/12 [==============================] - 0s 4ms/step - loss: 8693920.0000 - mse: 8693920.0000 - mae: 2394.1560 - val_loss: 39192028.0000 - val_mse: 39192028.0000 - val_mae: 5587.7603\n",
      "Epoch 486/500\n",
      "12/12 [==============================] - 0s 4ms/step - loss: 11796072.0000 - mse: 11796072.0000 - mae: 2788.5396 - val_loss: 45374548.0000 - val_mse: 45374548.0000 - val_mae: 5480.7759\n",
      "Epoch 487/500\n",
      "12/12 [==============================] - 0s 4ms/step - loss: 8889745.0000 - mse: 8889745.0000 - mae: 2432.0571 - val_loss: 39967484.0000 - val_mse: 39967484.0000 - val_mae: 5655.5991\n",
      "Epoch 488/500\n",
      "12/12 [==============================] - 0s 4ms/step - loss: 11518553.0000 - mse: 11518553.0000 - mae: 2752.7625 - val_loss: 45879404.0000 - val_mse: 45879404.0000 - val_mae: 5503.2344\n",
      "Epoch 489/500\n",
      "12/12 [==============================] - 0s 5ms/step - loss: 8777998.0000 - mse: 8777998.0000 - mae: 2418.3735 - val_loss: 39620428.0000 - val_mse: 39620428.0000 - val_mae: 5609.0259\n",
      "Epoch 490/500\n",
      "12/12 [==============================] - 0s 4ms/step - loss: 11637089.0000 - mse: 11637089.0000 - mae: 2773.0085 - val_loss: 45396140.0000 - val_mse: 45396140.0000 - val_mae: 5479.3540\n",
      "Epoch 491/500\n",
      "12/12 [==============================] - 0s 4ms/step - loss: 8911708.0000 - mse: 8911708.0000 - mae: 2443.6968 - val_loss: 39966340.0000 - val_mse: 39966340.0000 - val_mae: 5647.8696\n",
      "Epoch 492/500\n",
      "12/12 [==============================] - 0s 4ms/step - loss: 11689018.0000 - mse: 11689018.0000 - mae: 2778.0305 - val_loss: 45572656.0000 - val_mse: 45572656.0000 - val_mae: 5494.5103\n",
      "Epoch 493/500\n",
      "12/12 [==============================] - 0s 4ms/step - loss: 8871562.0000 - mse: 8871562.0000 - mae: 2438.2251 - val_loss: 40008164.0000 - val_mse: 40008164.0000 - val_mae: 5647.7241\n",
      "Epoch 494/500\n",
      "12/12 [==============================] - 0s 4ms/step - loss: 11646820.0000 - mse: 11646820.0000 - mae: 2773.6729 - val_loss: 45714868.0000 - val_mse: 45714868.0000 - val_mae: 5502.8750\n",
      "Epoch 495/500\n",
      "12/12 [==============================] - 0s 4ms/step - loss: 8737620.0000 - mse: 8737620.0000 - mae: 2420.0500 - val_loss: 39101104.0000 - val_mse: 39101104.0000 - val_mae: 5555.1196\n",
      "Epoch 496/500\n",
      "12/12 [==============================] - 0s 4ms/step - loss: 11519230.0000 - mse: 11519230.0000 - mae: 2762.7690 - val_loss: 45788716.0000 - val_mse: 45788716.0000 - val_mae: 5508.5781\n",
      "Epoch 497/500\n",
      "12/12 [==============================] - 0s 5ms/step - loss: 9034798.0000 - mse: 9034798.0000 - mae: 2472.5547 - val_loss: 40192496.0000 - val_mse: 40192496.0000 - val_mae: 5674.5103\n",
      "Epoch 498/500\n",
      "12/12 [==============================] - 0s 4ms/step - loss: 11620493.0000 - mse: 11620493.0000 - mae: 2771.0850 - val_loss: 45992676.0000 - val_mse: 45992676.0000 - val_mae: 5526.9009\n",
      "Epoch 499/500\n",
      "12/12 [==============================] - 0s 4ms/step - loss: 8736589.0000 - mse: 8736589.0000 - mae: 2424.5676 - val_loss: 39164736.0000 - val_mse: 39164736.0000 - val_mae: 5561.5366\n",
      "Epoch 500/500\n",
      "12/12 [==============================] - 0s 5ms/step - loss: 11535168.0000 - mse: 11535168.0000 - mae: 2765.8960 - val_loss: 46036500.0000 - val_mse: 46036500.0000 - val_mae: 5528.7969\n"
     ]
    }
   ],
   "source": [
    "model=model_dnn(look_back)\n",
    "history=model.fit(trainX,trainY, epochs=500, batch_size=4, verbose=1, validation_data=(testX,testY),shuffle=False)"
   ]
  },
  {
   "cell_type": "code",
   "execution_count": 47,
   "id": "-rpf61zw61Dp",
   "metadata": {
    "id": "-rpf61zw61Dp"
   },
   "outputs": [],
   "source": [
    "def model_loss(history):\n",
    "    plt.figure(figsize=(8,4))\n",
    "    plt.plot(history.history['loss'], label='Train Loss')\n",
    "    plt.plot(history.history['val_loss'], label='Test Loss')\n",
    "    plt.title('model loss')\n",
    "    plt.ylabel('loss')\n",
    "    plt.xlabel('epochs')\n",
    "    plt.legend(loc='upper right')\n",
    "    plt.show();"
   ]
  },
  {
   "cell_type": "code",
   "execution_count": 48,
   "id": "BceAFK1h64qc",
   "metadata": {
    "colab": {
     "base_uri": "https://localhost:8080/"
    },
    "id": "BceAFK1h64qc",
    "outputId": "cd217888-064f-4329-9677-fae680d74e33"
   },
   "outputs": [
    {
     "name": "stdout",
     "output_type": "stream",
     "text": [
      "Train Root Mean Squared Error(RMSE): 2753.37; Train Mean Absolute Error(MAE) : 2053.85 \n",
      "[7581066.5, 7581066.5, 2053.8525390625]\n",
      "[46036500.0, 46036500.0, 5528.796875]\n",
      "Test Root Mean Squared Error(RMSE): 6785.02; Test Mean Absolute Error(MAE) : 5528.80 \n"
     ]
    }
   ],
   "source": [
    "train_score = model.evaluate(trainX, trainY, verbose=0)\n",
    "print('Train Root Mean Squared Error(RMSE): %.2f; Train Mean Absolute Error(MAE) : %.2f ' \n",
    "% (np.sqrt(train_score[1]), train_score[2]))\n",
    "test_score = model.evaluate(testX, testY, verbose=0)\n",
    "print(train_score)\n",
    "print(test_score)\n",
    "print('Test Root Mean Squared Error(RMSE): %.2f; Test Mean Absolute Error(MAE) : %.2f ' \n",
    "% (np.sqrt(test_score[1]), test_score[2]))"
   ]
  },
  {
   "cell_type": "code",
   "execution_count": 49,
   "id": "ZFgOi5qd66W0",
   "metadata": {
    "id": "ZFgOi5qd66W0"
   },
   "outputs": [],
   "source": [
    " def prediction_plot(testY, test_predict):\n",
    "      len_prediction=[x for x in range(len(testY))]\n",
    "      plt.figure(figsize=(8,4))\n",
    "      plt.plot(len_prediction, testY[:8], marker='.', label=\"actual\")\n",
    "      plt.plot(len_prediction, test_predict[:8], 'r', label=\"prediction\")\n",
    "      plt.tight_layout()\n",
    "      sns.despine(top=True)\n",
    "      plt.subplots_adjust(left=0.07)\n",
    "      plt.ylabel('Ads Daily Spend', size=15)\n",
    "      plt.xlabel('Time step', size=15)\n",
    "      plt.legend(fontsize=15)\n",
    "      plt.show();"
   ]
  },
  {
   "cell_type": "code",
   "execution_count": 50,
   "id": "jsigGP73683z",
   "metadata": {
    "colab": {
     "base_uri": "https://localhost:8080/",
     "height": 330
    },
    "id": "jsigGP73683z",
    "outputId": "2f06ddaa-1fb3-42db-dd8d-634f288ed081"
   },
   "outputs": [
    {
     "name": "stdout",
     "output_type": "stream",
     "text": [
      "1/1 [==============================] - 0s 76ms/step\n"
     ]
    },
    {
     "data": {
      "image/png": "[encoded data removed]",
      "text/plain": [
       "<Figure size 576x288 with 1 Axes>"
      ]
     },
     "metadata": {},
     "output_type": "display_data"
    }
   ],
   "source": [
    "test_predict = model.predict(testX)\n",
    "prediction_plot(testY, test_predict)"
   ]
  },
  {
   "cell_type": "markdown",
   "id": "Qiub4bVRgLE2",
   "metadata": {
    "id": "Qiub4bVRgLE2"
   },
   "source": [
    "## **GRU and BiLSTM Models** "
   ]
  },
  {
   "cell_type": "code",
   "execution_count": 51,
   "id": "7l5vQ5W59PJi",
   "metadata": {
    "colab": {
     "base_uri": "https://localhost:8080/",
     "height": 206
    },
    "id": "7l5vQ5W59PJi",
    "outputId": "6f0e3503-ad17-4150-e6f4-6858329061d1"
   },
   "outputs": [
    {
     "data": {
      "text/html": [
       "\n",
       "  <div id=\"df-41a177dd-87cf-49bc-97e5-8f6ce4e3ee23\">\n",
       "    <div class=\"colab-df-container\">\n",
       "      <div>\n",
       "<style scoped>\n",
       "    .dataframe tbody tr th:only-of-type {\n",
       "        vertical-align: middle;\n",
       "    }\n",
       "\n",
       "    .dataframe tbody tr th {\n",
       "        vertical-align: top;\n",
       "    }\n",
       "\n",
       "    .dataframe thead th {\n",
       "        text-align: right;\n",
       "    }\n",
       "</style>\n",
       "<table border=\"1\" class=\"dataframe\">\n",
       "  <thead>\n",
       "    <tr style=\"text-align: right;\">\n",
       "      <th></th>\n",
       "      <th>Date</th>\n",
       "      <th>Quarterly Revenue</th>\n",
       "    </tr>\n",
       "  </thead>\n",
       "  <tbody>\n",
       "    <tr>\n",
       "      <th>0</th>\n",
       "      <td>2009-01-31</td>\n",
       "      <td>108627</td>\n",
       "    </tr>\n",
       "    <tr>\n",
       "      <th>1</th>\n",
       "      <td>2009-04-30</td>\n",
       "      <td>94242</td>\n",
       "    </tr>\n",
       "    <tr>\n",
       "      <th>2</th>\n",
       "      <td>2009-07-31</td>\n",
       "      <td>100876</td>\n",
       "    </tr>\n",
       "    <tr>\n",
       "      <th>3</th>\n",
       "      <td>2009-10-31</td>\n",
       "      <td>99373</td>\n",
       "    </tr>\n",
       "    <tr>\n",
       "      <th>4</th>\n",
       "      <td>2010-01-31</td>\n",
       "      <td>113594</td>\n",
       "    </tr>\n",
       "  </tbody>\n",
       "</table>\n",
       "</div>\n",
       "      <button class=\"colab-df-convert\" onclick=\"convertToInteractive('df-41a177dd-87cf-49bc-97e5-8f6ce4e3ee23')\"\n",
       "              title=\"Convert this dataframe to an interactive table.\"\n",
       "              style=\"display:none;\">\n",
       "        \n",
       "  <svg xmlns=\"http://www.w3.org/2000/svg\" height=\"24px\"viewBox=\"0 0 24 24\"\n",
       "       width=\"24px\">\n",
       "    <path d=\"M0 0h24v24H0V0z\" fill=\"none\"/>\n",
       "    <path d=\"M18.56 5.44l.94 2.06.94-2.06 2.06-.94-2.06-.94-.94-2.06-.94 2.06-2.06.94zm-11 1L8.5 8.5l.94-2.06 2.06-.94-2.06-.94L8.5 2.5l-.94 2.06-2.06.94zm10 10l.94 2.06.94-2.06 2.06-.94-2.06-.94-.94-2.06-.94 2.06-2.06.94z\"/><path d=\"M17.41 7.96l-1.37-1.37c-.4-.4-.92-.59-1.43-.59-.52 0-1.04.2-1.43.59L10.3 9.45l-7.72 7.72c-.78.78-.78 2.05 0 2.83L4 21.41c.39.39.9.59 1.41.59.51 0 1.02-.2 1.41-.59l7.78-7.78 2.81-2.81c.8-.78.8-2.07 0-2.86zM5.41 20L4 18.59l7.72-7.72 1.47 1.35L5.41 20z\"/>\n",
       "  </svg>\n",
       "      </button>\n",
       "      \n",
       "  <style>\n",
       "    .colab-df-container {\n",
       "      display:flex;\n",
       "      flex-wrap:wrap;\n",
       "      gap: 12px;\n",
       "    }\n",
       "\n",
       "    .colab-df-convert {\n",
       "      background-color: #E8F0FE;\n",
       "      border: none;\n",
       "      border-radius: 50%;\n",
       "      cursor: pointer;\n",
       "      display: none;\n",
       "      fill: #1967D2;\n",
       "      height: 32px;\n",
       "      padding: 0 0 0 0;\n",
       "      width: 32px;\n",
       "    }\n",
       "\n",
       "    .colab-df-convert:hover {\n",
       "      background-color: #E2EBFA;\n",
       "      box-shadow: 0px 1px 2px rgba(60, 64, 67, 0.3), 0px 1px 3px 1px rgba(60, 64, 67, 0.15);\n",
       "      fill: #174EA6;\n",
       "    }\n",
       "\n",
       "    [theme=dark] .colab-df-convert {\n",
       "      background-color: #3B4455;\n",
       "      fill: #D2E3FC;\n",
       "    }\n",
       "\n",
       "    [theme=dark] .colab-df-convert:hover {\n",
       "      background-color: #434B5C;\n",
       "      box-shadow: 0px 1px 3px 1px rgba(0, 0, 0, 0.15);\n",
       "      filter: drop-shadow(0px 1px 2px rgba(0, 0, 0, 0.3));\n",
       "      fill: #FFFFFF;\n",
       "    }\n",
       "  </style>\n",
       "\n",
       "      <script>\n",
       "        const buttonEl =\n",
       "          document.querySelector('#df-41a177dd-87cf-49bc-97e5-8f6ce4e3ee23 button.colab-df-convert');\n",
       "        buttonEl.style.display =\n",
       "          google.colab.kernel.accessAllowed ? 'block' : 'none';\n",
       "\n",
       "        async function convertToInteractive(key) {\n",
       "          const element = document.querySelector('#df-41a177dd-87cf-49bc-97e5-8f6ce4e3ee23');\n",
       "          const dataTable =\n",
       "            await google.colab.kernel.invokeFunction('convertToInteractive',\n",
       "                                                     [key], {});\n",
       "          if (!dataTable) return;\n",
       "\n",
       "          const docLinkHtml = 'Like what you see? Visit the ' +\n",
       "            '<a target=\"_blank\" href=https://colab.research.google.com/notebooks/data_table.ipynb>data table notebook</a>'\n",
       "            + ' to learn more about interactive tables.';\n",
       "          element.innerHTML = '';\n",
       "          dataTable['output_type'] = 'display_data';\n",
       "          await google.colab.output.renderOutput(dataTable, element);\n",
       "          const docLink = document.createElement('div');\n",
       "          docLink.innerHTML = docLinkHtml;\n",
       "          element.appendChild(docLink);\n",
       "        }\n",
       "      </script>\n",
       "    </div>\n",
       "  </div>\n",
       "  "
      ],
      "text/plain": [
       "        Date  Quarterly Revenue\n",
       "0 2009-01-31             108627\n",
       "1 2009-04-30              94242\n",
       "2 2009-07-31             100876\n",
       "3 2009-10-31              99373\n",
       "4 2010-01-31             113594"
      ]
     },
     "execution_count": 51,
     "metadata": {},
     "output_type": "execute_result"
    }
   ],
   "source": [
    "df=pd.read_excel('Alibaba Quarterly Revenue.xlsx')\n",
    "df.head()"
   ]
  },
  {
   "cell_type": "code",
   "execution_count": 52,
   "id": "stmyEe0X9Iz2",
   "metadata": {
    "colab": {
     "base_uri": "https://localhost:8080/",
     "height": 237
    },
    "id": "stmyEe0X9Iz2",
    "outputId": "f4902349-8805-459f-93b9-4648f1ab8db0"
   },
   "outputs": [
    {
     "data": {
      "text/html": [
       "\n",
       "  <div id=\"df-40a213b2-d302-4a6f-b3a4-89b39f37f72c\">\n",
       "    <div class=\"colab-df-container\">\n",
       "      <div>\n",
       "<style scoped>\n",
       "    .dataframe tbody tr th:only-of-type {\n",
       "        vertical-align: middle;\n",
       "    }\n",
       "\n",
       "    .dataframe tbody tr th {\n",
       "        vertical-align: top;\n",
       "    }\n",
       "\n",
       "    .dataframe thead th {\n",
       "        text-align: right;\n",
       "    }\n",
       "</style>\n",
       "<table border=\"1\" class=\"dataframe\">\n",
       "  <thead>\n",
       "    <tr style=\"text-align: right;\">\n",
       "      <th></th>\n",
       "      <th>Quarterly Revenue</th>\n",
       "    </tr>\n",
       "    <tr>\n",
       "      <th>Date</th>\n",
       "      <th></th>\n",
       "    </tr>\n",
       "  </thead>\n",
       "  <tbody>\n",
       "    <tr>\n",
       "      <th>2009-01-31</th>\n",
       "      <td>108627</td>\n",
       "    </tr>\n",
       "    <tr>\n",
       "      <th>2009-04-30</th>\n",
       "      <td>94242</td>\n",
       "    </tr>\n",
       "    <tr>\n",
       "      <th>2009-07-31</th>\n",
       "      <td>100876</td>\n",
       "    </tr>\n",
       "    <tr>\n",
       "      <th>2009-10-31</th>\n",
       "      <td>99373</td>\n",
       "    </tr>\n",
       "    <tr>\n",
       "      <th>2010-01-31</th>\n",
       "      <td>113594</td>\n",
       "    </tr>\n",
       "  </tbody>\n",
       "</table>\n",
       "</div>\n",
       "      <button class=\"colab-df-convert\" onclick=\"convertToInteractive('df-40a213b2-d302-4a6f-b3a4-89b39f37f72c')\"\n",
       "              title=\"Convert this dataframe to an interactive table.\"\n",
       "              style=\"display:none;\">\n",
       "        \n",
       "  <svg xmlns=\"http://www.w3.org/2000/svg\" height=\"24px\"viewBox=\"0 0 24 24\"\n",
       "       width=\"24px\">\n",
       "    <path d=\"M0 0h24v24H0V0z\" fill=\"none\"/>\n",
       "    <path d=\"M18.56 5.44l.94 2.06.94-2.06 2.06-.94-2.06-.94-.94-2.06-.94 2.06-2.06.94zm-11 1L8.5 8.5l.94-2.06 2.06-.94-2.06-.94L8.5 2.5l-.94 2.06-2.06.94zm10 10l.94 2.06.94-2.06 2.06-.94-2.06-.94-.94-2.06-.94 2.06-2.06.94z\"/><path d=\"M17.41 7.96l-1.37-1.37c-.4-.4-.92-.59-1.43-.59-.52 0-1.04.2-1.43.59L10.3 9.45l-7.72 7.72c-.78.78-.78 2.05 0 2.83L4 21.41c.39.39.9.59 1.41.59.51 0 1.02-.2 1.41-.59l7.78-7.78 2.81-2.81c.8-.78.8-2.07 0-2.86zM5.41 20L4 18.59l7.72-7.72 1.47 1.35L5.41 20z\"/>\n",
       "  </svg>\n",
       "      </button>\n",
       "      \n",
       "  <style>\n",
       "    .colab-df-container {\n",
       "      display:flex;\n",
       "      flex-wrap:wrap;\n",
       "      gap: 12px;\n",
       "    }\n",
       "\n",
       "    .colab-df-convert {\n",
       "      background-color: #E8F0FE;\n",
       "      border: none;\n",
       "      border-radius: 50%;\n",
       "      cursor: pointer;\n",
       "      display: none;\n",
       "      fill: #1967D2;\n",
       "      height: 32px;\n",
       "      padding: 0 0 0 0;\n",
       "      width: 32px;\n",
       "    }\n",
       "\n",
       "    .colab-df-convert:hover {\n",
       "      background-color: #E2EBFA;\n",
       "      box-shadow: 0px 1px 2px rgba(60, 64, 67, 0.3), 0px 1px 3px 1px rgba(60, 64, 67, 0.15);\n",
       "      fill: #174EA6;\n",
       "    }\n",
       "\n",
       "    [theme=dark] .colab-df-convert {\n",
       "      background-color: #3B4455;\n",
       "      fill: #D2E3FC;\n",
       "    }\n",
       "\n",
       "    [theme=dark] .colab-df-convert:hover {\n",
       "      background-color: #434B5C;\n",
       "      box-shadow: 0px 1px 3px 1px rgba(0, 0, 0, 0.15);\n",
       "      filter: drop-shadow(0px 1px 2px rgba(0, 0, 0, 0.3));\n",
       "      fill: #FFFFFF;\n",
       "    }\n",
       "  </style>\n",
       "\n",
       "      <script>\n",
       "        const buttonEl =\n",
       "          document.querySelector('#df-40a213b2-d302-4a6f-b3a4-89b39f37f72c button.colab-df-convert');\n",
       "        buttonEl.style.display =\n",
       "          google.colab.kernel.accessAllowed ? 'block' : 'none';\n",
       "\n",
       "        async function convertToInteractive(key) {\n",
       "          const element = document.querySelector('#df-40a213b2-d302-4a6f-b3a4-89b39f37f72c');\n",
       "          const dataTable =\n",
       "            await google.colab.kernel.invokeFunction('convertToInteractive',\n",
       "                                                     [key], {});\n",
       "          if (!dataTable) return;\n",
       "\n",
       "          const docLinkHtml = 'Like what you see? Visit the ' +\n",
       "            '<a target=\"_blank\" href=https://colab.research.google.com/notebooks/data_table.ipynb>data table notebook</a>'\n",
       "            + ' to learn more about interactive tables.';\n",
       "          element.innerHTML = '';\n",
       "          dataTable['output_type'] = 'display_data';\n",
       "          await google.colab.output.renderOutput(dataTable, element);\n",
       "          const docLink = document.createElement('div');\n",
       "          docLink.innerHTML = docLinkHtml;\n",
       "          element.appendChild(docLink);\n",
       "        }\n",
       "      </script>\n",
       "    </div>\n",
       "  </div>\n",
       "  "
      ],
      "text/plain": [
       "            Quarterly Revenue\n",
       "Date                         \n",
       "2009-01-31             108627\n",
       "2009-04-30              94242\n",
       "2009-07-31             100876\n",
       "2009-10-31              99373\n",
       "2010-01-31             113594"
      ]
     },
     "execution_count": 52,
     "metadata": {},
     "output_type": "execute_result"
    }
   ],
   "source": [
    "df = df.set_index('Date')\n",
    "df.head()"
   ]
  },
  {
   "cell_type": "code",
   "execution_count": 53,
   "id": "_8SqLY5y8VQE",
   "metadata": {
    "id": "_8SqLY5y8VQE"
   },
   "outputs": [],
   "source": [
    "# Split train data and test data\n",
    "train_size = int(len(df)*0.8)\n",
    "\n",
    "train_data = df.iloc[:train_size]\n",
    "test_data = df.iloc[train_size:]"
   ]
  },
  {
   "cell_type": "code",
   "execution_count": 54,
   "id": "klH9IgPj8ZHg",
   "metadata": {
    "id": "klH9IgPj8ZHg"
   },
   "outputs": [],
   "source": [
    "scaler = MinMaxScaler().fit(train_data)\n",
    "train_scaled = scaler.transform(train_data)\n",
    "test_scaled = scaler.transform(test_data)"
   ]
  },
  {
   "cell_type": "code",
   "execution_count": 55,
   "id": "z2xFE9KN9d0f",
   "metadata": {
    "colab": {
     "base_uri": "https://localhost:8080/"
    },
    "id": "z2xFE9KN9d0f",
    "outputId": "b22f478d-1442-4e17-dc0c-ff6747f3b71a"
   },
   "outputs": [
    {
     "name": "stdout",
     "output_type": "stream",
     "text": [
      "X_train.shape:  (40, 4, 1)\n",
      "y_train.shape:  (40, 1)\n",
      "X_test.shape:  (8, 4, 1)\n",
      "y_test.shape:  (8, 1)\n"
     ]
    }
   ],
   "source": [
    "# Create input dataset\n",
    "def create_dataset (X, look_back = 1):\n",
    "    Xs, ys = [], []\n",
    " \n",
    "    for i in range(len(X)-look_back):\n",
    "        v = X[i:i+look_back]\n",
    "        Xs.append(v)\n",
    "        ys.append(X[i+look_back])\n",
    " \n",
    "    return np.array(Xs), np.array(ys)\n",
    "LOOK_BACK = 4\n",
    "X_train, y_train = create_dataset(train_scaled,LOOK_BACK)\n",
    "X_test, y_test = create_dataset(test_scaled,LOOK_BACK)\n",
    "# Print data shape\n",
    "print('X_train.shape: ', X_train.shape)\n",
    "print('y_train.shape: ', y_train.shape)\n",
    "print('X_test.shape: ', X_test.shape) \n",
    "print('y_test.shape: ', y_test.shape)"
   ]
  },
  {
   "cell_type": "code",
   "execution_count": 56,
   "id": "Z81zZXh86-iY",
   "metadata": {
    "id": "Z81zZXh86-iY"
   },
   "outputs": [],
   "source": [
    "# Create BiLSTM model\n",
    "def create_bilstm(units):\n",
    "    model = Sequential()\n",
    "    # Input layer\n",
    "    model.add(Bidirectional(\n",
    "              LSTM(units = units, return_sequences=True), \n",
    "              input_shape=(X_train.shape[1], X_train.shape[2])))\n",
    "    # Hidden layer\n",
    "    model.add(Bidirectional(LSTM(units = units)))\n",
    "    model.add(Dense(1))\n",
    "    #Compile model\n",
    "    model.compile(optimizer='adam',loss='mse')\n",
    "    return model\n",
    "model_bilstm = create_bilstm(64)\n",
    "# Create GRU model\n",
    "def create_gru(units):\n",
    "    model = Sequential()\n",
    "    # Input layer\n",
    "    model.add(GRU (units = units, return_sequences = True, \n",
    "    input_shape = [X_train.shape[1], X_train.shape[2]]))\n",
    "    model.add(Dropout(0.2)) \n",
    "    # Hidden layer\n",
    "    model.add(GRU(units = units)) \n",
    "    model.add(Dropout(0.2))\n",
    "    model.add(Dense(units = 1)) \n",
    "    #Compile model\n",
    "    model.compile(optimizer='adam',loss='mse')\n",
    "    return model\n",
    "model_gru = create_gru(64)"
   ]
  },
  {
   "cell_type": "code",
   "execution_count": 65,
   "id": "HlGQRllN7qgP",
   "metadata": {
    "colab": {
     "base_uri": "https://localhost:8080/"
    },
    "id": "HlGQRllN7qgP",
    "outputId": "d3d4c0c7-bf8c-4095-ffed-bd97a70f7352"
   },
   "outputs": [
    {
     "name": "stdout",
     "output_type": "stream",
     "text": [
      "Epoch 1/100\n",
      "2/2 [==============================] - 0s 85ms/step - loss: 0.0187 - val_loss: 0.0225\n",
      "Epoch 2/100\n",
      "2/2 [==============================] - 0s 80ms/step - loss: 0.0165 - val_loss: 0.0200\n",
      "Epoch 3/100\n",
      "2/2 [==============================] - 0s 44ms/step - loss: 0.0177 - val_loss: 0.0188\n",
      "Epoch 4/100\n",
      "2/2 [==============================] - 0s 43ms/step - loss: 0.0198 - val_loss: 0.0185\n",
      "Epoch 5/100\n",
      "2/2 [==============================] - 0s 48ms/step - loss: 0.0195 - val_loss: 0.0187\n",
      "Epoch 6/100\n",
      "2/2 [==============================] - 0s 51ms/step - loss: 0.0193 - val_loss: 0.0197\n",
      "Epoch 7/100\n",
      "2/2 [==============================] - 0s 74ms/step - loss: 0.0240 - val_loss: 0.0214\n",
      "Epoch 8/100\n",
      "2/2 [==============================] - 0s 102ms/step - loss: 0.0214 - val_loss: 0.0237\n",
      "Epoch 9/100\n",
      "2/2 [==============================] - 0s 45ms/step - loss: 0.0226 - val_loss: 0.0256\n",
      "Epoch 10/100\n",
      "2/2 [==============================] - 0s 60ms/step - loss: 0.0199 - val_loss: 0.0265\n",
      "Epoch 11/100\n",
      "2/2 [==============================] - 0s 39ms/step - loss: 0.0199 - val_loss: 0.0274\n",
      "Epoch 12/100\n",
      "2/2 [==============================] - 0s 41ms/step - loss: 0.0195 - val_loss: 0.0273\n",
      "Epoch 13/100\n",
      "2/2 [==============================] - 0s 119ms/step - loss: 0.0218 - val_loss: 0.0265\n",
      "Epoch 14/100\n",
      "2/2 [==============================] - 0s 40ms/step - loss: 0.0251 - val_loss: 0.0253\n"
     ]
    }
   ],
   "source": [
    "def fit_model(model):\n",
    "    early_stop = keras.callbacks.EarlyStopping(monitor = 'val_loss',\n",
    "                                               patience = 10)\n",
    "    history = model.fit(X_train, y_train, epochs = 100,  \n",
    "                        validation_split = 0.2,\n",
    "                        batch_size = 16, shuffle = False, \n",
    "                        callbacks = [early_stop])\n",
    "    return history\n",
    "history_gru = fit_model(model_gru)"
   ]
  },
  {
   "cell_type": "code",
   "execution_count": 66,
   "id": "w0RWSELMc_UR",
   "metadata": {
    "colab": {
     "base_uri": "https://localhost:8080/"
    },
    "id": "w0RWSELMc_UR",
    "outputId": "b91fb302-0fda-43ea-f9bf-24d48f5e57d4"
   },
   "outputs": [
    {
     "name": "stdout",
     "output_type": "stream",
     "text": [
      "Epoch 1/100\n",
      "2/2 [==============================] - 0s 84ms/step - loss: 0.0172 - val_loss: 0.0175\n",
      "Epoch 2/100\n",
      "2/2 [==============================] - 0s 37ms/step - loss: 0.0175 - val_loss: 0.0175\n",
      "Epoch 3/100\n",
      "2/2 [==============================] - 0s 37ms/step - loss: 0.0172 - val_loss: 0.0182\n",
      "Epoch 4/100\n",
      "2/2 [==============================] - 0s 38ms/step - loss: 0.0165 - val_loss: 0.0198\n",
      "Epoch 5/100\n",
      "2/2 [==============================] - 0s 33ms/step - loss: 0.0161 - val_loss: 0.0219\n",
      "Epoch 6/100\n",
      "2/2 [==============================] - 0s 31ms/step - loss: 0.0160 - val_loss: 0.0240\n",
      "Epoch 7/100\n",
      "2/2 [==============================] - 0s 30ms/step - loss: 0.0161 - val_loss: 0.0253\n",
      "Epoch 8/100\n",
      "2/2 [==============================] - 0s 31ms/step - loss: 0.0161 - val_loss: 0.0254\n",
      "Epoch 9/100\n",
      "2/2 [==============================] - 0s 31ms/step - loss: 0.0160 - val_loss: 0.0244\n",
      "Epoch 10/100\n",
      "2/2 [==============================] - 0s 31ms/step - loss: 0.0157 - val_loss: 0.0228\n",
      "Epoch 11/100\n",
      "2/2 [==============================] - 0s 30ms/step - loss: 0.0155 - val_loss: 0.0211\n"
     ]
    }
   ],
   "source": [
    "history_bilstm = fit_model(model_bilstm)"
   ]
  },
  {
   "cell_type": "code",
   "execution_count": 58,
   "id": "nRhHvqq59h7i",
   "metadata": {
    "colab": {
     "base_uri": "https://localhost:8080/",
     "height": 849
    },
    "id": "nRhHvqq59h7i",
    "outputId": "d199e1e7-b349-48d7-d087-255a1c1d62a8"
   },
   "outputs": [
    {
     "data": {
      "image/png": "[encoded data removed]",
      "text/plain": [
       "<Figure size 720x432 with 1 Axes>"
      ]
     },
     "metadata": {},
     "output_type": "display_data"
    },
    {
     "data": {
      "image/png": "[encoded data removed]",
      "text/plain": [
       "<Figure size 720x432 with 1 Axes>"
      ]
     },
     "metadata": {},
     "output_type": "display_data"
    }
   ],
   "source": [
    "def plot_loss (history, model_name):\n",
    "    plt.figure(figsize = (10, 6))\n",
    "    plt.plot(history.history['loss'])\n",
    "    plt.plot(history.history['val_loss'])\n",
    "    plt.title('Model Train vs Validation Loss for ' + model_name)\n",
    "    plt.ylabel('Loss')\n",
    "    plt.xlabel('epoch')\n",
    "    plt.legend(['Train loss', 'Validation loss'], loc='upper right')\n",
    " \n",
    "plot_loss (history_gru, 'GRU')\n",
    "plot_loss (history_bilstm, 'Bidirectional LSTM')"
   ]
  },
  {
   "cell_type": "code",
   "execution_count": 62,
   "id": "7tE4Am1T9z6x",
   "metadata": {
    "colab": {
     "base_uri": "https://localhost:8080/",
     "height": 885
    },
    "id": "7tE4Am1T9z6x",
    "outputId": "def2b4e4-31cc-4224-9634-955642e84166"
   },
   "outputs": [
    {
     "name": "stdout",
     "output_type": "stream",
     "text": [
      "1/1 [==============================] - 0s 39ms/step\n",
      "1/1 [==============================] - 0s 76ms/step\n"
     ]
    },
    {
     "data": {
      "image/png": "[encoded data removed]",
      "text/plain": [
       "<Figure size 720x432 with 1 Axes>"
      ]
     },
     "metadata": {},
     "output_type": "display_data"
    },
    {
     "data": {
      "image/png": "[encoded data removed]",
      "text/plain": [
       "<Figure size 720x432 with 1 Axes>"
      ]
     },
     "metadata": {},
     "output_type": "display_data"
    }
   ],
   "source": [
    "# Make prediction\n",
    "def prediction(model):\n",
    "    prediction = model.predict(X_test)\n",
    "    prediction = scaler.inverse_transform(prediction)\n",
    "    return prediction\n",
    "prediction_gru = prediction(model_gru)\n",
    "prediction_bilstm = prediction(model_bilstm)\n",
    "# Plot test data vs prediction\n",
    "def plot_future(prediction, model_name, y_test):\n",
    "    plt.figure(figsize=(10, 6))\n",
    "    range_future = len(prediction)\n",
    "    plt.plot(np.arange(range_future), np.array(scaler.inverse_transform(y_test)), \n",
    "             label='Test   data')\n",
    "    plt.plot(np.arange(range_future), \n",
    "             np.array(prediction),label='Prediction')\n",
    "    plt.title('Test data vs prediction for ' + model_name)\n",
    "    plt.legend(loc='upper left')\n",
    "    plt.xlabel('Time (year)')\n",
    "    plt.ylabel('Quarterly Income')\n",
    " \n",
    "plot_future(prediction_gru, 'GRU', y_test)\n",
    "plot_future(prediction_bilstm, 'Bidirectional LSTM', y_test)"
   ]
  },
  {
   "cell_type": "code",
   "execution_count": 69,
   "id": "w1D1Wcdj93wZ",
   "metadata": {
    "colab": {
     "base_uri": "https://localhost:8080/"
    },
    "id": "w1D1Wcdj93wZ",
    "outputId": "391c65d2-522d-4fc5-a3e1-9352e624c643"
   },
   "outputs": [
    {
     "name": "stdout",
     "output_type": "stream",
     "text": [
      "GRU:\n",
      "Mean Absolute Error: 12073.1387\n",
      "Root Mean Square Error: 13458.3019\n",
      "\n",
      "Bidirectional LSTM:\n",
      "Mean Absolute Error: 7410.4375\n",
      "Root Mean Square Error: 9438.1730\n",
      "\n"
     ]
    }
   ],
   "source": [
    "def evaluate_prediction(predictions, actual, model_name):\n",
    "    errors = predictions - actual\n",
    "    mse = np.square(errors).mean()\n",
    "    rmse = np.sqrt(mse)\n",
    "    mae = np.abs(errors).mean()\n",
    "    print(model_name + ':')\n",
    "    print('Mean Absolute Error: {:.4f}'.format(mae))\n",
    "    print('Root Mean Square Error: {:.4f}'.format(rmse))\n",
    "    print('')\n",
    "evaluate_prediction(prediction_gru, scaler.inverse_transform(y_test), 'GRU')\n",
    "evaluate_prediction(prediction_bilstm, scaler.inverse_transform(y_test), 'Bidirectional LSTM')"
   ]
  },
  {
   "cell_type": "code",
   "execution_count": 78,
   "id": "l5sSbLY9-CAT",
   "metadata": {
    "colab": {
     "base_uri": "https://localhost:8080/"
    },
    "id": "l5sSbLY9-CAT",
    "outputId": "6090dbf3-f110-47f1-d89a-4ac60067260a"
   },
   "outputs": [
    {
     "name": "stdout",
     "output_type": "stream",
     "text": [
      "GRU:\n",
      "Mean Absolute Error: 0.2710\n",
      "Root Mean Square Error: 0.3021\n",
      "\n",
      "Bidirectional LSTM:\n",
      "Mean Absolute Error: 0.1663\n",
      "Root Mean Square Error: 0.2119\n",
      "\n"
     ]
    },
    {
     "name": "stderr",
     "output_type": "stream",
     "text": [
      "/usr/local/lib/python3.8/dist-packages/sklearn/base.py:450: UserWarning: X does not have valid feature names, but MinMaxScaler was fitted with feature names\n",
      "  warnings.warn(\n",
      "/usr/local/lib/python3.8/dist-packages/sklearn/base.py:450: UserWarning: X does not have valid feature names, but MinMaxScaler was fitted with feature names\n",
      "  warnings.warn(\n"
     ]
    }
   ],
   "source": [
    "def evaluate_prediction(predictions, actual, model_name):\n",
    "    errors = predictions - actual\n",
    "    mse = np.square(errors).mean()\n",
    "    rmse = np.sqrt(mse)\n",
    "    mae = np.abs(errors).mean()\n",
    "    print(model_name + ':')\n",
    "    print('Mean Absolute Error: {:.4f}'.format(mae))\n",
    "    print('Root Mean Square Error: {:.4f}'.format(rmse))\n",
    "    print('')\n",
    "evaluate_prediction(scaler.transform(prediction_gru), y_test, 'GRU')\n",
    "evaluate_prediction(scaler.transform(prediction_bilstm), y_test, 'Bidirectional LSTM')"
   ]
  },
  {
   "cell_type": "code",
   "execution_count": null,
   "id": "pR2m2S6vfmQA",
   "metadata": {
    "id": "pR2m2S6vfmQA"
   },
   "outputs": [],
   "source": []
  }
 ],
 "metadata": {
  "colab": {
   "provenance": []
  },
  "kernelspec": {
   "display_name": "Python 3 (ipykernel)",
   "language": "python",
   "name": "python3"
  },
  "language_info": {
   "codemirror_mode": {
    "name": "ipython",
    "version": 3
   },
   "file_extension": ".py",
   "mimetype": "text/x-python",
   "name": "python",
   "nbconvert_exporter": "python",
   "pygments_lexer": "ipython3",
   "version": "3.8.10"
  }
 },
 "nbformat": 4,
 "nbformat_minor": 5
}
